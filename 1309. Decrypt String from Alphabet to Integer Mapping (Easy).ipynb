{
 "cells": [
  {
   "cell_type": "markdown",
   "metadata": {},
   "source": [
    "Given a string s formed by digits ('0' - '9') and '#' . We want to map s to English lowercase characters as follows:\n",
    "\n",
    "Characters ('a' to 'i') are represented by ('1' to '9') respectively.\n",
    "Characters ('j' to 'z') are represented by ('10#' to '26#') respectively. \n",
    "Return the string formed after mapping.\n",
    "\n",
    "It's guaranteed that a unique mapping will always exist.\n",
    "\n",
    " \n",
    "\n",
    "Example 1:\n",
    "\n",
    "Input: s = \"10#11#12\"\n",
    "Output: \"jkab\"\n",
    "Explanation: \"j\" -> \"10#\" , \"k\" -> \"11#\" , \"a\" -> \"1\" , \"b\" -> \"2\".\n",
    "Example 2:\n",
    "\n",
    "Input: s = \"1326#\"\n",
    "Output: \"acz\"\n",
    "Example 3:\n",
    "\n",
    "Input: s = \"25#\"\n",
    "Output: \"y\"\n",
    "Example 4:\n",
    "\n",
    "Input: s = \"12345678910#11#12#13#14#15#16#17#18#19#20#21#22#23#24#25#26#\"\n",
    "Output: \"abcdefghijklmnopqrstuvwxyz\"\n",
    " \n",
    "\n",
    "Constraints:\n",
    "\n",
    "1 <= s.length <= 1000\n",
    "s[i] only contains digits letters ('0'-'9') and '#' letter.\n",
    "s will be valid string such that mapping is always possible."
   ]
  },
  {
   "cell_type": "code",
   "execution_count": 50,
   "metadata": {},
   "outputs": [
    {
     "name": "stdout",
     "output_type": "stream",
     "text": [
      "26\n",
      "['1', '2', '3', '4', '5', '6', '7', '8', '9'] ['a', 'b', 'c', 'd', 'e', 'f', 'g', 'h', 'i'] ['10#', '11#', '12#', '13#', '14#', '15#', '16#', '17#', '18#', '19#', '20#', '21#', '22#', '23#', '24#', '25#', '26#'] ['j', 'k', 'l', 'm', 'n', 'o', 'p', 'q', 'r', 's', 't', 'u', 'v', 'w', 'x', 'y', 'z']\n",
      "{'1': 'a', '2': 'b', '3': 'c', '4': 'd', '5': 'e', '6': 'f', '7': 'g', '8': 'h', '9': 'i'}\n",
      "{'10#': 'j', '11#': 'k', '12#': 'l', '13#': 'm', '14#': 'n', '15#': 'o', '16#': 'p', '17#': 'q', '18#': 'r', '19#': 's', '20#': 't', '21#': 'u', '22#': 'v', '23#': 'w', '24#': 'x', '25#': 'y', '26#': 'z'}\n"
     ]
    }
   ],
   "source": [
    "from string import ascii_lowercase\n",
    "\n",
    "alpha_list = list(ascii_lowercase)\n",
    "print(len(alpha_list))\n",
    "\n",
    "key2 = []\n",
    "val2 = []\n",
    "for i in alpha_list[9:]:\n",
    "    val2.append(i)\n",
    "for i in range(10, 27):\n",
    "    key2.append(str(i)+'#')\n",
    "\n",
    "key1 = []\n",
    "val1 = []\n",
    "for i in alpha_list[:9]:\n",
    "    val1.append(i)\n",
    "for i in range(1,10):\n",
    "    key1.append(str(i))\n",
    "print(key1, val1, key2, val2)\n",
    "\n",
    "dict1 = {}\n",
    "dict2 = {}\n",
    "for key, val in zip(key1, val1):\n",
    "    dict1[key] = val\n",
    "for key, val in zip(key2, val2):\n",
    "    dict2[key] = val\n",
    "print(dict1)\n",
    "print(dict2)"
   ]
  },
  {
   "cell_type": "code",
   "execution_count": 55,
   "metadata": {},
   "outputs": [
    {
     "data": {
      "text/plain": [
       "'abcdefghijklmnopqrstuvwxyz'"
      ]
     },
     "execution_count": 55,
     "metadata": {},
     "output_type": "execute_result"
    }
   ],
   "source": [
    "s = \"12345678910#11#12#13#14#15#16#17#18#19#20#21#22#23#24#25#26#\"\n",
    "# s = \"10#11#12\"\n",
    "\n",
    "for k, v in dict2.items():\n",
    "#     print(k)\n",
    "#     print(v)\n",
    "    if k in s:\n",
    "        s =  s.replace(k, v)\n",
    "for k, v in dict1.items():\n",
    "    if k in s:\n",
    "        s = s.replace(k, v)\n",
    "s\n",
    "# print(s.replace('10#','j'))\n"
   ]
  },
  {
   "cell_type": "code",
   "execution_count": null,
   "metadata": {},
   "outputs": [],
   "source": [
    "def freqAlphabets(s):"
   ]
  },
  {
   "cell_type": "code",
   "execution_count": null,
   "metadata": {},
   "outputs": [],
   "source": [
    "class Solution:\n",
    "    def freqAlphabets(self, s: str) -> str:\n",
    "        from string import ascii_lowercase\n",
    "\n",
    "        alpha_list = list(ascii_lowercase)\n",
    "\n",
    "        key2 = []\n",
    "        val2 = []\n",
    "        for i in alpha_list[9:]:\n",
    "            val2.append(i)\n",
    "        for i in range(10, 27):\n",
    "            key2.append(str(i)+'#')\n",
    "\n",
    "        key1 = []\n",
    "        val1 = []\n",
    "        for i in alpha_list[:9]:\n",
    "            val1.append(i)\n",
    "        for i in range(1,10):\n",
    "            key1.append(str(i))\n",
    "\n",
    "        dict1 = {}\n",
    "        dict2 = {}\n",
    "        for key, val in zip(key1, val1):\n",
    "            dict1[key] = val\n",
    "        for key, val in zip(key2, val2):\n",
    "            dict2[key] = val\n",
    "\n",
    "        for k, v in dict2.items():\n",
    "\n",
    "            if k in s:\n",
    "                s = s.replace(k, v)\n",
    "        for k, v in dict1.items():\n",
    "            if k in s:\n",
    "                s = s.replace(k, v)\n",
    "        return s"
   ]
  },
  {
   "cell_type": "code",
   "execution_count": null,
   "metadata": {},
   "outputs": [],
   "source": [
    "class Solution:\n",
    "    def freqAlphabets(self, s: str) -> str:\n",
    "\n",
    "        for i in range(10,27):\n",
    "            s = s.replace( str(i) + '#',chr(ord('j') - 10 + i) )\n",
    "        for i in range(1,10):\n",
    "            s = s.replace( str(i), chr(ord('a') - 1 + i ) )\n",
    "        return s"
   ]
  }
 ],
 "metadata": {
  "kernelspec": {
   "display_name": "Python 3",
   "language": "python",
   "name": "python3"
  },
  "language_info": {
   "codemirror_mode": {
    "name": "ipython",
    "version": 3
   },
   "file_extension": ".py",
   "mimetype": "text/x-python",
   "name": "python",
   "nbconvert_exporter": "python",
   "pygments_lexer": "ipython3",
   "version": "3.7.6"
  }
 },
 "nbformat": 4,
 "nbformat_minor": 4
}
