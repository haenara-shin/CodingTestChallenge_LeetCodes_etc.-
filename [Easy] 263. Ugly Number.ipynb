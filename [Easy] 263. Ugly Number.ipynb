{
 "cells": [
  {
   "cell_type": "markdown",
   "metadata": {},
   "source": [
    "Given an integer n, return true if n is an ugly number.\n",
    "\n",
    "Ugly number is a positive number whose prime factors only include 2, 3, and/or 5.\n",
    "\n",
    " \n",
    "\n",
    "Example 1:\n",
    "\n",
    "Input: n = 6\n",
    "Output: true\n",
    "Explanation: 6 = 2 × 3\n",
    "\n",
    "Example 2:\n",
    "\n",
    "Input: n = 8\n",
    "Output: true\n",
    "Explanation: 8 = 2 × 2 × 2\n",
    "\n",
    "Example 3:\n",
    "\n",
    "Input: n = 14\n",
    "Output: false\n",
    "Explanation: 14 is not ugly since it includes another prime factor 7.\n",
    "\n",
    "Example 4:\n",
    "\n",
    "Input: n = 1\n",
    "Output: true\n",
    "Explanation: 1 is typically treated as an ugly number.\n",
    " \n",
    "\n",
    "Constraints:\n",
    "\n",
    "-231 <= n <= 231 - 1"
   ]
  },
  {
   "cell_type": "code",
   "execution_count": null,
   "metadata": {},
   "outputs": [],
   "source": [
    "class Solution:\n",
    "    def isUgly(self, n: int) -> bool:\n",
    "        while n > 0 :\n",
    "            if n == 1:\n",
    "                return False\n",
    "            elif n % 2 == 0:\n",
    "                n = n // 2\n",
    "            elif n % 3 == 0:\n",
    "                n = n // 3\n",
    "            elif n % 5 == 0:\n",
    "                n = n // 5\n",
    "            else:\n",
    "                return False\n",
    "        return False"
   ]
  }
 ],
 "metadata": {
  "kernelspec": {
   "display_name": "Python 3",
   "language": "python",
   "name": "python3"
  },
  "language_info": {
   "codemirror_mode": {
    "name": "ipython",
    "version": 3
   },
   "file_extension": ".py",
   "mimetype": "text/x-python",
   "name": "python",
   "nbconvert_exporter": "python",
   "pygments_lexer": "ipython3",
   "version": "3.7.6"
  }
 },
 "nbformat": 4,
 "nbformat_minor": 4
}
