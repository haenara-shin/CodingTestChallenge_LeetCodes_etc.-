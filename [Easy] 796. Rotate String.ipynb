{
 "cells": [
  {
   "cell_type": "markdown",
   "metadata": {},
   "source": [
    "We are given two strings, A and B.\n",
    "\n",
    "A shift on A consists of taking string A and moving the leftmost character to the rightmost position. For example, if A = 'abcde', then it will be 'bcdea' after one shift on A. Return True if and only if A can become B after some number of shifts on A.\n",
    "\n",
    "Example 1:\n",
    "Input: A = 'abcde', B = 'cdeab'\n",
    "Output: true\n",
    "\n",
    "Example 2:\n",
    "Input: A = 'abcde', B = 'abced'\n",
    "Output: false\n",
    "Note:\n",
    "\n",
    "A and B will have length at most 100."
   ]
  },
  {
   "cell_type": "code",
   "execution_count": null,
   "metadata": {},
   "outputs": [],
   "source": [
    "class Solution:\n",
    "    def rotateString(self, A: str, B: str) -> bool:\n",
    "        from collections import deque\n",
    "        queue_A = deque(A)\n",
    "        queue_B = deque(B)\n",
    "        \n",
    "        for i in range(len(A)):\n",
    "            if queue_A != queue_B:\n",
    "                leftmost = queue_A.popleft()\n",
    "                queue_A.append(leftmost)\n",
    "            else:\n",
    "                break\n",
    "        return queue_A == queue_B"
   ]
  }
 ],
 "metadata": {
  "kernelspec": {
   "display_name": "Python 3",
   "language": "python",
   "name": "python3"
  },
  "language_info": {
   "codemirror_mode": {
    "name": "ipython",
    "version": 3
   },
   "file_extension": ".py",
   "mimetype": "text/x-python",
   "name": "python",
   "nbconvert_exporter": "python",
   "pygments_lexer": "ipython3",
   "version": "3.7.6"
  }
 },
 "nbformat": 4,
 "nbformat_minor": 4
}
