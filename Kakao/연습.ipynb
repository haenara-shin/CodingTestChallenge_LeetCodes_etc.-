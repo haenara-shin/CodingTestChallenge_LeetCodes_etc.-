{
 "cells": [
  {
   "cell_type": "markdown",
   "metadata": {},
   "source": [
    "# 3번 Greedy"
   ]
  },
  {
   "cell_type": "code",
   "execution_count": null,
   "metadata": {},
   "outputs": [],
   "source": [
    "def solution(start_time, running_time):\n",
    "    stack = []\n",
    "    for i in range(len(start_time)):\n",
    "        stack.append([start_time[i], start_time[i]+running_time[i]])\n",
    "    \n",
    "    result = sorted(stack, key=lambda x: (x[1], x[0]))\n",
    "    end_time, count = 0, 0\n",
    "    \n",
    "    for i, j in result:\n",
    "        if i >= end_time:\n",
    "            count += 1\n",
    "            end_time = j\n",
    "    return count "
   ]
  },
  {
   "cell_type": "markdown",
   "metadata": {},
   "source": [
    "# 2번 리스트 정렬"
   ]
  },
  {
   "cell_type": "code",
   "execution_count": 1,
   "metadata": {},
   "outputs": [
    {
     "data": {
      "text/plain": [
       "['vjrrisdfxe', 'rpaqgbjxik']"
      ]
     },
     "execution_count": 1,
     "metadata": {},
     "output_type": "execute_result"
    }
   ],
   "source": [
    "orderBy = 0; orderDirection=1; pageSize=2; pageNumber=0; # 0: 오름차순, 1: 내림차순\n",
    "\n",
    "od = {0:False, 1:True}\n",
    "\n",
    "items = [['owjevtkuyv', '58584272', '62930912' ],['rpaqgbjxik', '9425650', '96088250'],['dfbkasyqcn', '37469674', '46363902'],['vjrrisdfxe', '18666489', '88046739']]\n",
    "\n",
    "if orderBy == 0:\n",
    "    items = sorted(items, key=lambda x: (x[orderBy]), reverse=od[orderDirection])\n",
    "else:\n",
    "    items = sorted(items, key=lambda x: int(x[orderBy]), reverse=od[orderDirection])\n",
    "\n",
    "ans = []\n",
    "for i in items:\n",
    "    name, rela, pric = i\n",
    "    ans.append(name)\n",
    "\n",
    "stack = []\n",
    "while ans:\n",
    "    sliced = ans[:pageSize]\n",
    "    stack.append(sliced)\n",
    "    ans = ans[pageSize:]\n",
    "stack[pageNumber]"
   ]
  },
  {
   "cell_type": "markdown",
   "metadata": {},
   "source": [
    "# 1번 딕셔너리 정렬"
   ]
  },
  {
   "cell_type": "code",
   "execution_count": null,
   "metadata": {},
   "outputs": [],
   "source": [
    "from collections import defaultdict, Counter\n",
    "dic_b = defaultdict(int)\n",
    "dic_g = defaultdict(int)\n",
    "dic_total = defaultdict(int)\n",
    "arr = [['Apeach', 'Frodo', '2'], ['Frodo', 'Apeach', '2'], ['Tube', 'Apeach', '5'],['Frodo', 'Tube', '7'], ['Apeach', 'Frodo', '4'], ['Apeach', 'Tube','4']]\n",
    "ans = []\n",
    "for i in arr:\n",
    "    b_key, g_key, point = i\n",
    "    p = int(point)\n",
    "    dic_b[b_key] -= p\n",
    "    dic_g[g_key] += p\n",
    "    \n",
    "for key, value in dic_b.items():\n",
    "    if key in dic_g:\n",
    "        dic_total[key] = dic_b[key] + dic_g[key]\n",
    "    else:\n",
    "        dic_total[key] = dic_b[key]\n",
    "for key, value in dic_g.items():\n",
    "    if key not in dic_total:\n",
    "        dic_total[key] = dic_g[key]\n",
    "\n",
    "print(dic_b)\n",
    "print(dic_g)\n",
    "print(dic_total)\n",
    "\n",
    "dic_tot = sorted(dic_total.items(), key= lambda x: x[1], reverse=True)\n",
    "\n",
    "print(dic_tot)\n",
    "\n",
    "for a, b in dic_total.items():\n",
    "    if b < 0:\n",
    "        ans.append(a)\n",
    "if len(ans) == 0:\n",
    "    print('None')\n",
    "else:\n",
    "    print(ans)\n",
    "    \n",
    "min_value = dic_tot[-1][1]\n",
    "print(min_value)\n",
    "\n",
    "print(sorted([key for key, value in dic_total.items() if value==min_value]))\n",
    "\n",
    "print(min(dic_total.values()))"
   ]
  }
 ],
 "metadata": {
  "kernelspec": {
   "display_name": "Python 3",
   "language": "python",
   "name": "python3"
  },
  "language_info": {
   "codemirror_mode": {
    "name": "ipython",
    "version": 3
   },
   "file_extension": ".py",
   "mimetype": "text/x-python",
   "name": "python",
   "nbconvert_exporter": "python",
   "pygments_lexer": "ipython3",
   "version": "3.7.6"
  }
 },
 "nbformat": 4,
 "nbformat_minor": 4
}
