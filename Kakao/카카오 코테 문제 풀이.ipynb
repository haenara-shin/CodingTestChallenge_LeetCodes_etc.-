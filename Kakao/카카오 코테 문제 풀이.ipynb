{
 "cells": [
  {
   "cell_type": "markdown",
   "metadata": {},
   "source": [
    "# 1번 딕셔너리 정렬"
   ]
  },
  {
   "cell_type": "code",
   "execution_count": 98,
   "metadata": {},
   "outputs": [
    {
     "name": "stdout",
     "output_type": "stream",
     "text": [
      "defaultdict(<class 'int'>, {'Apeach': -5, 'Frodo': -3, 'Tube': -13})\n",
      "defaultdict(<class 'int'>, {'Frodo': 5, 'Apeach': 16})\n"
     ]
    },
    {
     "data": {
      "text/plain": [
       "defaultdict(int, {'Apeach': 11, 'Frodo': 2, 'Tube': -13})"
      ]
     },
     "execution_count": 98,
     "metadata": {},
     "output_type": "execute_result"
    }
   ],
   "source": [
    "from collections import defaultdict\n",
    "dic_b = defaultdict(list)\n",
    "dic_g = defaultdict(list)\n",
    "arr = [['Apeach', 'Frodo', '5'], ['Frodo', 'Apeach', '3'], ['Tube', 'Apeach', '7'],['Tube', 'Apeach', '4'], ['Tube', 'Apeach', '2']]\n",
    "for i in arr:\n",
    "    b_key, g_key, point = i\n",
    "    p = int(point)\n",
    "    dic_b[b_key].append(-p)\n",
    "    dic_g[g_key].append(p)\n",
    "print(dic_b)\n",
    "print(dic_g)\n",
    "for i in dic_b:\n",
    "    if i in dic_g:\n",
    "        dic_b[i] += dic_g[i]\n",
    "dic_b"
   ]
  },
  {
   "cell_type": "code",
   "execution_count": 99,
   "metadata": {},
   "outputs": [
    {
     "data": {
      "text/plain": [
       "[('Apeach', 11), ('Frodo', 2), ('Tube', -13)]"
      ]
     },
     "execution_count": 99,
     "metadata": {},
     "output_type": "execute_result"
    }
   ],
   "source": [
    "s = sorted(dic_b.items(), key= lambda x: x[1], reverse=True)\n",
    "s"
   ]
  },
  {
   "cell_type": "code",
   "execution_count": 95,
   "metadata": {},
   "outputs": [
    {
     "name": "stdout",
     "output_type": "stream",
     "text": [
      "Tube -13\n",
      "Frodo 2\n",
      "Apeach 11\n"
     ]
    }
   ],
   "source": [
    "for a, b in s:\n",
    "    print(a, b)"
   ]
  },
  {
   "cell_type": "code",
   "execution_count": 96,
   "metadata": {},
   "outputs": [
    {
     "data": {
      "text/plain": [
       "-13"
      ]
     },
     "execution_count": 96,
     "metadata": {},
     "output_type": "execute_result"
    }
   ],
   "source": [
    "s[0][1]"
   ]
  },
  {
   "cell_type": "code",
   "execution_count": 97,
   "metadata": {},
   "outputs": [
    {
     "data": {
      "text/plain": [
       "['Tube']"
      ]
     },
     "execution_count": 97,
     "metadata": {},
     "output_type": "execute_result"
    }
   ],
   "source": [
    "ans = []\n",
    "\n",
    "for a, b in s:\n",
    "    if b < 0:\n",
    "        ans.append(a)\n",
    "sorted(ans)"
   ]
  },
  {
   "cell_type": "code",
   "execution_count": 82,
   "metadata": {},
   "outputs": [
    {
     "name": "stdout",
     "output_type": "stream",
     "text": [
      "['None']\n",
      "[]\n"
     ]
    }
   ],
   "source": [
    "for a, b in s:\n",
    "    if b >=0:\n",
    "        print(['None'])\n",
    "        break\n",
    "    else:\n",
    "        ans.append(a)\n",
    "print(sorted(ans))"
   ]
  },
  {
   "cell_type": "code",
   "execution_count": 134,
   "metadata": {},
   "outputs": [
    {
     "name": "stdout",
     "output_type": "stream",
     "text": [
      "defaultdict(<class 'int'>, {'Apeach': -10, 'Frodo': -9, 'Tube': -5})\n",
      "defaultdict(<class 'int'>, {'Frodo': 6, 'Apeach': 7, 'Tube': 11})\n",
      "defaultdict(<class 'int'>, {'Apeach': -3, 'Frodo': -3, 'Tube': 6})\n"
     ]
    }
   ],
   "source": [
    "from collections import defaultdict, Counter\n",
    "dic_b = defaultdict(int)\n",
    "dic_g = defaultdict(int)\n",
    "dic_total = defaultdict(int)\n",
    "arr = [['Apeach', 'Frodo', '2'], ['Frodo', 'Apeach', '2'], ['Tube', 'Apeach', '5'],['Frodo', 'Tube', '7'], ['Apeach', 'Frodo', '4'], ['Apeach', 'Tube','4']]\n",
    "ans = []\n",
    "for i in arr:\n",
    "    b_key, g_key, point = i\n",
    "    p = int(point)\n",
    "    dic_b[b_key] -= p\n",
    "    dic_g[g_key] += p\n",
    "    \n",
    "for key, value in dic_b.items():\n",
    "    if key in dic_g:\n",
    "        dic_total[key] = dic_b[key] + dic_g[key]\n",
    "    else:\n",
    "        dic_total[key] = dic_b[key]\n",
    "for key, value in dic_g.items():\n",
    "    if key not in dic_total:\n",
    "        dic_total[key] = dic_g[key]\n",
    "\n",
    "print(dic_b)\n",
    "print(dic_g)\n",
    "print(dic_total)"
   ]
  },
  {
   "cell_type": "code",
   "execution_count": 135,
   "metadata": {},
   "outputs": [
    {
     "data": {
      "text/plain": [
       "[('Tube', 6), ('Apeach', -3), ('Frodo', -3)]"
      ]
     },
     "execution_count": 135,
     "metadata": {},
     "output_type": "execute_result"
    }
   ],
   "source": [
    "dic_tot = sorted(dic_total.items(), key= lambda x: x[1], reverse=True)\n",
    "dic_tot"
   ]
  },
  {
   "cell_type": "code",
   "execution_count": 136,
   "metadata": {},
   "outputs": [
    {
     "name": "stdout",
     "output_type": "stream",
     "text": [
      "['Apeach', 'Frodo']\n"
     ]
    }
   ],
   "source": [
    "for a, b in dic_total.items():\n",
    "    if b < 0:\n",
    "        ans.append(a)\n",
    "if len(ans) == 0:\n",
    "    print('None')\n",
    "else:\n",
    "    print(ans)"
   ]
  },
  {
   "cell_type": "code",
   "execution_count": 137,
   "metadata": {},
   "outputs": [
    {
     "data": {
      "text/plain": [
       "-3"
      ]
     },
     "execution_count": 137,
     "metadata": {},
     "output_type": "execute_result"
    }
   ],
   "source": [
    "min_value = dic_tot[-1][1]\n",
    "min_value"
   ]
  },
  {
   "cell_type": "code",
   "execution_count": 145,
   "metadata": {},
   "outputs": [
    {
     "data": {
      "text/plain": [
       "['Apeach', 'Frodo']"
      ]
     },
     "execution_count": 145,
     "metadata": {},
     "output_type": "execute_result"
    }
   ],
   "source": [
    "sorted([key for key, value in dic_total.items() if value==min_value])"
   ]
  },
  {
   "cell_type": "code",
   "execution_count": 146,
   "metadata": {},
   "outputs": [
    {
     "data": {
      "text/plain": [
       "-3"
      ]
     },
     "execution_count": 146,
     "metadata": {},
     "output_type": "execute_result"
    }
   ],
   "source": [
    "min(dic_total.values())"
   ]
  },
  {
   "cell_type": "code",
   "execution_count": null,
   "metadata": {},
   "outputs": [],
   "source": []
  },
  {
   "cell_type": "code",
   "execution_count": null,
   "metadata": {},
   "outputs": [],
   "source": []
  },
  {
   "cell_type": "markdown",
   "metadata": {},
   "source": [
    "# 2번 리스트 정렬"
   ]
  },
  {
   "cell_type": "code",
   "execution_count": 200,
   "metadata": {},
   "outputs": [],
   "source": [
    "orderBy = 0; orderDirection=1; pageSize=2; pageNumber=0 # 0:오름차순, 1: 내림차순"
   ]
  },
  {
   "cell_type": "code",
   "execution_count": 201,
   "metadata": {},
   "outputs": [
    {
     "data": {
      "text/plain": [
       "[['vjrrisdfxe', '18666489', '88046739'],\n",
       " ['rpaqgbjxik', '9425650', '96088250'],\n",
       " ['owjevtkuyv', '58584272', '62930912'],\n",
       " ['dfbkasyqcn', '37469674', '46363902']]"
      ]
     },
     "execution_count": 201,
     "metadata": {},
     "output_type": "execute_result"
    }
   ],
   "source": [
    "od = {0:False, 1:True}\n",
    "items = [['owjevtkuyv', '58584272', '62930912' ],['rpaqgbjxik', '9425650', '96088250'],['dfbkasyqcn', '37469674', '46363902'],['vjrrisdfxe', '18666489', '88046739']]\n",
    "if orderBy == 0:\n",
    "    items = sorted(items, key=lambda x: (x[orderBy]), reverse=od[orderDirection])\n",
    "else:\n",
    "    items = sorted(items, key=lambda x: int(x[orderBy]), reverse=od[orderDirection])\n",
    "\n",
    "items"
   ]
  },
  {
   "cell_type": "code",
   "execution_count": 197,
   "metadata": {},
   "outputs": [
    {
     "data": {
      "text/plain": [
       "['rpaqgbjxik', 'vjrrisdfxe', 'owjevtkuyv', 'dfbkasyqcn']"
      ]
     },
     "execution_count": 197,
     "metadata": {},
     "output_type": "execute_result"
    }
   ],
   "source": [
    "ans = []\n",
    "for i in items:\n",
    "    name, rela, pric = i\n",
    "    ans.append(name)\n",
    "ans"
   ]
  },
  {
   "cell_type": "code",
   "execution_count": 198,
   "metadata": {},
   "outputs": [],
   "source": [
    "f = [ans[0:pageSize], ans[pageSize:]][pageNumber]"
   ]
  },
  {
   "cell_type": "code",
   "execution_count": 199,
   "metadata": {},
   "outputs": [
    {
     "data": {
      "text/plain": [
       "['rpaqgbjxik', 'vjrrisdfxe']"
      ]
     },
     "execution_count": 199,
     "metadata": {},
     "output_type": "execute_result"
    }
   ],
   "source": [
    "f"
   ]
  },
  {
   "cell_type": "code",
   "execution_count": 193,
   "metadata": {},
   "outputs": [],
   "source": [
    "final = (items[:pageSize], items[pageSize:])[pageNumber]"
   ]
  },
  {
   "cell_type": "code",
   "execution_count": 194,
   "metadata": {},
   "outputs": [
    {
     "data": {
      "text/plain": [
       "[['p3', '17', '8']]"
      ]
     },
     "execution_count": 194,
     "metadata": {},
     "output_type": "execute_result"
    }
   ],
   "source": [
    "final"
   ]
  },
  {
   "cell_type": "code",
   "execution_count": 217,
   "metadata": {},
   "outputs": [
    {
     "data": {
      "text/plain": [
       "[[1, 2], [3, 4], [5]]"
      ]
     },
     "execution_count": 217,
     "metadata": {},
     "output_type": "execute_result"
    }
   ],
   "source": [
    "a = [1,2,3,4,5]\n",
    "stack = []\n",
    "while a:\n",
    "    sliced = a[:2]\n",
    "    stack.append(sliced)\n",
    "    a = a[2:]\n",
    "stack"
   ]
  },
  {
   "cell_type": "code",
   "execution_count": 218,
   "metadata": {},
   "outputs": [
    {
     "data": {
      "text/plain": [
       "[['rpaqgbjxik', 'vjrrisdfxe'], ['owjevtkuyv', 'dfbkasyqcn']]"
      ]
     },
     "execution_count": 218,
     "metadata": {},
     "output_type": "execute_result"
    }
   ],
   "source": [
    "stack = []\n",
    "while ans:\n",
    "    sliced = ans[:pageSize]\n",
    "    stack.append(sliced)\n",
    "    ans = ans[pageSize:]\n",
    "stack"
   ]
  },
  {
   "cell_type": "code",
   "execution_count": 220,
   "metadata": {},
   "outputs": [
    {
     "data": {
      "text/plain": [
       "['rpaqgbjxik', 'vjrrisdfxe']"
      ]
     },
     "execution_count": 220,
     "metadata": {},
     "output_type": "execute_result"
    }
   ],
   "source": [
    "stack[pageNumber]"
   ]
  },
  {
   "cell_type": "code",
   "execution_count": null,
   "metadata": {},
   "outputs": [],
   "source": []
  },
  {
   "cell_type": "markdown",
   "metadata": {},
   "source": [
    "# 3번 DP 문제 시도"
   ]
  },
  {
   "cell_type": "code",
   "execution_count": 229,
   "metadata": {},
   "outputs": [],
   "source": [
    "\n",
    "start_time = [1,3,3,5,7]\n",
    "running_time = [2,2,1,2,1]\n",
    "\n",
    "n = [i for i in range(1, len(start_time)+1)]"
   ]
  },
  {
   "cell_type": "code",
   "execution_count": 230,
   "metadata": {},
   "outputs": [
    {
     "data": {
      "text/plain": [
       "[1, 2, 3, 4, 5]"
      ]
     },
     "execution_count": 230,
     "metadata": {},
     "output_type": "execute_result"
    }
   ],
   "source": [
    "n"
   ]
  },
  {
   "cell_type": "code",
   "execution_count": 244,
   "metadata": {},
   "outputs": [
    {
     "data": {
      "text/plain": [
       "[[1, 3], [3, 5], [3, 4], [5, 7], [7, 8]]"
      ]
     },
     "execution_count": 244,
     "metadata": {},
     "output_type": "execute_result"
    }
   ],
   "source": [
    "stack = []\n",
    "for i in range(len(start_time)):\n",
    "    stack.append([start_time[i], start_time[i]+running_time[i]])\n",
    "stack"
   ]
  },
  {
   "cell_type": "code",
   "execution_count": 241,
   "metadata": {},
   "outputs": [
    {
     "name": "stdout",
     "output_type": "stream",
     "text": [
      "[[3, 1], [7, 1], [3, 2], [5, 2]]\n"
     ]
    },
    {
     "data": {
      "text/plain": [
       "[3, 7, 3, 5]"
      ]
     },
     "execution_count": 241,
     "metadata": {},
     "output_type": "execute_result"
    }
   ],
   "source": [
    "def test(act):\n",
    "    result = []\n",
    "    \n",
    "    sortedAct = sorted(act, key=lambda x: x[1])\n",
    "    last = 0\n",
    "    for i in sortedAct:\n",
    "        if last < i[0]:\n",
    "            result.append(i)\n",
    "            last = i[1]\n",
    "    print(result)\n",
    "    result = list(map(lambda x:x[0], result))\n",
    "    return result\n",
    "test(stack)"
   ]
  },
  {
   "cell_type": "code",
   "execution_count": 245,
   "metadata": {},
   "outputs": [
    {
     "name": "stdout",
     "output_type": "stream",
     "text": [
      "4\n"
     ]
    }
   ],
   "source": [
    "end, mcount = 0,0\n",
    "m = sorted(stack, key=lambda x:(x[1],x[0]))\n",
    "\n",
    "for i in range(len(start_time)):\n",
    "    if end <= m[i][0]:\n",
    "        mcount += 1\n",
    "        end = m[i][1]\n",
    "print(mcount)"
   ]
  },
  {
   "cell_type": "markdown",
   "metadata": {},
   "source": [
    "# 3번 Greedy문제 (제출 답안)"
   ]
  },
  {
   "cell_type": "code",
   "execution_count": null,
   "metadata": {},
   "outputs": [],
   "source": [
    "#!/bin/python3\n",
    "\n",
    "import math\n",
    "import os\n",
    "import random\n",
    "import re\n",
    "import sys\n",
    "\n",
    "\n",
    "\n",
    "#\n",
    "# Complete the 'solution' function below.\n",
    "#\n",
    "# The function is expected to return an INTEGER.\n",
    "# The function accepts following parameters:\n",
    "#  1. INTEGER_ARRAY start_time\n",
    "#  2. INTEGER_ARRAY running_time\n",
    "#\n",
    "\n",
    "def solution(start_time, running_time):\n",
    "    # Write your code here\n",
    "    stack = []\n",
    "    for i in range(len(start_time)):\n",
    "        stack.append([start_time[i], start_time[i]+running_time[i]])\n",
    "   \n",
    "    result = sorted(stack, key=lambda x:(x[1], x[0]))\n",
    "    end_time, count = 0, 0\n",
    "\n",
    "    for i, j in result:\n",
    "        if i >= end_time:\n",
    "            count += 1\n",
    "            end_time = j\n",
    "    return count\n",
    "    \n",
    "if __name__ == '__main__':"
   ]
  }
 ],
 "metadata": {
  "kernelspec": {
   "display_name": "Python 3",
   "language": "python",
   "name": "python3"
  },
  "language_info": {
   "codemirror_mode": {
    "name": "ipython",
    "version": 3
   },
   "file_extension": ".py",
   "mimetype": "text/x-python",
   "name": "python",
   "nbconvert_exporter": "python",
   "pygments_lexer": "ipython3",
   "version": "3.7.6"
  }
 },
 "nbformat": 4,
 "nbformat_minor": 4
}
