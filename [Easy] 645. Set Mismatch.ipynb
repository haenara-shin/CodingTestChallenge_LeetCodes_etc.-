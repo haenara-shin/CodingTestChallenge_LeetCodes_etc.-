{
 "cells": [
  {
   "cell_type": "markdown",
   "metadata": {},
   "source": [
    "You have a set of integers s, which originally contains all the numbers from 1 to n. Unfortunately, due to some error, one of the numbers in s got duplicated to another number in the set, which results in repetition of one number and loss of another number.\n",
    "\n",
    "You are given an integer array nums representing the data status of this set after the error.\n",
    "\n",
    "Find the number that occurs twice and the number that is missing and return them in the form of an array.\n",
    "\n",
    " \n",
    "\n",
    "Example 1:\n",
    "\n",
    "Input: nums = [1,2,2,4]\n",
    "Output: [2,3]\n",
    "\n",
    "Example 2:\n",
    "\n",
    "Input: nums = [1,1]\n",
    "Output: [1,2]\n",
    "\n",
    "Input: nums = [3,2,3,4,6,5]\n",
    "Output: [3,1]\n",
    "\n",
    "Constraints:\n",
    "\n",
    "2 <= nums.length <= 104\n",
    "1 <= nums[i] <= 104"
   ]
  },
  {
   "cell_type": "code",
   "execution_count": 78,
   "metadata": {},
   "outputs": [
    {
     "data": {
      "text/plain": [
       "[3, 1]"
      ]
     },
     "execution_count": 78,
     "metadata": {},
     "output_type": "execute_result"
    }
   ],
   "source": [
    "nums = nums = [3,2,3,4,6,5]\n",
    "ground_truth = set([i for i in range(1, len(nums)+1)])\n",
    "num_set = set(nums)\n",
    "missing = ground_truth - num_set\n",
    "\n",
    "gt = [i for i in range(1, len(nums)+1)]\n",
    "\n",
    "a = [Counter(nums).most_common()[0][0]]\n",
    "a + list(missing)"
   ]
  },
  {
   "cell_type": "code",
   "execution_count": 54,
   "metadata": {},
   "outputs": [
    {
     "data": {
      "text/plain": [
       "[1, 2]"
      ]
     },
     "execution_count": 54,
     "metadata": {},
     "output_type": "execute_result"
    }
   ],
   "source": [
    "nums = [1,1]\n",
    "ground_truth = [i for i in range(1, len(nums)+1)]\n",
    "c = []\n",
    "for i in ground_truth:\n",
    "    if i in nums:\n",
    "        nums.remove(i)\n",
    "    else:\n",
    "        c.append(i)\n",
    "nums + c"
   ]
  },
  {
   "cell_type": "code",
   "execution_count": null,
   "metadata": {},
   "outputs": [],
   "source": [
    "class Solution:\n",
    "    def findErrorNums(self, nums: List[int]) -> List[int]:\n",
    "        n = len(nums)+1\n",
    "        diff = sum(list(range(n)))- sum(nums) # find the difference between missing value and the duplicate\n",
    "        num = sum(nums)-sum(set(nums)) # locate the duplicate\n",
    "        return([num,num+diff])"
   ]
  },
  {
   "cell_type": "code",
   "execution_count": null,
   "metadata": {},
   "outputs": [],
   "source": [
    "class Solution:\n",
    "    def findErrorNums(self, nums: List[int]) -> List[int]:\n",
    "        from collections import Counter\n",
    "        gt = set([i for i in range(1, len(nums)+1)])\n",
    "        num_set = set(nums)\n",
    "        missing = list(gt - num_set)\n",
    "        return [Counter(nums).most_common()[0][0]] + missing"
   ]
  },
  {
   "cell_type": "code",
   "execution_count": null,
   "metadata": {},
   "outputs": [],
   "source": [
    "class Solution:\n",
    "    def findErrorNums(self, nums: List[int]) -> List[int]:\n",
    "        gt =[ i for i in range(1, len(nums)+1)]\n",
    "        c = []\n",
    "        for i in gt:\n",
    "            if i in nums:\n",
    "                nums.remove(i)\n",
    "            else:\n",
    "                c.append(i)\n",
    "        return nums+c"
   ]
  }
 ],
 "metadata": {
  "kernelspec": {
   "display_name": "Python 3",
   "language": "python",
   "name": "python3"
  },
  "language_info": {
   "codemirror_mode": {
    "name": "ipython",
    "version": 3
   },
   "file_extension": ".py",
   "mimetype": "text/x-python",
   "name": "python",
   "nbconvert_exporter": "python",
   "pygments_lexer": "ipython3",
   "version": "3.7.6"
  }
 },
 "nbformat": 4,
 "nbformat_minor": 4
}
