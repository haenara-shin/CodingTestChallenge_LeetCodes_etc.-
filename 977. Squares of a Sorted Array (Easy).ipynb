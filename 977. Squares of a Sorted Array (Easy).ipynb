{
 "cells": [
  {
   "cell_type": "markdown",
   "metadata": {},
   "source": [
    "Given an array of integers A sorted in non-decreasing order, return an array of the squares of each number, also in sorted non-decreasing order.\n",
    "\n",
    " \n",
    "\n",
    "Example 1:\n",
    "\n",
    "Input: [-4,-1,0,3,10]\n",
    "Output: [0,1,9,16,100]\n",
    "Example 2:\n",
    "\n",
    "Input: [-7,-3,2,3,11]\n",
    "Output: [4,9,9,49,121]\n",
    " \n",
    "\n",
    "Note:\n",
    "\n",
    "1 <= A.length <= 10000\n",
    "-10000 <= A[i] <= 10000\n",
    "A is sorted in non-decreasing order."
   ]
  },
  {
   "cell_type": "code",
   "execution_count": null,
   "metadata": {},
   "outputs": [],
   "source": [
    "class Solution:\n",
    "    def sortedSquares(self, A: List[int]) -> List[int]:\n",
    "        result = [None]*len(A)\n",
    "        left, right = 0, len(A) - 1\n",
    "        for index in range(len(A)-1, -1, -1):\n",
    "            if abs(A[left]) > abs(A[right]):\n",
    "                result[index] = A[left] ** 2\n",
    "                left += 1\n",
    "            else:\n",
    "                result[index] = A[right] ** 2\n",
    "                right -= 1\n",
    "        return result"
   ]
  },
  {
   "cell_type": "code",
   "execution_count": null,
   "metadata": {},
   "outputs": [],
   "source": [
    "class Solution:\n",
    "    def sortedSquares(self, A: List[int]) -> List[int]:\n",
    "        result = [None for _ in A]\n",
    "        left, right = 0, len(A) - 1\n",
    "        for index in range(len(A)-1, -1, -1):\n",
    "            if abs(A[left]) > abs(A[right]):\n",
    "                result[index] = A[left] ** 2\n",
    "                left += 1\n",
    "            else:\n",
    "                result[index] = A[right] ** 2\n",
    "                right -= 1\n",
    "        return result"
   ]
  },
  {
   "cell_type": "code",
   "execution_count": null,
   "metadata": {},
   "outputs": [],
   "source": [
    "class Solution:\n",
    "    def sortedSquares(self, A):\n",
    "        answer = [0] * len(A)\n",
    "        l, r = 0, len(A) -1\n",
    "        while l <= r:\n",
    "            left, right = abs(A[l]), abs(A[r])\n",
    "            if left > right :\n",
    "                answer[r-l] = left **2\n",
    "                l += 1\n",
    "            else:\n",
    "                answer[r - l] = right **2\n",
    "                r -= 1\n",
    "        return answer"
   ]
  },
  {
   "cell_type": "code",
   "execution_count": null,
   "metadata": {},
   "outputs": [],
   "source": [
    "class Solution:\n",
    "    def sortedSquares(self, A: List[int]) -> List[int]:\n",
    "        answer = [0] * len(A)\n",
    "        l, r = 0, len(A) - 1\n",
    "        while l <= r:\n",
    "            left, right = abs(A[l]), abs(A[r])\n",
    "            if left > right:\n",
    "                answer[r - l] = left * left\n",
    "                l += 1\n",
    "            else:\n",
    "                answer[r - l] = right * right\n",
    "                r -= 1\n",
    "        return answer"
   ]
  },
  {
   "cell_type": "code",
   "execution_count": null,
   "metadata": {},
   "outputs": [],
   "source": [
    "class Solution:\n",
    "    def sortedSquares(self, A: List[int]) -> List[int]:\n",
    "        res = []\n",
    "        for i in A:\n",
    "            res.append(i**2)\n",
    "        return res.sort()"
   ]
  },
  {
   "cell_type": "code",
   "execution_count": null,
   "metadata": {},
   "outputs": [],
   "source": [
    "class Solution:\n",
    "    def sortedSquares(self, A: List[int]) -> List[int]:\n",
    "        res = []\n",
    "        for i in A:\n",
    "            res.append(i**2)\n",
    "        return sorted(res)"
   ]
  }
 ],
 "metadata": {
  "kernelspec": {
   "display_name": "Python 3",
   "language": "python",
   "name": "python3"
  },
  "language_info": {
   "codemirror_mode": {
    "name": "ipython",
    "version": 3
   },
   "file_extension": ".py",
   "mimetype": "text/x-python",
   "name": "python",
   "nbconvert_exporter": "python",
   "pygments_lexer": "ipython3",
   "version": "3.7.6"
  }
 },
 "nbformat": 4,
 "nbformat_minor": 4
}
