{
 "cells": [
  {
   "cell_type": "markdown",
   "metadata": {},
   "source": [
    "Count the number of prime numbers less than a non-negative number, n.\n",
    "\n",
    "Example:\n",
    "\n",
    "Input: 10\n",
    "Output: 4\n",
    "Explanation: There are 4 prime numbers less than 10, they are 2, 3, 5, 7."
   ]
  },
  {
   "cell_type": "code",
   "execution_count": 3,
   "metadata": {},
   "outputs": [
    {
     "data": {
      "text/plain": [
       "4"
      ]
     },
     "execution_count": 3,
     "metadata": {},
     "output_type": "execute_result"
    }
   ],
   "source": [
    "def eratosthenes(n):\n",
    "    sieve = [True] * n\n",
    "    for i in range(2, n):\n",
    "        if sieve[i] == True:\n",
    "            for j in range(i+i, n, i):\n",
    "                sieve[j] = False                \n",
    "    return len([i for i in range(2,n) if sieve[i] == True])\n",
    "eratosthenes(10)"
   ]
  },
  {
   "cell_type": "code",
   "execution_count": null,
   "metadata": {},
   "outputs": [],
   "source": [
    "class Solution:\n",
    "    def countPrimes(self, n):\n",
    "        \"\"\"\n",
    "        :type n: int\n",
    "        :rtype: int\n",
    "        \"\"\"\n",
    "        if n < 2:\n",
    "            return 0\n",
    "        s = [1] * n\n",
    "        s[0] = s[1] = 0\n",
    "        for i in range(2, int(n ** 0.5) + 1):\n",
    "            if s[i] == 1:\n",
    "                s[i * i:n:i] = [0] * len(s[i * i:n:i])\n",
    "        return sum(s)"
   ]
  },
  {
   "cell_type": "code",
   "execution_count": null,
   "metadata": {},
   "outputs": [],
   "source": [
    "class Solution:\n",
    "    def countPrimes(self, n: int) -> int:\n",
    "        sieve = [True] * n\n",
    "        for i in range(2, n):\n",
    "            if sieve[i] == True:\n",
    "                for j in range(i+i, n, i):\n",
    "                    sieve[j] = False\n",
    "        return len([i for i in range(2, n) if sieve[i] == True])"
   ]
  }
 ],
 "metadata": {
  "kernelspec": {
   "display_name": "Python 3",
   "language": "python",
   "name": "python3"
  },
  "language_info": {
   "codemirror_mode": {
    "name": "ipython",
    "version": 3
   },
   "file_extension": ".py",
   "mimetype": "text/x-python",
   "name": "python",
   "nbconvert_exporter": "python",
   "pygments_lexer": "ipython3",
   "version": "3.7.6"
  }
 },
 "nbformat": 4,
 "nbformat_minor": 4
}
