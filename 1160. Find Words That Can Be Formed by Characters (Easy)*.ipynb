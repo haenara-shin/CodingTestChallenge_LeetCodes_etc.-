{
 "cells": [
  {
   "cell_type": "markdown",
   "metadata": {},
   "source": [
    "You are given an array of strings words and a string chars.\n",
    "\n",
    "A string is good if it can be formed by characters from chars (each character can only be used once).\n",
    "\n",
    "Return the sum of lengths of all good strings in words.\n",
    "\n",
    " \n",
    "\n",
    "Example 1:\n",
    "\n",
    "Input: words = [\"cat\",\"bt\",\"hat\",\"tree\"], chars = \"atach\"\n",
    "Output: 6\n",
    "Explanation: \n",
    "The strings that can be formed are \"cat\" and \"hat\" so the answer is 3 + 3 = 6.\n",
    "Example 2:\n",
    "\n",
    "Input: words = [\"hello\",\"world\",\"leetcode\"], chars = \"welldonehoneyr\"\n",
    "Output: 10\n",
    "Explanation: \n",
    "The strings that can be formed are \"hello\" and \"world\" so the answer is 5 + 5 = 10.\n",
    " \n",
    "\n",
    "Note:\n",
    "\n",
    "1 <= words.length <= 1000\n",
    "1 <= words[i].length, chars.length <= 100\n",
    "All strings contain lowercase English letters only."
   ]
  },
  {
   "cell_type": "code",
   "execution_count": 36,
   "metadata": {},
   "outputs": [
    {
     "data": {
      "text/plain": [
       "['t']"
      ]
     },
     "execution_count": 36,
     "metadata": {},
     "output_type": "execute_result"
    }
   ],
   "source": [
    "t = {'a': 2, 't': 1, 'c': 1, 'h': 1}\n",
    "x = {'b': 1, 't': 1}\n",
    "[key * value for key, value in x.items() if key in t.keys() and value <= t.get(key)]"
   ]
  },
  {
   "cell_type": "code",
   "execution_count": 44,
   "metadata": {},
   "outputs": [
    {
     "name": "stdout",
     "output_type": "stream",
     "text": [
      "Counter({'a': 2, 't': 1, 'c': 1, 'h': 1})\n"
     ]
    },
    {
     "data": {
      "text/plain": [
       "6"
      ]
     },
     "execution_count": 44,
     "metadata": {},
     "output_type": "execute_result"
    }
   ],
   "source": [
    "words = [\"cat\",\"bt\",\"hat\",\"tree\"]\n",
    "chars = \"atach\"\n",
    "from collections import Counter\n",
    "a = Counter(chars)\n",
    "print(a)\n",
    "\n",
    "result = 0\n",
    "for word in words:\n",
    "    word_count = Counter(word)\n",
    "    if all(a[key] >= word_count[key] for key in word_count):\n",
    "        result += len(word)\n",
    "result"
   ]
  },
  {
   "cell_type": "code",
   "execution_count": 43,
   "metadata": {},
   "outputs": [
    {
     "name": "stdout",
     "output_type": "stream",
     "text": [
      "6\n"
     ]
    }
   ],
   "source": [
    "result = 0\n",
    "from collections import Counter\n",
    "char_count = Counter(chars)\n",
    "\n",
    "for word in words:\n",
    "    word_count = Counter(word)\n",
    "    if all(char_count[key] >= word_count[key] for key in word_count):\n",
    "        result += len(word)\n",
    "print(result)"
   ]
  },
  {
   "cell_type": "code",
   "execution_count": null,
   "metadata": {},
   "outputs": [],
   "source": [
    "class Solution:\n",
    "    def countCharacters(self, words: List[str], chars: str) -> int:\n",
    "\n",
    "        chars_count = collections.Counter(chars)\n",
    "\n",
    "        result = 0\n",
    "        for word in words:\n",
    "            word_count = collections.Counter(word)\n",
    "            if all(chars_count[ch] >= word_count[ch] for ch in word_count):\n",
    "                result += len(word)\n",
    "\n",
    "        return result"
   ]
  },
  {
   "cell_type": "code",
   "execution_count": null,
   "metadata": {},
   "outputs": [],
   "source": [
    "class Solution:\n",
    "    def countCharacters(self, words: List[str], chars: str) -> int:\n",
    "        sum, ct = 0, collections.Counter\n",
    "        chars_counter = ct(chars)\n",
    "        for word in words:\n",
    "            word_counter = ct(word)\n",
    "            if all(word_counter[c] <= chars_counter[c] for c in word_counter):\n",
    "                sum += len(word)\n",
    "        return sum"
   ]
  }
 ],
 "metadata": {
  "kernelspec": {
   "display_name": "Python 3",
   "language": "python",
   "name": "python3"
  },
  "language_info": {
   "codemirror_mode": {
    "name": "ipython",
    "version": 3
   },
   "file_extension": ".py",
   "mimetype": "text/x-python",
   "name": "python",
   "nbconvert_exporter": "python",
   "pygments_lexer": "ipython3",
   "version": "3.7.6"
  }
 },
 "nbformat": 4,
 "nbformat_minor": 4
}
