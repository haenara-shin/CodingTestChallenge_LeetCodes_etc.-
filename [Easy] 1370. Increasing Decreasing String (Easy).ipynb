{
 "cells": [
  {
   "cell_type": "markdown",
   "metadata": {},
   "source": [
    "Given a string s. You should re-order the string using the following algorithm:\n",
    "\n",
    "Pick the smallest character from s and append it to the result.\n",
    "Pick the smallest character from s which is greater than the last appended character to the result and append it.\n",
    "Repeat step 2 until you cannot pick more characters.\n",
    "Pick the largest character from s and append it to the result.\n",
    "Pick the largest character from s which is smaller than the last appended character to the result and append it.\n",
    "Repeat step 5 until you cannot pick more characters.\n",
    "Repeat the steps from 1 to 6 until you pick all characters from s.\n",
    "In each step, If the smallest or the largest character appears more than once you can choose any occurrence and append it to the result.\n",
    "\n",
    "Return the result string after sorting s with this algorithm.\n",
    "\n",
    " \n",
    "\n",
    "Example 1:\n",
    "\n",
    "Input: s = \"aaaabbbbcccc\"\n",
    "Output: \"abccbaabccba\"\n",
    "Explanation: After steps 1, 2 and 3 of the first iteration, result = \"abc\"\n",
    "After steps 4, 5 and 6 of the first iteration, result = \"abccba\"\n",
    "First iteration is done. Now s = \"aabbcc\" and we go back to step 1\n",
    "After steps 1, 2 and 3 of the second iteration, result = \"abccbaabc\"\n",
    "After steps 4, 5 and 6 of the second iteration, result = \"abccbaabccba\"\n",
    "Example 2:\n",
    "\n",
    "Input: s = \"rat\"\n",
    "Output: \"art\"\n",
    "Explanation: The word \"rat\" becomes \"art\" after re-ordering it with the mentioned algorithm.\n",
    "Example 3:\n",
    "\n",
    "Input: s = \"leetcode\"\n",
    "Output: \"cdelotee\"\n",
    "Example 4:\n",
    "\n",
    "Input: s = \"ggggggg\"\n",
    "Output: \"ggggggg\"\n",
    "Example 5:\n",
    "\n",
    "Input: s = \"spo\"\n",
    "Output: \"ops\"\n",
    " \n",
    "\n",
    "Constraints:\n",
    "\n",
    "1 <= s.length <= 500\n",
    "s contains only lower-case English letters."
   ]
  },
  {
   "cell_type": "code",
   "execution_count": null,
   "metadata": {},
   "outputs": [],
   "source": [
    "class Solution:\n",
    "    def sortString(self, s: str) -> str:\n",
    "        s = list(s)\n",
    "        result = ''\n",
    "        while s:\n",
    "            for letter in sorted(set(s)):\n",
    "                s.remove(letter)\n",
    "                result += letter\n",
    "            for letter in sorted(set(s), reverse=True):\n",
    "                s.remove(letter)\n",
    "                result += letter\n",
    "        return result"
   ]
  },
  {
   "cell_type": "code",
   "execution_count": null,
   "metadata": {
    "scrolled": false
   },
   "outputs": [],
   "source": [
    "def sortString(self, s: str) -> str:\n",
    "    d = sorted([c, n] for c, n in collections.Counter(s).items())\n",
    "    r = []\n",
    "    while len(r) < len(s):\n",
    "        for i in range(len(d)):\n",
    "            if d[i][1]:\n",
    "                r.append(d[i][0])\n",
    "                d[i][1] -= 1\n",
    "        for i in range(len(d)):\n",
    "            if d[~i][1]:\n",
    "                r.append(d[~i][0])\n",
    "                d[~i][1] -= 1\n",
    "    return ''.join(r)"
   ]
  },
  {
   "cell_type": "code",
   "execution_count": 1,
   "metadata": {
    "scrolled": true
   },
   "outputs": [
    {
     "name": "stdout",
     "output_type": "stream",
     "text": [
      "0 -1\n",
      "1 -2\n",
      "2 -3\n",
      "3 -4\n",
      "4 -5\n",
      "5 -6\n",
      "6 -7\n",
      "7 -8\n",
      "8 -9\n",
      "9 -10\n"
     ]
    }
   ],
   "source": [
    "for i in range(10):\n",
    "    print(i, ~i)"
   ]
  }
 ],
 "metadata": {
  "kernelspec": {
   "display_name": "Python 3",
   "language": "python",
   "name": "python3"
  },
  "language_info": {
   "codemirror_mode": {
    "name": "ipython",
    "version": 3
   },
   "file_extension": ".py",
   "mimetype": "text/x-python",
   "name": "python",
   "nbconvert_exporter": "python",
   "pygments_lexer": "ipython3",
   "version": "3.7.6"
  }
 },
 "nbformat": 4,
 "nbformat_minor": 4
}
