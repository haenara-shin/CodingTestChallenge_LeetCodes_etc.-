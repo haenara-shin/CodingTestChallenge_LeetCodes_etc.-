{
 "cells": [
  {
   "cell_type": "markdown",
   "metadata": {},
   "source": [
    "Given an array A of strings made only from lowercase letters, return a list of all characters that show up in all strings within the list (including duplicates).  For example, if a character occurs 3 times in all strings but not 4 times, you need to include that character three times in the final answer.\n",
    "\n",
    "You may return the answer in any order.\n",
    "\n",
    " \n",
    "\n",
    "Example 1:\n",
    "\n",
    "Input: [\"bella\",\"label\",\"roller\"]\n",
    "Output: [\"e\",\"l\",\"l\"]\n",
    "\n",
    "Example 2:\n",
    "\n",
    "Input: [\"cool\",\"lock\",\"cook\"]\n",
    "Output: [\"c\",\"o\"]\n",
    " \n",
    "\n",
    "Note:\n",
    "\n",
    "1 <= A.length <= 100\n",
    "1 <= A[i].length <= 100\n",
    "A[i][j] is a lowercase letter"
   ]
  },
  {
   "cell_type": "code",
   "execution_count": 17,
   "metadata": {},
   "outputs": [
    {
     "data": {
      "text/plain": [
       "['c', 'o', 'o', 'l']"
      ]
     },
     "execution_count": 17,
     "metadata": {},
     "output_type": "execute_result"
    }
   ],
   "source": [
    "check = list(A[0])\n",
    "print(check)\n",
    "for word in A[1:]:\n",
    "    new_check = []\n",
    "    for c in word:\n",
    "        if c in check:\n",
    "            new_check.append(c)\n",
    "            check.remove(c)\n",
    "    check = new_check"
   ]
  },
  {
   "cell_type": "code",
   "execution_count": null,
   "metadata": {},
   "outputs": [],
   "source": [
    "class Solution:\n",
    "    def commonChars(self, A: List[str]) -> List[str]:\n",
    "        check = list(A[0])\n",
    "        for word in A[1:]:\n",
    "            new_check = []\n",
    "            for c in word:\n",
    "                if c in check:\n",
    "                    new_check.append(c)\n",
    "                    check.remove(c)\n",
    "            check = new_check\n",
    "        \n",
    "        return check"
   ]
  },
  {
   "cell_type": "code",
   "execution_count": null,
   "metadata": {},
   "outputs": [],
   "source": [
    "class Solution:\n",
    "    def commonChars(self, A: List[str]) -> List[str]:\n",
    "        cnt = collections.Counter(A[0])\n",
    "        for s in A:\n",
    "            cnt2 = collections.Counter(s)\n",
    "            for k in cnt.keys():\n",
    "                cnt[k] = min(cnt[k], cnt2[k])\n",
    "        return cnt.elements()"
   ]
  },
  {
   "cell_type": "code",
   "execution_count": null,
   "metadata": {},
   "outputs": [],
   "source": [
    "class Solution:\n",
    "    def commonChars(self, A: List[str]) -> List[str]:\n",
    "        return list(reduce(collections.Counter.__and__, map(collections.Counter, A)).elements())"
   ]
  },
  {
   "cell_type": "code",
   "execution_count": null,
   "metadata": {},
   "outputs": [],
   "source": [
    "class Solution:\n",
    "    def commonChars(self, A: List[str]) -> List[str]:\n",
    "        res = collections.Counter(A[0])\n",
    "        for a in A:\n",
    "            res &= collections.Counter(a)\n",
    "        return list(res.elements())"
   ]
  }
 ],
 "metadata": {
  "kernelspec": {
   "display_name": "Python 3",
   "language": "python",
   "name": "python3"
  },
  "language_info": {
   "codemirror_mode": {
    "name": "ipython",
    "version": 3
   },
   "file_extension": ".py",
   "mimetype": "text/x-python",
   "name": "python",
   "nbconvert_exporter": "python",
   "pygments_lexer": "ipython3",
   "version": "3.7.6"
  }
 },
 "nbformat": 4,
 "nbformat_minor": 4
}
