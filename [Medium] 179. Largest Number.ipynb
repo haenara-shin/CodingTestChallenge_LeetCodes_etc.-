{
 "cells": [
  {
   "cell_type": "markdown",
   "metadata": {},
   "source": [
    "Given a list of non-negative integers nums, arrange them such that they form the largest number.\n",
    "\n",
    "Note: The result may be very large, so you need to return a string instead of an integer.\n",
    "\n",
    " \n",
    "\n",
    "Example 1:\n",
    "\n",
    "Input: nums = [10,2]\n",
    "Output: \"210\"\n",
    "Example 2:\n",
    "\n",
    "Input: nums = [3,30,34,5,9]\n",
    "Output: \"9534330\"\n",
    "Example 3:\n",
    "\n",
    "Input: nums = [1]\n",
    "Output: \"1\"\n",
    "Example 4:\n",
    "\n",
    "Input: nums = [10]\n",
    "Output: \"10\"\n",
    " \n",
    "\n",
    "Constraints:\n",
    "\n",
    "1 <= nums.length <= 100\n",
    "0 <= nums[i] <= 109"
   ]
  },
  {
   "cell_type": "code",
   "execution_count": null,
   "metadata": {},
   "outputs": [],
   "source": [
    "from typing import List\n",
    "\n",
    "\n",
    "class Solution:\n",
    "    # 문제에 적합한 비교 함수\n",
    "    @staticmethod\n",
    "    def to_swap(n1: int, n2: int) -> bool:\n",
    "        return str(n1) + str(n2) < str(n2) + str(n1)\n",
    "\n",
    "    # 삽입 정렬 구현\n",
    "    def largestNumber(self, nums: List[int]) -> str:\n",
    "        i = 1\n",
    "        while i < len(nums):\n",
    "            j = i\n",
    "            while j > 0 and self.to_swap(nums[j - 1], nums[j]):\n",
    "                nums[j], nums[j - 1] = nums[j - 1], nums[j]\n",
    "                j -= 1\n",
    "            i += 1\n",
    "\n",
    "        return str(int(''.join(map(str, nums))))"
   ]
  },
  {
   "cell_type": "code",
   "execution_count": null,
   "metadata": {},
   "outputs": [],
   "source": [
    "class Solution:\n",
    "    \n",
    "    @staticmethod\n",
    "    def to_swap(n1, n2):\n",
    "        return str(n1) + str(n2) < str(n2) + str(n1)\n",
    "    \n",
    "    def largestNumber(self, nums: List[int]) -> str:\n",
    "        i = 1\n",
    "        while i < len(nums):\n",
    "            j = 1\n",
    "            while j > 0 and self.to_swap(nums[j-1], nums[j]):\n",
    "                nums[j], nums[j-1] = nums[j-1], nums[j]\n",
    "                j -= 1\n",
    "            i += 1\n",
    "        return str(int(''.join(map(str, nums))))"
   ]
  }
 ],
 "metadata": {
  "kernelspec": {
   "display_name": "Python 3",
   "language": "python",
   "name": "python3"
  },
  "language_info": {
   "codemirror_mode": {
    "name": "ipython",
    "version": 3
   },
   "file_extension": ".py",
   "mimetype": "text/x-python",
   "name": "python",
   "nbconvert_exporter": "python",
   "pygments_lexer": "ipython3",
   "version": "3.7.6"
  }
 },
 "nbformat": 4,
 "nbformat_minor": 4
}
