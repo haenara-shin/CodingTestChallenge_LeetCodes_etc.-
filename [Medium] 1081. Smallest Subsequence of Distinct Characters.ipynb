{
 "cells": [
  {
   "cell_type": "markdown",
   "metadata": {},
   "source": [
    "Return the lexicographically smallest subsequence of s that contains all the distinct characters of s exactly once.\n",
    "\n",
    "Note: This question is the same as 316: https://leetcode.com/problems/remove-duplicate-letters/\n",
    "\n",
    " \n",
    "\n",
    "Example 1:\n",
    "\n",
    "Input: s = \"bcabc\"\n",
    "Output: \"abc\"\n",
    "Example 2:\n",
    "\n",
    "Input: s = \"cbacdcbc\"\n",
    "Output: \"acdb\"\n",
    " \n",
    "\n",
    "Constraints:\n",
    "\n",
    "1 <= s.length <= 1000\n",
    "s consists of lowercase English letters."
   ]
  },
  {
   "cell_type": "code",
   "execution_count": null,
   "metadata": {},
   "outputs": [],
   "source": [
    "class Solution:\n",
    "    def smallestSubsequence(self, s: str) -> str:\n",
    "        from collections import Counter\n",
    "        \n",
    "        counter, stack = Counter(s), []\n",
    "        \n",
    "        for char in s:\n",
    "            counter[char] -= 1\n",
    "            \n",
    "            if char in stack:\n",
    "                continue\n",
    "            \n",
    "            while stack and char < stack[-1] and counter[stack[-1]] > 0:\n",
    "                stack.pop()\n",
    "            stack.append(char)\n",
    "            \n",
    "        return ''.join(stack)"
   ]
  },
  {
   "cell_type": "code",
   "execution_count": null,
   "metadata": {},
   "outputs": [],
   "source": [
    "class Solution:\n",
    "    def smallestSubsequence(self, s: str) -> str:\n",
    "        from collections import Counter\n",
    "        \n",
    "        counter, seen, stack = Counter(s), set(), []\n",
    "        for char in s:\n",
    "            counter[char] -= 1\n",
    "            \n",
    "            if char in seen:\n",
    "                continue\n",
    "            \n",
    "            while stack and char < stack[-1] and counter[stack[-1]] > 0:\n",
    "                seen.remove(stack.pop())\n",
    "            stack.append(char)\n",
    "            seen.add(char)\n",
    "        return ''.join(stack)"
   ]
  },
  {
   "cell_type": "code",
   "execution_count": null,
   "metadata": {},
   "outputs": [],
   "source": [
    "class Solution:\n",
    "    def smallestSubsequence(self, s: str) -> str:\n",
    "        for i in sorted(set(s)):\n",
    "            suffix = s[s.index(i):]\n",
    "            if set(s) == set(suffix):\n",
    "                return i + self.smallestSubsequence(suffix.replace(i, ''))\n",
    "        return ''"
   ]
  }
 ],
 "metadata": {
  "kernelspec": {
   "display_name": "Python 3",
   "language": "python",
   "name": "python3"
  },
  "language_info": {
   "codemirror_mode": {
    "name": "ipython",
    "version": 3
   },
   "file_extension": ".py",
   "mimetype": "text/x-python",
   "name": "python",
   "nbconvert_exporter": "python",
   "pygments_lexer": "ipython3",
   "version": "3.7.6"
  }
 },
 "nbformat": 4,
 "nbformat_minor": 4
}
