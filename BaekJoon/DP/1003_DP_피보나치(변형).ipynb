{
 "cells": [
  {
   "cell_type": "markdown",
   "metadata": {},
   "source": [
    "N이 주어졌을 때, fibonacci(N)을 호출했을 때, 0과 1이 각각 몇 번 출력되는지 구하는 프로그램을 작성하시오."
   ]
  },
  {
   "cell_type": "markdown",
   "metadata": {},
   "source": [
    "입력\n",
    "첫째 줄에 테스트 케이스의 개수 T가 주어진다.\n",
    "\n",
    "각 테스트 케이스는 한 줄로 이루어져 있고, N이 주어진다. N은 40보다 작거나 같은 자연수 또는 0이다.\n",
    "\n",
    "출력\n",
    "각 테스트 케이스마다 0이 출력되는 횟수와 1이 출력되는 횟수를 공백으로 구분해서 출력한다.\n",
    "\n",
    "예제 입력\n",
    "3\n",
    "0\n",
    "1\n",
    "3\n",
    "예제 출력\n",
    "1 0\n",
    "0 1\n",
    "1 2"
   ]
  },
  {
   "cell_type": "markdown",
   "metadata": {},
   "source": [
    "# Counter (O(n) 인데 남발해서 시간 초과 실패)"
   ]
  },
  {
   "cell_type": "code",
   "execution_count": 54,
   "metadata": {},
   "outputs": [
    {
     "name": "stdout",
     "output_type": "stream",
     "text": [
      "3\n",
      "0\n",
      "1\n",
      "3\n",
      "1 0\n",
      "0 1\n",
      "1 2\n"
     ]
    }
   ],
   "source": [
    "from collections import Counter\n",
    "\n",
    "num = []\n",
    "for i in range(int(input())):\n",
    "    num.append(int(input()))\n",
    "    \n",
    "def fibo(n):\n",
    "    if n == 0:\n",
    "        d_0 = Counter([0])\n",
    "        return d_0\n",
    "    if n == 1:\n",
    "        d_1 = Counter([1])\n",
    "        return d_1\n",
    "\n",
    "    d = fibo(n-1) + fibo(n-2)\n",
    "    return d\n",
    "\n",
    "for i in num:\n",
    "#     print(fibo(i))\n",
    "    print(fibo(i)[0], end=' ')\n",
    "    print(fibo(i)[1])"
   ]
  },
  {
   "cell_type": "markdown",
   "metadata": {},
   "source": [
    "# PASS"
   ]
  },
  {
   "cell_type": "code",
   "execution_count": 59,
   "metadata": {},
   "outputs": [
    {
     "name": "stdout",
     "output_type": "stream",
     "text": [
      "3\n",
      "0\n",
      "1\n",
      "3\n",
      "1 0\n",
      "0 1\n",
      "1 2\n"
     ]
    }
   ],
   "source": [
    "num = []\n",
    "for i in range(int(input())):\n",
    "    num.append(int(input()))\n",
    "\n",
    "def fibo_zero(n):    \n",
    "    if n == 0:\n",
    "        return 1\n",
    "    if n == 1:\n",
    "        return 0\n",
    "    \n",
    "    fz = [0] * (n+1)\n",
    "    fz[0] = 1\n",
    "    fz[1] = 0 \n",
    "    for i in range(2, n+1):\n",
    "        fz[i] = fz[i-1] + fz[i-2]\n",
    "    \n",
    "    return fz[n]\n",
    "\n",
    "def fibo_one(n):\n",
    "    if n == 0:\n",
    "        return 0\n",
    "    if n == 1:\n",
    "        return 1\n",
    "    fn = [0] * (n+1)\n",
    "    fn[0] = 0\n",
    "    fn[1] = 1\n",
    "    for i in range(2, n+1):\n",
    "        fn[i] = fn[i-1] + fn[i-2]\n",
    "    return fn[n]\n",
    "\n",
    "for i in num:\n",
    "    print(f'{fibo_zero(i)} {fibo_one(i)}')"
   ]
  }
 ],
 "metadata": {
  "kernelspec": {
   "display_name": "Python 3",
   "language": "python",
   "name": "python3"
  },
  "language_info": {
   "codemirror_mode": {
    "name": "ipython",
    "version": 3
   },
   "file_extension": ".py",
   "mimetype": "text/x-python",
   "name": "python",
   "nbconvert_exporter": "python",
   "pygments_lexer": "ipython3",
   "version": "3.7.6"
  }
 },
 "nbformat": 4,
 "nbformat_minor": 4
}
