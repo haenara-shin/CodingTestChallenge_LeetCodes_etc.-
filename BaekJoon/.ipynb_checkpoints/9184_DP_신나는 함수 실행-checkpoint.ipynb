{
 "cells": [
  {
   "cell_type": "markdown",
   "metadata": {},
   "source": [
    "문제\n",
    "재귀 호출만 생각하면 신이 난다! 아닌가요?\n",
    "\n",
    "다음과 같은 재귀함수 w(a, b, c)가 있다.\n",
    "\n",
    "if a <= 0 or b <= 0 or c <= 0, then w(a, b, c) returns:\n",
    "    1\n",
    "\n",
    "if a > 20 or b > 20 or c > 20, then w(a, b, c) returns:\n",
    "    w(20, 20, 20)\n",
    "\n",
    "if a < b and b < c, then w(a, b, c) returns:\n",
    "    w(a, b, c-1) + w(a, b-1, c-1) - w(a, b-1, c)\n",
    "\n",
    "otherwise it returns:\n",
    "    w(a-1, b, c) + w(a-1, b-1, c) + w(a-1, b, c-1) - w(a-1, b-1, c-1)\n",
    "위의 함수를 구현하는 것은 매우 쉽다. 하지만, 그대로 구현하면 값을 구하는데 매우 오랜 시간이 걸린다. (예를 들면, a=15, b=15, c=15)\n",
    "\n",
    "a, b, c가 주어졌을 때, w(a, b, c)를 출력하는 프로그램을 작성하시오.\n",
    "\n",
    "입력\n",
    "입력은 세 정수 a, b, c로 이루어져 있으며, 한 줄에 하나씩 주어진다. 입력의 마지막은 -1 -1 -1로 나타내며, 세 정수가 모두 -1인 경우는 입력의 마지막을 제외하면 없다.\n",
    "\n",
    "출력\n",
    "입력으로 주어진 각각의 a, b, c에 대해서, w(a, b, c)를 출력한다.\n",
    "\n",
    "제한\n",
    "-50 ≤ a, b, c ≤ 50\n",
    "예제 입력 1  복사\n",
    "1 1 1\n",
    "2 2 2\n",
    "10 4 6\n",
    "50 50 50\n",
    "-1 7 18\n",
    "-1 -1 -1\n",
    "예제 출력 1  복사\n",
    "w(1, 1, 1) = 2\n",
    "w(2, 2, 2) = 4\n",
    "w(10, 4, 6) = 523\n",
    "w(50, 50, 50) = 1048576\n",
    "w(-1, 7, 18) = 1"
   ]
  },
  {
   "cell_type": "markdown",
   "metadata": {},
   "source": [
    "# 주어진 점화식 + 메모이제이션 구성"
   ]
  },
  {
   "cell_type": "code",
   "execution_count": 3,
   "metadata": {},
   "outputs": [
    {
     "name": "stdout",
     "output_type": "stream",
     "text": [
      "1 1 1\n",
      "w(1, 1, 1) = 2\n",
      "2 2 2\n",
      "w(2, 2, 2) = 4\n",
      "10 4 6\n",
      "w(10, 4, 6) = 523\n",
      "50 50 50 \n",
      "w(50, 50, 50) = 1048576\n",
      "-1 7 18\n",
      "w(-1, 7, 18) = 1\n",
      "-1 -1 -1\n"
     ]
    }
   ],
   "source": [
    "dp = [[[0] * 25 for _ in range(25)] for __ in range(25)]\n",
    "\n",
    "def w(a, b, c):\n",
    "    if a <= 0 or b <= 0 or c <= 0:\n",
    "        return 1\n",
    "    if a > 20 or b > 20 or c > 20:\n",
    "        return w(20, 20, 20)\n",
    "    \n",
    "    if dp[a][b][c]:\n",
    "        return dp[a][b][c]\n",
    "    \n",
    "    if a < b < c:\n",
    "        dp[a][b][c] = w(a, b, c-1) + w(a, b-1, c-1) - w(a, b-1,c)\n",
    "        return dp[a][b][c]\n",
    "    dp[a][b][c] = w(a-1, b, c) + w(a-1, b-1, c) + w(a-1, b, c-1) - w(a-1, b-1, c-1)\n",
    "    \n",
    "    return dp[a][b][c]\n",
    "\n",
    "while True:\n",
    "    a, b, c = map(int, input().split())\n",
    "    if a == -1 and b == -1 and c == -1:\n",
    "        break\n",
    "    print('w(%d, %d, %d) = %d'%(a,b,c,w(a,b,c)))"
   ]
  },
  {
   "cell_type": "code",
   "execution_count": null,
   "metadata": {},
   "outputs": [],
   "source": []
  }
 ],
 "metadata": {
  "kernelspec": {
   "display_name": "Python 3",
   "language": "python",
   "name": "python3"
  },
  "language_info": {
   "codemirror_mode": {
    "name": "ipython",
    "version": 3
   },
   "file_extension": ".py",
   "mimetype": "text/x-python",
   "name": "python",
   "nbconvert_exporter": "python",
   "pygments_lexer": "ipython3",
   "version": "3.7.6"
  }
 },
 "nbformat": 4,
 "nbformat_minor": 4
}
