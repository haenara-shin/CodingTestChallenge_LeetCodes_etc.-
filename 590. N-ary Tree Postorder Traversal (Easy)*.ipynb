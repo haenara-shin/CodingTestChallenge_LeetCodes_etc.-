{
 "cells": [
  {
   "cell_type": "markdown",
   "metadata": {},
   "source": [
    "Given an n-ary tree, return the postorder traversal of its nodes' values.\n",
    "\n",
    "Nary-Tree input serialization is represented in their level order traversal, each group of children is separated by the null value (See examples).\n",
    "\n",
    " \n",
    "\n",
    "Follow up:\n",
    "\n",
    "Recursive solution is trivial, could you do it iteratively?\n",
    "\n",
    " \n",
    "\n",
    "Example 1:\n",
    "\n",
    "\n",
    "\n",
    "Input: root = [1,null,3,2,4,null,5,6]\n",
    "Output: [5,6,3,2,4,1]\n",
    "Example 2:\n",
    "\n",
    "\n",
    "\n",
    "Input: root = [1,null,2,3,4,5,null,null,6,7,null,8,null,9,10,null,null,11,null,12,null,13,null,null,14]\n",
    "Output: [2,6,14,11,7,3,12,8,4,13,9,10,5,1]\n",
    " \n",
    "\n",
    "Constraints:\n",
    "\n",
    "The height of the n-ary tree is less than or equal to 1000\n",
    "The total number of nodes is between [0, 10^4]"
   ]
  },
  {
   "cell_type": "code",
   "execution_count": null,
   "metadata": {},
   "outputs": [],
   "source": []
  },
  {
   "cell_type": "code",
   "execution_count": null,
   "metadata": {},
   "outputs": [],
   "source": [
    "# Recursion\n",
    "\"\"\"\n",
    "# Definition for a Node.\n",
    "class Node:\n",
    "    def __init__(self, val=None, children=None):\n",
    "        self.val = val\n",
    "        self.children = children\n",
    "\"\"\"\n",
    "\n",
    "class Solution:\n",
    "    def postorder(self, root: 'Node') -> List[int]:\n",
    "        res = []\n",
    "        if root == None: return res\n",
    "\n",
    "        def recursion(root, res):\n",
    "            for child in root.children:\n",
    "                recursion(child, res)\n",
    "            res.append(root.val)\n",
    "\n",
    "        recursion(root, res)\n",
    "        return res\n",
    "    \n",
    "# Iterative\n",
    "\"\"\"\n",
    "# Definition for a Node.\n",
    "class Node:\n",
    "    def __init__(self, val=None, children=None):\n",
    "        self.val = val\n",
    "        self.children = children\n",
    "\"\"\"\n",
    "\n",
    "class Solution:\n",
    "    def postorder(self, root: 'Node') -> List[int]:\n",
    "        res = []\n",
    "        if root == None: return res\n",
    "\n",
    "        stack = [root]\n",
    "        while stack:\n",
    "            curr = stack.pop()\n",
    "            res.append(curr.val)\n",
    "            stack.extend(curr.children)\n",
    "\n",
    "        return res[::-1]"
   ]
  }
 ],
 "metadata": {
  "kernelspec": {
   "display_name": "Python 3",
   "language": "python",
   "name": "python3"
  },
  "language_info": {
   "codemirror_mode": {
    "name": "ipython",
    "version": 3
   },
   "file_extension": ".py",
   "mimetype": "text/x-python",
   "name": "python",
   "nbconvert_exporter": "python",
   "pygments_lexer": "ipython3",
   "version": "3.7.6"
  }
 },
 "nbformat": 4,
 "nbformat_minor": 4
}
