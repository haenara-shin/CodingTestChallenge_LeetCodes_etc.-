{
 "cells": [
  {
   "cell_type": "markdown",
   "metadata": {},
   "source": [
    "You are given a string s of even length. Split this string into two halves of equal lengths, and let a be the first half and b be the second half.\n",
    "\n",
    "Two strings are alike if they have the same number of vowels ('a', 'e', 'i', 'o', 'u', 'A', 'E', 'I', 'O', 'U'). Notice that s contains uppercase and lowercase letters.\n",
    "\n",
    "Return true if a and b are alike. Otherwise, return false.\n",
    "\n",
    "Example 1:\n",
    "\n",
    "Input: s = \"book\"\n",
    "Output: true\n",
    "Explanation: a = \"bo\" and b = \"ok\". a has 1 vowel and b has 1 vowel. Therefore, they are alike.\n",
    "Example 2:\n",
    "\n",
    "Input: s = \"textbook\"\n",
    "Output: false\n",
    "Explanation: a = \"text\" and b = \"book\". a has 1 vowel whereas b has 2. Therefore, they are not alike.\n",
    "Notice that the vowel o is counted twice.\n",
    "Example 3:\n",
    "\n",
    "Input: s = \"MerryChristmas\"\n",
    "Output: false\n",
    "Example 4:\n",
    "\n",
    "Input: s = \"AbCdEfGh\"\n",
    "Output: true\n",
    " \n",
    "\n",
    "Constraints:\n",
    "\n",
    "2 <= s.length <= 1000\n",
    "s.length is even.\n",
    "s consists of uppercase and lowercase letters."
   ]
  },
  {
   "cell_type": "code",
   "execution_count": 10,
   "metadata": {},
   "outputs": [
    {
     "name": "stdout",
     "output_type": "stream",
     "text": [
      "8\n",
      "text book\n",
      "False\n"
     ]
    }
   ],
   "source": [
    "vowels = ('a', 'e', 'i', 'o', 'u', 'A', 'E', 'I', 'O', 'U')\n",
    "s = s = \"textbook\"\n",
    "length_s = len(s)\n",
    "print(length_s)\n",
    "former = s[:length_s//2]\n",
    "later = s[length_s//2:]\n",
    "print(former, later)\n",
    "former_count = 0\n",
    "later_count = 0\n",
    "for i in vowels:\n",
    "    former_count += former.count(i)\n",
    "    later_count += later.count(i)\n",
    "print(former_count == later_count)"
   ]
  },
  {
   "cell_type": "code",
   "execution_count": null,
   "metadata": {},
   "outputs": [],
   "source": [
    "class Solution:\n",
    "    def halvesAreAlike(self, s: str) -> bool:\n",
    "        vowels = ('a', 'e', 'i', 'o', 'u', 'A', 'E', 'I', 'O', 'U')\n",
    "        former_count = 0\n",
    "        later_count = 0\n",
    "        for i in vowels:\n",
    "            former_count += s[:len(s)//2].count(i)\n",
    "            later_count += s[len(s)//2:].count(i)\n",
    "        return former_count == later_count"
   ]
  }
 ],
 "metadata": {
  "kernelspec": {
   "display_name": "Python 3",
   "language": "python",
   "name": "python3"
  },
  "language_info": {
   "codemirror_mode": {
    "name": "ipython",
    "version": 3
   },
   "file_extension": ".py",
   "mimetype": "text/x-python",
   "name": "python",
   "nbconvert_exporter": "python",
   "pygments_lexer": "ipython3",
   "version": "3.7.6"
  }
 },
 "nbformat": 4,
 "nbformat_minor": 4
}
