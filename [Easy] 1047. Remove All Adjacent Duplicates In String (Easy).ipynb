{
 "cells": [
  {
   "cell_type": "markdown",
   "metadata": {},
   "source": [
    "Given a string S of lowercase letters, a duplicate removal consists of choosing two adjacent and equal letters, and removing them.\n",
    "\n",
    "We repeatedly make duplicate removals on S until we no longer can.\n",
    "\n",
    "Return the final string after all such duplicate removals have been made.  It is guaranteed the answer is unique.\n",
    "\n",
    " \n",
    "\n",
    "Example 1:\n",
    "\n",
    "Input: \"abbaca\"\n",
    "Output: \"ca\"\n",
    "Explanation: \n",
    "For example, in \"abbaca\" we could remove \"bb\" since the letters are adjacent and equal, and this is the only possible move.  The result of this move is that the string is \"aaca\", of which only \"aa\" is possible, so the final string is \"ca\".\n",
    " \n",
    "\n",
    "Note:\n",
    "\n",
    "1 <= S.length <= 20000\n",
    "S consists only of English lowercase letters."
   ]
  },
  {
   "cell_type": "code",
   "execution_count": 47,
   "metadata": {},
   "outputs": [
    {
     "name": "stdout",
     "output_type": "stream",
     "text": [
      "3 []\n",
      "4 ['a']\n",
      "1 ['a']\n",
      "2 []\n",
      "3 []\n",
      "4 ['b']\n",
      "3 ['b']\n",
      "4 ['b', 'a']\n",
      "3 ['b', 'a']\n",
      "4 ['b', 'a', 'b']\n",
      "3 ['b', 'a', 'b']\n",
      "4 ['b', 'a', 'b', 'a']\n",
      "1 ['b', 'a', 'b', 'a']\n",
      "2 ['b', 'a', 'b']\n",
      "1 ['b', 'a', 'b']\n",
      "2 ['b', 'a']\n"
     ]
    },
    {
     "data": {
      "text/plain": [
       "'ba'"
      ]
     },
     "execution_count": 47,
     "metadata": {},
     "output_type": "execute_result"
    }
   ],
   "source": [
    "a  = 'aababaab'\n",
    "res = []\n",
    "for i in a:\n",
    "    if res and res[-1] == i:\n",
    "        print(1, res)\n",
    "        res.pop()\n",
    "        print(2, res)\n",
    "    else:\n",
    "        print(3, res)\n",
    "        res.append(i)\n",
    "        print(4, res)\n",
    "''.join(res)"
   ]
  },
  {
   "cell_type": "code",
   "execution_count": null,
   "metadata": {},
   "outputs": [],
   "source": [
    "class Solution:\n",
    "    def removeDuplicates(self, S: str) -> str:\n",
    "        res = []\n",
    "        for c in S:\n",
    "            if res and res[-1] == c:\n",
    "                res.pop()\n",
    "            else:\n",
    "                res.append(c)\n",
    "        return \"\".join(res)"
   ]
  },
  {
   "cell_type": "code",
   "execution_count": null,
   "metadata": {},
   "outputs": [],
   "source": [
    "class Solution:\n",
    "    def removeDuplicates(self, S: str) -> str:\n",
    "        return reduce(lambda s, c: s[:-1] if s[-1:] == c else s + c, S)"
   ]
  },
  {
   "cell_type": "code",
   "execution_count": null,
   "metadata": {},
   "outputs": [],
   "source": [
    "class Solution:\n",
    "    def removeDuplicates(self, S: str) -> str:\n",
    "        \n",
    "        res = []\n",
    "        for i in S:\n",
    "            if res and res[-1] == i:\n",
    "                res.pop()\n",
    "            else:\n",
    "                res.append(i)\n",
    "        return ''.join(res)"
   ]
  },
  {
   "cell_type": "code",
   "execution_count": null,
   "metadata": {},
   "outputs": [],
   "source": [
    "class Solution:\n",
    "    def removeDuplicates(self, S: str) -> str:\n",
    "        s = list(S)\n",
    "        res = [None] * len(s)\n",
    "        for i in s:\n",
    "            if i == res[-1]:\n",
    "                res.pop()\n",
    "                res.remove(None)\n",
    "            else:\n",
    "                res.remove(None)\n",
    "                res.append(i)\n",
    "        return ''.join(res)"
   ]
  }
 ],
 "metadata": {
  "kernelspec": {
   "display_name": "Python 3",
   "language": "python",
   "name": "python3"
  },
  "language_info": {
   "codemirror_mode": {
    "name": "ipython",
    "version": 3
   },
   "file_extension": ".py",
   "mimetype": "text/x-python",
   "name": "python",
   "nbconvert_exporter": "python",
   "pygments_lexer": "ipython3",
   "version": "3.7.6"
  }
 },
 "nbformat": 4,
 "nbformat_minor": 4
}
