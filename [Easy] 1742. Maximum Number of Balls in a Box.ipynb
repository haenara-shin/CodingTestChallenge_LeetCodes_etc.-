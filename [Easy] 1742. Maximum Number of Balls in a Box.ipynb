{
 "cells": [
  {
   "cell_type": "markdown",
   "metadata": {},
   "source": [
    "You are working in a ball factory where you have n balls numbered from lowLimit up to highLimit inclusive (i.e., n == highLimit - lowLimit + 1), and an infinite number of boxes numbered from 1 to infinity.\n",
    "\n",
    "Your job at this factory is to put each ball in the box with a number equal to the sum of digits of the ball's number. For example, the ball number 321 will be put in the box number 3 + 2 + 1 = 6 and the ball number 10 will be put in the box number 1 + 0 = 1.\n",
    "\n",
    "Given two integers lowLimit and highLimit, return the number of balls in the box with the most balls.\n",
    "\n",
    " \n",
    "\n",
    "Example 1:\n",
    "\n",
    "Input: lowLimit = 1, highLimit = 10\n",
    "Output: 2\n",
    "Explanation:\n",
    "Box Number:  1 2 3 4 5 6 7 8 9 10 11 ...\n",
    "Ball Count:  2 1 1 1 1 1 1 1 1 0  0  ...\n",
    "Box 1 has the most number of balls with 2 balls.\n",
    "Example 2:\n",
    "\n",
    "Input: lowLimit = 5, highLimit = 15\n",
    "Output: 2\n",
    "Explanation:\n",
    "Box Number:  1 2 3 4 5 6 7 8 9 10 11 ...\n",
    "Ball Count:  1 1 1 1 2 2 1 1 1 0  0  ...\n",
    "Boxes 5 and 6 have the most number of balls with 2 balls in each.\n",
    "Example 3:\n",
    "\n",
    "Input: lowLimit = 19, highLimit = 28\n",
    "Output: 2\n",
    "Explanation:\n",
    "Box Number:  1 2 3 4 5 6 7 8 9 10 11 12 ...\n",
    "Ball Count:  0 1 1 1 1 1 1 1 1 2  0  0  ...\n",
    "Box 10 has the most number of balls with 2 balls.\n",
    " \n",
    "\n",
    "Constraints:\n",
    "\n",
    "1 <= lowLimit <= highLimit <= 105"
   ]
  },
  {
   "cell_type": "code",
   "execution_count": null,
   "metadata": {},
   "outputs": [],
   "source": [
    "class Solution:\n",
    "    def countBalls(self, lowLimit: int, highLimit: int) -> int:\n",
    "        return max(Counter(sum(map(int, str(n))) for n in range(lowLimit, highLimit+1)).values())"
   ]
  },
  {
   "cell_type": "code",
   "execution_count": null,
   "metadata": {},
   "outputs": [],
   "source": [
    "class Solution:\n",
    "    def countBalls(self, lowLimit: int, highLimit: int) -> int:\n",
    "        store = []\n",
    "        for i in range(lowLimit, highLimit+1):\n",
    "            temp = 0\n",
    "            for j in str(i):\n",
    "                temp += int(j)\n",
    "            store.append(temp)\n",
    "        from collections import Counter\n",
    "        return Counter(store).most_common()[0][1]"
   ]
  },
  {
   "cell_type": "code",
   "execution_count": null,
   "metadata": {},
   "outputs": [],
   "source": [
    "class Solution:\n",
    "    def countBalls(self, lowLimit: int, highLimit: int) -> int:\n",
    "        d = {}\n",
    "        for i in range(lowLimit, highLimit+1):\n",
    "            s = sum(list(map(int, list(str(i)))))\n",
    "            if s in d.keys():\n",
    "                d[s] += 1\n",
    "            else:\n",
    "                d[s] = 1\n",
    "            \n",
    "        return max(d.values())"
   ]
  }
 ],
 "metadata": {
  "kernelspec": {
   "display_name": "Python 3",
   "language": "python",
   "name": "python3"
  },
  "language_info": {
   "codemirror_mode": {
    "name": "ipython",
    "version": 3
   },
   "file_extension": ".py",
   "mimetype": "text/x-python",
   "name": "python",
   "nbconvert_exporter": "python",
   "pygments_lexer": "ipython3",
   "version": "3.7.6"
  }
 },
 "nbformat": 4,
 "nbformat_minor": 4
}
