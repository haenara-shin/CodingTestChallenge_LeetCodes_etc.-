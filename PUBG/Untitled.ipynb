{
 "cells": [
  {
   "cell_type": "code",
   "execution_count": 21,
   "metadata": {},
   "outputs": [
    {
     "data": {
      "text/plain": [
       "(2, 3)"
      ]
     },
     "execution_count": 21,
     "metadata": {},
     "output_type": "execute_result"
    }
   ],
   "source": [
    "import numpy as np\n",
    "\n",
    "arr = np.array([[1,2,3],[4,5,6]])\n",
    "arr.shape"
   ]
  },
  {
   "cell_type": "code",
   "execution_count": 25,
   "metadata": {},
   "outputs": [
    {
     "name": "stdout",
     "output_type": "stream",
     "text": [
      "[ 6 15]\n",
      "51.371309831901485\n",
      "29.025055049142615\n",
      "51.371309831901485\n",
      "[5 7 9]\n",
      "41.44358180158367\n"
     ]
    },
    {
     "data": {
      "text/plain": [
       "-63.78983658434254"
      ]
     },
     "execution_count": 25,
     "metadata": {},
     "output_type": "execute_result"
    }
   ],
   "source": [
    "sum_0 = 0\n",
    "for i in range(arr.shape[0]):\n",
    "    for j in range(arr.shape[1]):\n",
    "        sum_0 += arr[i][j] * np.log(arr[i][j])\n",
    "        \n",
    "sum_1 = np.sum(arr, axis=1)\n",
    "print(sum_1)\n",
    "sum_1_1 = np.sum(np.where(sum_1 != 0, sum_1*np.log(sum_1), 0), axis=0)\n",
    "print(sum_1_1)\n",
    "\n",
    "print(sum_0)\n",
    "print(sum_1_1)\n",
    "\n",
    "sum_2 = np.sum(arr, axis=0)\n",
    "\n",
    "print(sum_2)\n",
    "sum_2_2 = np.sum(np.where(sum_2 != 0, sum_2*np.log(sum_2), 0))\n",
    "print(sum_2_2)\n",
    "\n",
    "\n",
    "sum_0 - sum_1_1 - sum_2_2"
   ]
  },
  {
   "cell_type": "code",
   "execution_count": 42,
   "metadata": {},
   "outputs": [
    {
     "name": "stdout",
     "output_type": "stream",
     "text": [
      "29.025055049142615\n",
      "[ 6 15]\n",
      "51.371309831901485\n"
     ]
    },
    {
     "data": {
      "text/plain": [
       "-63.78983658434254"
      ]
     },
     "execution_count": 42,
     "metadata": {},
     "output_type": "execute_result"
    }
   ],
   "source": [
    "arr = np.array([[1,2,3,],[4,5,6]])\n",
    "sum_0 = 0\n",
    "# for i in range(arr.shape[0]):\n",
    "#     for j in range(arr.shape[1]):\n",
    "#         sum_0 += arr[i][j] * np.log(arr[i][j], where= (arr[i][j] !=0))\n",
    "\n",
    "sum_0 = np.sum(arr*np.log(arr, where=(arr != 0)))\n",
    "print(sum_0)\n",
    "sum_1 = np.sum(arr, axis=1) # pi\n",
    "print(sum_1)\n",
    "sum_1_1 = np.sum(sum_1*np.log(sum_1, where=(sum_1 !=0)), axis=0)\n",
    "print(sum_1_1)\n",
    "sum_2 = np.sum(arr, axis=0) # pj\n",
    "sum_2_2 = np.sum(sum_2*np.log(sum_2, where = (sum_2 != 0)))\n",
    "\n",
    "sum_0 - sum_1_1 - sum_2_2"
   ]
  },
  {
   "cell_type": "code",
   "execution_count": null,
   "metadata": {},
   "outputs": [],
   "source": []
  }
 ],
 "metadata": {
  "kernelspec": {
   "display_name": "Python 3",
   "language": "python",
   "name": "python3"
  },
  "language_info": {
   "codemirror_mode": {
    "name": "ipython",
    "version": 3
   },
   "file_extension": ".py",
   "mimetype": "text/x-python",
   "name": "python",
   "nbconvert_exporter": "python",
   "pygments_lexer": "ipython3",
   "version": "3.7.6"
  }
 },
 "nbformat": 4,
 "nbformat_minor": 4
}
