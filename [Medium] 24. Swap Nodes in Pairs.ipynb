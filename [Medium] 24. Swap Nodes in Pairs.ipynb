{
 "cells": [
  {
   "cell_type": "markdown",
   "metadata": {},
   "source": [
    "Given a linked list, swap every two adjacent nodes and return its head.\n",
    "\n",
    " \n",
    "\n",
    "Example 1:\n",
    "\n",
    "\n",
    "Input: head = [1,2,3,4]\n",
    "Output: [2,1,4,3]\n",
    "Example 2:\n",
    "\n",
    "Input: head = []\n",
    "Output: []\n",
    "Example 3:\n",
    "\n",
    "Input: head = [1]\n",
    "Output: [1]\n",
    " \n",
    "\n",
    "Constraints:\n",
    "\n",
    "The number of nodes in the list is in the range [0, 100].\n",
    "0 <= Node.val <= 100\n",
    " \n",
    "\n",
    "Follow up: Can you solve the problem without modifying the values in the list's nodes? (i.e., Only nodes themselves may be changed.)"
   ]
  },
  {
   "cell_type": "code",
   "execution_count": null,
   "metadata": {},
   "outputs": [],
   "source": [
    "# recursively\n",
    "\n",
    "# Definition for singly-linked list.\n",
    "# class ListNode:\n",
    "#     def __init__(self, val=0, next=None):\n",
    "#         self.val = val\n",
    "#         self.next = next\n",
    "class Solution:\n",
    "    def swapPairs(self, head: ListNode) -> ListNode:\n",
    "        if head and head.next:\n",
    "            p = head.next\n",
    "            \n",
    "            head.next = self.swapPairs(p.next)\n",
    "            p.next = head\n",
    "            return p\n",
    "        return head"
   ]
  },
  {
   "cell_type": "code",
   "execution_count": null,
   "metadata": {},
   "outputs": [],
   "source": [
    "# iteratively\n",
    "\n",
    "# Definition for singly-linked list.\n",
    "# class ListNode:\n",
    "#     def __init__(self, val=0, next=None):\n",
    "#         self.val = val\n",
    "#         self.next = next\n",
    "class Solution:\n",
    "    def swapPairs(self, head: ListNode) -> ListNode:\n",
    "        root = prev = ListNode(None)\n",
    "        prev.next = head\n",
    "        while head and head.next:\n",
    "            b = head.next\n",
    "            head.next = b.next\n",
    "            b.next = head\n",
    "            \n",
    "            prev.next = b\n",
    "            \n",
    "            head = head.next\n",
    "            prev = prev.next.next\n",
    "            \n",
    "        return root.next"
   ]
  },
  {
   "cell_type": "code",
   "execution_count": null,
   "metadata": {},
   "outputs": [],
   "source": [
    "# Only swap the value\n",
    "\n",
    "# Definition for singly-linked list.\n",
    "# class ListNode:\n",
    "#     def __init__(self, val=0, next=None):\n",
    "#         self.val = val\n",
    "#         self.next = next\n",
    "class Solution:\n",
    "    def swapPairs(self, head: ListNode) -> ListNode:\n",
    "        cur = head\n",
    "        \n",
    "        while cur and cur.next:\n",
    "            cur.val, cur.next.val = cur.next.val, cur.val\n",
    "            cur = cur.next.next\n",
    "        return head"
   ]
  }
 ],
 "metadata": {
  "kernelspec": {
   "display_name": "Python 3",
   "language": "python",
   "name": "python3"
  },
  "language_info": {
   "codemirror_mode": {
    "name": "ipython",
    "version": 3
   },
   "file_extension": ".py",
   "mimetype": "text/x-python",
   "name": "python",
   "nbconvert_exporter": "python",
   "pygments_lexer": "ipython3",
   "version": "3.7.6"
  }
 },
 "nbformat": 4,
 "nbformat_minor": 4
}
