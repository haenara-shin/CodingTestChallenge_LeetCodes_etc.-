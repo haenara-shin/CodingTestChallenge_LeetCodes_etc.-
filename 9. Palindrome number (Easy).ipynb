{
 "cells": [
  {
   "cell_type": "markdown",
   "metadata": {},
   "source": [
    "Determine whether an integer is a palindrome. An integer is a palindrome when it reads the same backward as forward.\n",
    "\n",
    "Example 1:\n",
    "\n",
    "Input: 121\n",
    "Output: true\n",
    "Example 2:\n",
    "\n",
    "Input: -121\n",
    "Output: false\n",
    "Explanation: From left to right, it reads -121. From right to left, it becomes 121-. Therefore it is not a palindrome.\n",
    "Example 3:\n",
    "\n",
    "Input: 10\n",
    "Output: false\n",
    "Explanation: Reads 01 from right to left. Therefore it is not a palindrome."
   ]
  },
  {
   "cell_type": "code",
   "execution_count": 1,
   "metadata": {},
   "outputs": [],
   "source": [
    "def isPalindrome(x):\n",
    "    if x < 0:\n",
    "        return False\n",
    "    else:\n",
    "        x_str = str(x)\n",
    "        x_empty = ''\n",
    "        for i in range(1, len(x_str)+1):\n",
    "            x_empty += x_str[-i]\n",
    "        if x_empty == x_str:\n",
    "            return True\n",
    "        else:\n",
    "            return False"
   ]
  },
  {
   "cell_type": "code",
   "execution_count": 2,
   "metadata": {},
   "outputs": [],
   "source": [
    "# Coud you solve it without converting the integer to a string?\n",
    "import math\n",
    "class Solution:\n",
    "    def isPalindrome(self, x: int) -> bool:\n",
    "        origin_num = x\n",
    "        back_counting_num = 0\n",
    "        while x > 0:\n",
    "            back_counting_num = (back_counting_num * 10) + (x % 10)\n",
    "            x = x // 10\n",
    "        return origin_num == back_counting_num"
   ]
  }
 ],
 "metadata": {
  "kernelspec": {
   "display_name": "Python 3",
   "language": "python",
   "name": "python3"
  },
  "language_info": {
   "codemirror_mode": {
    "name": "ipython",
    "version": 3
   },
   "file_extension": ".py",
   "mimetype": "text/x-python",
   "name": "python",
   "nbconvert_exporter": "python",
   "pygments_lexer": "ipython3",
   "version": "3.7.6"
  }
 },
 "nbformat": 4,
 "nbformat_minor": 4
}
