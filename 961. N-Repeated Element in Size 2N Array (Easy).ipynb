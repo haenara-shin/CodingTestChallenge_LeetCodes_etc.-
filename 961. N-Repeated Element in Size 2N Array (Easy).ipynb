{
 "cells": [
  {
   "cell_type": "markdown",
   "metadata": {},
   "source": [
    "In a array A of size 2N, there are N+1 unique elements, and exactly one of these elements is repeated N times.\n",
    "\n",
    "Return the element repeated N times.\n",
    "\n",
    " \n",
    "\n",
    "Example 1:\n",
    "\n",
    "Input: [1,2,3,3]\n",
    "Output: 3\n",
    "Example 2:\n",
    "\n",
    "Input: [2,1,2,5,3,2]\n",
    "Output: 2\n",
    "Example 3:\n",
    "\n",
    "Input: [5,1,5,2,5,3,5,4]\n",
    "Output: 5\n",
    " \n",
    "\n",
    "Note:\n",
    "\n",
    "4 <= A.length <= 10000\n",
    "0 <= A[i] < 10000\n",
    "A.length is even"
   ]
  },
  {
   "cell_type": "code",
   "execution_count": null,
   "metadata": {},
   "outputs": [],
   "source": [
    "class Solution:\n",
    "    def repeatedNTimes(self, A: List[int]) -> int:\n",
    "        \"\"\"\n",
    "        :type A: List[int]\n",
    "        :rtype: int\n",
    "        \"\"\"\n",
    "        return int((sum(A)-sum(set(A))) // (len(A)//2-1))"
   ]
  },
  {
   "cell_type": "code",
   "execution_count": null,
   "metadata": {},
   "outputs": [],
   "source": [
    "class Solution:\n",
    "    def repeatedNTimes(self, A: List[int]) -> int:\n",
    "        \n",
    "        for i in A:\n",
    "            if A.count(i) == len(A) / 2:\n",
    "                return i"
   ]
  },
  {
   "cell_type": "code",
   "execution_count": null,
   "metadata": {},
   "outputs": [],
   "source": [
    "class Solution:\n",
    "    def repeatedNTimes(self, A: List[int]) -> int:\n",
    "        N = len(A) / 2\n",
    "        for i in A:\n",
    "            if A.count(i) == N:\n",
    "                return i"
   ]
  },
  {
   "cell_type": "code",
   "execution_count": null,
   "metadata": {},
   "outputs": [],
   "source": [
    "class Solution:\n",
    "    def repeatedNTimes(self, A: List[int]) -> int:\n",
    "        \n",
    "        from collections import Counter\n",
    "        for k, v in Counter(A).items():\n",
    "            if v == len(A) / 2:\n",
    "                return k"
   ]
  },
  {
   "cell_type": "code",
   "execution_count": null,
   "metadata": {},
   "outputs": [],
   "source": [
    "class Solution:\n",
    "    def repeatedNTimes(self, A: List[int]) -> int:\n",
    "        N = len(A) / 2\n",
    "        from collections import Counter\n",
    "        for k, v in Counter(A).items():\n",
    "            if v == N:\n",
    "                return k"
   ]
  }
 ],
 "metadata": {
  "kernelspec": {
   "display_name": "Python 3",
   "language": "python",
   "name": "python3"
  },
  "language_info": {
   "codemirror_mode": {
    "name": "ipython",
    "version": 3
   },
   "file_extension": ".py",
   "mimetype": "text/x-python",
   "name": "python",
   "nbconvert_exporter": "python",
   "pygments_lexer": "ipython3",
   "version": "3.7.6"
  }
 },
 "nbformat": 4,
 "nbformat_minor": 4
}
