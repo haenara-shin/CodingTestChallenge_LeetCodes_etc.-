{
 "cells": [
  {
   "cell_type": "markdown",
   "metadata": {},
   "source": [
    "Given a string s and a character c that occurs in s, return an array of integers answer where answer.length == s.length and answer[i] is the distance from index i to the closest occurrence of character c in s.\n",
    "\n",
    "The distance between two indices i and j is abs(i - j), where abs is the absolute value function.\n",
    "\n",
    " \n",
    "\n",
    "Example 1:\n",
    "\n",
    "Input: s = \"loveleetcode\", c = \"e\"\n",
    "Output: [3,2,1,0,1,0,0,1,2,2,1,0]\n",
    "Explanation: The character 'e' appears at indices 3, 5, 6, and 11 (0-indexed).\n",
    "The closest occurrence of 'e' for index 0 is at index 3, so the distance is abs(0 - 3) = 3.\n",
    "The closest occurrence of 'e' for index 1 is at index 3, so the distance is abs(1 - 3) = 3.\n",
    "For index 4, there is a tie between the 'e' at index 3 and the 'e' at index 5, but the distance is still the same: abs(4 - 3) == abs(4 - 5) = 1.\n",
    "The closest occurrence of 'e' for index 8 is at index 6, so the distance is abs(8 - 6) = 2.\n",
    "Example 2:\n",
    "\n",
    "Input: s = \"aaab\", c = \"b\"\n",
    "Output: [3,2,1,0]\n",
    " \n",
    "\n",
    "Constraints:\n",
    "\n",
    "1 <= s.length <= 104\n",
    "s[i] and c are lowercase English letters.\n",
    "It is guaranteed that c occurs at least once in s."
   ]
  },
  {
   "cell_type": "code",
   "execution_count": 11,
   "metadata": {},
   "outputs": [
    {
     "data": {
      "text/plain": [
       "[3, 2, 1, 0, 1, 0, 0, 1, 2, 2, 1, 0]"
      ]
     },
     "execution_count": 11,
     "metadata": {},
     "output_type": "execute_result"
    }
   ],
   "source": [
    "s = \"loveleetcode\"\n",
    "c = \"e\"\n",
    "\n",
    "output = []\n",
    "pivot_idx = []\n",
    "idx_list = []\n",
    "for idx, char in enumerate(s):\n",
    "    if char == c:\n",
    "        pivot_idx.append(idx)\n",
    "    idx_list.append(idx)\n",
    "\n",
    "result = []\n",
    "for i in idx_list:\n",
    "    temp = []\n",
    "    for j in pivot_idx:\n",
    "        temp.append(abs(i-j))\n",
    "    result.append(min(temp))\n",
    "result"
   ]
  },
  {
   "cell_type": "code",
   "execution_count": null,
   "metadata": {},
   "outputs": [],
   "source": []
  },
  {
   "cell_type": "code",
   "execution_count": 12,
   "metadata": {},
   "outputs": [
    {
     "name": "stdout",
     "output_type": "stream",
     "text": [
      "loveleetcode e\n",
      "[1, 1, 1, 0, 1, 0, 0, 1, 1, 1, 1, 0]\n"
     ]
    },
    {
     "data": {
      "text/plain": [
       "[3, 2, 1, 0, 1, 0, 0, 1, 2, 2, 1, 0]"
      ]
     },
     "execution_count": 12,
     "metadata": {},
     "output_type": "execute_result"
    }
   ],
   "source": [
    "class Solution:\n",
    "    def shortestToChar(self, s: str, c: str) -> List[int]:\n",
    "        \n",
    "        print(s, c)\n",
    "        idxs  = []\n",
    "    \n",
    "        for i in range(len(s)):\n",
    "            if s[i] == c:\n",
    "                idxs.append(i)\n",
    "                \n",
    "        distances = [1]*len(s)\n",
    "        for i in idxs:\n",
    "            distances[i] = 0\n",
    "        \n",
    "        print(distances)\n",
    "        \n",
    "        left = idxs[0]\n",
    "        right = idxs[0]\n",
    "        \n",
    "        for i in range(len(distances)):\n",
    "            \n",
    "            if i > right:\n",
    "                left = right\n",
    "                idxs = idxs[1:]\n",
    "                \n",
    "                if len(idxs) > 0:\n",
    "                    right = idxs[0]\n",
    "                \n",
    "            \n",
    "            distances[i] = min(abs(left-i), abs(right-i))\n",
    "        \n",
    "        return distances"
   ]
  },
  {
   "cell_type": "code",
   "execution_count": null,
   "metadata": {},
   "outputs": [],
   "source": [
    "class Solution:\n",
    "    def shortestToChar(self, S, C):\n",
    "        def letter_get(letter, dr):\n",
    "            n = len(S)\n",
    "            res, cur = [0]*n, -n\n",
    "            for i in range(n)[::dr]:\n",
    "                if S[i] == letter: cur = i\n",
    "                res[i] = abs(i - cur)\n",
    "            return res\n",
    "        \n",
    "        return [min(x,y) for x,y in zip(letter_get(C, 1), letter_get(C, -1))]"
   ]
  },
  {
   "cell_type": "code",
   "execution_count": null,
   "metadata": {},
   "outputs": [],
   "source": [
    "class Solution:\n",
    "    def shortestToChar(self, s: str, c: str) -> List[int]:\n",
    "        presentIndexes = [ i for i, val in enumerate(s) if val == c ]\n",
    "        return [min(abs(i - x) for x in presentIndexes) for i in range(0, len(s))]"
   ]
  },
  {
   "cell_type": "code",
   "execution_count": null,
   "metadata": {},
   "outputs": [],
   "source": [
    "class Solution:\n",
    "    def shortestToChar(self, s: str, c: str) -> List[int]:\n",
    "        output = []\n",
    "        pivot_idx = []\n",
    "        idx_list = []\n",
    "        for idx, char in enumerate(s):\n",
    "            if char == 'e':\n",
    "                pivot_idx.append(idx)\n",
    "            idx_list.append(idx)\n",
    "        result = []\n",
    "        for i in idx_list:\n",
    "            temp = []\n",
    "            for j in pivot_idx:\n",
    "                temp.append(abs(i-j))\n",
    "            result.append(min(temp))\n",
    "        return result"
   ]
  }
 ],
 "metadata": {
  "kernelspec": {
   "display_name": "Python 3",
   "language": "python",
   "name": "python3"
  },
  "language_info": {
   "codemirror_mode": {
    "name": "ipython",
    "version": 3
   },
   "file_extension": ".py",
   "mimetype": "text/x-python",
   "name": "python",
   "nbconvert_exporter": "python",
   "pygments_lexer": "ipython3",
   "version": "3.7.6"
  }
 },
 "nbformat": 4,
 "nbformat_minor": 4
}
