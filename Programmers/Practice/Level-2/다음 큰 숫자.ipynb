{
 "cells": [
  {
   "cell_type": "markdown",
   "metadata": {},
   "source": [
    "자연수 n이 주어졌을 때, n의 다음 큰 숫자는 다음과 같이 정의 합니다.\n",
    "조건 1. n의 다음 큰 숫자는 n보다 큰 자연수 입니다.\n",
    "조건 2. n의 다음 큰 숫자와 n은 2진수로 변환했을 때 1의 갯수가 같습니다.\n",
    "조건 3. n의 다음 큰 숫자는 조건 1, 2를 만족하는 수 중 가장 작은 수 입니다.\n",
    "예를 들어서 78(1001110)의 다음 큰 숫자는 83(1010011)입니다.\n",
    "자연수 n이 매개변수로 주어질 때, n의 다음 큰 숫자를 return 하는 solution 함수를 완성해주세요.\n",
    "제한 사항\n",
    "n은 1,000,000 이하의 자연수 입니다.\n",
    "입출력 예\n",
    "n\tresult\n",
    "78\t83\n",
    "15\t23\n",
    "입출력 예 설명\n",
    "입출력 예#1\n",
    "문제 예시와 같습니다.\n",
    "입출력 예#2\n",
    "15(1111)의 다음 큰 숫자는 23(10111)입니다."
   ]
  },
  {
   "cell_type": "code",
   "execution_count": 8,
   "metadata": {},
   "outputs": [
    {
     "name": "stdout",
     "output_type": "stream",
     "text": [
      "1001110\n"
     ]
    }
   ],
   "source": [
    "a = 78\n",
    "a_bin = bin(a)[2:]\n",
    "count_a = a_bin.count('1')\n",
    "print(int(bin(a)[2:]))"
   ]
  },
  {
   "cell_type": "code",
   "execution_count": 9,
   "metadata": {},
   "outputs": [
    {
     "name": "stdout",
     "output_type": "stream",
     "text": [
      "83\n"
     ]
    }
   ],
   "source": [
    "i = 1\n",
    "\n",
    "b = a + 1\n",
    "b_bin = bin(b)[2:]\n",
    "count_b = b_bin.count('1')\n",
    "\n",
    "while count_a != count_b:\n",
    "    b += i\n",
    "    b_bin = bin(b)[2:]\n",
    "    count_b = b_bin.count('1')\n",
    "print(b)"
   ]
  },
  {
   "cell_type": "code",
   "execution_count": null,
   "metadata": {},
   "outputs": [],
   "source": [
    "def solution(n):\n",
    "    n_bin = bin(n)[2:]\n",
    "    count_n = n_bin.count('1')\n",
    "    \n",
    "    i = 1\n",
    "    answer = n + 1\n",
    "    answer_bin = bin(answer)[2:]\n",
    "    count_answer = answer_bin.count('1')\n",
    "    \n",
    "    while count_n != count_answer:\n",
    "        answer += i\n",
    "        answer_bin = bin(answer)[2:]\n",
    "        count_answer = answer_bin.count('1')\n",
    "    return answer"
   ]
  }
 ],
 "metadata": {
  "kernelspec": {
   "display_name": "Python 3",
   "language": "python",
   "name": "python3"
  },
  "language_info": {
   "codemirror_mode": {
    "name": "ipython",
    "version": 3
   },
   "file_extension": ".py",
   "mimetype": "text/x-python",
   "name": "python",
   "nbconvert_exporter": "python",
   "pygments_lexer": "ipython3",
   "version": "3.7.6"
  }
 },
 "nbformat": 4,
 "nbformat_minor": 4
}
