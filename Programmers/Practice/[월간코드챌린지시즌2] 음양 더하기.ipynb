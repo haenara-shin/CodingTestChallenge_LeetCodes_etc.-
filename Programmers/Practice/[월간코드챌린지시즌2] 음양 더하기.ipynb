{
 "cells": [
  {
   "cell_type": "markdown",
   "metadata": {},
   "source": [
    "어떤 정수들이 있습니다. 이 정수들의 절댓값을 차례대로 담은 정수 배열 absolutes와 이 정수들의 부호를 차례대로 담은 불리언 배열 signs가 매개변수로 주어집니다. 실제 정수들의 합을 구하여 return 하도록 solution 함수를 완성해주세요.\n",
    "제한사항\n",
    "absolutes의 길이는 1 이상 1,000 이하입니다.\n",
    "absolutes의 모든 수는 각각 1 이상 1,000 이하입니다.\n",
    "signs의 길이는 absolutes의 길이와 같습니다.\n",
    "signs[i] 가 참이면 absolutes[i] 의 실제 정수가 양수임을, 그렇지 않으면 음수임을 의미합니다.\n",
    "입출력 예\n",
    "absolutes\tsigns\tresult\n",
    "[4,7,12]\t[true,false,true]\t9\n",
    "[1,2,3]\t[false,false,true]\t0\n",
    "입출력 예 설명\n",
    "입출력 예 #1\n",
    "signs가 [true,false,true] 이므로, 실제 수들의 값은 각각 4, -7, 12입니다.\n",
    "따라서 세 수의 합인 9를 return 해야 합니다.\n",
    "입출력 예 #2\n",
    "signs가 [false,false,true] 이므로, 실제 수들의 값은 각각 -1, -2, 3입니다.\n",
    "따라서 세 수의 합인 0을 return 해야 합니다."
   ]
  },
  {
   "cell_type": "code",
   "execution_count": 2,
   "metadata": {},
   "outputs": [
    {
     "data": {
      "text/plain": [
       "0"
      ]
     },
     "execution_count": 2,
     "metadata": {},
     "output_type": "execute_result"
    }
   ],
   "source": [
    "def solution(absolutes, signs):\n",
    "    sum_ = 0\n",
    "    for a, s in zip(absolutes, signs):\n",
    "        if s == False:\n",
    "            a = a * (-1)\n",
    "        sum_ += a\n",
    "    return sum_"
   ]
  }
 ],
 "metadata": {
  "kernelspec": {
   "display_name": "Python 3",
   "language": "python",
   "name": "python3"
  },
  "language_info": {
   "codemirror_mode": {
    "name": "ipython",
    "version": 3
   },
   "file_extension": ".py",
   "mimetype": "text/x-python",
   "name": "python",
   "nbconvert_exporter": "python",
   "pygments_lexer": "ipython3",
   "version": "3.7.6"
  }
 },
 "nbformat": 4,
 "nbformat_minor": 4
}
