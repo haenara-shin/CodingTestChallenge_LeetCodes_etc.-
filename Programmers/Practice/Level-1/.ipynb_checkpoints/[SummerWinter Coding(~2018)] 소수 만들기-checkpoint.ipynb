{
 "cells": [
  {
   "cell_type": "markdown",
   "metadata": {},
   "source": [
    "주어진 숫자 중 3개의 수를 더했을 때 소수가 되는 경우의 개수를 구하려고 합니다. 숫자들이 들어있는 배열 nums가 매개변수로 주어질 때, nums에 있는 숫자들 중 서로 다른 3개를 골라 더했을 때 소수가 되는 경우의 개수를 return 하도록 solution 함수를 완성해주세요.\n",
    "제한사항\n",
    "nums에 들어있는 숫자의 개수는 3개 이상 50개 이하입니다.\n",
    "nums의 각 원소는 1 이상 1,000 이하의 자연수이며, 중복된 숫자가 들어있지 않습니다.\n",
    "입출력 예\n",
    "nums\tresult\n",
    "[1,2,3,4]\t1\n",
    "[1,2,7,6,4]\t4\n",
    "입출력 예 설명\n",
    "입출력 예 #1\n",
    "[1,2,4]를 이용해서 7을 만들 수 있습니다.\n",
    "입출력 예 #2\n",
    "[1,2,4]를 이용해서 7을 만들 수 있습니다.\n",
    "[1,4,6]을 이용해서 11을 만들 수 있습니다.\n",
    "[2,4,7]을 이용해서 13을 만들 수 있습니다.\n",
    "[4,6,7]을 이용해서 17을 만들 수 있습니다."
   ]
  },
  {
   "cell_type": "code",
   "execution_count": null,
   "metadata": {},
   "outputs": [],
   "source": [
    "import math\n",
    "\n",
    "# 제곱근까지만 보고 소수를 판별하는 함수\n",
    "def is_prime_number(x):\n",
    "    # 2부터 x의 제곱근까지의 모든 수를 확인하며\n",
    "    for i in range(2, int(math.sqrt(x))+1):\n",
    "    # x가 해당 수로 나누어 떨어진다면\n",
    "        if x % i == 0:\n",
    "            return False\n",
    "    return True\n",
    "\n",
    "def solution(nums):\n",
    "    answer = 0\n",
    "    from itertools import combinations\n",
    "    test_case = list(combinations(nums, 3))\n",
    "    \n",
    "    for i in test_case:\n",
    "        if is_prime_number(sum(i)):\n",
    "            answer += 1\n",
    "\n",
    "    return answer"
   ]
  }
 ],
 "metadata": {
  "kernelspec": {
   "display_name": "Python 3",
   "language": "python",
   "name": "python3"
  },
  "language_info": {
   "codemirror_mode": {
    "name": "ipython",
    "version": 3
   },
   "file_extension": ".py",
   "mimetype": "text/x-python",
   "name": "python",
   "nbconvert_exporter": "python",
   "pygments_lexer": "ipython3",
   "version": "3.7.6"
  }
 },
 "nbformat": 4,
 "nbformat_minor": 4
}
