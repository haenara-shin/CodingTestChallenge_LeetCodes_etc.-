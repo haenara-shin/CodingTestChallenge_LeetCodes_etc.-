{
 "cells": [
  {
   "cell_type": "markdown",
   "metadata": {},
   "source": [
    "1부터 입력받은 숫자 n 사이에 있는 소수의 개수를 반환하는 함수, solution을 만들어 보세요.\n",
    "소수는 1과 자기 자신으로만 나누어지는 수를 의미합니다.\n",
    "(1은 소수가 아닙니다.)\n",
    "제한 조건\n",
    "n은 2이상 1000000이하의 자연수입니다.\n",
    "입출력 예\n",
    "n\tresult\n",
    "10\t4\n",
    "5\t3\n",
    "입출력 예 설명\n",
    "입출력 예 #1\n",
    "1부터 10 사이의 소수는 [2,3,5,7] 4개가 존재하므로 4를 반환\n",
    "입출력 예 #2\n",
    "1부터 5 사이의 소수는 [2,3,5] 3개가 존재하므로 3를 반환"
   ]
  },
  {
   "cell_type": "code",
   "execution_count": null,
   "metadata": {},
   "outputs": [],
   "source": [
    "def solution(n):\n",
    "    l = set([i for i in range(3, n+1, 2)])\n",
    "    for j in range(3, n+1, 2):\n",
    "        if j in l:\n",
    "            l -= set([j for j in range(j*2, n+1, j)])\n",
    "    return len(l) + 1"
   ]
  }
 ],
 "metadata": {
  "kernelspec": {
   "display_name": "Python 3",
   "language": "python",
   "name": "python3"
  },
  "language_info": {
   "codemirror_mode": {
    "name": "ipython",
    "version": 3
   },
   "file_extension": ".py",
   "mimetype": "text/x-python",
   "name": "python",
   "nbconvert_exporter": "python",
   "pygments_lexer": "ipython3",
   "version": "3.7.6"
  }
 },
 "nbformat": 4,
 "nbformat_minor": 4
}
