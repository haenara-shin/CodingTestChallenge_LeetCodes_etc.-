{
 "cells": [
  {
   "cell_type": "markdown",
   "metadata": {},
   "source": [
    "문제 설명\n",
    "\n",
    "두 개의 단어 begin, target과 단어의 집합 words가 있습니다. 아래와 같은 규칙을 이용하여 begin에서 target으로 변환하는 가장 짧은 변환 과정을 찾으려고 합니다.\n",
    "1. 한 번에 한 개의 알파벳만 바꿀 수 있습니다.\n",
    "2. words에 있는 단어로만 변환할 수 있습니다.\n",
    "예를 들어 begin이 \"hit\", target가 \"cog\", words가 [\"hot\",\"dot\",\"dog\",\"lot\",\"log\",\"cog\"]라면 \"hit\" -> \"hot\" -> \"dot\" -> \"dog\" -> \"cog\"와 같이 4단계를 거쳐 변환할 수 있습니다.\n",
    "두 개의 단어 begin, target과 단어의 집합 words가 매개변수로 주어질 때, 최소 몇 단계의 과정을 거쳐 begin을 target으로 변환할 수 있는지 return 하도록 solution 함수를 작성해주세요.\n",
    "제한사항\n",
    "각 단어는 알파벳 소문자로만 이루어져 있습니다.\n",
    "각 단어의 길이는 3 이상 10 이하이며 모든 단어의 길이는 같습니다.\n",
    "words에는 3개 이상 50개 이하의 단어가 있으며 중복되는 단어는 없습니다.\n",
    "begin과 target은 같지 않습니다.\n",
    "변환할 수 없는 경우에는 0를 return 합니다.\n",
    "입출력 예\n",
    "begin\ttarget\twords\treturn\n",
    "\"hit\"\t\"cog\"\t[\"hot\", \"dot\", \"dog\", \"lot\", \"log\", \"cog\"]\t4\n",
    "\"hit\"\t\"cog\"\t[\"hot\", \"dot\", \"dog\", \"lot\", \"log\"]\t0\n"
   ]
  },
  {
   "cell_type": "code",
   "execution_count": null,
   "metadata": {},
   "outputs": [],
   "source": [
    "from collections import deque\n",
    "\n",
    "def get_similar(current_word, words):\n",
    "    for word in words:\n",
    "        count = 0\n",
    "        for c, w in zip(current_word, word):\n",
    "            if c != w:\n",
    "                count += 1\n",
    "        if count == 1:\n",
    "            yield word\n",
    "\n",
    "def solution(begin, target, words):\n",
    "    dist = {begin:0}\n",
    "    q = deque([begin])\n",
    "    \n",
    "    while q:\n",
    "        current = q.popleft()\n",
    "        for next_word in get_similar(current, words):\n",
    "            if next_word not in dist:\n",
    "                dist[next_word] = dist[current] + 1\n",
    "                q.append(next_word)\n",
    "    return dist.get(target, 0)"
   ]
  }
 ],
 "metadata": {
  "kernelspec": {
   "display_name": "Python 3",
   "language": "python",
   "name": "python3"
  },
  "language_info": {
   "codemirror_mode": {
    "name": "ipython",
    "version": 3
   },
   "file_extension": ".py",
   "mimetype": "text/x-python",
   "name": "python",
   "nbconvert_exporter": "python",
   "pygments_lexer": "ipython3",
   "version": "3.7.6"
  }
 },
 "nbformat": 4,
 "nbformat_minor": 4
}
