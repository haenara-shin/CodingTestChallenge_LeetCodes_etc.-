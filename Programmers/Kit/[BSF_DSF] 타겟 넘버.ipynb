{
 "cells": [
  {
   "cell_type": "markdown",
   "metadata": {},
   "source": [
    "문제 설명\n",
    "\n",
    "n개의 음이 아닌 정수가 있습니다. 이 수를 적절히 더하거나 빼서 타겟 넘버를 만들려고 합니다. 예를 들어 [1, 1, 1, 1, 1]로 숫자 3을 만들려면 다음 다섯 방법을 쓸 수 있습니다.\n",
    "-1+1+1+1+1 = 3\n",
    "+1-1+1+1+1 = 3\n",
    "+1+1-1+1+1 = 3\n",
    "+1+1+1-1+1 = 3\n",
    "+1+1+1+1-1 = 3\n",
    "사용할 수 있는 숫자가 담긴 배열 numbers, 타겟 넘버 target이 매개변수로 주어질 때 숫자를 적절히 더하고 빼서 타겟 넘버를 만드는 방법의 수를 return 하도록 solution 함수를 작성해주세요.\n",
    "제한사항\n",
    "주어지는 숫자의 개수는 2개 이상 20개 이하입니다.\n",
    "각 숫자는 1 이상 50 이하인 자연수입니다.\n",
    "타겟 넘버는 1 이상 1000 이하인 자연수입니다.\n",
    "입출력 예\n",
    "numbers\ttarget\treturn\n",
    "[1, 1, 1, 1, 1]\t3\t5"
   ]
  },
  {
   "cell_type": "markdown",
   "metadata": {},
   "source": [
    "# BSF"
   ]
  },
  {
   "cell_type": "code",
   "execution_count": null,
   "metadata": {},
   "outputs": [],
   "source": [
    "def solution(numbers, target):\n",
    "    from collections import deque\n",
    "    answer = 0\n",
    "    q = deque([0,0])\n",
    "    while q:\n",
    "        current_sum, idx =  q.popleft()\n",
    "        \n",
    "        if idx == len(numbers):\n",
    "            if current_sum == target:\n",
    "                answer += 1\n",
    "        else:\n",
    "            number = numbers[idx]\n",
    "            q.append((current_sum + number, idx+1))\n",
    "            q.append((cuurent_sum - number, idx+1))\n",
    "    return answer"
   ]
  },
  {
   "cell_type": "markdown",
   "metadata": {},
   "source": [
    "# DSF"
   ]
  },
  {
   "cell_type": "code",
   "execution_count": null,
   "metadata": {},
   "outputs": [],
   "source": [
    "answer = 0\n",
    "\n",
    "def dsf(idx, numbers, target, value):\n",
    "    global answer\n",
    "\n",
    "    if idx == len(numbers) and target == value:\n",
    "        answer += 1\n",
    "        return\n",
    "    if idx == len(numbers):\n",
    "        return \n",
    "    \n",
    "    dsf(idx+1, numbers, target, value+numbers[idx])\n",
    "    dsf(idx+1, numbers, target, value-numbers[idx])\n",
    "    \n",
    "def solution(numbers, target):\n",
    "    global answer\n",
    "    dfs(0, numbers, target, 0)\n",
    "    return answer"
   ]
  }
 ],
 "metadata": {
  "kernelspec": {
   "display_name": "Python 3",
   "language": "python",
   "name": "python3"
  },
  "language_info": {
   "codemirror_mode": {
    "name": "ipython",
    "version": 3
   },
   "file_extension": ".py",
   "mimetype": "text/x-python",
   "name": "python",
   "nbconvert_exporter": "python",
   "pygments_lexer": "ipython3",
   "version": "3.7.6"
  }
 },
 "nbformat": 4,
 "nbformat_minor": 4
}
