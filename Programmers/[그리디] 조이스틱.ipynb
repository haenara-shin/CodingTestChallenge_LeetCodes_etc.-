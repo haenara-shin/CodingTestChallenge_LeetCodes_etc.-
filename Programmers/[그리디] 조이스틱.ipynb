{
 "cells": [
  {
   "cell_type": "markdown",
   "metadata": {},
   "source": [
    "조이스틱으로 알파벳 이름을 완성하세요. 맨 처음엔 A로만 이루어져 있습니다.\n",
    "ex) 완성해야 하는 이름이 세 글자면 AAA, 네 글자면 AAAA\n",
    "조이스틱을 각 방향으로 움직이면 아래와 같습니다.\n",
    "▲ - 다음 알파벳\n",
    "▼ - 이전 알파벳 (A에서 아래쪽으로 이동하면 Z로)\n",
    "◀ - 커서를 왼쪽으로 이동 (첫 번째 위치에서 왼쪽으로 이동하면 마지막 문자에 커서)\n",
    "▶ - 커서를 오른쪽으로 이동\n",
    "예를 들어 아래의 방법으로 \"JAZ\"를 만들 수 있습니다.\n",
    "- 첫 번째 위치에서 조이스틱을 위로 9번 조작하여 J를 완성합니다.\n",
    "- 조이스틱을 왼쪽으로 1번 조작하여 커서를 마지막 문자 위치로 이동시킵니다.\n",
    "- 마지막 위치에서 조이스틱을 아래로 1번 조작하여 Z를 완성합니다.\n",
    "따라서 11번 이동시켜 \"JAZ\"를 만들 수 있고, 이때가 최소 이동입니다.\n",
    "만들고자 하는 이름 name이 매개변수로 주어질 때, 이름에 대해 조이스틱 조작 횟수의 최솟값을 return 하도록 solution 함수를 만드세요.\n",
    "제한 사항\n",
    "name은 알파벳 대문자로만 이루어져 있습니다.\n",
    "name의 길이는 1 이상 20 이하입니다.\n",
    "입출력 예\n",
    "name\treturn\n",
    "\"JEROEN\"\t56\n",
    "\"JAN\"\t23\n"
   ]
  },
  {
   "cell_type": "code",
   "execution_count": 31,
   "metadata": {
    "scrolled": true
   },
   "outputs": [
    {
     "name": "stdout",
     "output_type": "stream",
     "text": [
      "defaultdict(<class 'int'>, {'A': 0, 'B': 1, 'C': 2, 'D': 3, 'E': 4, 'F': 5, 'G': 6, 'H': 7, 'I': 8, 'J': 9, 'K': 10, 'L': 11, 'M': 12, 'N': 13, 'O': 14, 'P': 15, 'Q': 16, 'R': 17, 'S': 18, 'T': 19, 'U': 20, 'V': 21, 'W': 22, 'X': 23, 'Y': 24, 'Z': 25})\n",
      "defaultdict(<class 'int'>, {'A': 26, 'B': 25, 'C': 24, 'D': 23, 'E': 22, 'F': 21, 'G': 20, 'H': 19, 'I': 18, 'J': 17, 'K': 16, 'L': 15, 'M': 14, 'N': 13, 'O': 12, 'P': 11, 'Q': 10, 'R': 9, 'S': 8, 'T': 7, 'U': 6, 'V': 5, 'W': 4, 'X': 3, 'Y': 2, 'Z': 1})\n"
     ]
    }
   ],
   "source": [
    "from string import ascii_uppercase\n",
    " \n",
    "alpha_list = list(ascii_uppercase)\n",
    "\n",
    "from collections import defaultdict\n",
    "\n",
    "d = defaultdict(int)\n",
    "r = defaultdict(int)\n",
    "for idx, alpha in enumerate(alpha_list):\n",
    "    d[alpha] = idx\n",
    "    r[alpha] = len(alpha_list) - (idx)\n",
    "print(d)\n",
    "print(r)"
   ]
  },
  {
   "cell_type": "code",
   "execution_count": 32,
   "metadata": {},
   "outputs": [
    {
     "data": {
      "text/plain": [
       "51"
      ]
     },
     "execution_count": 32,
     "metadata": {},
     "output_type": "execute_result"
    }
   ],
   "source": [
    "name = 'JEROEN'\n",
    "vertical = 0\n",
    "for i in name:\n",
    "    vertical += min(d[i], r[i])\n",
    "vertical"
   ]
  },
  {
   "cell_type": "code",
   "execution_count": 33,
   "metadata": {},
   "outputs": [
    {
     "name": "stdout",
     "output_type": "stream",
     "text": [
      "56\n"
     ]
    }
   ],
   "source": [
    "leng_name = len(name)\n",
    "if name[1] == 'A':\n",
    "    print(vertical + leng_name - 2)\n",
    "else:\n",
    "    print(vertical + leng_name - 1)\n"
   ]
  },
  {
   "cell_type": "code",
   "execution_count": 39,
   "metadata": {},
   "outputs": [
    {
     "data": {
      "text/plain": [
       "12"
      ]
     },
     "execution_count": 39,
     "metadata": {},
     "output_type": "execute_result"
    }
   ],
   "source": [
    "def solution(name):\n",
    "    from string import ascii_uppercase\n",
    " \n",
    "    alpha_list = list(ascii_uppercase)\n",
    "\n",
    "    from collections import defaultdict\n",
    "\n",
    "    d = defaultdict(int)\n",
    "    r = defaultdict(int)\n",
    "    for idx, alpha in enumerate(alpha_list):\n",
    "        d[alpha] = idx\n",
    "        r[alpha] = len(alpha_list) - (idx)\n",
    "    \n",
    "    vertical = 0\n",
    "    for i in name:\n",
    "        vertical += min(d[i], r[i])\n",
    "    \n",
    "    leng_name = len(name)\n",
    "    if name[1] == 'A':\n",
    "        return (vertical + leng_name - 2)\n",
    "    elif name[-1] == 'A':\n",
    "        return (vertical + leng_name - 2)\n",
    "    else:\n",
    "        return (vertical + leng_name - 1)\n",
    "    \n",
    "solution('ABABAAAAABA') # 9"
   ]
  },
  {
   "cell_type": "markdown",
   "metadata": {},
   "source": [
    "# Pass code. Not using ord()"
   ]
  },
  {
   "cell_type": "code",
   "execution_count": null,
   "metadata": {},
   "outputs": [],
   "source": [
    "def solution(name):\n",
    "    # 1. A로만 이루어져있으면 0\n",
    "    if set(name) == {'A'}:\n",
    "        return 0\n",
    "\n",
    "    # 2. 알파벳별 이동수 딕셔너리 만들기\n",
    "    temp = {'A':0}\n",
    "    front=['B','C','D','E','F','G','H','I','J','K','L','M','N']\n",
    "    end=['Z','Y','X','W','V','U','T','S','R','Q','P','O','N']\n",
    "\n",
    "    for i in range(1, len(front)+1):\n",
    "        temp[front[i-1]] = i\n",
    "        temp[end[i-1]] = i\n",
    "\n",
    "    # 3-1. 알파벳 이동수 딕셔너리에서 찾고 오른쪽으로 이동\n",
    "    right_answer = temp[name[0]]   # 첫 글자는 오른쪽으로 이동할 필요 x\n",
    "    for i in range(1, len(name)):\n",
    "        right_answer+=temp[name[i]]+1\n",
    "\n",
    "    # 3-2. 중간에 A만 있는 경우 뒤로 돌아가는거\n",
    "    a_length = 0   # A만 있는거의 길이\n",
    "    for i in range(1, len(name)):\n",
    "        if 'A'*i in name:\n",
    "            a_length = i\n",
    "    a_index = name.find(a_length*'A')   # 뭉탱이 A의 위치\n",
    "    \n",
    "    left_answer = temp[name[0]]   # 첫 글자는 오른쪽으로 이동할 필요 x\n",
    "    # A 뭉탱이 전까지는 알파벳 이동수 찾고 오른쪽으로 이동\n",
    "    for i in range(1, a_index):\n",
    "    \t# 전진한 이후에 첫번째 자리로 가기위해 간만큼 후진해야하므로 +1이 아닌 +2\n",
    "        left_answer+=temp[name[i]]+2 \n",
    "        \n",
    "    # 뒤에서 A 뭉탱이 만나기 전까지 알파벳 이동수 찾고 왼쪽으로 이동\n",
    "    for i in range(-1, -(len(name) - (a_index + a_length) + 1), -1):\n",
    "        left_answer+=temp[name[i]]+1\n",
    "\n",
    "\t# 4. 두 answer 중 최소값\n",
    "    return min(right_answer, left_answer)"
   ]
  }
 ],
 "metadata": {
  "kernelspec": {
   "display_name": "Python 3",
   "language": "python",
   "name": "python3"
  },
  "language_info": {
   "codemirror_mode": {
    "name": "ipython",
    "version": 3
   },
   "file_extension": ".py",
   "mimetype": "text/x-python",
   "name": "python",
   "nbconvert_exporter": "python",
   "pygments_lexer": "ipython3",
   "version": "3.7.6"
  }
 },
 "nbformat": 4,
 "nbformat_minor": 4
}
