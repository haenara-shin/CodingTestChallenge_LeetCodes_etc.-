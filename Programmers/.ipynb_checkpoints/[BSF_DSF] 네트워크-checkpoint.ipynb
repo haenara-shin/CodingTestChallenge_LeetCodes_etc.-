{
 "cells": [
  {
   "cell_type": "markdown",
   "metadata": {},
   "source": [
    "문제 설명\n",
    "\n",
    "네트워크란 컴퓨터 상호 간에 정보를 교환할 수 있도록 연결된 형태를 의미합니다. 예를 들어, 컴퓨터 A와 컴퓨터 B가 직접적으로 연결되어있고, 컴퓨터 B와 컴퓨터 C가 직접적으로 연결되어 있을 때 컴퓨터 A와 컴퓨터 C도 간접적으로 연결되어 정보를 교환할 수 있습니다. 따라서 컴퓨터 A, B, C는 모두 같은 네트워크 상에 있다고 할 수 있습니다.\n",
    "컴퓨터의 개수 n, 연결에 대한 정보가 담긴 2차원 배열 computers가 매개변수로 주어질 때, 네트워크의 개수를 return 하도록 solution 함수를 작성하시오.\n",
    "제한사항\n",
    "컴퓨터의 개수 n은 1 이상 200 이하인 자연수입니다.\n",
    "각 컴퓨터는 0부터 n-1인 정수로 표현합니다.\n",
    "i번 컴퓨터와 j번 컴퓨터가 연결되어 있으면 computers[i][j]를 1로 표현합니다.\n",
    "computer[i][i]는 항상 1입니다.\n",
    "입출력 예\n",
    "n\tcomputers\treturn\n",
    "3\t[[1, 1, 0], [1, 1, 0], [0, 0, 1]]\t2\n",
    "3\t[[1, 1, 0], [1, 1, 1], [0, 1, 1]]\t1"
   ]
  },
  {
   "cell_type": "code",
   "execution_count": null,
   "metadata": {},
   "outputs": [],
   "source": []
  },
  {
   "cell_type": "markdown",
   "metadata": {},
   "source": [
    "# DSF"
   ]
  },
  {
   "cell_type": "code",
   "execution_count": 13,
   "metadata": {},
   "outputs": [
    {
     "data": {
      "text/plain": [
       "2"
      ]
     },
     "execution_count": 13,
     "metadata": {},
     "output_type": "execute_result"
    }
   ],
   "source": [
    "def solution(n, computers):\n",
    "    answer = 0\n",
    "    visited = [False for i in range(n)]\n",
    "    for i in range(n):\n",
    "        if visited[i] == False:\n",
    "            dfs(n, computers, i, visited)\n",
    "            answer += 1\n",
    "    return answer\n",
    "\n",
    "def dfs(n, computers, i, visited):\n",
    "    visited[i] = True\n",
    "    for j in range(n):\n",
    "        if j != i and computers[i][j] == 1:\n",
    "            if visited[j] == False:\n",
    "                dfs(n, computers, j, visited)\n",
    "solution(3,[[1, 1, 0], [1, 1, 0], [0, 0, 1]])"
   ]
  },
  {
   "cell_type": "markdown",
   "metadata": {},
   "source": [
    "# BSF"
   ]
  },
  {
   "cell_type": "code",
   "execution_count": 14,
   "metadata": {},
   "outputs": [
    {
     "data": {
      "text/plain": [
       "2"
      ]
     },
     "execution_count": 14,
     "metadata": {},
     "output_type": "execute_result"
    }
   ],
   "source": [
    "def solution(n, computers):\n",
    "    answer = 0\n",
    "    visited = [False for i in range(n)]\n",
    "    for i in range(n):\n",
    "        if visited[i] == False:\n",
    "            bfs(n, computers, i, visited)\n",
    "            answer += 1\n",
    "    return answer\n",
    "\n",
    "def bfs(n, computers, i, visited):\n",
    "    from collections import deque\n",
    "    visited[i] = True\n",
    "    q = deque()\n",
    "    q.append(i)\n",
    "    while q:\n",
    "        j = q.popleft()\n",
    "        visited[j] = True\n",
    "        for k in range(n):\n",
    "            if k != j and computers[j][k] == 1:\n",
    "                if visited[k] == False:\n",
    "                    q.append(k)\n",
    "solution(3,[[1, 1, 0], [1, 1, 0], [0, 0, 1]])"
   ]
  }
 ],
 "metadata": {
  "kernelspec": {
   "display_name": "Python 3",
   "language": "python",
   "name": "python3"
  },
  "language_info": {
   "codemirror_mode": {
    "name": "ipython",
    "version": 3
   },
   "file_extension": ".py",
   "mimetype": "text/x-python",
   "name": "python",
   "nbconvert_exporter": "python",
   "pygments_lexer": "ipython3",
   "version": "3.7.6"
  }
 },
 "nbformat": 4,
 "nbformat_minor": 4
}
