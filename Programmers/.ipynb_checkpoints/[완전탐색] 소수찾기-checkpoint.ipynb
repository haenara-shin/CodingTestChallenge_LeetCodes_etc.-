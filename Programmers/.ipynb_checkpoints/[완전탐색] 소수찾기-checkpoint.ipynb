{
 "cells": [
  {
   "cell_type": "markdown",
   "metadata": {},
   "source": [
    "소수 찾기\n",
    "\n",
    "문제 설명\n",
    "\n",
    "한자리 숫자가 적힌 종이 조각이 흩어져있습니다. 흩어진 종이 조각을 붙여 소수를 몇 개 만들 수 있는지 알아내려 합니다.\n",
    "각 종이 조각에 적힌 숫자가 적힌 문자열 numbers가 주어졌을 때, 종이 조각으로 만들 수 있는 소수가 몇 개인지 return 하도록 solution 함수를 완성해주세요.\n",
    "제한사항\n",
    "numbers는 길이 1 이상 7 이하인 문자열입니다.\n",
    "numbers는 0~9까지 숫자만으로 이루어져 있습니다.\n",
    "\"013\"은 0, 1, 3 숫자가 적힌 종이 조각이 흩어져있다는 의미입니다.\n",
    "입출력 예\n",
    "numbers\treturn\n",
    "\"17\"\t3\n",
    "\"011\"\t2\n",
    "입출력 예 설명\n",
    "예제 #1\n",
    "[1, 7]으로는 소수 [7, 17, 71]를 만들 수 있습니다.\n",
    "예제 #2\n",
    "[0, 1, 1]으로는 소수 [11, 101]를 만들 수 있습니다.\n",
    "11과 011은 같은 숫자로 취급합니다."
   ]
  },
  {
   "cell_type": "code",
   "execution_count": null,
   "metadata": {},
   "outputs": [],
   "source": [
    "def permutation(numbers):\n",
    "    from itertools import permutations\n",
    "    l_set = set()\n",
    "    for i in range(1, len(numbers)+1):\n",
    "        l_set |= set(permutations(list(numbers), i))\n",
    "    result = set()\n",
    "    for i in l_set:\n",
    "        result.add(int(''.join(i)))\n",
    "    return result\n",
    "\n",
    "def is_prime_number(n):\n",
    "    import math\n",
    "    array = [True for i in range(n+1)] # 처음엔 모든 수가 소수(True)인 것으로 초기화(0과 1은 제외)\n",
    "\n",
    "    # 에라토스테네스의 체\n",
    "    for i in range(2, int(math.sqrt(n)) + 1): #2부터 n의 제곱근까지의 모든 수를 확인하며\n",
    "        if array[i] == True: # i가 소수인 경우(남은 수인 경우)\n",
    "            # i를 제외한 i의 모든 배수를 지우기\n",
    "            j = 2\n",
    "            while i * j <= n:\n",
    "                array[i * j] = False\n",
    "                j += 1\n",
    "\n",
    "    return [ i for i in range(2, n+1) if array[i] ]\n",
    "\n",
    "def solution(numbers):\n",
    "    \n",
    "    return len(permutation(numbers) & set(is_prime_number(max(permutation(numbers)))\n",
    "              ))"
   ]
  }
 ],
 "metadata": {
  "kernelspec": {
   "display_name": "Python 3",
   "language": "python",
   "name": "python3"
  },
  "language_info": {
   "codemirror_mode": {
    "name": "ipython",
    "version": 3
   },
   "file_extension": ".py",
   "mimetype": "text/x-python",
   "name": "python",
   "nbconvert_exporter": "python",
   "pygments_lexer": "ipython3",
   "version": "3.7.6"
  }
 },
 "nbformat": 4,
 "nbformat_minor": 4
}
