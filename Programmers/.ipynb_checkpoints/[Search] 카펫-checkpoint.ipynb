{
 "cells": [
  {
   "cell_type": "markdown",
   "metadata": {},
   "source": [
    "문제 설명\n",
    "\n",
    "Leo는 카펫을 사러 갔다가 아래 그림과 같이 중앙에는 노란색으로 칠해져 있고 테두리 1줄은 갈색으로 칠해져 있는 격자 모양 카펫을 봤습니다.\n",
    "\n",
    "carpet.png\n",
    "\n",
    "Leo는 집으로 돌아와서 아까 본 카펫의 노란색과 갈색으로 색칠된 격자의 개수는 기억했지만, 전체 카펫의 크기는 기억하지 못했습니다.\n",
    "Leo가 본 카펫에서 갈색 격자의 수 brown, 노란색 격자의 수 yellow가 매개변수로 주어질 때 카펫의 가로, 세로 크기를 순서대로 배열에 담아 return 하도록 solution 함수를 작성해주세요.\n",
    "제한사항\n",
    "갈색 격자의 수 brown은 8 이상 5,000 이하인 자연수입니다.\n",
    "노란색 격자의 수 yellow는 1 이상 2,000,000 이하인 자연수입니다.\n",
    "카펫의 가로 길이는 세로 길이와 같거나, 세로 길이보다 깁니다.\n",
    "입출력 예\n",
    "brown\tyellow\treturn\n",
    "10\t2\t[4, 3]\n",
    "8\t1\t[3, 3]\n",
    "24\t24\t[8, 6]\n",
    "출처\n",
    "※ 공지 - 2020년 2월 3일 테스트케이스가 추가되었습니다.\n",
    "※ 공지 - 2020년 5월 11일 웹접근성을 고려하여 빨간색을 노란색으로 수정하였습니다."
   ]
  },
  {
   "cell_type": "code",
   "execution_count": null,
   "metadata": {},
   "outputs": [],
   "source": [
    "def solution(brown, yellow):\n",
    "    answer = []\n",
    "    if yellow == 1:\n",
    "        return [3,3]\n",
    "    \n",
    "    step = []\n",
    "    for i in range(1, int(yellow/2)+1):\n",
    "        if yellow % i == 0:\n",
    "            step.append((yellow//i, i))\n",
    "\n",
    "    for i in step:\n",
    "        g, s = i\n",
    "        if g >= s and (g+2) * (s+2) == (brown+yellow):\n",
    "            answer.append(g+2)\n",
    "            answer.append(s+2)\n",
    "    return answer"
   ]
  }
 ],
 "metadata": {
  "kernelspec": {
   "display_name": "Python 3",
   "language": "python",
   "name": "python3"
  },
  "language_info": {
   "codemirror_mode": {
    "name": "ipython",
    "version": 3
   },
   "file_extension": ".py",
   "mimetype": "text/x-python",
   "name": "python",
   "nbconvert_exporter": "python",
   "pygments_lexer": "ipython3",
   "version": "3.7.6"
  }
 },
 "nbformat": 4,
 "nbformat_minor": 4
}
