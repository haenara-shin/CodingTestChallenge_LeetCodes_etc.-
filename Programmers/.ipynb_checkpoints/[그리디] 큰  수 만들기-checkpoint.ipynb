{
 "cells": [
  {
   "cell_type": "markdown",
   "metadata": {},
   "source": [
    "문제 설명\n",
    "\n",
    "어떤 숫자에서 k개의 수를 제거했을 때 얻을 수 있는 가장 큰 숫자를 구하려 합니다.\n",
    "예를 들어, 숫자 1924에서 수 두 개를 제거하면 [19, 12, 14, 92, 94, 24] 를 만들 수 있습니다. 이 중 가장 큰 숫자는 94 입니다.\n",
    "문자열 형식으로 숫자 number와 제거할 수의 개수 k가 solution 함수의 매개변수로 주어집니다. number에서 k 개의 수를 제거했을 때 만들 수 있는 수 중 가장 큰 숫자를 문자열 형태로 return 하도록 solution 함수를 완성하세요.\n",
    "제한 조건\n",
    "number는 1자리 이상, 1,000,000자리 이하인 숫자입니다.\n",
    "k는 1 이상 number의 자릿수 미만인 자연수입니다.\n",
    "입출력 예\n",
    "number\tk\treturn\n",
    "\"1924\"\t2\t\"94\"\n",
    "\"1231234\"\t3\t\"3234\"\n",
    "\"4177252841\"\t4\t\"775841\""
   ]
  },
  {
   "cell_type": "code",
   "execution_count": 73,
   "metadata": {},
   "outputs": [],
   "source": [
    "number = '111119' # '999 - 2' '99991 - 3' '111119 - 3' '7777777 - 2'"
   ]
  },
  {
   "cell_type": "code",
   "execution_count": null,
   "metadata": {},
   "outputs": [],
   "source": [
    "def solution(number, k):\n",
    "    origin_length = len(number)\n",
    "    i = 0\n",
    "    while k > 0 and i < len(number)-1:\n",
    "        if int(number[i]) < int(number[i+1]):\n",
    "            number = number.replace(number[i], '', 1)\n",
    "            k -= 1\n",
    "            i -= 1\n",
    "            if i < 0:\n",
    "                i = 0\n",
    "        else:\n",
    "            i += 1\n",
    "    if len(number) == origin_length:\n",
    "        return number[:origin_length-k]\n",
    "    return number"
   ]
  }
 ],
 "metadata": {
  "kernelspec": {
   "display_name": "Python 3",
   "language": "python",
   "name": "python3"
  },
  "language_info": {
   "codemirror_mode": {
    "name": "ipython",
    "version": 3
   },
   "file_extension": ".py",
   "mimetype": "text/x-python",
   "name": "python",
   "nbconvert_exporter": "python",
   "pygments_lexer": "ipython3",
   "version": "3.7.6"
  }
 },
 "nbformat": 4,
 "nbformat_minor": 4
}
