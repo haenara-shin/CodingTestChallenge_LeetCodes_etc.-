{
 "cells": [
  {
   "cell_type": "markdown",
   "metadata": {},
   "source": [
    "가장 큰 수\n",
    "\n",
    "문제 설명\n",
    "\n",
    "0 또는 양의 정수가 주어졌을 때, 정수를 이어 붙여 만들 수 있는 가장 큰 수를 알아내 주세요.\n",
    "예를 들어, 주어진 정수가 [6, 10, 2]라면 [6102, 6210, 1062, 1026, 2610, 2106]를 만들 수 있고, 이중 가장 큰 수는 6210입니다.\n",
    "0 또는 양의 정수가 담긴 배열 numbers가 매개변수로 주어질 때, 순서를 재배치하여 만들 수 있는 가장 큰 수를 문자열로 바꾸어 return 하도록 solution 함수를 작성해주세요.\n",
    "제한 사항\n",
    "numbers의 길이는 1 이상 100,000 이하입니다.\n",
    "numbers의 원소는 0 이상 1,000 이하입니다.\n",
    "정답이 너무 클 수 있으니 문자열로 바꾸어 return 합니다.\n",
    "입출력 예\n",
    "numbers\treturn\n",
    "[6, 10, 2]\t\"6210\"\n",
    "[3, 30, 34, 5, 9]\t\"9534330\""
   ]
  },
  {
   "cell_type": "code",
   "execution_count": null,
   "metadata": {},
   "outputs": [],
   "source": [
    "def solution(numbers):\n",
    "    def merge_sort(numbers):\n",
    "        if len(numbers) <= 1:\n",
    "            return numbers\n",
    "        \n",
    "        mid = len(numbers) // 2\n",
    "        \n",
    "        left = merge_sort(numbers[:mid])\n",
    "        right = merge_sort(numbers[mid:])\n",
    "        return merge(left, right)\n",
    "    \n",
    "    def merge(left, right):\n",
    "        result = []\n",
    "        i = j = 0\n",
    "        while i < len(left) and j < len(right):\n",
    "            if int(str(left[i]) + str(right[j])) > int(str(right[j]) + str(left[i])):\n",
    "                result.append(left[i])\n",
    "                i += 1\n",
    "            else:\n",
    "                result.append(right[j])\n",
    "                j += 1\n",
    "        while i < len(left):\n",
    "            result.append(left[i])\n",
    "            i += 1\n",
    "        while j < len(right):\n",
    "            result.append(right[j])\n",
    "            j += 1\n",
    "        return result\n",
    "    \n",
    "    new_nums = merge_sort(numbers)    \n",
    "    return str(int(''.join(map(str, new_nums))))"
   ]
  }
 ],
 "metadata": {
  "kernelspec": {
   "display_name": "Python 3",
   "language": "python",
   "name": "python3"
  },
  "language_info": {
   "codemirror_mode": {
    "name": "ipython",
    "version": 3
   },
   "file_extension": ".py",
   "mimetype": "text/x-python",
   "name": "python",
   "nbconvert_exporter": "python",
   "pygments_lexer": "ipython3",
   "version": "3.7.6"
  }
 },
 "nbformat": 4,
 "nbformat_minor": 4
}
