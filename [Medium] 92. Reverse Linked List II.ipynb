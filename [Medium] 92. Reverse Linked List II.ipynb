{
 "cells": [
  {
   "cell_type": "markdown",
   "metadata": {},
   "source": [
    "Reverse a linked list from position m to n. Do it in one-pass.\n",
    "\n",
    "Note: 1 ≤ m ≤ n ≤ length of list.\n",
    "\n",
    "Example:\n",
    "\n",
    "Input: 1->2->3->4->5->NULL, m = 2, n = 4\n",
    "Output: 1->4->3->2->5->NULL"
   ]
  },
  {
   "cell_type": "code",
   "execution_count": null,
   "metadata": {},
   "outputs": [],
   "source": []
  },
  {
   "cell_type": "code",
   "execution_count": null,
   "metadata": {},
   "outputs": [],
   "source": [
    "# Definition for singly-linked list.\n",
    "# class ListNode:\n",
    "#     def __init__(self, val=0, next=None):\n",
    "#         self.val = val\n",
    "#         self.next = next\n",
    "class Solution:\n",
    "    def reverseBetween(self, head: ListNode, m: int, n: int) -> ListNode:\n",
    "        #Exception\n",
    "        if not head or m == n:\n",
    "            return head\n",
    "        \n",
    "        root = start = ListNode(None)\n",
    "        root.next = head\n",
    "        \n",
    "        for _ in range(m-1):\n",
    "            start = start.next\n",
    "        end = start.next\n",
    "        \n",
    "        for _ in range(n-m):\n",
    "            temp, start.next, end.next = start.next, end.next, end.next.next\n",
    "            start.next.next = temp\n",
    "            \n",
    "        return root.next"
   ]
  },
  {
   "cell_type": "code",
   "execution_count": null,
   "metadata": {},
   "outputs": [],
   "source": [
    "class ListNode:\n",
    "    def __init__(self, val=0, next=None):\n",
    "        self.val = val\n",
    "        self.next = next\n",
    "        \n",
    "class Solution:\n",
    "    def reverseBetween(self, head: ListNode, m:int, n:int) -> ListNode:\n",
    "        #Exception\n",
    "        if not head or m==n:\n",
    "            return head\n",
    "        \n",
    "        root = start = ListNode=(None)\n",
    "        root.next = head\n",
    "        \n",
    "        for _ in range(m - 1):\n",
    "            start = start.next\n",
    "        end = start.next\n",
    "        \n",
    "        for _ in range(n-m):\n",
    "            temp, start.next, end.next= start.next, end.next, end.next.next\n",
    "            start.next.next = temp\n",
    "            \n",
    "        return root.next"
   ]
  }
 ],
 "metadata": {
  "kernelspec": {
   "display_name": "Python 3",
   "language": "python",
   "name": "python3"
  },
  "language_info": {
   "codemirror_mode": {
    "name": "ipython",
    "version": 3
   },
   "file_extension": ".py",
   "mimetype": "text/x-python",
   "name": "python",
   "nbconvert_exporter": "python",
   "pygments_lexer": "ipython3",
   "version": "3.7.6"
  }
 },
 "nbformat": 4,
 "nbformat_minor": 4
}
