{
 "cells": [
  {
   "cell_type": "code",
   "execution_count": 26,
   "metadata": {},
   "outputs": [
    {
     "name": "stdout",
     "output_type": "stream",
     "text": [
      "12345\n",
      "76205685\n"
     ]
    }
   ],
   "source": [
    "# import sys\n",
    "# sys.setrecursionlimit(1000000) ####\n",
    "\n",
    "i = 0\n",
    "def sum_(n):\n",
    "    global i\n",
    "    if n == 0:\n",
    "        return \n",
    "    i += n\n",
    "    sum_(n-1)\n",
    "\n",
    "n = int(input())\n",
    "sum_(n)\n",
    "print(i)"
   ]
  }
 ],
 "metadata": {
  "kernelspec": {
   "display_name": "Python 3",
   "language": "python",
   "name": "python3"
  },
  "language_info": {
   "codemirror_mode": {
    "name": "ipython",
    "version": 3
   },
   "file_extension": ".py",
   "mimetype": "text/x-python",
   "name": "python",
   "nbconvert_exporter": "python",
   "pygments_lexer": "ipython3",
   "version": "3.7.6"
  }
 },
 "nbformat": 4,
 "nbformat_minor": 4
}
