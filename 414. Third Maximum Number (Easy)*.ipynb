{
 "cells": [
  {
   "cell_type": "markdown",
   "metadata": {},
   "source": [
    "Given a non-empty array of integers, return the third maximum number in this array. If it does not exist, return the maximum number. The time complexity must be in O(n).\n",
    "\n",
    "Example 1:\n",
    "\n",
    "Input: [3, 2, 1]\n",
    "\n",
    "Output: 1\n",
    "\n",
    "Explanation: The third maximum is 1.\n",
    "Example 2:\n",
    "\n",
    "Input: [1, 2]\n",
    "\n",
    "Output: 2\n",
    "\n",
    "Explanation: The third maximum does not exist, so the maximum (2) is returned instead.\n",
    "Example 3:\n",
    "\n",
    "Input: [2, 2, 3, 1]\n",
    "\n",
    "Output: 1\n",
    "\n",
    "Explanation: Note that the third maximum here means the third maximum distinct number.\n",
    "Both numbers with value 2 are both considered as second maximum."
   ]
  },
  {
   "cell_type": "code",
   "execution_count": null,
   "metadata": {},
   "outputs": [],
   "source": [
    "class Solution:\n",
    "    def thirdMax(self, nums: List[int]) -> int:\n",
    "        m1 = m2 = m3 = -float(\"inf\")\n",
    "        for num in nums:\n",
    "            if num > m1:\n",
    "                m1, m2, m3 = num, m1, m2\n",
    "            elif m2 < num < m1:\n",
    "                m2, m3 = num, m2\n",
    "            elif m3 < num < m2:\n",
    "                m3 = num\n",
    "        return m3 if m3 > -float(\"inf\") else m1"
   ]
  },
  {
   "cell_type": "code",
   "execution_count": null,
   "metadata": {},
   "outputs": [],
   "source": [
    "class Solution:\n",
    "    def thirdMax(self, nums: List[int]) -> int:\n",
    "        n = list(set(nums))\n",
    "        n.sort()\n",
    "        if len(n) < 3:\n",
    "            return n[-1]\n",
    "        return n[-3]"
   ]
  }
 ],
 "metadata": {
  "kernelspec": {
   "display_name": "Python 3",
   "language": "python",
   "name": "python3"
  },
  "language_info": {
   "codemirror_mode": {
    "name": "ipython",
    "version": 3
   },
   "file_extension": ".py",
   "mimetype": "text/x-python",
   "name": "python",
   "nbconvert_exporter": "python",
   "pygments_lexer": "ipython3",
   "version": "3.7.6"
  }
 },
 "nbformat": 4,
 "nbformat_minor": 4
}
