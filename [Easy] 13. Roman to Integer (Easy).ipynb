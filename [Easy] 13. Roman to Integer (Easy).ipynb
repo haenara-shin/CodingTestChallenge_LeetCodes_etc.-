{
 "cells": [
  {
   "cell_type": "markdown",
   "metadata": {},
   "source": [
    "Roman numerals are represented by seven different symbols: I, V, X, L, C, D and M.\n",
    "\n",
    "Symbol       Value\n",
    "I             1\n",
    "V             5\n",
    "X             10\n",
    "L             50\n",
    "C             100\n",
    "D             500\n",
    "M             1000\n",
    "\n",
    "For example, two is written as II in Roman numeral, just two one's added together. Twelve is written as, XII, which is simply X + II. The number twenty seven is written as XXVII, which is XX + V + II.\n",
    "\n",
    "Roman numerals are usually written largest to smallest from left to right. However, the numeral for four is not IIII. Instead, the number four is written as IV. Because the one is before the five we subtract it making four. The same principle applies to the number nine, which is written as IX. There are six instances where subtraction is used:\n",
    "\n",
    "I can be placed before V (5) and X (10) to make 4 and 9. \n",
    "X can be placed before L (50) and C (100) to make 40 and 90. \n",
    "C can be placed before D (500) and M (1000) to make 400 and 900.\n",
    "Given a roman numeral, convert it to an integer. Input is guaranteed to be within the range from 1 to 3999.\n",
    "\n",
    "Example 1:\n",
    "Input: \"III\"\n",
    "Output: 3\n",
    "\n",
    "Example 2:\n",
    "Input: \"IV\"\n",
    "Output: 4\n",
    "\n",
    "Example 3:\n",
    "Input: \"IX\"\n",
    "Output: 9\n",
    "\n",
    "Example 4:\n",
    "Input: \"LVIII\"\n",
    "Output: 58\n",
    "Explanation: L = 50, V= 5, III = 3.\n",
    "\n",
    "Example 5:\n",
    "Input: \"MCMXCIV\"\n",
    "Output: 1994\n",
    "Explanation: M = 1000, CM = 900, XC = 90 and IV = 4."
   ]
  },
  {
   "cell_type": "code",
   "execution_count": 1,
   "metadata": {},
   "outputs": [
    {
     "data": {
      "text/plain": [
       "1994"
      ]
     },
     "execution_count": 1,
     "metadata": {},
     "output_type": "execute_result"
    }
   ],
   "source": [
    "def romanToInt2(s):\n",
    "    \"\"\"\n",
    "    :type s: str\n",
    "    :rtype: int\n",
    "    \"\"\"\n",
    "    dict_ = {\n",
    "        'I': 1,\n",
    "        'IV': 4,\n",
    "        'V': 5,\n",
    "        'IX': 9,\n",
    "        'X': 10,\n",
    "        'XL': 40,\n",
    "        'L': 50,\n",
    "        'XC': 90,\n",
    "        'C': 100,\n",
    "        'CD': 400,\n",
    "        'D': 500,\n",
    "        'CM': 900,\n",
    "        'M': 1000\n",
    "    }\n",
    "    result, i = 0, 0\n",
    "    while i < len(s):\n",
    "        try:\n",
    "            result += dict_[s[i] + s[i + 1]]\n",
    "            i += 2\n",
    "        except (KeyError, IndexError):\n",
    "            result += dict_[s[i]]\n",
    "            i += 1\n",
    "    return result\n",
    "romanToInt2(s = 'MCMXCIV')"
   ]
  },
  {
   "cell_type": "code",
   "execution_count": 2,
   "metadata": {},
   "outputs": [
    {
     "data": {
      "text/plain": [
       "'MCMXCIV'"
      ]
     },
     "execution_count": 2,
     "metadata": {},
     "output_type": "execute_result"
    }
   ],
   "source": [
    "# def romanToInt(s):\n",
    "#     converter = {'I': 1, 'V': 5, 'X':10, 'L':50,'C':100, 'D':500, 'M':1000}\n",
    "s = 1994\n",
    "s_str = str(s)\n",
    "if len(s_str) < 4:\n",
    "    s_str = (4-len(s_str)) * '0' + s_str\n",
    "s_str_list = []\n",
    "for i in s_str:\n",
    "    s_str_list.append(i)\n",
    "\n",
    "char = ''\n",
    "\n",
    "i = 0\n",
    "while i < len(s_str_list):\n",
    "    char += (int(s_str_list[i]) * 'M')\n",
    "    i += 1\n",
    "    \n",
    "    if (int(s_str_list[i])) <= 3:\n",
    "        char += (int(s_str_list[i]) * 'C')\n",
    "    elif 6 <= (int(s_str_list[i])) <= 8:\n",
    "        char += ('D' + ((int(s_str_list[i])-5) * 'C'))\n",
    "    elif int(s_str_list[i]) == 4:\n",
    "        char += ('CD')\n",
    "    elif int(s_str_list[i]) == 9:\n",
    "        char += ('CM')\n",
    "    i += 1\n",
    "    \n",
    "\n",
    "    if (int(s_str_list[i])) <= 3:\n",
    "        char += (int(s_str_list[i]) * 'X')\n",
    "    elif 6 <= (int(s_str_list[i])) <= 8:\n",
    "        char += ('L' + ((int(s_str_list[i])-5) * 'X'))\n",
    "    elif int(s_str_list[i]) == 4:\n",
    "        char += ('XL')\n",
    "    elif int(s_str_list[i]) == 9:\n",
    "        char += ('XC')\n",
    "    i += 1\n",
    "    \n",
    "    if (int(s_str_list[i])) <= 3:\n",
    "        char += (int(s_str_list[i]) * 'I')\n",
    "    elif 6 <= (int(s_str_list[i])) <= 8:\n",
    "        char += ('V' + ((int(s_str_list[i])-5) * 'I'))\n",
    "    elif int(s_str_list[i]) == 4:\n",
    "        char += ('IV')\n",
    "    elif int(s_str_list[i]) == 9:\n",
    "        char += ('VI')\n",
    "    i += 1\n",
    "\n",
    "char"
   ]
  }
 ],
 "metadata": {
  "kernelspec": {
   "display_name": "Python 3",
   "language": "python",
   "name": "python3"
  },
  "language_info": {
   "codemirror_mode": {
    "name": "ipython",
    "version": 3
   },
   "file_extension": ".py",
   "mimetype": "text/x-python",
   "name": "python",
   "nbconvert_exporter": "python",
   "pygments_lexer": "ipython3",
   "version": "3.7.6"
  }
 },
 "nbformat": 4,
 "nbformat_minor": 4
}
