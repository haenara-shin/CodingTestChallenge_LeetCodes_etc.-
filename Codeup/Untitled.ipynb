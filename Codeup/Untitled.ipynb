{
 "cells": [
  {
   "cell_type": "code",
   "execution_count": null,
   "metadata": {},
   "outputs": [],
   "source": [
    "def max_profit_memo(price_list, count, cache):\n",
    "    # Base Case: 0개 혹은 1개면 부분 문제로 나눌 필요가 없기 때문에 가격을 바로 리턴한다\n",
    "    if count < 2:\n",
    "        cache[count] = price_list[count]\n",
    "        return price_list[count]\n",
    "\n",
    "    # 이미 계산한 값이면 cache에 저장된 값을 리턴한다\n",
    "    if count in cache:\n",
    "        return cache[count]\n",
    "\n",
    "    # profit은 count개를 팔아서 가능한 최대 수익을 저장하는 변수\n",
    "    # 팔려고 하는 총개수에 대한 가격이 price_list에 없으면 일단 0으로 설정\n",
    "    # 팔려고 하는 총개수에 대한 가격이 price_list에 있으면 일단 그 가격으로 설정\n",
    "    if count < len(price_list):\n",
    "        profit = price_list[count]\n",
    "    else:\n",
    "        profit = 0\n",
    "\n",
    "    # count개를 팔 수 있는 조합들을 비교해서, 가능한 최대 수익을 profit에 저장\n",
    "    for i in range(1, count // 2 + 1):\n",
    "        profit = max(profit, max_profit_memo(price_list, i, cache) \n",
    "                 + max_profit_memo(price_list, count - i, cache))\n",
    "\n",
    "    # 계산된 최대 수익을 cache에 저장\n",
    "    cache[count] = profit\n",
    "\n",
    "    return profit\n",
    "\n",
    "\n",
    "def max_profit(price_list, count):\n",
    "    max_profit_cache = {}\n",
    "\n",
    "    return max_profit_memo(price_list, count, max_profit_cache)\n",
    "\n",
    "\n",
    "# 테스트\n",
    "print(max_profit([0, 100, 400, 800, 900, 1000], 5))\n",
    "print(max_profit([0, 100, 400, 800, 900, 1000], 10))\n",
    "print(max_profit([0, 100, 400, 800, 900, 1000, 1400, 1600, 2100, 2200], 9))"
   ]
  },
  {
   "cell_type": "code",
   "execution_count": null,
   "metadata": {},
   "outputs": [],
   "source": []
  },
  {
   "cell_type": "code",
   "execution_count": 3,
   "metadata": {},
   "outputs": [
    {
     "name": "stdout",
     "output_type": "stream",
     "text": [
      "1200\n",
      "2500\n",
      "2400\n"
     ]
    }
   ],
   "source": [
    "def max_profit_memo(price_list, count, cache):\n",
    "    # 코드를 작성하세요.\n",
    "    if count < 2:\n",
    "        return price_list[count]\n",
    "    \n",
    "    if count in cache:\n",
    "        return cache[count]\n",
    "    \n",
    "    if count < len(price_list):\n",
    "        profit = price_list[count]\n",
    "    else:\n",
    "        profit = 0\n",
    "    \n",
    "    for i in range(1, count // 2 + 1):\n",
    "        profit = max(profit, max_profit_memo(price_list, i, cache) + max_profit_memo(price_list, count - i, cache))\n",
    "    \n",
    "    cache[count] = profit\n",
    "    return profit\n",
    "    \n",
    "     \n",
    "    \n",
    "def max_profit(price_list, count):\n",
    "    max_profit_cache = {}\n",
    "\n",
    "    return max_profit_memo(price_list, count, max_profit_cache)\n",
    "\n",
    "\n",
    "# 테스트\n",
    "print(max_profit([0, 100, 400, 800, 900, 1000], 5))\n",
    "print(max_profit([0, 100, 400, 800, 900, 1000], 10))\n",
    "print(max_profit([0, 100, 400, 800, 900, 1000, 1400, 1600, 2100, 2200], 9))\n"
   ]
  },
  {
   "cell_type": "code",
   "execution_count": null,
   "metadata": {},
   "outputs": [],
   "source": [
    "def max_profit(price_list, count):\n",
    "    profit_table = [0]\n",
    "\n",
    "    for i in range(1, count + 1):\n",
    "        if i < len(price_list):\n",
    "            profit = price_list[i]\n",
    "        else:\n",
    "            profit = 0\n",
    "        for k in range(1, i//2+1):\n",
    "            profit = max(profit, profit_table[k] + profit_table[i-k])\n",
    "        profit_table.append(profit)\n",
    "            \n",
    "    return profit_table[count]\n",
    "\n",
    "# 테스트\n",
    "print(max_profit([0, 200, 600, 900, 1200, 2000], 5))\n",
    "print(max_profit([0, 300, 600, 700, 1100, 1400], 8))\n",
    "print(max_profit([0, 100, 200, 400, 600, 900, 1200, 1300, 1500, 1800], 9))"
   ]
  },
  {
   "cell_type": "code",
   "execution_count": 5,
   "metadata": {},
   "outputs": [
    {
     "name": "stdout",
     "output_type": "stream",
     "text": [
      "2000\n",
      "2400\n",
      "1800\n"
     ]
    }
   ],
   "source": [
    "def max_profit(price_list, count):\n",
    "    dp = [0]\n",
    "    for i in range(1, count+1):\n",
    "        if i < len(price_list):\n",
    "            profit = price_list[i]\n",
    "        else:\n",
    "            profit = 0\n",
    "        \n",
    "        for j in range(1, i//2 + 1):\n",
    "            profit = max(profit, dp[j]+dp[i-j])\n",
    "        dp.append(profit)\n",
    "        \n",
    "    return dp[count]\n",
    "\n",
    "    \n",
    "\n",
    "# 테스트\n",
    "print(max_profit([0, 200, 600, 900, 1200, 2000], 5))\n",
    "print(max_profit([0, 300, 600, 700, 1100, 1400], 8))\n",
    "print(max_profit([0, 100, 200, 400, 600, 900, 1200, 1300, 1500, 1800], 9))"
   ]
  },
  {
   "cell_type": "code",
   "execution_count": 17,
   "metadata": {},
   "outputs": [
    {
     "name": "stdout",
     "output_type": "stream",
     "text": [
      "3\n",
      "[1, 2, 3, 9, 10, 12]\n",
      "1\n",
      "[2, 9, 3, 12, 10]\n"
     ]
    }
   ],
   "source": [
    "import heapq\n",
    "from bisect import bisect_left\n",
    "\n",
    "heap = []\n",
    "scoville = [1, 2, 3, 9, 10, 12]\n",
    "s = [1,2,3]\n",
    "print(bisect_left(s, 7))\n",
    "\n",
    "for i in scoville:\n",
    "    heapq.heappush(heap, i)\n",
    "print(heap)\n",
    "print(heapq.heappop(heap))\n",
    "print(heap)"
   ]
  },
  {
   "cell_type": "code",
   "execution_count": 24,
   "metadata": {},
   "outputs": [
    {
     "ename": "IndexError",
     "evalue": "index out of range",
     "output_type": "error",
     "traceback": [
      "\u001b[0;31m---------------------------------------------------------------------------\u001b[0m",
      "\u001b[0;31mIndexError\u001b[0m                                Traceback (most recent call last)",
      "\u001b[0;32m<ipython-input-24-344b7c12dd54>\u001b[0m in \u001b[0;36m<module>\u001b[0;34m\u001b[0m\n\u001b[1;32m     10\u001b[0m     \u001b[0mcount\u001b[0m \u001b[0;34m+=\u001b[0m \u001b[0;36m1\u001b[0m\u001b[0;34m\u001b[0m\u001b[0;34m\u001b[0m\u001b[0m\n\u001b[1;32m     11\u001b[0m     \u001b[0mi_1\u001b[0m \u001b[0;34m=\u001b[0m \u001b[0mheapq\u001b[0m\u001b[0;34m.\u001b[0m\u001b[0mheappop\u001b[0m\u001b[0;34m(\u001b[0m\u001b[0mheap\u001b[0m\u001b[0;34m)\u001b[0m\u001b[0;34m\u001b[0m\u001b[0;34m\u001b[0m\u001b[0m\n\u001b[0;32m---> 12\u001b[0;31m     \u001b[0mi_2\u001b[0m \u001b[0;34m=\u001b[0m \u001b[0mheapq\u001b[0m\u001b[0;34m.\u001b[0m\u001b[0mheappop\u001b[0m\u001b[0;34m(\u001b[0m\u001b[0mheap\u001b[0m\u001b[0;34m)\u001b[0m\u001b[0;34m\u001b[0m\u001b[0;34m\u001b[0m\u001b[0m\n\u001b[0m\u001b[1;32m     13\u001b[0m     \u001b[0mi_new\u001b[0m \u001b[0;34m=\u001b[0m \u001b[0mi_1\u001b[0m \u001b[0;34m+\u001b[0m \u001b[0;34m(\u001b[0m\u001b[0mi_2\u001b[0m \u001b[0;34m*\u001b[0m \u001b[0;36m2\u001b[0m\u001b[0;34m)\u001b[0m\u001b[0;34m\u001b[0m\u001b[0;34m\u001b[0m\u001b[0m\n\u001b[1;32m     14\u001b[0m     \u001b[0;32mif\u001b[0m \u001b[0mi_new\u001b[0m \u001b[0;34m<\u001b[0m \u001b[0mK\u001b[0m\u001b[0;34m:\u001b[0m\u001b[0;34m\u001b[0m\u001b[0;34m\u001b[0m\u001b[0m\n",
      "\u001b[0;31mIndexError\u001b[0m: index out of range"
     ]
    }
   ],
   "source": [
    "import heapq\n",
    "scoville = [1, 9, 10, 12]\n",
    "K = 7\n",
    "heap = []\n",
    "for i in scoville:\n",
    "    if i < K:\n",
    "        heapq.heappush(heap, i)\n",
    "count = 0\n",
    "while heap:\n",
    "    count += 1\n",
    "    i_1 = heapq.heappop(heap)\n",
    "    i_2 = heapq.heappop(heap)\n",
    "    i_new = i_1 + (i_2 * 2)\n",
    "    if i_new < K:\n",
    "        heapq.heappush(heap, i_new)\n",
    "    \n",
    "    if len(heap) == 1:\n",
    "        print(-1)\n",
    "        break\n",
    "print(count)"
   ]
  },
  {
   "cell_type": "code",
   "execution_count": 31,
   "metadata": {},
   "outputs": [
    {
     "data": {
      "text/plain": [
       "3"
      ]
     },
     "execution_count": 31,
     "metadata": {},
     "output_type": "execute_result"
    }
   ],
   "source": [
    "import heapq\n",
    "\n",
    "def solution(scoville, K):\n",
    "    heap = []\n",
    "    for i in scoville:\n",
    "        if i< K:\n",
    "            heapq.heappush(heap, i)\n",
    "    answer = 0\n",
    "    if len(heap) == 1:\n",
    "        return -1\n",
    "    else:\n",
    "        while heap:\n",
    "            answer += 1\n",
    "            i_1 = heapq.heappop(heap)\n",
    "            i_2 = heapq.heappop(heap)\n",
    "            i_new = i_1 + (i_2 * 2)\n",
    "            if i_new < K:\n",
    "                heapq.heappush(heap, i_new)\n",
    "            if len(heap) == 1:\n",
    "                return -1\n",
    "    return answer\n",
    "scoville = [6,3,2,1,2,9, 10, 12]\n",
    "K = 7\n",
    "solution(scoville, K)"
   ]
  },
  {
   "cell_type": "code",
   "execution_count": 33,
   "metadata": {},
   "outputs": [
    {
     "data": {
      "text/plain": [
       "3"
      ]
     },
     "execution_count": 33,
     "metadata": {},
     "output_type": "execute_result"
    }
   ],
   "source": [
    "s = [9, 10, 12, 1,1]\n",
    "K = 7\n",
    "# heap = []\n",
    "heapq.heapify(s)\n",
    "while s[0] < K:\n",
    "    i_1 = heapq.heappop(s)\n",
    "    i_2 = heapq.heappop(s)\n",
    "    new_i = i_1 + i_2 * 2\n",
    "    if new_i < K:\n",
    "        heapq.heappush(s, new_i)\n",
    "    if len(s) == 1 and s[0] < K:\n",
    "        print(-1)\n",
    "        break\n",
    "    count += 1\n",
    "count"
   ]
  },
  {
   "cell_type": "code",
   "execution_count": 37,
   "metadata": {},
   "outputs": [
    {
     "data": {
      "text/plain": [
       "2"
      ]
     },
     "execution_count": 37,
     "metadata": {},
     "output_type": "execute_result"
    }
   ],
   "source": [
    "import heapq\n",
    "def solution(scoville, K):\n",
    "    heapq.heapify(scoville)\n",
    "    \n",
    "    answer = 0\n",
    "    while scoville[0] < K:\n",
    "        i_1 = heapq.heappop(scoville)\n",
    "        i_2 = heapq.heappop(scoville)\n",
    "        new_i = i_1 + (i_2 * 2)\n",
    "        answer += 1\n",
    "        heapq.heappush(scoville, new_i)\n",
    "        if len(scoville) == 1:\n",
    "            if scoville[0] < K:\n",
    "                return -1\n",
    "            else:\n",
    "                return answer\n",
    "    return answer"
   ]
  },
  {
   "cell_type": "code",
   "execution_count": null,
   "metadata": {},
   "outputs": [],
   "source": [
    "import heapq\n",
    "def solution(scoville, k):\n",
    "    heap = []\n",
    "    for num in scoville:\n",
    "        heapq.heappush(heap, num)\n",
    "    mix_cnt = 0\n",
    "    while heap[0] < k:\n",
    "        try:\n",
    "            heapq.heappush(heap, heapq.heappop(heap) + (heapq.heappop(heap) * 2))\n",
    "        except IndexError:\n",
    "            return -1\n",
    "        mix_cnt += 1\n",
    " \n",
    "     return mix_cnt"
   ]
  }
 ],
 "metadata": {
  "kernelspec": {
   "display_name": "Python 3",
   "language": "python",
   "name": "python3"
  },
  "language_info": {
   "codemirror_mode": {
    "name": "ipython",
    "version": 3
   },
   "file_extension": ".py",
   "mimetype": "text/x-python",
   "name": "python",
   "nbconvert_exporter": "python",
   "pygments_lexer": "ipython3",
   "version": "3.7.6"
  }
 },
 "nbformat": 4,
 "nbformat_minor": 4
}
