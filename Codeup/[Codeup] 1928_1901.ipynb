{
 "cells": [
  {
   "cell_type": "code",
   "execution_count": 3,
   "metadata": {},
   "outputs": [
    {
     "name": "stdout",
     "output_type": "stream",
     "text": [
      "5\n",
      "5\n",
      "16\n",
      "8\n",
      "4\n",
      "2\n",
      "1\n"
     ]
    }
   ],
   "source": [
    "# Colitz (순서대로 출력)\n",
    "n = int(input())\n",
    "\n",
    "def colitz(n):\n",
    "    if n == 1:\n",
    "        return print(n)\n",
    "    else:\n",
    "        if n % 2 == 0:\n",
    "            print(n)\n",
    "            n = int(n / 2)\n",
    "        else:\n",
    "            print(n)\n",
    "            n = (3 * n) + 1\n",
    "        return colitz(n)\n",
    "colitz(n)"
   ]
  },
  {
   "cell_type": "code",
   "execution_count": 4,
   "metadata": {},
   "outputs": [
    {
     "name": "stdout",
     "output_type": "stream",
     "text": [
      "5\n",
      "1\n",
      "2\n",
      "3\n",
      "4\n",
      "5\n"
     ]
    }
   ],
   "source": [
    "# 1부터 n까지 출력\n",
    "\n",
    "n = int(input())\n",
    "\n",
    "def printing(n):\n",
    "    if n == 0:\n",
    "        return\n",
    "    else:\n",
    "        printing(n-1)\n",
    "        print(n)\n",
    "printing(n)"
   ]
  }
 ],
 "metadata": {
  "kernelspec": {
   "display_name": "Python 3",
   "language": "python",
   "name": "python3"
  },
  "language_info": {
   "codemirror_mode": {
    "name": "ipython",
    "version": 3
   },
   "file_extension": ".py",
   "mimetype": "text/x-python",
   "name": "python",
   "nbconvert_exporter": "python",
   "pygments_lexer": "ipython3",
   "version": "3.7.6"
  }
 },
 "nbformat": 4,
 "nbformat_minor": 4
}
