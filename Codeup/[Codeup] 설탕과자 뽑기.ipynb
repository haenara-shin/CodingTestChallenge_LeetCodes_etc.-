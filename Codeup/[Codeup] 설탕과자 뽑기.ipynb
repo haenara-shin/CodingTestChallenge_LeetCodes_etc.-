{
 "cells": [
  {
   "cell_type": "code",
   "execution_count": 7,
   "metadata": {},
   "outputs": [
    {
     "name": "stdout",
     "output_type": "stream",
     "text": [
      "5 5\n",
      "3\n",
      "3 1 2 3\n",
      "3 1 2 3\n",
      "3 1 2 3\n",
      "[[0, 0, 0, 0, 0], [0, 0, 1, 0, 0], [0, 0, 1, 0, 0], [0, 0, 1, 0, 0], [0, 0, 0, 0, 0]]\n",
      "0 0 0 0 0 \n",
      "0 0 1 0 0 \n",
      "0 0 1 0 0 \n",
      "0 0 1 0 0 \n",
      "0 0 0 0 0 \n"
     ]
    }
   ],
   "source": [
    "# 입력 받은 h, w 만큼 0 으로 채운 메트릭스 설계\n",
    "\n",
    "h, w = map(int, input().split())\n",
    "\n",
    "matrix = []\n",
    "\n",
    "for i in range(h):\n",
    "    matrix.append([])\n",
    "    for j in range(w):\n",
    "        matrix[i].append(0)\n",
    "\n",
    "n = int(input())\n",
    "\n",
    "for i in range(n):\n",
    "    l, d, x, y = map(int, input().split())\n",
    "    if d == 0:\n",
    "        for j in range(l):\n",
    "            matrix[x-1][y+j-1] = 1\n",
    "    else:\n",
    "        for j in range(l):\n",
    "            matrix[x+j-1][y-1] = 1\n",
    "# print(matrix)\n",
    "\n",
    "for i in matrix:\n",
    "    for j in i:\n",
    "        print(j, end=' ')\n",
    "    print()"
   ]
  }
 ],
 "metadata": {
  "kernelspec": {
   "display_name": "Python 3",
   "language": "python",
   "name": "python3"
  },
  "language_info": {
   "codemirror_mode": {
    "name": "ipython",
    "version": 3
   },
   "file_extension": ".py",
   "mimetype": "text/x-python",
   "name": "python",
   "nbconvert_exporter": "python",
   "pygments_lexer": "ipython3",
   "version": "3.7.6"
  }
 },
 "nbformat": 4,
 "nbformat_minor": 4
}
