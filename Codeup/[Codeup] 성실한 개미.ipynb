{
 "cells": [
  {
   "cell_type": "code",
   "execution_count": 26,
   "metadata": {},
   "outputs": [
    {
     "name": "stdout",
     "output_type": "stream",
     "text": [
      "1 1 1 1 1 1 1 1 1 1\n",
      "1 0 0 1 0 0 0 0 0 1\n",
      "1 0 0 1 1 1 0 0 0 1\n",
      "1 0 0 0 0 0 0 1 0 1\n",
      "1 0 0 0 0 0 0 1 0 1\n",
      "1 0 0 0 0 1 0 1 0 1\n",
      "1 0 0 0 0 1 2 1 0 1\n",
      "1 0 0 0 0 1 0 0 0 1\n",
      "1 0 0 0 0 0 0 0 0 1\n",
      "1 1 1 1 1 1 1 1 1 1\n",
      "1 1 1 1 1 1 1 1 1 1 \n",
      "1 9 9 1 0 0 0 0 0 1 \n",
      "1 0 9 1 1 1 0 0 0 1 \n",
      "1 0 9 9 9 9 9 1 0 1 \n",
      "1 0 0 0 0 0 9 1 0 1 \n",
      "1 0 0 0 0 1 9 1 0 1 \n",
      "1 0 0 0 0 1 9 1 0 1 \n",
      "1 0 0 0 0 1 0 0 0 1 \n",
      "1 0 0 0 0 0 0 0 0 1 \n",
      "1 1 1 1 1 1 1 1 1 1 \n"
     ]
    }
   ],
   "source": [
    "matrix = []\n",
    "for i in range(10):\n",
    "    matrix.append([])\n",
    "    for j in range(10):\n",
    "        matrix[i].append(1)\n",
    "\n",
    "for i in range(10):\n",
    "    row = list(map(int, input().split()))\n",
    "    matrix[i] = row\n",
    "    \n",
    "x = 1\n",
    "y = 1\n",
    "while matrix[x][y] != 2:\n",
    "    if matrix[x][y] == 0:\n",
    "        matrix[x][y] = 9\n",
    "        if matrix[x][y+1] != 1:\n",
    "            y += 1\n",
    "        else:\n",
    "            x += 1\n",
    "    elif x == 9 and y == 9:\n",
    "        break\n",
    "    elif matrix[x][y] == 2:\n",
    "        matrix[x][y] = 9\n",
    "        break\n",
    "    else:\n",
    "        break\n",
    "\n",
    "if matrix[x][y] == 2:\n",
    "    matrix[x][y] = 9\n",
    "    \n",
    "for i in matrix:\n",
    "    for j in i:\n",
    "        print(j, end=' ')\n",
    "    print()"
   ]
  },
  {
   "cell_type": "code",
   "execution_count": null,
   "metadata": {},
   "outputs": [],
   "source": [
    "m=[]\n",
    "for i in range(12) :\n",
    "  m.append([])\n",
    "  for j in range(12) :\n",
    "    m[i].append(0)\n",
    "\n",
    "for i in range(10) :\n",
    "  a=input().split()\n",
    "  for j in range(10) :\n",
    "    m[i+1][j+1]=int(a[j])\n",
    "\n",
    "x = 2\n",
    "y = 2\n",
    "while True :\n",
    "  if m[x][y] == 0 :\n",
    "    m[x][y] = 9\n",
    "  elif m[x][y] == 2 :\n",
    "    m[x][y] = 9\n",
    "    break\n",
    "\n",
    "  if (m[x][y+1]==1 and m[x+1][y]==1) or (x==9 and y==9) :\n",
    "    break\n",
    "\n",
    "  if m[x][y+1] != 1 :\n",
    "    y += 1\n",
    "  elif m[x+1][y] != 1 :\n",
    "    x += 1\n",
    "    \n",
    "\n",
    "for i in range(1, 11) :\n",
    "  for j in range(1, 11) :\n",
    "    print(m[i][j], end=' ')\n",
    "  print()\n",
    "\n"
   ]
  }
 ],
 "metadata": {
  "kernelspec": {
   "display_name": "Python 3",
   "language": "python",
   "name": "python3"
  },
  "language_info": {
   "codemirror_mode": {
    "name": "ipython",
    "version": 3
   },
   "file_extension": ".py",
   "mimetype": "text/x-python",
   "name": "python",
   "nbconvert_exporter": "python",
   "pygments_lexer": "ipython3",
   "version": "3.7.6"
  }
 },
 "nbformat": 4,
 "nbformat_minor": 4
}
