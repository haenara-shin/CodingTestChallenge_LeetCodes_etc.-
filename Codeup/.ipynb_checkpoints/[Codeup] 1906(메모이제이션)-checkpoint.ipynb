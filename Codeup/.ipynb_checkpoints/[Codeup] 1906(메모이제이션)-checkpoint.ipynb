{
 "cells": [
  {
   "cell_type": "code",
   "execution_count": 21,
   "metadata": {},
   "outputs": [
    {
     "name": "stdout",
     "output_type": "stream",
     "text": [
      "7\n",
      "13\n"
     ]
    }
   ],
   "source": [
    "# 1906: 피보나치(큰 수) - 메모이제이션\n",
    "\n",
    "n = int(input())\n",
    "\n",
    "memoization = {0:0, 1:1}\n",
    "def fibonacci(n):\n",
    "    if n in memoization:\n",
    "        return memoization[n]\n",
    "    else:\n",
    "        memoization[n] = fibonacci(n-1) + fibonacci(n-2)\n",
    "        return memoization[n]\n",
    "print(fibonacci(n)%10009)"
   ]
  }
 ],
 "metadata": {
  "kernelspec": {
   "display_name": "Python 3",
   "language": "python",
   "name": "python3"
  },
  "language_info": {
   "codemirror_mode": {
    "name": "ipython",
    "version": 3
   },
   "file_extension": ".py",
   "mimetype": "text/x-python",
   "name": "python",
   "nbconvert_exporter": "python",
   "pygments_lexer": "ipython3",
   "version": "3.7.6"
  }
 },
 "nbformat": 4,
 "nbformat_minor": 4
}
