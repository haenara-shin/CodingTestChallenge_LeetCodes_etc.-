{
 "cells": [
  {
   "cell_type": "markdown",
   "metadata": {},
   "source": [
    "'%x' %a : 16진수, 소문자\n",
    "'%X', %a: 16진수 대문자\n",
    "ord(input()): 문자를 10진수 유니코드로\n",
    "chr(c): 정수값을 유니코드 문자로 \n",
    "int(a, 16): a를 16진수로 \n",
    "'%o', %a: 8진수, 소문자"
   ]
  }
 ],
 "metadata": {
  "kernelspec": {
   "display_name": "Python 3",
   "language": "python",
   "name": "python3"
  },
  "language_info": {
   "codemirror_mode": {
    "name": "ipython",
    "version": 3
   },
   "file_extension": ".py",
   "mimetype": "text/x-python",
   "name": "python",
   "nbconvert_exporter": "python",
   "pygments_lexer": "ipython3",
   "version": "3.7.6"
  }
 },
 "nbformat": 4,
 "nbformat_minor": 4
}
