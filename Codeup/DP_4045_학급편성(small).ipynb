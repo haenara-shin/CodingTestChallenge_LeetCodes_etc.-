{
 "cells": [
  {
   "cell_type": "code",
   "execution_count": 3,
   "metadata": {},
   "outputs": [
    {
     "name": "stdout",
     "output_type": "stream",
     "text": [
      "5 3\n"
     ]
    }
   ],
   "source": [
    "n, m = map(int, input().split())\n",
    "\n",
    "dp = [[0 for col in range(50)] for row in range(50)]\n",
    "sumup = [[0 for col in range(50)] for row in range(50)]\n",
    "\n",
    "dp[1][1] = 1\n",
    "sumup[1][1] = 1\n",
    "\n",
    "for i in range(1, n+1):\n",
    "    dp[i][i] = 1\n",
    "    sumup[i][i] = 1\n",
    "    for j in range(1, i+1):\n",
    "        dp[i][j] = (sumup[i-j][j] + dp[i][j]) % 123456789\n",
    "        sumup[i][j] = (sumup[i][j-1] + dp[i][j]) % 123456789\n",
    "        for k in range(i+1, m+1):\n",
    "            sumup[i][k] = sumup[i][i]\n",
    "\n",
    "print(sumup[n][m])"
   ]
  },
  {
   "cell_type": "code",
   "execution_count": 7,
   "metadata": {},
   "outputs": [
    {
     "name": "stdout",
     "output_type": "stream",
     "text": [
      "5 3\n",
      "5\n"
     ]
    }
   ],
   "source": [
    "n, m = map(int, input().split())\n",
    "\n",
    "def small(num, max_d):\n",
    "    res = 0\n",
    "    \n",
    "    if num <= 1 or max_d == 1:\n",
    "        return 1\n",
    "    \n",
    "    if max_d > num:\n",
    "        max_d = num\n",
    "    \n",
    "    for i in range(1,max_d+1):\n",
    "        res += small(num-i, i)\n",
    "    \n",
    "    return res\n",
    "\n",
    "print(small(n, m))"
   ]
  },
  {
   "cell_type": "code",
   "execution_count": null,
   "metadata": {},
   "outputs": [],
   "source": []
  }
 ],
 "metadata": {
  "kernelspec": {
   "display_name": "Python 3",
   "language": "python",
   "name": "python3"
  },
  "language_info": {
   "codemirror_mode": {
    "name": "ipython",
    "version": 3
   },
   "file_extension": ".py",
   "mimetype": "text/x-python",
   "name": "python",
   "nbconvert_exporter": "python",
   "pygments_lexer": "ipython3",
   "version": "3.7.6"
  }
 },
 "nbformat": 4,
 "nbformat_minor": 4
}
