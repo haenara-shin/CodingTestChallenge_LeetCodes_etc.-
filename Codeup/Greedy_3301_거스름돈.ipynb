{
 "cells": [
  {
   "cell_type": "markdown",
   "metadata": {},
   "source": [
    "어떤 가게의 욕심쟁이 점원은 거스름돈을 나눠줄때 거스름돈의 개수를 적게해서 주고자 한다.\n",
    "\n",
    "거스름돈을 입력 받아 점원이 줄 수 있는 최소 거스름돈의 개수를 출력하시오.\n",
    "\n",
    "예를 들어 54520원인 경우,\n",
    "\n",
    "거스름돈으로 50000원권 1장, 1000원권 4장, 500원 1개, 10원 2개 해서 총 8개이다.\n",
    "\n",
    "(※ 현재 우리나라가 사용하고 있는 화폐를 사용한다. 10원 50원 100원 500원 1,000원 5,000원 10,000원 50,000원)\n",
    "\n",
    "거스름돈 n이 입력된다. ( n은10이상의  int 범위 )\n",
    "\n",
    "54520\n",
    "\n",
    "8"
   ]
  },
  {
   "cell_type": "code",
   "execution_count": 40,
   "metadata": {},
   "outputs": [
    {
     "name": "stdout",
     "output_type": "stream",
     "text": [
      "54520\n",
      "8\n"
     ]
    }
   ],
   "source": [
    "def change(n):\n",
    "    money = [50000, 10000, 5000, 1000, 500, 100, 50, 10]\n",
    "    ans = 0\n",
    "    \n",
    "    for i in money:\n",
    "        if i <= n:\n",
    "            ans += (n // i)\n",
    "            n -= (n // i) * i\n",
    "    return ans\n",
    "\n",
    "print(change(int(input())))"
   ]
  },
  {
   "cell_type": "code",
   "execution_count": null,
   "metadata": {},
   "outputs": [],
   "source": []
  }
 ],
 "metadata": {
  "kernelspec": {
   "display_name": "Python 3",
   "language": "python",
   "name": "python3"
  },
  "language_info": {
   "codemirror_mode": {
    "name": "ipython",
    "version": 3
   },
   "file_extension": ".py",
   "mimetype": "text/x-python",
   "name": "python",
   "nbconvert_exporter": "python",
   "pygments_lexer": "ipython3",
   "version": "3.7.6"
  }
 },
 "nbformat": 4,
 "nbformat_minor": 4
}
