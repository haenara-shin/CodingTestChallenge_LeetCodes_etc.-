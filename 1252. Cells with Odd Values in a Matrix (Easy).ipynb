{
 "cells": [
  {
   "cell_type": "markdown",
   "metadata": {},
   "source": [
    "Given n and m which are the dimensions of a matrix initialized by zeros and given an array indices where indices[i] = [ri, ci]. For each pair of [ri, ci] you have to increment all cells in row ri and column ci by 1.\n",
    "\n",
    "Return the number of cells with odd values in the matrix after applying the increment to all indices.\n",
    "\n",
    " \n",
    "\n",
    "Example 1:\n",
    "\n",
    "\n",
    "Input: n = 2, m = 3, indices = [[0,1],[1,1]]\n",
    "Output: 6\n",
    "Explanation: Initial matrix = [[0,0,0],[0,0,0]].\n",
    "After applying first increment it becomes [[1,2,1],[0,1,0]].\n",
    "The final matrix will be [[1,3,1],[1,3,1]] which contains 6 odd numbers.\n",
    "Example 2:\n",
    "\n",
    "\n",
    "Input: n = 2, m = 2, indices = [[1,1],[0,0]]\n",
    "Output: 0\n",
    "Explanation: Final matrix = [[2,2],[2,2]]. There is no odd number in the final matrix.\n",
    " \n",
    "\n",
    "Constraints:\n",
    "\n",
    "1 <= n <= 50\n",
    "1 <= m <= 50\n",
    "1 <= indices.length <= 100\n",
    "0 <= indices[i][0] < n\n",
    "0 <= indices[i][1] < m"
   ]
  },
  {
   "cell_type": "code",
   "execution_count": 8,
   "metadata": {},
   "outputs": [
    {
     "data": {
      "text/plain": [
       "6"
      ]
     },
     "execution_count": 8,
     "metadata": {},
     "output_type": "execute_result"
    }
   ],
   "source": [
    "def oddCells(n, m, indices):\n",
    "    r = [0 for _ in range(n)]\n",
    "    c = [0 for _ in range(m)]\n",
    "    \n",
    "    for ri, ci in indices:\n",
    "        r[ri] += 1\n",
    "        c[ci] += 1\n",
    "        \n",
    "    res = 0\n",
    "    for i in range(n):\n",
    "        for j in range(m):\n",
    "            if (r[i] + c[i]) % 2 == 1:\n",
    "                res +=1\n",
    "    return res\n",
    "\n",
    "oddCells(2, 3, [[1,0],[1,1]])"
   ]
  },
  {
   "cell_type": "code",
   "execution_count": null,
   "metadata": {},
   "outputs": [],
   "source": [
    "class Solution(object):\n",
    "    def oddCells(self, n, m, indices):\n",
    "        \"\"\"\n",
    "        :type n: int\n",
    "        :type m: int\n",
    "        :type indices: List[List[int]]\n",
    "        :rtype: int\n",
    "        \"\"\"\n",
    "        r = [0 for _ in range(n)]\n",
    "        c = [0 for _ in range(m)]\n",
    "        \n",
    "        for ri, ci in indices:\n",
    "            r[ri] += 1\n",
    "            c[ci] += 1\n",
    "        \n",
    "        res = 0\n",
    "        for i in range(n):\n",
    "            for j in range(m):\n",
    "                if (r[i] + c[j]) % 2 == 1:\n",
    "                    res += 1\n",
    "                \n",
    "        \n",
    "        return res"
   ]
  },
  {
   "cell_type": "code",
   "execution_count": null,
   "metadata": {},
   "outputs": [],
   "source": [
    "class Solution:\n",
    "    def oddCells(self, n: int, m: int, indices: List[List[int]]) -> int:\n",
    "        odd_count = 0\n",
    "        rows = [0] * n\n",
    "        cols = [0] * m\n",
    "\n",
    "        for i, j in indices:\n",
    "            rows[i] = rows[i] ^ 1\n",
    "            cols[j] = cols[j] ^ 1\n",
    "\n",
    "        for i in range(n):\n",
    "            for j in range(m):\n",
    "                if(rows[i] ^ cols[j] == 1): odd_count += 1\n",
    "\n",
    "        return odd_count"
   ]
  }
 ],
 "metadata": {
  "kernelspec": {
   "display_name": "Python 3",
   "language": "python",
   "name": "python3"
  },
  "language_info": {
   "codemirror_mode": {
    "name": "ipython",
    "version": 3
   },
   "file_extension": ".py",
   "mimetype": "text/x-python",
   "name": "python",
   "nbconvert_exporter": "python",
   "pygments_lexer": "ipython3",
   "version": "3.7.6"
  }
 },
 "nbformat": 4,
 "nbformat_minor": 4
}
