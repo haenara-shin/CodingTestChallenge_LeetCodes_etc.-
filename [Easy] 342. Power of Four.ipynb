{
 "cells": [
  {
   "cell_type": "markdown",
   "metadata": {},
   "source": [
    "Given an integer n, return true if it is a power of four. Otherwise, return false.\n",
    "\n",
    "An integer n is a power of four, if there exists an integer x such that n == 4**x.\n",
    "\n",
    " \n",
    "\n",
    "Example 1:\n",
    "\n",
    "Input: n = 16\n",
    "Output: true\n",
    "Example 2:\n",
    "\n",
    "Input: n = 5\n",
    "Output: false\n",
    "Example 3:\n",
    "\n",
    "Input: n = 1\n",
    "Output: true\n",
    " \n",
    "\n",
    "Constraints:\n",
    "\n",
    "-231 <= n <= 231 - 1\n",
    " \n",
    "\n",
    "Follow up: Could you solve it without loops/recursion?"
   ]
  },
  {
   "cell_type": "code",
   "execution_count": null,
   "metadata": {},
   "outputs": [],
   "source": [
    "class Solution:\n",
    "    def isPowerOfFour(self, n: int) -> bool:\n",
    "        if n <= 0:\n",
    "            return False\n",
    "        else:\n",
    "            a = math.log(n)\n",
    "            b = math.log(4)\n",
    "            c = a / b\n",
    "            c_ = str(c).split('.')\n",
    "            return c_[1] == '0'"
   ]
  },
  {
   "cell_type": "markdown",
   "metadata": {},
   "source": [
    "비트 연산자 (Bitwise Operators):\n",
    "\n",
    "a = 60, b = 13 이라 가정한다.\n",
    "\n",
    "a = 0011 1100\n",
    "\n",
    "b = 0000 1101\n",
    "\n",
    "Operator\tDescription\tExample\n",
    "&\tAND 연산. 둘다 참일때만 만족\t(a & b) = 12 → 0000 1100\n",
    "|\tOR 연산. 둘 중 하나만 참이여도 만족\t(a | b) = 61 → 0011 1101\n",
    "^\tXOR 연산. 둘 중 하나만 참일 때 만족\t(a ^ b) = 49 → 0011 0001\n",
    "~\t보수 연산.\t(~a) = -61 → 1100 0011\n",
    "<<\t왼쪽 시프트 연산자. 변수의 값을 왼쪽으로 지정된 비트 수 만큼 이동\ta << 2 = 240 → 1111 0000\n",
    ">>\t오른쪽 시프트 연산자. 변수의 값을 오른쪽으로 지정된 비트 수 만큼 이동\ta >> 2 = 15 → 0000 1111\n"
   ]
  },
  {
   "cell_type": "code",
   "execution_count": null,
   "metadata": {},
   "outputs": [],
   "source": [
    "class Solution:\n",
    "    def isPowerOfFour(self, n: int) -> bool:\n",
    "        i=0\n",
    "        if n<=0:\n",
    "            return False\n",
    "        if(n&(n-1)==0):\n",
    "            while((n&(1<<i))==0):\n",
    "                i+=1\n",
    "            \n",
    "            if i%2!=0:\n",
    "                return False\n",
    "        else:\n",
    "            return False\n",
    "        \n",
    "        return True"
   ]
  },
  {
   "cell_type": "code",
   "execution_count": null,
   "metadata": {},
   "outputs": [],
   "source": []
  },
  {
   "cell_type": "code",
   "execution_count": null,
   "metadata": {},
   "outputs": [],
   "source": [
    "class Solution:\n",
    "    def isPowerOfFour(self, n: int) -> bool:\n",
    "        while n >= 1:\n",
    "\n",
    "                if n == 1:\n",
    "                    return True\n",
    "\n",
    "                if n % 4 == 0:\n",
    "                    n = n//4\n",
    "                else: \n",
    "                    return False"
   ]
  }
 ],
 "metadata": {
  "kernelspec": {
   "display_name": "Python 3",
   "language": "python",
   "name": "python3"
  },
  "language_info": {
   "codemirror_mode": {
    "name": "ipython",
    "version": 3
   },
   "file_extension": ".py",
   "mimetype": "text/x-python",
   "name": "python",
   "nbconvert_exporter": "python",
   "pygments_lexer": "ipython3",
   "version": "3.7.6"
  }
 },
 "nbformat": 4,
 "nbformat_minor": 4
}
