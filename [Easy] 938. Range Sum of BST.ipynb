{
 "cells": [
  {
   "cell_type": "markdown",
   "metadata": {},
   "source": [
    "Given the root node of a binary search tree, return the sum of values of all nodes with value between L and R (inclusive).\n",
    "\n",
    "The binary search tree is guaranteed to have unique values.\n",
    "\n",
    " \n",
    "\n",
    "Example 1:\n",
    "\n",
    "Input: root = [10,5,15,3,7,null,18], L = 7, R = 15\n",
    "Output: 32\n",
    "\n",
    "Example 2:\n",
    "\n",
    "Input: root = [10,5,15,3,7,13,18,1,null,6], L = 6, R = 10\n",
    "Output: 23\n",
    " \n",
    "\n",
    "Note:\n",
    "\n",
    "The number of nodes in the tree is at most 10000.\n",
    "The final answer is guaranteed to be less than 2^31."
   ]
  },
  {
   "cell_type": "markdown",
   "metadata": {},
   "source": [
    "# 재귀-DFS(전체 탐색함, brute-force)"
   ]
  },
  {
   "cell_type": "code",
   "execution_count": null,
   "metadata": {},
   "outputs": [],
   "source": [
    "# Definition for a binary tree node.\n",
    "# class TreeNode:\n",
    "#     def __init__(self, val=0, left=None, right=None):\n",
    "#         self.val = val\n",
    "#         self.left = left\n",
    "#         self.right = right\n",
    "class Solution:\n",
    "    def rangeSumBST(self, root: TreeNode, low: int, high: int) -> int:\n",
    "        if not root:\n",
    "            return 0\n",
    "        return (root.val if low <= root.val <= high else 0) + self.rangeSumBST(root.left, low, high) + self.rangeSumBST(root.right, low, high)"
   ]
  },
  {
   "cell_type": "markdown",
   "metadata": {},
   "source": [
    "# DFS(pruning)"
   ]
  },
  {
   "cell_type": "code",
   "execution_count": null,
   "metadata": {},
   "outputs": [],
   "source": [
    "# Definition for a binary tree node.\n",
    "# class TreeNode:\n",
    "#     def __init__(self, val=0, left=None, right=None):\n",
    "#         self.val = val\n",
    "#         self.left = left\n",
    "#         self.right = right\n",
    "class Solution:\n",
    "    def rangeSumBST(self, root: TreeNode, low: int, high: int) -> int:\n",
    "        def dfs(node:TreeNode):\n",
    "            if not node:\n",
    "                return 0\n",
    "            \n",
    "            if node.val < low:\n",
    "                return dfs(node.right)\n",
    "            elif node.val > high:\n",
    "                return dfs(node.left)\n",
    "            return node.val + dfs(node.left) + dfs(node.right)\n",
    "        return dfs(root)"
   ]
  },
  {
   "cell_type": "markdown",
   "metadata": {},
   "source": [
    "# DFS(iteratively node searching)"
   ]
  },
  {
   "cell_type": "code",
   "execution_count": null,
   "metadata": {},
   "outputs": [],
   "source": [
    "# Definition for a binary tree node.\n",
    "# class TreeNode:\n",
    "#     def __init__(self, val=0, left=None, right=None):\n",
    "#         self.val = val\n",
    "#         self.left = left\n",
    "#         self.right = right\n",
    "class Solution:\n",
    "    def rangeSumBST(self, root: TreeNode, low: int, high: int) -> int:\n",
    "        stack, sums = [root], 0\n",
    "        while stack:\n",
    "            node = stack.pop()\n",
    "            if node:\n",
    "                if node.val > low:\n",
    "                    stack.append(node.left)\n",
    "                if node.val < high:\n",
    "                    stack.append(node.right)\n",
    "                if low <= node.val <= high:\n",
    "                    sums += node.val\n",
    "        return sums"
   ]
  },
  {
   "cell_type": "markdown",
   "metadata": {},
   "source": [
    "# BFS(iteratively node searching - deque)"
   ]
  },
  {
   "cell_type": "code",
   "execution_count": null,
   "metadata": {},
   "outputs": [],
   "source": [
    "# Definition for a binary tree node.\n",
    "# class TreeNode:\n",
    "#     def __init__(self, val=0, left=None, right=None):\n",
    "#         self.val = val\n",
    "#         self.left = left\n",
    "#         self.right = right\n",
    "class Solution:\n",
    "    def rangeSumBST(self, root: TreeNode, low: int, high: int) -> int:\n",
    "        from collections import deque\n",
    "        stack, sums = deque([root]), 0\n",
    "        while stack:\n",
    "            node = stack.popleft()\n",
    "            if node:\n",
    "                if node.val > low:\n",
    "                    stack.append(node.left)\n",
    "                if node.val < high:\n",
    "                    stack.append(node.right)\n",
    "                if low <= node.val <= high:\n",
    "                    sums += node.val\n",
    "        return sums"
   ]
  }
 ],
 "metadata": {
  "kernelspec": {
   "display_name": "Python 3",
   "language": "python",
   "name": "python3"
  },
  "language_info": {
   "codemirror_mode": {
    "name": "ipython",
    "version": 3
   },
   "file_extension": ".py",
   "mimetype": "text/x-python",
   "name": "python",
   "nbconvert_exporter": "python",
   "pygments_lexer": "ipython3",
   "version": "3.7.6"
  }
 },
 "nbformat": 4,
 "nbformat_minor": 4
}
