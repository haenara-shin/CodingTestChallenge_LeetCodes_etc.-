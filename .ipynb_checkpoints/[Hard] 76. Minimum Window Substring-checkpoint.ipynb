{
 "cells": [
  {
   "cell_type": "markdown",
   "metadata": {},
   "source": [
    "Given two strings s and t, return the minimum window in s which will contain all the characters in t. If there is no such window in s that covers all characters in t, return the empty string \"\".\n",
    "\n",
    "Note that If there is such a window, it is guaranteed that there will always be only one unique minimum window in s.\n",
    "\n",
    " \n",
    "\n",
    "Example 1:\n",
    "\n",
    "Input: s = \"ADOBECODEBANC\", t = \"ABC\"\n",
    "Output: \"BANC\"\n",
    "Example 2:\n",
    "\n",
    "Input: s = \"a\", t = \"a\"\n",
    "Output: \"a\"\n",
    " \n",
    "\n",
    "Constraints:\n",
    "\n",
    "1 <= s.length, t.length <= 105\n",
    "s and t consist of English letters.\n",
    " \n",
    "\n",
    "Follow up: Could you find an algorithm that runs in O(n) time?"
   ]
  },
  {
   "cell_type": "code",
   "execution_count": null,
   "metadata": {},
   "outputs": [],
   "source": [
    "class Solution:\n",
    "    def minWindow(self, s: str, t: str) -> str:\n",
    "        from collections import Counter\n",
    "        \n",
    "        need = Counter(t)\n",
    "        missing = len(t)\n",
    "        left = start = end = 0\n",
    "        \n",
    "        # 오른쪽 포인터 이동\n",
    "        for right, char in enumerate(s, 1):\n",
    "            missing -= need[char] > 0\n",
    "            need[char] -= 1\n",
    "            \n",
    "            # 필요 문자가 0 이면 왼쪽 포인터 이동\n",
    "            if missing == 0:\n",
    "                while left < right and need[s[left]] < 0:\n",
    "                    need[s[left]] += 1\n",
    "                    left += 1\n",
    "                    \n",
    "                if not end or right - left <= end - start:\n",
    "                    start, end = left, right\n",
    "                    \n",
    "                need[s[left]] += 1\n",
    "                missing += 1\n",
    "                left += 1\n",
    "        return s[start:end]"
   ]
  }
 ],
 "metadata": {
  "kernelspec": {
   "display_name": "Python 3",
   "language": "python",
   "name": "python3"
  },
  "language_info": {
   "codemirror_mode": {
    "name": "ipython",
    "version": 3
   },
   "file_extension": ".py",
   "mimetype": "text/x-python",
   "name": "python",
   "nbconvert_exporter": "python",
   "pygments_lexer": "ipython3",
   "version": "3.7.6"
  }
 },
 "nbformat": 4,
 "nbformat_minor": 4
}
