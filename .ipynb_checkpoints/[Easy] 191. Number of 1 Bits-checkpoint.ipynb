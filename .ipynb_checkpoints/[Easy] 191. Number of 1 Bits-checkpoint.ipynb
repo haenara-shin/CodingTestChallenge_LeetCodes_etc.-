{
 "cells": [
  {
   "cell_type": "markdown",
   "metadata": {},
   "source": [
    "Write a function that takes an unsigned integer and returns the number of '1' bits it has (also known as the Hamming weight).\n",
    "\n",
    "Note:\n",
    "\n",
    "Note that in some languages, such as Java, there is no unsigned integer type. In this case, the input will be given as a signed integer type. It should not affect your implementation, as the integer's internal binary representation is the same, whether it is signed or unsigned.\n",
    "In Java, the compiler represents the signed integers using 2's complement notation. Therefore, in Example 3, the input represents the signed integer. -3.\n",
    " \n",
    "\n",
    "Example 1:\n",
    "\n",
    "Input: n = 00000000000000000000000000001011\n",
    "Output: 3\n",
    "Explanation: The input binary string 00000000000000000000000000001011 has a total of three '1' bits.\n",
    "Example 2:\n",
    "\n",
    "Input: n = 00000000000000000000000010000000\n",
    "Output: 1\n",
    "Explanation: The input binary string 00000000000000000000000010000000 has a total of one '1' bit.\n",
    "Example 3:\n",
    "\n",
    "Input: n = 11111111111111111111111111111101\n",
    "Output: 31\n",
    "Explanation: The input binary string 11111111111111111111111111111101 has a total of thirty one '1' bits.\n",
    " \n",
    "\n",
    "Constraints:\n",
    "\n",
    "The input must be a binary string of length 32."
   ]
  },
  {
   "cell_type": "code",
   "execution_count": 15,
   "metadata": {},
   "outputs": [
    {
     "data": {
      "text/plain": [
       "60"
      ]
     },
     "execution_count": 15,
     "metadata": {},
     "output_type": "execute_result"
    }
   ],
   "source": [
    "class Solution:\n",
    "    def hammingWeight(self, n: int) -> int:\n",
    "        bin_str=bin(n) # 2진수 문자열로 변환\n",
    "        count=0\n",
    "        for num in bin_str:\n",
    "            if num ==\"1\":\n",
    "                count +=1\n",
    "        return count"
   ]
  },
  {
   "cell_type": "code",
   "execution_count": null,
   "metadata": {},
   "outputs": [],
   "source": [
    "class Solution:\n",
    "    def hammingWeight(self, n: int) -> int:\n",
    "        return sum((n >> i)&1 for i in range(32)) #bitwise 연산인데 좀 느림."
   ]
  }
 ],
 "metadata": {
  "kernelspec": {
   "display_name": "Python 3",
   "language": "python",
   "name": "python3"
  },
  "language_info": {
   "codemirror_mode": {
    "name": "ipython",
    "version": 3
   },
   "file_extension": ".py",
   "mimetype": "text/x-python",
   "name": "python",
   "nbconvert_exporter": "python",
   "pygments_lexer": "ipython3",
   "version": "3.7.6"
  }
 },
 "nbformat": 4,
 "nbformat_minor": 4
}
