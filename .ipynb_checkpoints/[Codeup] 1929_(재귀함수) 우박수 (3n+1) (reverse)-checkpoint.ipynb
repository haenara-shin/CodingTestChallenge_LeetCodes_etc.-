{
 "cells": [
  {
   "cell_type": "markdown",
   "metadata": {},
   "source": [
    "콜라츠의 추측, 3n+1\n",
    " 문제, 우박수 문제라고 불리는 이 문제는 다음과 같다.\n",
    "\n",
    "어떤 자연수 n이 입력되면,\n",
    "n 이 홀수이면 3n+1을 하고,\n",
    "n 이 짝수이면 n2 를 한다.\n",
    "\n",
    "이 n이 1이 될때까지 2 3 과정을 반복한다.\n",
    "\n",
    "예를 들어 5는\n",
    "5 → 16 → 8 → 4 → 2 → 1 이 된다.\n",
    "\n",
    "그런데 이번에는 이 순서의 역순을 출력하고자 한다.\n",
    "\n",
    "즉, 1 2 4 8 16 5 가 출력되어야 한다."
   ]
  },
  {
   "cell_type": "code",
   "execution_count": 10,
   "metadata": {},
   "outputs": [
    {
     "name": "stdout",
     "output_type": "stream",
     "text": [
      "5\n",
      "1\n",
      "2\n",
      "4\n",
      "8\n",
      "16\n",
      "5\n"
     ]
    }
   ],
   "source": [
    "def test(n):\n",
    "    if n == 1:\n",
    "        return print(1)\n",
    "    else:\n",
    "        if n % 2 == 0:\n",
    "            test(int(n / 2))\n",
    "        else:\n",
    "            test((3 * n) + 1)\n",
    "    print(n)\n",
    "n = int(input())\n",
    "test(n)"
   ]
  },
  {
   "cell_type": "code",
   "execution_count": null,
   "metadata": {},
   "outputs": [],
   "source": []
  }
 ],
 "metadata": {
  "kernelspec": {
   "display_name": "Python 3",
   "language": "python",
   "name": "python3"
  },
  "language_info": {
   "codemirror_mode": {
    "name": "ipython",
    "version": 3
   },
   "file_extension": ".py",
   "mimetype": "text/x-python",
   "name": "python",
   "nbconvert_exporter": "python",
   "pygments_lexer": "ipython3",
   "version": "3.7.6"
  }
 },
 "nbformat": 4,
 "nbformat_minor": 4
}
