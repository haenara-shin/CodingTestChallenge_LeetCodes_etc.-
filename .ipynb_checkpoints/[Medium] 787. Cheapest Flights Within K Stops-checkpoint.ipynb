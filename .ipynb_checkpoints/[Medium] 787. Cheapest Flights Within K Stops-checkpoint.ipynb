{
 "cells": [
  {
   "attachments": {
    "995-2.png": {
     "image/png": "[encoded data removed]"
    },
    "995.png": {
     "image/png": "[encoded data removed]"
    }
   },
   "cell_type": "markdown",
   "metadata": {},
   "source": [
    "There are n cities connected by m flights. Each flight starts from city u and arrives at v with a price w.\n",
    "\n",
    "Now given all the cities and flights, together with starting city src and the destination dst, your task is to find the cheapest price from src to dst with up to k stops. If there is no such route, output -1.\n",
    "\n",
    "Example 1:\n",
    "Input: \n",
    "n = 3, edges = [[0,1,100],[1,2,100],[0,2,500]]\n",
    "src = 0, dst = 2, k = 1\n",
    "Output: 200\n",
    "Explanation: \n",
    "The graph looks like this:\n",
    "\n",
    "![995-2.png](attachment:995-2.png)    \n",
    "\n",
    "The cheapest price from city 0 to city 2 with at most 1 stop costs 200, as marked red in the picture.\n",
    "Example 2:\n",
    "Input: \n",
    "n = 3, edges = [[0,1,100],[1,2,100],[0,2,500]]\n",
    "src = 0, dst = 2, k = 0\n",
    "Output: 500\n",
    "Explanation: \n",
    "The graph looks like this:\n",
    "\n",
    "![995.png](attachment:995.png)\n",
    "\n",
    "The cheapest price from city 0 to city 2 with at most 0 stop costs 500, as marked blue in the picture.\n",
    " \n",
    "\n",
    "Constraints:\n",
    "\n",
    "The number of nodes n will be in range [1, 100], with nodes labeled from 0 to n - 1.\n",
    "The size of flights will be in range [0, n * (n - 1) / 2].\n",
    "The format of each flight will be (src, dst, price).\n",
    "The price of each flight will be in the range [1, 10000].\n",
    "k is in the range of [0, n - 1].\n",
    "There will not be any duplicated flights or self cycles."
   ]
  },
  {
   "cell_type": "code",
   "execution_count": 6,
   "metadata": {},
   "outputs": [
    {
     "data": {
      "text/plain": [
       "200"
      ]
     },
     "execution_count": 6,
     "metadata": {},
     "output_type": "execute_result"
    }
   ],
   "source": [
    "class Solution:\n",
    "    def findCheapestPrice(self, n, flights, src, dst, K):\n",
    "        from collections import defaultdict\n",
    "        import heapq\n",
    "        \n",
    "        graph = defaultdict(list)\n",
    "        for u, v, w in flights:\n",
    "            graph[u].append((v,w))\n",
    "            \n",
    "        Q = [(0, src, K)] # price, start(node), stops\n",
    "        while Q:\n",
    "            price, node, k = heapq.heappop(Q)\n",
    "            if node == dst:\n",
    "                return price\n",
    "            if k >= 0:\n",
    "                for v, w in graph[node]:\n",
    "                    alt = price + w\n",
    "                    heapq.heappush(Q, (alt, v, k-1))\n",
    "        return -1\n",
    "s = Solution()\n",
    "s.findCheapestPrice(3, [[0,1,100],[1,2,100],[0,2,500]], 0, 2, 1)"
   ]
  },
  {
   "cell_type": "code",
   "execution_count": null,
   "metadata": {},
   "outputs": [],
   "source": [
    "class Solution:\n",
    "    def findCheapestPrice(self, n: int, flights: List[List[int]], src: int, dst: int, K: int) -> int:\n",
    "        import collections\n",
    "        graph = collections.defaultdict(list)\n",
    "        # 그래프 인접 리스트 구성\n",
    "        for u, v, w in flights:\n",
    "            graph[u].append((v,w))\n",
    "            \n",
    "        # 큐 변수: [(가격, 정점, 남은 가능 경유지 수)]\n",
    "        Q = [(0, src, K)]\n",
    "        \n",
    "        import heapq\n",
    "        # 우선 순위 큐 최솟값 기준으로 도착점까지 최소 비용 판별\n",
    "        while Q:\n",
    "            price, node, k = heapq.heappop(Q)\n",
    "            if node == dst:\n",
    "                return price\n",
    "            if k >= 0:\n",
    "                for v, w in graph[node]:\n",
    "                    alt = price + w\n",
    "                    heapq.heappush(Q, (alt, v, k-1))\n",
    "        return -1"
   ]
  }
 ],
 "metadata": {
  "kernelspec": {
   "display_name": "Python 3",
   "language": "python",
   "name": "python3"
  },
  "language_info": {
   "codemirror_mode": {
    "name": "ipython",
    "version": 3
   },
   "file_extension": ".py",
   "mimetype": "text/x-python",
   "name": "python",
   "nbconvert_exporter": "python",
   "pygments_lexer": "ipython3",
   "version": "3.7.6"
  }
 },
 "nbformat": 4,
 "nbformat_minor": 4
}
