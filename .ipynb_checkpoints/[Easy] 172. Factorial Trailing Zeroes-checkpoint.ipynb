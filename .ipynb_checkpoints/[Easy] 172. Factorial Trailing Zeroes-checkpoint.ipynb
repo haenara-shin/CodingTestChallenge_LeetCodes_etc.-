{
 "cells": [
  {
   "cell_type": "markdown",
   "metadata": {},
   "source": [
    "Given an integer n, return the number of trailing zeroes in n!.\n",
    "\n",
    "Follow up: Could you write a solution that works in logarithmic time complexity?\n",
    "\n",
    " \n",
    "\n",
    "Example 1:\n",
    "\n",
    "Input: n = 3\n",
    "Output: 0\n",
    "Explanation: 3! = 6, no trailing zero.\n",
    "\n",
    "Example 2:\n",
    "\n",
    "Input: n = 5\n",
    "Output: 1\n",
    "Explanation: 5! = 120, one trailing zero.\n",
    "\n",
    "Example 3:\n",
    "\n",
    "Input: n = 0\n",
    "Output: 0\n",
    " \n",
    "\n",
    "Constraints:\n",
    "\n",
    "0 <= n <= 104"
   ]
  },
  {
   "cell_type": "code",
   "execution_count": 54,
   "metadata": {},
   "outputs": [],
   "source": [
    "class Solution:\n",
    "    def trailingZeroes(self, n: int) -> int:\n",
    "        count = 0\n",
    "        p = 1\n",
    "        five = 5 ** p\n",
    "        \n",
    "        while (n > 0):\n",
    "            n = n // five\n",
    "            count += n\n",
    "            p += 1\n",
    "        return count"
   ]
  },
  {
   "cell_type": "code",
   "execution_count": 32,
   "metadata": {},
   "outputs": [],
   "source": [
    "class Solution:\n",
    "    def trailingZeroes(self, n: int) -> int:\n",
    "        mul = 1\n",
    "        count = 0\n",
    "        for i in range(n, 1, -1):\n",
    "            mul *= i\n",
    "        while mul % 10 == 0:\n",
    "            mul = mul // 10\n",
    "            count += 1\n",
    "        return count"
   ]
  },
  {
   "cell_type": "code",
   "execution_count": null,
   "metadata": {},
   "outputs": [],
   "source": [
    "class Solution:\n",
    "    def trailingZeroes(self, n: int) -> int:\n",
    "        mul = 1\n",
    "        count = 0\n",
    "        for i in range(n, 1, -1):\n",
    "            mul *= i\n",
    "        t = str(mul)[::-1]\n",
    "        for i in t:\n",
    "            if i == '0':\n",
    "                count += 1\n",
    "            else:\n",
    "                break\n",
    "        return count"
   ]
  },
  {
   "cell_type": "code",
   "execution_count": null,
   "metadata": {},
   "outputs": [],
   "source": [
    "class Solution:\n",
    "    def trailingZeroes(self, n: int) -> int:\n",
    "        def factorial(n):\n",
    "            if n == 1 or n == 0:\n",
    "                return 1\n",
    "            else:\n",
    "                return n * factorial(n-1)\n",
    "        mul = factorial(n)\n",
    "        count = 0\n",
    "        while mul % 10 == 0:\n",
    "            mul = mul // 10\n",
    "            count += 1\n",
    "        return count"
   ]
  },
  {
   "cell_type": "code",
   "execution_count": null,
   "metadata": {},
   "outputs": [],
   "source": [
    "class Solution:\n",
    "    def trailingZeroes(self, n: int) -> int:\n",
    "        def factorial(n):\n",
    "            if n == 1 or n == 0:\n",
    "                return 1\n",
    "            else:\n",
    "                return n * factorial(n-1)\n",
    "        t = str(factorial(n))[::-1]\n",
    "        count = 0\n",
    "        for i in t:\n",
    "            if i == '0':\n",
    "                count += 1\n",
    "            else:\n",
    "                break\n",
    "        return count"
   ]
  }
 ],
 "metadata": {
  "kernelspec": {
   "display_name": "Python 3",
   "language": "python",
   "name": "python3"
  },
  "language_info": {
   "codemirror_mode": {
    "name": "ipython",
    "version": 3
   },
   "file_extension": ".py",
   "mimetype": "text/x-python",
   "name": "python",
   "nbconvert_exporter": "python",
   "pygments_lexer": "ipython3",
   "version": "3.7.6"
  }
 },
 "nbformat": 4,
 "nbformat_minor": 4
}
