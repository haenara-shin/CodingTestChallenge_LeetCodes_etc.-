{
 "cells": [
  {
   "cell_type": "markdown",
   "metadata": {},
   "source": [
    "Given an integer rowIndex, return the rowIndexth (0-indexed) row of the Pascal's triangle.\n",
    "\n",
    "In Pascal's triangle, each number is the sum of the two numbers directly above it as shown:\n",
    "\n",
    "\n",
    " \n",
    "\n",
    "Example 1:\n",
    "\n",
    "Input: rowIndex = 3\n",
    "Output: [1,3,3,1]\n",
    "Example 2:\n",
    "\n",
    "Input: rowIndex = 0\n",
    "Output: [1]\n",
    "Example 3:\n",
    "\n",
    "Input: rowIndex = 1\n",
    "Output: [1,1]\n",
    " \n",
    "\n",
    "Constraints:\n",
    "\n",
    "0 <= rowIndex <= 33\n",
    " \n",
    "\n",
    "Follow up: Could you optimize your algorithm to use only O(rowIndex) extra space?"
   ]
  },
  {
   "cell_type": "code",
   "execution_count": 55,
   "metadata": {},
   "outputs": [
    {
     "data": {
      "text/plain": [
       "[1, 1]"
      ]
     },
     "execution_count": 55,
     "metadata": {},
     "output_type": "execute_result"
    }
   ],
   "source": [
    "class Solution:\n",
    "    def getRow(self, rowIndex: int) -> List[int]:\n",
    "\n",
    "        rowIndex = rowIndex + 1\n",
    "        if rowIndex == 1:\n",
    "            return [1]\n",
    "        res = [[1]]\n",
    "        for i in range(2, rowIndex+1):\n",
    "            tmp = [1]\n",
    "            for j in range(1, i-1):\n",
    "                tmp.append(res[-1][j-1]+res[-1][j])\n",
    "            tmp += [1]\n",
    "            res.append(tmp)\n",
    "        return res[rowIndex-1]\n",
    "s = Solution()\n",
    "s.generate(1)"
   ]
  }
 ],
 "metadata": {
  "kernelspec": {
   "display_name": "Python 3",
   "language": "python",
   "name": "python3"
  },
  "language_info": {
   "codemirror_mode": {
    "name": "ipython",
    "version": 3
   },
   "file_extension": ".py",
   "mimetype": "text/x-python",
   "name": "python",
   "nbconvert_exporter": "python",
   "pygments_lexer": "ipython3",
   "version": "3.7.6"
  }
 },
 "nbformat": 4,
 "nbformat_minor": 4
}
