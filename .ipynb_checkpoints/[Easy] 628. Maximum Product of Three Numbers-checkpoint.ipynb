{
 "cells": [
  {
   "cell_type": "markdown",
   "metadata": {},
   "source": [
    "Given an integer array nums, find three numbers whose product is maximum and return the maximum product.\n",
    "\n",
    " \n",
    "\n",
    "Example 1:\n",
    "\n",
    "Input: nums = [1,2,3]\n",
    "Output: 6\n",
    "Example 2:\n",
    "\n",
    "Input: nums = [1,2,3,4]\n",
    "Output: 24\n",
    "Example 3:\n",
    "\n",
    "Input: nums = [-1,-2,-3]\n",
    "Output: -6\n",
    " \n",
    "\n",
    "Constraints:\n",
    "\n",
    "3 <= nums.length <= 104\n",
    "-1000 <= nums[i] <= 1000"
   ]
  },
  {
   "cell_type": "code",
   "execution_count": null,
   "metadata": {},
   "outputs": [],
   "source": [
    "class Solution:\n",
    "    def maximumProduct(self, nums: List[int]) -> int:\n",
    "        nums.sort()\n",
    "        if nums[0] > 0 or nums[-1] < 0: \n",
    "            return nums[-1]*nums[-2]*nums[-3]\n",
    "        else:\n",
    "            factor = max(nums[0]*nums[1], nums[-2]*nums[-3])\n",
    "            return factor*nums[-1]"
   ]
  },
  {
   "cell_type": "code",
   "execution_count": null,
   "metadata": {},
   "outputs": [],
   "source": [
    "class Solution:\n",
    "    def maximumProduct(self, nums: List[int]) -> int:\n",
    "        result = float('-inf')\n",
    "        from itertools import combinations\n",
    "        t = list(combinations(nums, 3))\n",
    "        for i in t:\n",
    "            a, b, c = i\n",
    "            temp = a * b * c\n",
    "            result = max(temp, result)\n",
    "        return result"
   ]
  }
 ],
 "metadata": {
  "kernelspec": {
   "display_name": "Python 3",
   "language": "python",
   "name": "python3"
  },
  "language_info": {
   "codemirror_mode": {
    "name": "ipython",
    "version": 3
   },
   "file_extension": ".py",
   "mimetype": "text/x-python",
   "name": "python",
   "nbconvert_exporter": "python",
   "pygments_lexer": "ipython3",
   "version": "3.7.6"
  }
 },
 "nbformat": 4,
 "nbformat_minor": 4
}
