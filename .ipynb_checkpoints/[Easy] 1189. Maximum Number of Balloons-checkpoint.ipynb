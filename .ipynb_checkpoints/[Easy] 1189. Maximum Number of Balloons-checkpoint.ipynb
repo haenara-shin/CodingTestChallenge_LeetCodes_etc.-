{
 "cells": [
  {
   "cell_type": "markdown",
   "metadata": {},
   "source": [
    "Given a string text, you want to use the characters of text to form as many instances of the word \"balloon\" as possible.\n",
    "\n",
    "You can use each character in text at most once. Return the maximum number of instances that can be formed.\n",
    "\n",
    " \n",
    "\n",
    "Example 1:\n",
    "\n",
    "Input: text = \"nlaebolko\"\n",
    "Output: 1\n",
    "\n",
    "\n",
    "Example 2:\n",
    "\n",
    "Input: text = \"loonbalxballpoon\"\n",
    "Output: 2\n",
    "\n",
    "\n",
    "Example 3:\n",
    "\n",
    "Input: text = \"leetcode\"\n",
    "Output: 0\n",
    " \n",
    "\n",
    "Constraints:\n",
    "\n",
    "1 <= text.length <= 10^4\n",
    "text consists of lower case English letters only."
   ]
  },
  {
   "cell_type": "code",
   "execution_count": 43,
   "metadata": {},
   "outputs": [],
   "source": [
    "class Solution:\n",
    "    def maxNumberOfBalloons(self, text: str) -> int:\n",
    "        n = text.count('l')\n",
    "        count = 0\n",
    "        \n",
    "        for i in range(n):\n",
    "            for j in word:\n",
    "                if j in text:\n",
    "                    text.remove(j)\n",
    "                    if j == 'n':\n",
    "                        count += 1\n",
    "                else:\n",
    "                    return count"
   ]
  },
  {
   "cell_type": "code",
   "execution_count": null,
   "metadata": {},
   "outputs": [],
   "source": [
    "class Solution:\n",
    "    def maxNumberOfBalloons(self,text: str) -> int:\n",
    "            searchword = \"balloon\"\n",
    "            searchcounts = Counter(searchword)\n",
    "            textcounts = Counter(text)\n",
    "            counts = []\n",
    "            for key in searchcounts.keys():\n",
    "                if key in textcounts.keys():\n",
    "                    counts.append(textcounts[key] // searchcounts[key])\n",
    "            if len(counts) == len(searchcounts):\n",
    "                return min(counts)\n",
    "            else:\n",
    "                return 0"
   ]
  },
  {
   "cell_type": "code",
   "execution_count": null,
   "metadata": {},
   "outputs": [],
   "source": [
    "class Solution:\n",
    "    def maxNumberOfBalloons(self, text: str) -> int:\n",
    "        from collections import Counter\n",
    "        a = Counter(text)\n",
    "        l = []\n",
    "        for i in 'balon':\n",
    "            if i == 'o' or i == 'l':\n",
    "                l.append(a[i]//2)\n",
    "            else:\n",
    "                l.append(a[i])\n",
    "        return min(l)"
   ]
  }
 ],
 "metadata": {
  "kernelspec": {
   "display_name": "Python 3",
   "language": "python",
   "name": "python3"
  },
  "language_info": {
   "codemirror_mode": {
    "name": "ipython",
    "version": 3
   },
   "file_extension": ".py",
   "mimetype": "text/x-python",
   "name": "python",
   "nbconvert_exporter": "python",
   "pygments_lexer": "ipython3",
   "version": "3.7.6"
  }
 },
 "nbformat": 4,
 "nbformat_minor": 4
}
