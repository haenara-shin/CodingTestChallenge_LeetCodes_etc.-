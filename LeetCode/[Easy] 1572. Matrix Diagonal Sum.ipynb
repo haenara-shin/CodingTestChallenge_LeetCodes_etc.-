{
 "cells": [
  {
   "cell_type": "markdown",
   "metadata": {},
   "source": [
    "Given a square matrix mat, return the sum of the matrix diagonals.\n",
    "\n",
    "Only include the sum of all the elements on the primary diagonal and all the elements on the secondary diagonal that are not part of the primary diagonal.\n",
    "\n",
    " \n",
    "\n",
    "Example 1:\n",
    "\n",
    "\n",
    "Input: mat = [[1,2,3],\n",
    "              [4,5,6],\n",
    "              [7,8,9]]\n",
    "Output: 25\n",
    "Explanation: Diagonals sum: 1 + 5 + 9 + 3 + 7 = 25\n",
    "Notice that element mat[1][1] = 5 is counted only once.\n",
    "Example 2:\n",
    "\n",
    "Input: mat = [[1,1,1,1],\n",
    "              [1,1,1,1],\n",
    "              [1,1,1,1],\n",
    "              [1,1,1,1]]\n",
    "Output: 8\n",
    "Example 3:\n",
    "\n",
    "Input: mat = [[5]]\n",
    "Output: 5\n",
    " \n",
    "\n",
    "Constraints:\n",
    "\n",
    "n == mat.length == mat[i].length\n",
    "1 <= n <= 100\n",
    "1 <= mat[i][j] <= 100\n"
   ]
  },
  {
   "cell_type": "code",
   "execution_count": null,
   "metadata": {},
   "outputs": [],
   "source": [
    "class Solution:\n",
    "    def diagonalSum(self, mat: List[List[int]]) -> int:\n",
    "        s = 0\n",
    "        for i in range(len(mat)):\n",
    "            s += mat[i][i]\n",
    "            s += mat[i][len(mat)-1-i]\n",
    "        if len(mat) % 2 == 1:\n",
    "            s -= mat[len(mat)//2][len(mat)//2]\n",
    "        return s"
   ]
  }
 ],
 "metadata": {
  "kernelspec": {
   "display_name": "Python 3",
   "language": "python",
   "name": "python3"
  },
  "language_info": {
   "codemirror_mode": {
    "name": "ipython",
    "version": 3
   },
   "file_extension": ".py",
   "mimetype": "text/x-python",
   "name": "python",
   "nbconvert_exporter": "python",
   "pygments_lexer": "ipython3",
   "version": "3.7.6"
  }
 },
 "nbformat": 4,
 "nbformat_minor": 4
}
