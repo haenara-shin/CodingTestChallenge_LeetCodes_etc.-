{
 "cells": [
  {
   "cell_type": "markdown",
   "metadata": {},
   "source": [
    "Given an array of distinct integers arr, find all pairs of elements with the minimum absolute difference of any two elements. \n",
    "\n",
    "Return a list of pairs in ascending order(with respect to pairs), each pair [a, b] follows\n",
    "\n",
    "a, b are from arr\n",
    "a < b\n",
    "b - a equals to the minimum absolute difference of any two elements in arr\n",
    " \n",
    "\n",
    "Example 1:\n",
    "Input: arr = [4,2,1,3]\n",
    "Output: [[1,2],[2,3],[3,4]]\n",
    "Explanation: The minimum absolute difference is 1. List all pairs with difference equal to 1 in ascending order.\n",
    "\n",
    "Example 2:\n",
    "Input: arr = [1,3,6,10,15]\n",
    "Output: [[1,3]]\n",
    "\n",
    "Example 3:\n",
    "Input: arr = [3,8,-10,23,19,-4,-14,27]\n",
    "Output: [[-14,-10],[19,23],[23,27]]\n",
    " \n",
    "\n",
    "Constraints:\n",
    "\n",
    "2 <= arr.length <= 10^5\n",
    "-10^6 <= arr[i] <= 10^6"
   ]
  },
  {
   "cell_type": "code",
   "execution_count": 55,
   "metadata": {},
   "outputs": [
    {
     "name": "stdout",
     "output_type": "stream",
     "text": [
      "[(-20, 11), (-20, 26), (-20, 27), (-20, 40), (11, 26), (11, 27), (11, 40), (26, 27), (26, 40), (27, 40)]\n",
      "[[1, (26, 27)], [13, (27, 40)], [14, (26, 40)], [15, (11, 26)], [16, (11, 27)], [29, (11, 40)], [31, (-20, 11)], [46, (-20, 26)], [47, (-20, 27)], [60, (-20, 40)]]\n",
      "[(26, 27)]\n"
     ]
    }
   ],
   "source": [
    "arr = [40,11,26,27,-20]\n",
    "from itertools import combinations\n",
    "res = []\n",
    "comb_list = list(combinations(sorted(arr), 2))\n",
    "print(comb_list)\n",
    "for i, j in comb_list:\n",
    "    res.append([abs(i-j), (i,j)])\n",
    "# c = sorted(res)\n",
    "# print(c)\n",
    "min_diff = sorted(res)[0][0]\n",
    "result = []\n",
    "for v, s in res:\n",
    "    if v == min_diff:\n",
    "        result.append(s)\n",
    "print(result)\n",
    "# resf = []\n",
    "# inter_value = 0\n",
    "# for a,b in result:\n",
    "#     if a > b:\n",
    "#         inter_value = a\n",
    "#         a = b\n",
    "#         b = inter_value\n",
    "#     resf.append([a,b])\n",
    "# resf"
   ]
  },
  {
   "cell_type": "code",
   "execution_count": null,
   "metadata": {},
   "outputs": [],
   "source": [
    "class Solution:\n",
    "    def minimumAbsDifference(self, arr: List[int]) -> List[List[int]]:\n",
    "        arr.sort()\n",
    "        mn = min(b - a for a, b in zip(arr, arr[1:]))\n",
    "        return [[a, b] for a, b in zip(arr, arr[1:]) if b - a == mn]        "
   ]
  },
  {
   "cell_type": "code",
   "execution_count": null,
   "metadata": {},
   "outputs": [],
   "source": [
    "class Solution:\n",
    "    def minimumAbsDifference(self, arr: List[int]) -> List[List[int]]:\n",
    "        from itertools import combinations\n",
    "        first = []\n",
    "        for i, j in list(combinations(sorted(arr), 2)):\n",
    "            first.append([abs(i-j), (i,j)])\n",
    "        min_diff = sorted(first)[0][0]\n",
    "        third = []\n",
    "        for v, s in first:\n",
    "            if v == min_diff:\n",
    "                third.append(s)\n",
    "        return third"
   ]
  }
 ],
 "metadata": {
  "kernelspec": {
   "display_name": "Python 3",
   "language": "python",
   "name": "python3"
  },
  "language_info": {
   "codemirror_mode": {
    "name": "ipython",
    "version": 3
   },
   "file_extension": ".py",
   "mimetype": "text/x-python",
   "name": "python",
   "nbconvert_exporter": "python",
   "pygments_lexer": "ipython3",
   "version": "3.7.6"
  }
 },
 "nbformat": 4,
 "nbformat_minor": 4
}
