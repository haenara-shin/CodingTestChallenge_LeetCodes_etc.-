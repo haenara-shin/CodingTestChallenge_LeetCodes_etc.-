{
 "cells": [
  {
   "cell_type": "markdown",
   "metadata": {},
   "source": [
    "Given a m * n matrix mat of ones (representing soldiers) and zeros (representing civilians), return the indexes of the k weakest rows in the matrix ordered from the weakest to the strongest.\n",
    "\n",
    "A row i is weaker than row j, if the number of soldiers in row i is less than the number of soldiers in row j, or they have the same number of soldiers but i is less than j. Soldiers are always stand in the frontier of a row, that is, always ones may appear first and then zeros.\n",
    "\n",
    " \n",
    "\n",
    "Example 1:\n",
    "\n",
    "Input: mat = \n",
    "[[1,1,0,0,0],\n",
    " [1,1,1,1,0],\n",
    " [1,0,0,0,0],\n",
    " [1,1,0,0,0],\n",
    " [1,1,1,1,1]], \n",
    "k = 3\n",
    "Output: [2,0,3]\n",
    "Explanation: \n",
    "The number of soldiers for each row is: \n",
    "row 0 -> 2 \n",
    "row 1 -> 4 \n",
    "row 2 -> 1 \n",
    "row 3 -> 2 \n",
    "row 4 -> 5 \n",
    "Rows ordered from the weakest to the strongest are [2,0,3,1,4]\n",
    "\n",
    "Example 2:\n",
    "\n",
    "Input: mat = \n",
    "[[1,0,0,0],\n",
    " [1,1,1,1],\n",
    " [1,0,0,0],\n",
    " [1,0,0,0]], \n",
    "k = 2\n",
    "Output: [0,2]\n",
    "Explanation: \n",
    "The number of soldiers for each row is: \n",
    "row 0 -> 1 \n",
    "row 1 -> 4 \n",
    "row 2 -> 1 \n",
    "row 3 -> 1 \n",
    "Rows ordered from the weakest to the strongest are [0,2,3,1]\n",
    " \n",
    "\n",
    "Constraints:\n",
    "\n",
    "m == mat.length\n",
    "n == mat[i].length\n",
    "2 <= n, m <= 100\n",
    "1 <= k <= m\n",
    "matrix[i][j] is either 0 or 1."
   ]
  },
  {
   "cell_type": "code",
   "execution_count": null,
   "metadata": {},
   "outputs": [],
   "source": [
    "class Solution:\n",
    "    def kWeakestRows(self, mat:List[List[int]], k:int) ->List[int]:\n",
    "        count_one = []\n",
    "        for index, i in enumerate(mat):\n",
    "            count_one.append((index, sum(i)))\n",
    "        from operator import itemgetter\n",
    "        res = sorted(count_one, key=itemgetter(1,0))[:k]\n",
    "        res_f = []\n",
    "        for i in res:\n",
    "            res_f.append(i[0])\n",
    "        return res_f"
   ]
  },
  {
   "cell_type": "code",
   "execution_count": null,
   "metadata": {},
   "outputs": [],
   "source": [
    "class Solution:\n",
    "    def kWeakestRows(self, mat: List[List[int]], k: int) -> List[int]:\n",
    "        return sorted(range(len(mat)), key=lambda x: sum(mat[x]))[:k]"
   ]
  },
  {
   "cell_type": "code",
   "execution_count": null,
   "metadata": {},
   "outputs": [],
   "source": [
    "class Solution:\n",
    "    def kWeakestRows(self, G: List[List[int]], k: int) -> List[int]:\n",
    "        S = [[sum(g),i] for i,g in enumerate(G)]\n",
    "        R = sorted(S)\n",
    "        return [r[1] for r in R[:k]]"
   ]
  },
  {
   "cell_type": "code",
   "execution_count": null,
   "metadata": {},
   "outputs": [],
   "source": [
    "class Solution:\n",
    "    def kWeakestRows(self, mat: List[List[int]], k: int) -> List[int]:\n",
    "        m, n = len(mat), len(mat[0])\n",
    "        result = {}\n",
    "        for j in range(n):\n",
    "            for i in range(m):\n",
    "                if mat[i][j] or i in result: continue\n",
    "                result[i] = True\n",
    "                k -= 1\n",
    "                if not k: return result.keys()\n",
    "        for i in range(m):\n",
    "            if i not in result:\n",
    "                result[i] = True\n",
    "                k -= 1\n",
    "                if not k: return result.keys()"
   ]
  }
 ],
 "metadata": {
  "kernelspec": {
   "display_name": "Python 3",
   "language": "python",
   "name": "python3"
  },
  "language_info": {
   "codemirror_mode": {
    "name": "ipython",
    "version": 3
   },
   "file_extension": ".py",
   "mimetype": "text/x-python",
   "name": "python",
   "nbconvert_exporter": "python",
   "pygments_lexer": "ipython3",
   "version": "3.7.6"
  }
 },
 "nbformat": 4,
 "nbformat_minor": 4
}
