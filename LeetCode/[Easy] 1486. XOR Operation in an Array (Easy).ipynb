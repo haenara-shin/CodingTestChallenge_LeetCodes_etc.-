{
 "cells": [
  {
   "cell_type": "markdown",
   "metadata": {},
   "source": [
    "Given an integer n and an integer start.\n",
    "\n",
    "Define an array nums where nums[i] = start + 2*i (0-indexed) and n == nums.length.\n",
    "\n",
    "Return the bitwise XOR of all elements of nums.\n",
    "\n",
    "\n",
    "Example 1:\n",
    "Input: n = 5, start = 0\n",
    "Output: 8\n",
    "Explanation: Array nums is equal to [0, 2, 4, 6, 8] where (0 ^ 2 ^ 4 ^ 6 ^ 8) = 8.\n",
    "Where \"^\" corresponds to bitwise XOR operator.\n",
    "\n",
    "Example 2:\n",
    "Input: n = 4, start = 3\n",
    "Output: 8\n",
    "Explanation: Array nums is equal to [3, 5, 7, 9] where (3 ^ 5 ^ 7 ^ 9) = 8.\n",
    "\n",
    "Example 3:\n",
    "Input: n = 1, start = 7\n",
    "Output: 7\n",
    "\n",
    "Example 4:\n",
    "Input: n = 10, start = 5\n",
    "Output: 2\n",
    " \n",
    "\n",
    "Constraints:\n",
    "\n",
    "1 <= n <= 1000\n",
    "0 <= start <= 1000\n",
    "n == nums.length"
   ]
  },
  {
   "cell_type": "code",
   "execution_count": 1,
   "metadata": {
    "scrolled": true
   },
   "outputs": [],
   "source": [
    "class Solution:\n",
    "    def xorOperation(self, n: int, start: int) -> int:\n",
    "        result = []\n",
    "        for i in range(n):\n",
    "            cal = start + 2*i\n",
    "            result.append(cal)\n",
    "        from functools import reduce\n",
    "        a= reduce(lambda x, y: x^y, result)\n",
    "        return a"
   ]
  },
  {
   "cell_type": "code",
   "execution_count": 2,
   "metadata": {},
   "outputs": [],
   "source": [
    "class Solution:\n",
    "    def xorOperation(self, n: int, start: int) -> int:\n",
    "        res = start\n",
    "        for i in range(1, n):\n",
    "            res = res ^ (start + 2 * i)\n",
    "        return res"
   ]
  },
  {
   "cell_type": "code",
   "execution_count": null,
   "metadata": {},
   "outputs": [],
   "source": []
  }
 ],
 "metadata": {
  "kernelspec": {
   "display_name": "Python 3",
   "language": "python",
   "name": "python3"
  },
  "language_info": {
   "codemirror_mode": {
    "name": "ipython",
    "version": 3
   },
   "file_extension": ".py",
   "mimetype": "text/x-python",
   "name": "python",
   "nbconvert_exporter": "python",
   "pygments_lexer": "ipython3",
   "version": "3.7.6"
  }
 },
 "nbformat": 4,
 "nbformat_minor": 4
}
