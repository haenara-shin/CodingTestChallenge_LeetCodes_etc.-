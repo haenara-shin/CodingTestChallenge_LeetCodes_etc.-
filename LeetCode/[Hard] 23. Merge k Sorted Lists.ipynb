{
 "cells": [
  {
   "cell_type": "markdown",
   "metadata": {},
   "source": [
    "You are given an array of k linked-lists lists, each linked-list is sorted in ascending order.\n",
    "\n",
    "Merge all the linked-lists into one sorted linked-list and return it.\n",
    "\n",
    " \n",
    "\n",
    "Example 1:\n",
    "\n",
    "Input: lists = [[1,4,5],[1,3,4],[2,6]]\n",
    "Output: [1,1,2,3,4,4,5,6]\n",
    "Explanation: The linked-lists are:\n",
    "[\n",
    "  1->4->5,\n",
    "  1->3->4,\n",
    "  2->6\n",
    "]\n",
    "merging them into one sorted list:\n",
    "1->1->2->3->4->4->5->6\n",
    "\n",
    "Example 2:\n",
    "\n",
    "Input: lists = []\n",
    "Output: []\n",
    "\n",
    "Example 3:\n",
    "\n",
    "Input: lists = [[]]\n",
    "Output: []\n",
    " \n",
    "\n",
    "Constraints:\n",
    "\n",
    "k == lists.length\n",
    "0 <= k <= 10^4\n",
    "0 <= lists[i].length <= 500\n",
    "-10^4 <= lists[i][j] <= 10^4\n",
    "lists[i] is sorted in ascending order.\n",
    "The sum of lists[i].length won't exceed 10^4."
   ]
  },
  {
   "cell_type": "code",
   "execution_count": 6,
   "metadata": {},
   "outputs": [
    {
     "data": {
      "text/plain": [
       "[1, 2, 4, 5, 7, 8, 6]"
      ]
     },
     "execution_count": 6,
     "metadata": {},
     "output_type": "execute_result"
    }
   ],
   "source": [
    "import heapq\n",
    "heap = []\n",
    "heapq.heappush(heap, 4)\n",
    "heapq.heappush(heap, 5)\n",
    "heapq.heappush(heap, 2)\n",
    "heapq.heappush(heap, 1)\n",
    "heapq.heappush(heap, 7)\n",
    "heapq.heappush(heap, 8)\n",
    "heapq.heappush(heap, 6)\n",
    "heap"
   ]
  },
  {
   "cell_type": "code",
   "execution_count": null,
   "metadata": {},
   "outputs": [],
   "source": [
    "# Definition for singly-linked list.\n",
    "# class ListNode:\n",
    "#     def __init__(self, val=0, next=None):\n",
    "#         self.val = val\n",
    "#         self.next = next\n",
    "class Solution:\n",
    "    def mergeKLists(self, lists: List[ListNode]) -> ListNode:\n",
    "        root = result = ListNode(None)\n",
    "        heap = []\n",
    "        \n",
    "        #각 연결 리스트의 루트를 힙에 저장\n",
    "        for i in range(len(lists)):\n",
    "            if lists[i]:\n",
    "                heapq.heappush(heap, (lists[i].val, i, lists[i]))\n",
    "                \n",
    "        #힙 추출 이후 다음 노드는 다시 저장\n",
    "        while heap:\n",
    "            node = heapq.heappop(heap)\n",
    "            idx = node[1]\n",
    "            result.next = node[2]\n",
    "            \n",
    "            result = result.next\n",
    "            if result.next:\n",
    "                heapq.heappush(heap, (result.next.val, idx, result.next))\n",
    "                \n",
    "        return root.next"
   ]
  }
 ],
 "metadata": {
  "kernelspec": {
   "display_name": "Python 3",
   "language": "python",
   "name": "python3"
  },
  "language_info": {
   "codemirror_mode": {
    "name": "ipython",
    "version": 3
   },
   "file_extension": ".py",
   "mimetype": "text/x-python",
   "name": "python",
   "nbconvert_exporter": "python",
   "pygments_lexer": "ipython3",
   "version": "3.7.6"
  }
 },
 "nbformat": 4,
 "nbformat_minor": 4
}
