{
 "cells": [
  {
   "cell_type": "markdown",
   "metadata": {},
   "source": [
    "You are given an array of integers nums, there is a sliding window of size k which is moving from the very left of the array to the very right. You can only see the k numbers in the window. Each time the sliding window moves right by one position.\n",
    "\n",
    "Return the max sliding window.\n",
    "\n",
    " \n",
    "\n",
    "Example 1:\n",
    "\n",
    "Input: nums = [1,3,-1,-3,5,3,6,7], k = 3\n",
    "Output: [3,3,5,5,6,7]\n",
    "Explanation: \n",
    "Window position                Max\n",
    "---------------               -----\n",
    "[1  3  -1] -3  5  3  6  7       3\n",
    " 1 [3  -1  -3] 5  3  6  7       3\n",
    " 1  3 [-1  -3  5] 3  6  7       5\n",
    " 1  3  -1 [-3  5  3] 6  7       5\n",
    " 1  3  -1  -3 [5  3  6] 7       6\n",
    " 1  3  -1  -3  5 [3  6  7]      7\n",
    "Example 2:\n",
    "\n",
    "Input: nums = [1], k = 1\n",
    "Output: [1]\n",
    "Example 3:\n",
    "\n",
    "Input: nums = [1,-1], k = 1\n",
    "Output: [1,-1]\n",
    "Example 4:\n",
    "\n",
    "Input: nums = [9,11], k = 2\n",
    "Output: [11]\n",
    "Example 5:\n",
    "\n",
    "Input: nums = [4,-2], k = 2\n",
    "Output: [4]\n",
    " \n",
    "\n",
    "Constraints:\n",
    "\n",
    "1 <= nums.length <= 105\n",
    "-104 <= nums[i] <= 104\n",
    "1 <= k <= nums.length"
   ]
  },
  {
   "cell_type": "markdown",
   "metadata": {},
   "source": [
    "# 데크 이용"
   ]
  },
  {
   "cell_type": "code",
   "execution_count": 1,
   "metadata": {},
   "outputs": [
    {
     "name": "stdout",
     "output_type": "stream",
     "text": [
      "[3, 3, 5, 5, 6, 7]\n"
     ]
    }
   ],
   "source": [
    "from collections import deque\n",
    "from typing import List\n",
    "\n",
    "class Solution:\n",
    "    def maxSlidingWindow(self, nums: List[int], k: int) -> List[int]:\n",
    "        deq, ans = deque(), []\n",
    "\n",
    "        for i in range(len(nums)):\n",
    "            # 앞에서부터 out of window -> 제거\n",
    "            if deq and i-deq[0] == k:\n",
    "                deq.popleft()\n",
    "\n",
    "            # 뒤에서부터 현재 추가할 숫자보다 작으면 -> 제거 (deq에 불필요한 숫자 없도록!)\n",
    "            while deq and nums[deq[-1]] <= nums[i]:\n",
    "                deq.pop()\n",
    "\n",
    "            deq.append(i) # 현재 숫자 추가( (i, num[i])로 저장해도 되나, 숫자 위치 저장만 해 space 줄임)\n",
    "\n",
    "            # 출력 부분 (현재 위치 >= window size일 때)\n",
    "            if i+1 >= k:\n",
    "                ans.append(nums[deq[0]])  # 맨 앞은 현재 window 에서 가장 큰 수\n",
    "\n",
    "        return ans\n",
    "\n",
    "sol = Solution()\n",
    "print(sol.maxSlidingWindow(nums=[1,3,-1,-3,5,3,6,7], k=3))"
   ]
  },
  {
   "cell_type": "markdown",
   "metadata": {},
   "source": [
    "# 타임리밋"
   ]
  },
  {
   "cell_type": "code",
   "execution_count": null,
   "metadata": {},
   "outputs": [],
   "source": [
    "import collections\n",
    "from typing import List\n",
    "\n",
    "\n",
    "class Solution:\n",
    "    def maxSlidingWindow(self, nums: List[int], k: int) -> List[int]:\n",
    "        results = []\n",
    "        window = collections.deque()\n",
    "        current_max = float('-inf')\n",
    "        for i, v in enumerate(nums):\n",
    "            window.append(v)\n",
    "            if i < k - 1:\n",
    "                continue\n",
    "\n",
    "            # 새로 추가된 값이 기존 최대값보다 큰 경우 교체\n",
    "            if current_max == float('-inf'):\n",
    "                current_max = max(window)\n",
    "            elif v > current_max:\n",
    "                current_max = v\n",
    "\n",
    "            results.append(current_max)\n",
    "\n",
    "            # 최대값이 윈도우에서 빠지면 초기화\n",
    "            if current_max == window.popleft():\n",
    "                current_max = float('-inf')\n",
    "        return results"
   ]
  },
  {
   "cell_type": "markdown",
   "metadata": {},
   "source": [
    "# 안풀림 (타임 리밋)"
   ]
  },
  {
   "cell_type": "code",
   "execution_count": null,
   "metadata": {},
   "outputs": [],
   "source": [
    "\n",
    "class Solution:\n",
    "    def maxSlidingWindow(self, nums: List[int], k: int) -> List[int]:\n",
    "        if not nums:\n",
    "            return nums\n",
    "        \n",
    "        result = []\n",
    "        for i in range(len(nums)-k+1):\n",
    "            result.append(max(nums[i:i+k]))\n",
    "        return result"
   ]
  }
 ],
 "metadata": {
  "kernelspec": {
   "display_name": "Python 3",
   "language": "python",
   "name": "python3"
  },
  "language_info": {
   "codemirror_mode": {
    "name": "ipython",
    "version": 3
   },
   "file_extension": ".py",
   "mimetype": "text/x-python",
   "name": "python",
   "nbconvert_exporter": "python",
   "pygments_lexer": "ipython3",
   "version": "3.7.6"
  }
 },
 "nbformat": 4,
 "nbformat_minor": 4
}
