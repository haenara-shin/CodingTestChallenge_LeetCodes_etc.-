{
 "cells": [
  {
   "cell_type": "code",
   "execution_count": 1,
   "metadata": {},
   "outputs": [],
   "source": [
    "import random"
   ]
  },
  {
   "cell_type": "code",
   "execution_count": 2,
   "metadata": {},
   "outputs": [],
   "source": [
    "TRIALS = 100000     # 10만번 실험\n",
    "same_birthdays = 0  # 생일이 같은 실험의 수"
   ]
  },
  {
   "cell_type": "code",
   "execution_count": 3,
   "metadata": {},
   "outputs": [],
   "source": [
    "# 10만번 실험 진행\n",
    "for _ in range(TRIALS):\n",
    "    birthdays = []\n",
    "    # 23 명이 모였을때, 생일이 같을 경우 same_birthdays += 1\n",
    "    for i in range(23):\n",
    "        birthday = random.randint(1, 365)\n",
    "        if birthday in birthdays:\n",
    "            same_birthdays += 1\n",
    "            break\n",
    "        birthdays.append(birthday)"
   ]
  },
  {
   "cell_type": "code",
   "execution_count": 4,
   "metadata": {},
   "outputs": [
    {
     "name": "stdout",
     "output_type": "stream",
     "text": [
      "50.675000000000004%\n"
     ]
    }
   ],
   "source": [
    "# 전체 10만번 실험 중 생일이 같은 실험의 확률\n",
    "print(f'{same_birthdays / TRIALS * 100}%')"
   ]
  }
 ],
 "metadata": {
  "kernelspec": {
   "display_name": "Python 3",
   "language": "python",
   "name": "python3"
  },
  "language_info": {
   "codemirror_mode": {
    "name": "ipython",
    "version": 3
   },
   "file_extension": ".py",
   "mimetype": "text/x-python",
   "name": "python",
   "nbconvert_exporter": "python",
   "pygments_lexer": "ipython3",
   "version": "3.7.6"
  }
 },
 "nbformat": 4,
 "nbformat_minor": 4
}
