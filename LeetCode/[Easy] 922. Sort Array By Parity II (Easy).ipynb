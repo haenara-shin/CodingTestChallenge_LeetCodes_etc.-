{
 "cells": [
  {
   "cell_type": "markdown",
   "metadata": {},
   "source": [
    "Given an array A of non-negative integers, half of the integers in A are odd, and half of the integers are even.\n",
    "\n",
    "Sort the array so that whenever A[i] is odd, i is odd; and whenever A[i] is even, i is even.\n",
    "\n",
    "You may return any answer array that satisfies this condition.\n",
    "\n",
    " \n",
    "\n",
    "Example 1:\n",
    "\n",
    "Input: [4,2,5,7]\n",
    "Output: [4,5,2,7]\n",
    "Explanation: [4,7,2,5], [2,5,4,7], [2,7,4,5] would also have been accepted.\n",
    " \n",
    "\n",
    "Note:\n",
    "\n",
    "2 <= A.length <= 20000\n",
    "A.length % 2 == 0\n",
    "0 <= A[i] <= 1000\n"
   ]
  },
  {
   "cell_type": "code",
   "execution_count": 14,
   "metadata": {},
   "outputs": [
    {
     "data": {
      "text/plain": [
       "[4, 5, 2, 7]"
      ]
     },
     "execution_count": 14,
     "metadata": {},
     "output_type": "execute_result"
    }
   ],
   "source": [
    "A = [4,2,5,7]\n",
    "res = [None] * len(A)\n",
    "for i, v in enumerate(A):\n",
    "    if v == 0 or v % 2 == 0:\n",
    "        if i == 0 or i % 2 == 0:\n",
    "            res[i] = v\n",
    "        else:\n",
    "            res[i+1] = v\n",
    "    else:\n",
    "        if i % 2 == 1:\n",
    "            res[i] = v\n",
    "        else:\n",
    "            res[i-1] = v\n",
    "res"
   ]
  },
  {
   "cell_type": "code",
   "execution_count": null,
   "metadata": {},
   "outputs": [],
   "source": [
    "class Solution:\n",
    "    def sortArrayByParityII(self, A: List[int]) -> List[int]:\n",
    "        i = 0 # pointer for even misplaced\n",
    "        j = 1 # pointer for odd misplaced\n",
    "        sz = len(a)\n",
    "        \n",
    "        # invariant: for every misplaced odd there is misplaced even\n",
    "        # since there is just enough space for odds and evens\n",
    "\n",
    "        while i < sz and j < sz:\n",
    "            if a[i] % 2 == 0:\n",
    "                i += 2\n",
    "            elif a[j] % 2 == 1:\n",
    "                j += 2\n",
    "            else:\n",
    "                # a[i] % 2 == 1 AND a[j] % 2 == 0\n",
    "                a[i],a[j] = a[j],a[i]\n",
    "                i += 2\n",
    "                j += 2\n",
    "\n",
    "        return a"
   ]
  },
  {
   "cell_type": "code",
   "execution_count": null,
   "metadata": {},
   "outputs": [],
   "source": [
    "class Solution:\n",
    "    def sortArrayByParityII(self, A: List[int]) -> List[int]:\n",
    "        even = []\n",
    "        odd = []\n",
    "        for v in A:\n",
    "            if v == 0 or v % 2 == 0:\n",
    "                even.append(v)\n",
    "            else:\n",
    "                odd.append(v)\n",
    "        res = []\n",
    "        for a, b in zip(*(even, odd)):\n",
    "            res.append(a)\n",
    "            res.append(b)\n",
    "        return res"
   ]
  }
 ],
 "metadata": {
  "kernelspec": {
   "display_name": "Python 3",
   "language": "python",
   "name": "python3"
  },
  "language_info": {
   "codemirror_mode": {
    "name": "ipython",
    "version": 3
   },
   "file_extension": ".py",
   "mimetype": "text/x-python",
   "name": "python",
   "nbconvert_exporter": "python",
   "pygments_lexer": "ipython3",
   "version": "3.7.6"
  }
 },
 "nbformat": 4,
 "nbformat_minor": 4
}
