{
 "cells": [
  {
   "cell_type": "markdown",
   "metadata": {},
   "source": [
    "Given two strings s and t, determine if they are isomorphic.\n",
    "\n",
    "Two strings s and t are isomorphic if the characters in s can be replaced to get t.\n",
    "\n",
    "All occurrences of a character must be replaced with another character while preserving the order of characters. No two characters may map to the same character, but a character may map to itself.\n",
    "\n",
    " \n",
    "\n",
    "Example 1:\n",
    "\n",
    "Input: s = \"egg\", t = \"add\"\n",
    "Output: true\n",
    "\n",
    "Example 2:\n",
    "\n",
    "Input: s = \"foo\", t = \"bar\"\n",
    "Output: false\n",
    "\n",
    "Example 3:\n",
    "\n",
    "Input: s = \"paper\", t = \"title\"\n",
    "Output: true\n",
    "\n",
    "s = \"badc\"\n",
    "t = \"baba\"\n",
    "\n",
    "Constraints:\n",
    "\n",
    "1 <= s.length <= 5 * 104\n",
    "t.length == s.length\n",
    "s and t consist of any valid ascii character."
   ]
  },
  {
   "cell_type": "code",
   "execution_count": 89,
   "metadata": {},
   "outputs": [],
   "source": [
    "class Solution:\n",
    "    def isIsomorphic(self, s: str, t: str) -> bool:\n",
    "        d = {}\n",
    "        var = True\n",
    "        for i in range(len(s)):\n",
    "            if (s[i]) in d or ((t[i]) in d.values()):\n",
    "                continue\n",
    "            d[s[i]] = t[i]\n",
    "        \n",
    "        \n",
    "        for j in range(len(t)):\n",
    "            if s[j] in d:\n",
    "                if (t[j]) != d[s[j]]:\n",
    "                    var = False\n",
    "                    break\n",
    "            else:\n",
    "                var = False\n",
    "                break\n",
    "        return var"
   ]
  },
  {
   "cell_type": "code",
   "execution_count": 94,
   "metadata": {},
   "outputs": [
    {
     "data": {
      "text/plain": [
       "True"
      ]
     },
     "execution_count": 94,
     "metadata": {},
     "output_type": "execute_result"
    }
   ],
   "source": [
    "b = Solution()\n",
    "b.isIsomorphic('egg', 'add')"
   ]
  },
  {
   "cell_type": "code",
   "execution_count": 93,
   "metadata": {},
   "outputs": [],
   "source": [
    "class Solution:\n",
    "    def isIsomorphic(self, s: str, t: str) -> bool:\n",
    "        from collections import defaultdict\n",
    "        dic_s = defaultdict(list)\n",
    "        dic_t = defaultdict(list)\n",
    "        \n",
    "        for i, c in enumerate(s):\n",
    "            dic_s[c].append(i)\n",
    "            \n",
    "        for j, d in enumerate(t):\n",
    "            dic_t[d].append(j)\n",
    "            \n",
    "        return [dic_s[x] for x in dic_s] == [dic_t[x] for x in dic_t]"
   ]
  },
  {
   "cell_type": "code",
   "execution_count": null,
   "metadata": {},
   "outputs": [],
   "source": [
    "class Solution:\n",
    "    def isIsomorphic(self, s: str, t: str) -> bool:\n",
    "        def lis(s):\n",
    "            dic = defaultdict(list)\n",
    "\n",
    "            for i, c in enumerate(s):\n",
    "                dic[c].append(i)\n",
    "\n",
    "            return [dic[x] for x in dic] \n",
    "        \n",
    "        return lis(s) == lis(t)"
   ]
  }
 ],
 "metadata": {
  "kernelspec": {
   "display_name": "Python 3",
   "language": "python",
   "name": "python3"
  },
  "language_info": {
   "codemirror_mode": {
    "name": "ipython",
    "version": 3
   },
   "file_extension": ".py",
   "mimetype": "text/x-python",
   "name": "python",
   "nbconvert_exporter": "python",
   "pygments_lexer": "ipython3",
   "version": "3.7.6"
  }
 },
 "nbformat": 4,
 "nbformat_minor": 4
}
