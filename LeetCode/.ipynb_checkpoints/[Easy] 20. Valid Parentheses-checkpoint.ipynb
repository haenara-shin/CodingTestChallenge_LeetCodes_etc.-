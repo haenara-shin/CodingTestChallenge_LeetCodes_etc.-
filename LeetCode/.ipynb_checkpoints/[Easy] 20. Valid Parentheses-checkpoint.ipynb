{
 "cells": [
  {
   "cell_type": "markdown",
   "metadata": {},
   "source": [
    "Given a string containing just the characters '(', ')', '{', '}', '[' and ']', determine if the input string is valid.\n",
    "\n",
    "An input string is valid if:\n",
    "\n",
    "Open brackets must be closed by the same type of brackets.\n",
    "Open brackets must be closed in the correct order.\n",
    "Note that an empty string is also considered valid.\n",
    "\n",
    "Example 1:\n",
    "Input: \"()\"\n",
    "Output: true\n",
    "\n",
    "Example 2:\n",
    "Input: \"()[]{}\"\n",
    "Output: true\n",
    "\n",
    "Example 3:\n",
    "Input: \"(]\"\n",
    "Output: false\n",
    "\n",
    "Example 4:\n",
    "Input: \"([)]\"\n",
    "Output: false\n",
    "\n",
    "Example 5:\n",
    "Input: \"{[]}\"\n",
    "Output: true"
   ]
  },
  {
   "cell_type": "code",
   "execution_count": null,
   "metadata": {},
   "outputs": [],
   "source": [
    "class Solution:\n",
    "    def isValid(self, s):\n",
    "        stack = []\n",
    "        table = {\n",
    "                ')':'(',\n",
    "                '}':'{',\n",
    "                ']':'['\n",
    "                }\n",
    "        \n",
    "        for i in s:\n",
    "            if i not in table:\n",
    "                stack.append(i)\n",
    "            elif not stack or table[i] != stack.pop():\n",
    "                return False\n",
    "        return len(stack) == 0"
   ]
  },
  {
   "cell_type": "code",
   "execution_count": 1,
   "metadata": {},
   "outputs": [
    {
     "name": "stdout",
     "output_type": "stream",
     "text": [
      "[][]{})()(\n",
      "false\n"
     ]
    }
   ],
   "source": [
    "def checkParen(p):\n",
    "\n",
    "    if len(p) == 0:\n",
    "        return 'true'\n",
    "    elif len(p) == 1 :\n",
    "        return 'false'\n",
    "    \n",
    "    for i in range(len(p)-1):\n",
    "        if (p[i] == '(' and p[i+1] == ')') or (p[i] == '[' and p[i+1] == ']') or (p[i] == '{' and p[i+1] == '}'):\n",
    "            q = p[:i] + p[i+2:]\n",
    "            return checkParen(q)\n",
    "            \n",
    "    return 'false'\n",
    "\n",
    "def main():\n",
    "    '''\n",
    "    Do not change this code\n",
    "    '''\n",
    "\n",
    "    x = input()\n",
    "    print(checkParen(x))\n",
    "\n",
    "if __name__ == \"__main__\":\n",
    "    main()"
   ]
  },
  {
   "cell_type": "code",
   "execution_count": 2,
   "metadata": {},
   "outputs": [],
   "source": [
    "class Solution:\n",
    "    def isValid(self, s):\n",
    "        if len(s) == 0:\n",
    "            return 'true'\n",
    "        elif len(s) == 1 :\n",
    "            return 'false'\n",
    "\n",
    "        for i in range(len(s)-1):\n",
    "            if (s[i] == '(' and s[i+1] == ')') or (s[i] == '[' and s[i+1] == ']') or (s[i] == '{' and s[i+1] == '}'):\n",
    "                q = s[:i] + s[i+2:]\n",
    "                return Solution.isValid(self, q)\n",
    "\n",
    "        return 'false'\n",
    "    \n"
   ]
  },
  {
   "cell_type": "code",
   "execution_count": 3,
   "metadata": {},
   "outputs": [
    {
     "data": {
      "text/plain": [
       "'false'"
      ]
     },
     "execution_count": 3,
     "metadata": {},
     "output_type": "execute_result"
    }
   ],
   "source": [
    "test = Solution()\n",
    "test.isValid('[}')"
   ]
  },
  {
   "cell_type": "code",
   "execution_count": 4,
   "metadata": {},
   "outputs": [
    {
     "data": {
      "text/plain": [
       "False"
      ]
     },
     "execution_count": 4,
     "metadata": {},
     "output_type": "execute_result"
    }
   ],
   "source": [
    "class Solution:\n",
    "    def isValid(self, s):\n",
    "\n",
    "        while '[]' in s or '()' in s or '{}' in s:\n",
    "            s = s.replace('[]','').replace('()','').replace('{}','')\n",
    "        return not len(s)\n",
    "\n",
    "test2 = Solution()\n",
    "test2.isValid('[}]')"
   ]
  }
 ],
 "metadata": {
  "kernelspec": {
   "display_name": "Python 3",
   "language": "python",
   "name": "python3"
  },
  "language_info": {
   "codemirror_mode": {
    "name": "ipython",
    "version": 3
   },
   "file_extension": ".py",
   "mimetype": "text/x-python",
   "name": "python",
   "nbconvert_exporter": "python",
   "pygments_lexer": "ipython3",
   "version": "3.7.6"
  }
 },
 "nbformat": 4,
 "nbformat_minor": 4
}
