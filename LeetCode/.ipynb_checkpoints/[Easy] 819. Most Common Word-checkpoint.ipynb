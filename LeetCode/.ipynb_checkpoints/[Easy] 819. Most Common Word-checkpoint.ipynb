{
 "cells": [
  {
   "cell_type": "markdown",
   "metadata": {},
   "source": [
    "Given a string paragraph and a string array of the banned words banned, return the most frequent word that is not banned. It is guaranteed there is at least one word that is not banned, and that the answer is unique.\n",
    "\n",
    "The words in paragraph are case-insensitive and the answer should be returned in lowercase.\n",
    "\n",
    " \n",
    "\n",
    "Example 1:\n",
    "\n",
    "Input: paragraph = \"Bob hit a ball, the hit BALL flew far after it was hit.\", banned = [\"hit\"]\n",
    "Output: \"ball\"\n",
    "Explanation: \n",
    "\"hit\" occurs 3 times, but it is a banned word.\n",
    "\"ball\" occurs twice (and no other word does), so it is the most frequent non-banned word in the paragraph. \n",
    "Note that words in the paragraph are not case sensitive,\n",
    "that punctuation is ignored (even if adjacent to words, such as \"ball,\"), \n",
    "and that \"hit\" isn't the answer even though it occurs more because it is banned.\n",
    "Example 2:\n",
    "\n",
    "Input: paragraph = \"a.\", banned = []\n",
    "Output: \"a\"\n",
    " \n",
    "\n",
    "Constraints:\n",
    "\n",
    "1 <= paragraph.length <= 1000\n",
    "paragraph consists of English letters, space ' ', or one of the symbols: \"!?',;.\".\n",
    "0 <= banned.length <= 100\n",
    "1 <= banned[i].length <= 10\n",
    "banned[i] consists of only lowercase English letters."
   ]
  },
  {
   "cell_type": "code",
   "execution_count": null,
   "metadata": {},
   "outputs": [],
   "source": [
    "class Solution:\n",
    "    def mostCommonWord(self, paragraph: str, banned: List[str]) -> str:\n",
    "        words = [word for word in re.sub(r'[^\\w]',' ', paragraph).lower().split() if word not in banned]\n",
    "        \n",
    "        counts = collections.Counter(words)\n",
    "        return counts.most_common(1)[0][0]"
   ]
  },
  {
   "cell_type": "code",
   "execution_count": null,
   "metadata": {},
   "outputs": [],
   "source": [
    "class Solution:\n",
    "    def mostCommonWord(self, paragraph: str, banned: List[str]) -> str:\n",
    "        import re\n",
    "        t = re.sub('[^a-z0-9]',' ', paragraph.lower()).split()\n",
    "        from collections import Counter\n",
    "        res = Counter(t)\n",
    "        for word in banned:\n",
    "            del res[word]\n",
    "        return sorted(res.items(), key=lambda x:x[1], reverse=True)[0][0]"
   ]
  }
 ],
 "metadata": {
  "kernelspec": {
   "display_name": "Python 3",
   "language": "python",
   "name": "python3"
  },
  "language_info": {
   "codemirror_mode": {
    "name": "ipython",
    "version": 3
   },
   "file_extension": ".py",
   "mimetype": "text/x-python",
   "name": "python",
   "nbconvert_exporter": "python",
   "pygments_lexer": "ipython3",
   "version": "3.7.6"
  }
 },
 "nbformat": 4,
 "nbformat_minor": 4
}
