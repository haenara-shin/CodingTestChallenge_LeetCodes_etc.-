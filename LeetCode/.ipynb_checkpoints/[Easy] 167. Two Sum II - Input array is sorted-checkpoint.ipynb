{
 "cells": [
  {
   "cell_type": "markdown",
   "metadata": {},
   "source": [
    "Given an array of integers numbers that is already sorted in ascending order, find two numbers such that they add up to a specific target number.\n",
    "\n",
    "Return the indices of the two numbers (1-indexed) as an integer array answer of size 2, where 1 <= answer[0] < answer[1] <= numbers.length.\n",
    "\n",
    "You may assume that each input would have exactly one solution and you may not use the same element twice.\n",
    "\n",
    " \n",
    "\n",
    "Example 1:\n",
    "\n",
    "Input: numbers = [2,7,11,15], target = 9\n",
    "Output: [1,2]\n",
    "Explanation: The sum of 2 and 7 is 9. Therefore index1 = 1, index2 = 2.\n",
    "Example 2:\n",
    "\n",
    "Input: numbers = [2,3,4], target = 6\n",
    "Output: [1,3]\n",
    "Example 3:\n",
    "\n",
    "Input: numbers = [-1,0], target = -1\n",
    "Output: [1,2]\n",
    " \n",
    "\n",
    "Constraints:\n",
    "\n",
    "2 <= numbers.length <= 3 * 104\n",
    "-1000 <= numbers[i] <= 1000\n",
    "numbers is sorted in increasing order.\n",
    "-1000 <= target <= 1000\n",
    "Only one valid answer exists."
   ]
  },
  {
   "cell_type": "code",
   "execution_count": null,
   "metadata": {},
   "outputs": [],
   "source": [
    "class Solution:\n",
    "    def twoSum(self, numbers: List[int], target: int) -> List[int]:\n",
    "   \n",
    "        from bisect import bisect_left\n",
    "    \n",
    "        for index, value in enumerate(numbers):\n",
    "            subs = target - value\n",
    "            idx = bisect_left(numbers, subs, index+1) #이미 인덱스에 있는 값을 반영(value) 했으니까 바로 그 다음것 \n",
    "            if len(numbers) > idx and numbers[idx] == subs:\n",
    "                return [index+1, idx+1]"
   ]
  },
  {
   "cell_type": "code",
   "execution_count": null,
   "metadata": {},
   "outputs": [],
   "source": [
    "class Solution:\n",
    "    def twoSum(self, numbers: List[int], target: int) -> List[int]:\n",
    "        from bisect import bisect_left\n",
    "        index = bisect_left(numbers, target)\n",
    "        left = 0; right = index-1\n",
    "        while left < right:\n",
    "            if numbers[:index][left] + numbers[:index][right] < target:\n",
    "                left += 1\n",
    "            elif numbers[:index][left] + numbers[:index][right] > target:\n",
    "                right -= 1\n",
    "            else:\n",
    "                return [left+1, right+1]"
   ]
  }
 ],
 "metadata": {
  "kernelspec": {
   "display_name": "Python 3",
   "language": "python",
   "name": "python3"
  },
  "language_info": {
   "codemirror_mode": {
    "name": "ipython",
    "version": 3
   },
   "file_extension": ".py",
   "mimetype": "text/x-python",
   "name": "python",
   "nbconvert_exporter": "python",
   "pygments_lexer": "ipython3",
   "version": "3.7.6"
  }
 },
 "nbformat": 4,
 "nbformat_minor": 4
}
