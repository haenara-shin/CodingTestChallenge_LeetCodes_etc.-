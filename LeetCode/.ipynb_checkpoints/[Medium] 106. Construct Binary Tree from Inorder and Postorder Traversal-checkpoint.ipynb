{
 "cells": [
  {
   "cell_type": "markdown",
   "metadata": {},
   "source": [
    "Given two integer arrays inorder and postorder where inorder is the inorder traversal of a binary tree and postorder is the postorder traversal of the same tree, construct and return the binary tree.\n",
    "\n",
    " \n",
    "\n",
    "Example 1:\n",
    "\n",
    "\n",
    "Input: inorder = [9,3,15,20,7], postorder = [9,15,7,20,3]\n",
    "Output: [3,9,20,null,null,15,7]\n",
    "Example 2:\n",
    "\n",
    "Input: inorder = [-1], postorder = [-1]\n",
    "Output: [-1]\n",
    " \n",
    "\n",
    "Constraints:\n",
    "\n",
    "1 <= inorder.length <= 3000\n",
    "postorder.length == inorder.length\n",
    "-3000 <= inorder[i], postorder[i] <= 3000\n",
    "inorder and postorder consist of unique values.\n",
    "Each value of postorder also appears in inorder.\n",
    "inorder is guaranteed to be the inorder traversal of the tree.\n",
    "postorder is guaranteed to be the postorder traversal of the tree."
   ]
  },
  {
   "cell_type": "code",
   "execution_count": null,
   "metadata": {},
   "outputs": [],
   "source": [
    "# Definition for a binary tree node.\n",
    "# class TreeNode:\n",
    "#     def __init__(self, val=0, left=None, right=None):\n",
    "#         self.val = val\n",
    "#         self.left = left\n",
    "#         self.right = right\n",
    "class Solution:\n",
    "    def buildTree(self, inorder: List[int], postorder: List[int]) -> TreeNode:\n",
    "        if inorder:\n",
    "            index = inorder.index(postorder.pop())\n",
    "            \n",
    "            node = TreeNode(inorder[index])      \n",
    "            \n",
    "            node.right = self.buildTree(inorder[index+1:], postorder)\n",
    "            node.left = self.buildTree(inorder[0:index], postorder)\n",
    "            \n",
    "            return node"
   ]
  }
 ],
 "metadata": {
  "kernelspec": {
   "display_name": "Python 3",
   "language": "python",
   "name": "python3"
  },
  "language_info": {
   "codemirror_mode": {
    "name": "ipython",
    "version": 3
   },
   "file_extension": ".py",
   "mimetype": "text/x-python",
   "name": "python",
   "nbconvert_exporter": "python",
   "pygments_lexer": "ipython3",
   "version": "3.7.6"
  }
 },
 "nbformat": 4,
 "nbformat_minor": 4
}
