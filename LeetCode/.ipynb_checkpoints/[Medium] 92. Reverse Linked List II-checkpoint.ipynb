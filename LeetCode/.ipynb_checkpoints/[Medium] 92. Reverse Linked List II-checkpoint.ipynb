{
 "cells": [
  {
   "cell_type": "markdown",
   "metadata": {},
   "source": [
    "Given the head of a singly linked list and two integers left and right where left <= right, reverse the nodes of the list from position left to position right, and return the reversed list.\n",
    "\n",
    " \n",
    "\n",
    "Example 1:\n",
    "\n",
    "\n",
    "Input: head = [1,2,3,4,5], left = 2, right = 4\n",
    "Output: [1,4,3,2,5]\n",
    "Example 2:\n",
    "\n",
    "Input: head = [5], left = 1, right = 1\n",
    "Output: [5]\n",
    " \n",
    "\n",
    "Constraints:\n",
    "\n",
    "The number of nodes in the list is n.\n",
    "1 <= n <= 500\n",
    "-500 <= Node.val <= 500\n",
    "1 <= left <= right <= n\n",
    " \n",
    "\n",
    "Follow up: Could you do it in one pass?"
   ]
  },
  {
   "cell_type": "code",
   "execution_count": null,
   "metadata": {},
   "outputs": [],
   "source": [
    "# Definition for singly-linked list.\n",
    "# class ListNode:\n",
    "#     def __init__(self, val=0, next=None):\n",
    "#         self.val = val\n",
    "#         self.next = next\n",
    "class Solution:\n",
    "    def reverseBetween(self, head: ListNode, left: int, right: int) -> ListNode:\n",
    "        if not head or (left == right):\n",
    "            return head\n",
    "        \n",
    "        root = start = ListNode(None)\n",
    "        root.next = head\n",
    "        \n",
    "        for _ in range(left - 1):\n",
    "            start = start.next\n",
    "        end = start.next\n",
    "        \n",
    "        for _ in range(right - left):\n",
    "            temp = start.next\n",
    "            start.next = end.next\n",
    "            end.next = end.next.next\n",
    "            start.next.next = temp\n",
    "            \n",
    "        return root.next"
   ]
  },
  {
   "cell_type": "code",
   "execution_count": null,
   "metadata": {},
   "outputs": [],
   "source": [
    "# Definition for singly-linked list.\n",
    "# class ListNode:\n",
    "#     def __init__(self, val=0, next=None):\n",
    "#         self.val = val\n",
    "#         self.next = next\n",
    "class Solution:\n",
    "    def reverseBetween(self, head: ListNode, m: int, n: int) -> ListNode:\n",
    "        #Exception\n",
    "        if not head or m == n:\n",
    "            return head\n",
    "        \n",
    "        root = start = ListNode(None)\n",
    "        root.next = head\n",
    "        \n",
    "        for _ in range(m-1):\n",
    "            start = start.next\n",
    "        end = start.next\n",
    "        \n",
    "        for _ in range(n-m):\n",
    "            temp, start.next, end.next = start.next, end.next, end.next.next\n",
    "            start.next.next = temp\n",
    "            \n",
    "        return root.next"
   ]
  },
  {
   "cell_type": "code",
   "execution_count": null,
   "metadata": {},
   "outputs": [],
   "source": [
    "class ListNode:\n",
    "    def __init__(self, val=0, next=None):\n",
    "        self.val = val\n",
    "        self.next = next\n",
    "        \n",
    "class Solution:\n",
    "    def reverseBetween(self, head: ListNode, m:int, n:int) -> ListNode:\n",
    "        #Exception\n",
    "        if not head or m==n:\n",
    "            return head\n",
    "        \n",
    "        root = start = ListNode=(None)\n",
    "        root.next = head\n",
    "        \n",
    "        for _ in range(m - 1):\n",
    "            start = start.next\n",
    "        end = start.next\n",
    "        \n",
    "        for _ in range(n-m):\n",
    "            temp, start.next, end.next= start.next, end.next, end.next.next\n",
    "            start.next.next = temp\n",
    "            \n",
    "        return root.next"
   ]
  }
 ],
 "metadata": {
  "kernelspec": {
   "display_name": "Python 3",
   "language": "python",
   "name": "python3"
  },
  "language_info": {
   "codemirror_mode": {
    "name": "ipython",
    "version": 3
   },
   "file_extension": ".py",
   "mimetype": "text/x-python",
   "name": "python",
   "nbconvert_exporter": "python",
   "pygments_lexer": "ipython3",
   "version": "3.7.6"
  }
 },
 "nbformat": 4,
 "nbformat_minor": 4
}
