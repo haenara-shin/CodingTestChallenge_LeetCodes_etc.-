{
 "cells": [
  {
   "cell_type": "markdown",
   "metadata": {},
   "source": [
    "Given a string expression of numbers and operators, return all possible results from computing all the different possible ways to group numbers and operators. You may return the answer in any order.\n",
    "\n",
    " \n",
    "\n",
    "Example 1:\n",
    "\n",
    "Input: expression = \"2-1-1\"\n",
    "Output: [0,2]\n",
    "Explanation:\n",
    "((2-1)-1) = 0 \n",
    "(2-(1-1)) = 2\n",
    "Example 2:\n",
    "\n",
    "Input: expression = \"2*3-4*5\"\n",
    "Output: [-34,-14,-10,-10,10]\n",
    "Explanation:\n",
    "(2*(3-(4*5))) = -34 \n",
    "((2*3)-(4*5)) = -14 \n",
    "((2*(3-4))*5) = -10 \n",
    "(2*((3-4)*5)) = -10 \n",
    "(((2*3)-4)*5) = 10\n",
    " \n",
    "\n",
    "Constraints:\n",
    "\n",
    "1 <= expression.length <= 20\n",
    "expression consists of digits and the operator '+', '-', and '*'."
   ]
  },
  {
   "cell_type": "code",
   "execution_count": null,
   "metadata": {},
   "outputs": [],
   "source": [
    "class Solution:\n",
    "    def diffWaysToCompute(self, expression: str) -> List[int]:\n",
    "        def compute(left, right, op):\n",
    "            result = []\n",
    "            for l in left:\n",
    "                for r in right:\n",
    "                    result.append(eval(str(l) + op + str(r)))\n",
    "            return result\n",
    "        \n",
    "        if expression.isdigit():\n",
    "            return [int(expression)]\n",
    "        \n",
    "        result = []\n",
    "        for index, value in enumerate(expression):\n",
    "            if value in \"+-*\":\n",
    "                left = self.diffWaysToCompute(expression[:index])\n",
    "                right = self.diffWaysToCompute(expression[index+1:])\n",
    "                result.extend(compute(left, right, value))\n",
    "        return result"
   ]
  }
 ],
 "metadata": {
  "kernelspec": {
   "display_name": "Python 3",
   "language": "python",
   "name": "python3"
  },
  "language_info": {
   "codemirror_mode": {
    "name": "ipython",
    "version": 3
   },
   "file_extension": ".py",
   "mimetype": "text/x-python",
   "name": "python",
   "nbconvert_exporter": "python",
   "pygments_lexer": "ipython3",
   "version": "3.7.6"
  }
 },
 "nbformat": 4,
 "nbformat_minor": 4
}
