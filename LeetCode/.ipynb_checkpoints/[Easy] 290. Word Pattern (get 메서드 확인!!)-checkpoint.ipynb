{
 "cells": [
  {
   "cell_type": "markdown",
   "metadata": {},
   "source": [
    "Given a pattern and a string s, find if s follows the same pattern.\n",
    "\n",
    "Here follow means a full match, such that there is a bijection between a letter in pattern and a non-empty word in s.\n",
    "\n",
    " \n",
    "\n",
    "Example 1:\n",
    "\n",
    "Input: pattern = \"abba\", s = \"dog cat cat dog\"\n",
    "Output: true\n",
    "\n",
    "Example 2:\n",
    "\n",
    "Input: pattern = \"abba\", s = \"dog cat cat fish\"\n",
    "Output: false\n",
    "\n",
    "Example 3:\n",
    "\n",
    "Input: pattern = \"aaaa\", s = \"dog cat cat dog\"\n",
    "Output: false\n",
    "\n",
    "Example 4:\n",
    "\n",
    "Input: pattern = \"abba\", s = \"dog dog dog dog\"\n",
    "Output: false\n",
    " \n",
    "\n",
    "Constraints:\n",
    "\n",
    "1 <= pattern.length <= 300\n",
    "pattern contains only lower-case English letters.\n",
    "1 <= s.length <= 3000\n",
    "s contains only lower-case English letters and spaces ' '.\n",
    "s does not contain any leading or trailing spaces.\n",
    "All the words in s are separated by a single space."
   ]
  },
  {
   "cell_type": "code",
   "execution_count": 33,
   "metadata": {},
   "outputs": [
    {
     "name": "stdout",
     "output_type": "stream",
     "text": [
      "{'a': 'cat', 'b': 'dog'}\n",
      "cat\n",
      "['cat', 'dog', 'cat', 'dog']\n"
     ]
    }
   ],
   "source": [
    "a = dict(list(zip(pattern, s.split())))\n",
    "b = list(pattern)\n",
    "\n",
    "print(a)\n",
    "print(a.get('a')) # get 이 아니라 그냥 a['a'] 하면 없는 경우에 에러가 나옴. get은 None 을 리턴함.\n",
    "print([a.get(w) for w in b])"
   ]
  },
  {
   "cell_type": "code",
   "execution_count": null,
   "metadata": {},
   "outputs": [],
   "source": [
    "class Solution:\n",
    "    def wordPattern(self, pattern: str, s: str) -> bool:\n",
    "        if len(set(pattern)) != len(set(s.split())):\n",
    "            return False\n",
    "        else:\n",
    "            a = dict(list(zip(pattern, s.split())))\n",
    "            b = list(pattern)\n",
    "            \n",
    "            transition = ' '.join([a.get(w) for w in b])\n",
    "            return transition == s"
   ]
  }
 ],
 "metadata": {
  "kernelspec": {
   "display_name": "Python 3",
   "language": "python",
   "name": "python3"
  },
  "language_info": {
   "codemirror_mode": {
    "name": "ipython",
    "version": 3
   },
   "file_extension": ".py",
   "mimetype": "text/x-python",
   "name": "python",
   "nbconvert_exporter": "python",
   "pygments_lexer": "ipython3",
   "version": "3.7.6"
  }
 },
 "nbformat": 4,
 "nbformat_minor": 4
}
