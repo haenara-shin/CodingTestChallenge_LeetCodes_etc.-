{
 "cells": [
  {
   "cell_type": "markdown",
   "metadata": {},
   "source": [
    "A perfect number is a positive integer that is equal to the sum of its positive divisors, excluding the number itself. A divisor of an integer x is an integer that can divide x evenly.\n",
    "\n",
    "Given an integer n, return true if n is a perfect number, otherwise return false.\n",
    "\n",
    " \n",
    "\n",
    "Example 1:\n",
    "\n",
    "Input: num = 28\n",
    "Output: true\n",
    "Explanation: 28 = 1 + 2 + 4 + 7 + 14\n",
    "1, 2, 4, 7, and 14 are all divisors of 28.\n",
    "\n",
    "Example 2:\n",
    "\n",
    "Input: num = 6\n",
    "Output: true\n",
    "\n",
    "Example 3:\n",
    "\n",
    "Input: num = 496\n",
    "Output: true\n",
    "\n",
    "Example 4:\n",
    "\n",
    "Input: num = 8128\n",
    "Output: true\n",
    "\n",
    "Example 5:\n",
    "\n",
    "Input: num = 2\n",
    "Output: false\n",
    " \n",
    "\n",
    "Constraints:\n",
    "\n",
    "1 <= num <= 10**8"
   ]
  },
  {
   "cell_type": "code",
   "execution_count": null,
   "metadata": {},
   "outputs": [],
   "source": [
    "class Solution:\n",
    "    def checkPerfectNumber(self, num: int) -> bool:\n",
    "        \n",
    "        result = 1\n",
    "        \n",
    "        if num <= 5:\n",
    "            return False\n",
    "        else:\n",
    "            num_list = [i for i in range(2, int(num**(1/2))+1)]\n",
    "            for i in num_list:\n",
    "                if num % i == 0:\n",
    "                    result += i + int(num//i)       \n",
    "        return result == num\n",
    "                "
   ]
  }
 ],
 "metadata": {
  "kernelspec": {
   "display_name": "Python 3",
   "language": "python",
   "name": "python3"
  },
  "language_info": {
   "codemirror_mode": {
    "name": "ipython",
    "version": 3
   },
   "file_extension": ".py",
   "mimetype": "text/x-python",
   "name": "python",
   "nbconvert_exporter": "python",
   "pygments_lexer": "ipython3",
   "version": "3.7.6"
  }
 },
 "nbformat": 4,
 "nbformat_minor": 4
}
