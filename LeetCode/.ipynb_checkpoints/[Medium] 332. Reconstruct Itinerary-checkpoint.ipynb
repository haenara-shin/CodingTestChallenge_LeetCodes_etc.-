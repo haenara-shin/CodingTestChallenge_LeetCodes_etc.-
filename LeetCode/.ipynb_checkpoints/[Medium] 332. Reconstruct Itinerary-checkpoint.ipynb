{
 "cells": [
  {
   "cell_type": "markdown",
   "metadata": {},
   "source": [
    "You are given a list of airline tickets where tickets[i] = [fromi, toi] represent the departure and the arrival airports of one flight. Reconstruct the itinerary in order and return it.\n",
    "\n",
    "All of the tickets belong to a man who departs from \"JFK\", thus, the itinerary must begin with \"JFK\". If there are multiple valid itineraries, you should return the itinerary that has the smallest lexical order when read as a single string.\n",
    "\n",
    "For example, the itinerary [\"JFK\", \"LGA\"] has a smaller lexical order than [\"JFK\", \"LGB\"].\n",
    "You may assume all tickets form at least one valid itinerary. You must use all the tickets once and only once.\n",
    "\n",
    " \n",
    "\n",
    "Example 1:\n",
    "\n",
    "\n",
    "Input: tickets = [[\"MUC\",\"LHR\"],[\"JFK\",\"MUC\"],[\"SFO\",\"SJC\"],[\"LHR\",\"SFO\"]]\n",
    "Output: [\"JFK\",\"MUC\",\"LHR\",\"SFO\",\"SJC\"]\n",
    "Example 2:\n",
    "\n",
    "\n",
    "Input: tickets = [[\"JFK\",\"SFO\"],[\"JFK\",\"ATL\"],[\"SFO\",\"ATL\"],[\"ATL\",\"JFK\"],[\"ATL\",\"SFO\"]]\n",
    "Output: [\"JFK\",\"ATL\",\"JFK\",\"SFO\",\"ATL\",\"SFO\"]\n",
    "Explanation: Another possible reconstruction is [\"JFK\",\"SFO\",\"ATL\",\"JFK\",\"ATL\",\"SFO\"] but it is larger in lexical order.\n",
    " \n",
    "\n",
    "Constraints:\n",
    "\n",
    "1 <= tickets.length <= 300\n",
    "tickets[i].length == 2\n",
    "fromi.length == 3\n",
    "toi.length == 3\n",
    "fromi and toi consist of uppercase English letters.\n",
    "fromi != toi"
   ]
  },
  {
   "cell_type": "code",
   "execution_count": 8,
   "metadata": {},
   "outputs": [
    {
     "data": {
      "text/plain": [
       "['JFK', 'ATL', 'JFK', 'SFO', 'ATL', 'SFO']"
      ]
     },
     "execution_count": 8,
     "metadata": {},
     "output_type": "execute_result"
    }
   ],
   "source": [
    "class Solution:\n",
    "    def findItinerary(self, tickets: List[List[str]]) -> List[str]:\n",
    "        from collections import defaultdict\n",
    "        graph = defaultdict(list)\n",
    "        result = []\n",
    "        \n",
    "        for a, b in sorted(tickets, reverse=True):\n",
    "            graph[a].append(b)\n",
    "        \n",
    "        def dfs(depart):\n",
    "            while graph[depart]:\n",
    "                dfs(graph[depart].pop())\n",
    "            result.append(depart)\n",
    "        \n",
    "        dfs('JFK')\n",
    "        return result[::-1]\n",
    "s = Solution()\n",
    "s.findItinerary([[\"JFK\",\"SFO\"],[\"JFK\",\"ATL\"],[\"SFO\",\"ATL\"],[\"ATL\",\"JFK\"],[\"ATL\",\"SFO\"]])"
   ]
  }
 ],
 "metadata": {
  "kernelspec": {
   "display_name": "Python 3",
   "language": "python",
   "name": "python3"
  },
  "language_info": {
   "codemirror_mode": {
    "name": "ipython",
    "version": 3
   },
   "file_extension": ".py",
   "mimetype": "text/x-python",
   "name": "python",
   "nbconvert_exporter": "python",
   "pygments_lexer": "ipython3",
   "version": "3.7.6"
  }
 },
 "nbformat": 4,
 "nbformat_minor": 4
}
