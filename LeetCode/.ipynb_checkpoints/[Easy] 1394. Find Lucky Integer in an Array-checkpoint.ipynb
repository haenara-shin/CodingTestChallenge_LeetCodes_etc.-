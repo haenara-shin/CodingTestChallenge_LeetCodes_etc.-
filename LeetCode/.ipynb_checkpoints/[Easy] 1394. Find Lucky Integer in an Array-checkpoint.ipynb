{
 "cells": [
  {
   "cell_type": "markdown",
   "metadata": {},
   "source": [
    "Given an array of integers arr, a lucky integer is an integer which has a frequency in the array equal to its value.\n",
    "\n",
    "Return a lucky integer in the array. If there are multiple lucky integers return the largest of them. If there is no lucky integer return -1.\n",
    "\n",
    " \n",
    "\n",
    "Example 1:\n",
    "\n",
    "Input: arr = [2,2,3,4]\n",
    "Output: 2\n",
    "Explanation: The only lucky number in the array is 2 because frequency[2] == 2.\n",
    "Example 2:\n",
    "\n",
    "Input: arr = [1,2,2,3,3,3]\n",
    "Output: 3\n",
    "Explanation: 1, 2 and 3 are all lucky numbers, return the largest of them.\n",
    "Example 3:\n",
    "\n",
    "Input: arr = [2,2,2,3,3]\n",
    "Output: -1\n",
    "Explanation: There are no lucky numbers in the array.\n",
    "Example 4:\n",
    "\n",
    "Input: arr = [5]\n",
    "Output: -1\n",
    "Example 5:\n",
    "\n",
    "Input: arr = [7,7,7,7,7,7,7]\n",
    "Output: 7\n",
    " \n",
    "\n",
    "Constraints:\n",
    "\n",
    "1 <= arr.length <= 500\n",
    "1 <= arr[i] <= 500"
   ]
  },
  {
   "cell_type": "code",
   "execution_count": null,
   "metadata": {},
   "outputs": [],
   "source": [
    "class Solution:\n",
    "    def findLucky(self, arr: List[int]) -> int:\n",
    "        from collections import Counter\n",
    "        t = dict(Counter(arr))\n",
    "        result = []\n",
    "        for k, v in t.items():\n",
    "            if k == v:\n",
    "                result.append(k)\n",
    "        if len(result) == 0:\n",
    "            return -1\n",
    "        else:\n",
    "            return sorted(result, reverse=True)[0]"
   ]
  },
  {
   "cell_type": "code",
   "execution_count": null,
   "metadata": {},
   "outputs": [],
   "source": [
    "class Solution:\n",
    "    def findLucky(self, arr: List[int]) -> int:\n",
    "        result = []\n",
    "        t = {}\n",
    "        for i in arr:\n",
    "            if i == arr.count(i):\n",
    "                result.append(i)\n",
    "        if len(result) == 0:\n",
    "            return -1\n",
    "        else:\n",
    "            sorted(set(result), reverse=True)[0]"
   ]
  }
 ],
 "metadata": {
  "kernelspec": {
   "display_name": "Python 3",
   "language": "python",
   "name": "python3"
  },
  "language_info": {
   "codemirror_mode": {
    "name": "ipython",
    "version": 3
   },
   "file_extension": ".py",
   "mimetype": "text/x-python",
   "name": "python",
   "nbconvert_exporter": "python",
   "pygments_lexer": "ipython3",
   "version": "3.7.6"
  }
 },
 "nbformat": 4,
 "nbformat_minor": 4
}
