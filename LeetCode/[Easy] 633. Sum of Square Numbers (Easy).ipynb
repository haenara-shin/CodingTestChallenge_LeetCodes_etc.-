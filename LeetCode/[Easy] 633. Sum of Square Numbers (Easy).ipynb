{
 "cells": [
  {
   "cell_type": "markdown",
   "metadata": {},
   "source": [
    "Given a non-negative integer c, your task is to decide whether there're two integers a and b such that a**2 + b**2 = c.\n",
    "\n",
    "Example 1:\n",
    "\n",
    "Input: 5\n",
    "Output: True\n",
    "Explanation: 1 * 1 + 2 * 2 = 5\n",
    " \n",
    "\n",
    "Example 2:\n",
    "\n",
    "Input: 3\n",
    "Output: False"
   ]
  },
  {
   "cell_type": "code",
   "execution_count": null,
   "metadata": {},
   "outputs": [],
   "source": [
    "class Solution:\n",
    "    def judgeSquareSum(self, c: int) -> bool:\n",
    "        sq = set()\n",
    "        count = int(math.sqrt(c))\n",
    "        # use (count + 1) because first index is 0\n",
    "        for i in range(count + 1):\n",
    "            a2  = i ** 2\n",
    "            sq.add(a2)\n",
    "            if c - a2 in sq:\n",
    "                return True\n",
    "        return False"
   ]
  },
  {
   "cell_type": "code",
   "execution_count": null,
   "metadata": {},
   "outputs": [],
   "source": [
    "class Solution:\n",
    "    def judgeSquareSum(self, c: int) -> bool:\n",
    "        from math import sqrt\n",
    "        d = range(c+1)\n",
    "        for i in d:\n",
    "            a = c - (i**2)\n",
    "            if a >= 0 and sqrt(a) in d:\n",
    "                return True\n",
    "        return False"
   ]
  },
  {
   "cell_type": "code",
   "execution_count": null,
   "metadata": {},
   "outputs": [],
   "source": [
    "class Solution:\n",
    "    def judgeSquareSum(self, c: int) -> bool:\n",
    "        for i in range(c):\n",
    "            for j in range(c):\n",
    "                if (i**2)+(j**2)==c:\n",
    "                    return True\n",
    "        return False"
   ]
  },
  {
   "cell_type": "code",
   "execution_count": null,
   "metadata": {},
   "outputs": [],
   "source": [
    "class Solution:\n",
    "    def judgeSquareSum(self, c: int) -> bool:\n",
    "        possible_elements = [i for i in range(c+1)]*2\n",
    "        from itertools import combinations\n",
    "        possible_pairs = list(combinations(possible_elements, 2))\n",
    "        for a, b in possible_pairs:\n",
    "            if (a**2) + (b**2) == c:\n",
    "                return True\n",
    "        return False"
   ]
  }
 ],
 "metadata": {
  "kernelspec": {
   "display_name": "Python 3",
   "language": "python",
   "name": "python3"
  },
  "language_info": {
   "codemirror_mode": {
    "name": "ipython",
    "version": 3
   },
   "file_extension": ".py",
   "mimetype": "text/x-python",
   "name": "python",
   "nbconvert_exporter": "python",
   "pygments_lexer": "ipython3",
   "version": "3.7.6"
  }
 },
 "nbformat": 4,
 "nbformat_minor": 4
}
