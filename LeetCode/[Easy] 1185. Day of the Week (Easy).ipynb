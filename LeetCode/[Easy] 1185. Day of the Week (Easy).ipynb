{
 "cells": [
  {
   "cell_type": "markdown",
   "metadata": {},
   "source": [
    "Given a date, return the corresponding day of the week for that date.\n",
    "\n",
    "The input is given as three integers representing the day, month and year respectively.\n",
    "\n",
    "Return the answer as one of the following values {\"Sunday\", \"Monday\", \"Tuesday\", \"Wednesday\", \"Thursday\", \"Friday\", \"Saturday\"}.\n",
    "\n",
    "Example 1:\n",
    "\n",
    "Input: day = 31, month = 8, year = 2019\n",
    "Output: \"Saturday\"\n",
    "Example 2:\n",
    "\n",
    "Input: day = 18, month = 7, year = 1999\n",
    "Output: \"Sunday\"\n",
    "Example 3:\n",
    "\n",
    "Input: day = 15, month = 8, year = 1993\n",
    "Output: \"Sunday\"\n",
    " \n",
    "\n",
    "Constraints:\n",
    "\n",
    "The given dates are valid dates between the years 1971 and 2100."
   ]
  },
  {
   "cell_type": "code",
   "execution_count": 16,
   "metadata": {},
   "outputs": [
    {
     "data": {
      "text/plain": [
       "'Saturday'"
      ]
     },
     "execution_count": 16,
     "metadata": {},
     "output_type": "execute_result"
    }
   ],
   "source": [
    "from datetime import date\n",
    "a = date(2019, 8, 31).weekday()\n",
    "week_of_day = [\"Monday\", \"Tuesday\", \"Wednesday\", \"Thursday\", \"Friday\", \"Saturday\", \"Sunday\"]\n",
    "week_of_day[a]"
   ]
  },
  {
   "cell_type": "code",
   "execution_count": null,
   "metadata": {},
   "outputs": [],
   "source": [
    "class Solution:\n",
    "    def dayOfTheWeek(self, day: int, month: int, year: int) -> str:\n",
    "        return date(year, month, day).strftime(\"%A\")"
   ]
  },
  {
   "cell_type": "code",
   "execution_count": null,
   "metadata": {},
   "outputs": [],
   "source": [
    "class Solution:\n",
    "    def dayOfTheWeek(self, day: int, month: int, year: int) -> str:\n",
    "        def hasLeapDay(year):\n",
    "            return 1 if year % 4 == 0 and year % 100 != 0 or year % 400 == 0 else 0\n",
    "\n",
    "        dayNames = [\"Saturday\", \"Sunday\", \"Monday\", \"Tuesday\", \"Wednesday\", \"Thursday\", \"Friday\"]\n",
    "        daysInMonth = [31, 28, 31, 30, 31, 30, 31, 31, 30, 31, 30, 31]\n",
    "        # days since 31, 12, 1970\n",
    "        def daysSinceStart(day, month, year):\n",
    "            numDays = 0\n",
    "            for y in range(year - 1, 1970, -1):\n",
    "                numDays += 365 + hasLeapDay(y)\n",
    "            numDays += sum(daysInMonth[:month-1])\n",
    "            numDays += day \n",
    "            if month > 2:    \n",
    "                numDays += hasLeapDay(year)\n",
    "            return numDays\n",
    "\n",
    "        knownStart = daysSinceStart(14,9,2019)\n",
    "        d = daysSinceStart(day, month, year) \n",
    "        return dayNames[ (d - knownStart) % 7]"
   ]
  },
  {
   "cell_type": "code",
   "execution_count": null,
   "metadata": {},
   "outputs": [],
   "source": [
    "class Solution:\n",
    "    def dayOfTheWeek(self, day: int, month: int, year: int) -> str:\n",
    "        from datetime import date\n",
    "        week_of_day = [\"Monday\", \"Tuesday\", \"Wednesday\", \"Thursday\", \"Friday\", \"Saturday\", \"Sunday\"]\n",
    "        return week_of_day[date(year, month, day).weekday()]"
   ]
  }
 ],
 "metadata": {
  "kernelspec": {
   "display_name": "Python 3",
   "language": "python",
   "name": "python3"
  },
  "language_info": {
   "codemirror_mode": {
    "name": "ipython",
    "version": 3
   },
   "file_extension": ".py",
   "mimetype": "text/x-python",
   "name": "python",
   "nbconvert_exporter": "python",
   "pygments_lexer": "ipython3",
   "version": "3.7.6"
  }
 },
 "nbformat": 4,
 "nbformat_minor": 4
}
