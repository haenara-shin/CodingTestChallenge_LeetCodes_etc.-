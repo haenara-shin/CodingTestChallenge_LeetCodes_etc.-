{
 "cells": [
  {
   "cell_type": "markdown",
   "metadata": {},
   "source": [
    "Given an array target and an integer n. In each iteration, you will read a number from  list = {1,2,3..., n}.\n",
    "\n",
    "Build the target array using the following operations:\n",
    "\n",
    "Push: Read a new element from the beginning list, and push it in the array.\n",
    "Pop: delete the last element of the array.\n",
    "If the target array is already built, stop reading more elements.\n",
    "You are guaranteed that the target array is strictly increasing, only containing numbers between 1 to n inclusive.\n",
    "\n",
    "Return the operations to build the target array.\n",
    "\n",
    "You are guaranteed that the answer is unique.\n",
    "\n",
    " \n",
    "\n",
    "Example 1:\n",
    "\n",
    "Input: target = [1,3], n = 3\n",
    "Output: [\"Push\",\"Push\",\"Pop\",\"Push\"]\n",
    "Explanation: \n",
    "Read number 1 and automatically push in the array -> [1]\n",
    "Read number 2 and automatically push in the array then Pop it -> [1]\n",
    "Read number 3 and automatically push in the array -> [1,3]\n",
    "Example 2:\n",
    "\n",
    "Input: target = [1,2,3], n = 3\n",
    "Output: [\"Push\",\"Push\",\"Push\"]\n",
    "Example 3:\n",
    "\n",
    "Input: target = [1,2], n = 4\n",
    "Output: [\"Push\",\"Push\"]\n",
    "Explanation: You only need to read the first 2 numbers and stop.\n",
    "Example 4:\n",
    "\n",
    "Input: target = [2,3,4], n = 4\n",
    "Output: [\"Push\",\"Pop\",\"Push\",\"Push\",\"Push\"]\n",
    " \n",
    "\n",
    "Constraints:\n",
    "\n",
    "1 <= target.length <= 100\n",
    "1 <= target[i] <= 100\n",
    "1 <= n <= 100\n",
    "target is strictly increasing."
   ]
  },
  {
   "cell_type": "code",
   "execution_count": null,
   "metadata": {},
   "outputs": [],
   "source": [
    "class Solution:\n",
    "    def buildArray(self, target: List[int], n: int) -> List[str]:\n",
    "        \"\"\"\n",
    "        :type target: List[int]\n",
    "        :type n: int\n",
    "        :rtype: List[str]\n",
    "        \"\"\"\n",
    "        \n",
    "        result = []\n",
    "        targetIndex = 0\n",
    "        \n",
    "        for i in range(1, target[-1]+1):\n",
    "            if target[targetIndex] == i:\n",
    "                result.append(\"Push\")\n",
    "                targetIndex += 1\n",
    "            else:\n",
    "                result.append(\"Push\")\n",
    "                result.append(\"Pop\")\n",
    "        return result"
   ]
  },
  {
   "cell_type": "code",
   "execution_count": null,
   "metadata": {},
   "outputs": [],
   "source": [
    "class Solution:\n",
    "    def buildArray(self, target: List[int], n: int) -> List[str]:\n",
    "        res = []\n",
    "        for i in range(1,n+1):\n",
    "            if i in target:\n",
    "                res.append('Push')\n",
    "                if i == target[-1]:\n",
    "                    break\n",
    "            else:\n",
    "                res.append('Push')\n",
    "                res.append('Pop')\n",
    "        return res"
   ]
  },
  {
   "cell_type": "code",
   "execution_count": null,
   "metadata": {},
   "outputs": [],
   "source": [
    "class Solution:\n",
    "    def buildArray(self, target: List[int], n: int) -> List[str]:\n",
    "        m = []\n",
    "        for i in range(1, n+1):\n",
    "            m.append(i)\n",
    "        res = []\n",
    "        for i in m:\n",
    "            if i in target:\n",
    "                res.append('Push')\n",
    "                if i == target[-1]:\n",
    "                    break\n",
    "            else:\n",
    "                res.append('Push')\n",
    "                res.append('Pop')\n",
    "        return res"
   ]
  }
 ],
 "metadata": {
  "kernelspec": {
   "display_name": "Python 3",
   "language": "python",
   "name": "python3"
  },
  "language_info": {
   "codemirror_mode": {
    "name": "ipython",
    "version": 3
   },
   "file_extension": ".py",
   "mimetype": "text/x-python",
   "name": "python",
   "nbconvert_exporter": "python",
   "pygments_lexer": "ipython3",
   "version": "3.7.6"
  }
 },
 "nbformat": 4,
 "nbformat_minor": 4
}
