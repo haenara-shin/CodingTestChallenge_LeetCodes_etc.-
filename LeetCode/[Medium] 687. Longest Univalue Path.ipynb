{
 "cells": [
  {
   "cell_type": "markdown",
   "metadata": {},
   "source": [
    "Given the root of a binary tree, return the length of the longest path, where each node in the path has the same value. This path may or may not pass through the root.\n",
    "\n",
    "The length of the path between two nodes is represented by the number of edges between them.\n",
    "\n",
    " \n",
    "\n",
    "Example 1:\n",
    "\n",
    "\n",
    "Input: root = [5,4,5,1,1,5]\n",
    "Output: 2\n",
    "Example 2:\n",
    "\n",
    "\n",
    "Input: root = [1,4,5,4,4,5]\n",
    "Output: 2\n",
    " \n",
    "\n",
    "Constraints:\n",
    "\n",
    "The number of nodes in the tree is in the range [0, 104].\n",
    "-1000 <= Node.val <= 1000\n",
    "The depth of the tree will not exceed 1000."
   ]
  },
  {
   "cell_type": "code",
   "execution_count": null,
   "metadata": {},
   "outputs": [],
   "source": [
    "# Definition for a binary tree node.\n",
    "# class TreeNode:\n",
    "#     def __init__(self, val=0, left=None, right=None):\n",
    "#         self.val = val\n",
    "#         self.left = left\n",
    "#         self.right = right\n",
    "class Solution:\n",
    "    result: int = 0\n",
    "    def longestUnivaluePath(self, root: TreeNode) -> int:\n",
    "        def dfs(node:TreeNode) -> int:\n",
    "            if not node:\n",
    "                return 0\n",
    "            \n",
    "            left = dfs(node.left)\n",
    "            right = dfs(node.right)\n",
    "            \n",
    "            if node.left and node.left.val == node.val:\n",
    "                left += 1\n",
    "            else:\n",
    "                left = 0\n",
    "            if node.right and node.right.val == node.val:\n",
    "                right += 1\n",
    "            else:\n",
    "                right = 0\n",
    "            \n",
    "            self.result = max(self.result, left+right)\n",
    "            return max(left, right)\n",
    "        \n",
    "        dfs(root)\n",
    "        return self.result"
   ]
  }
 ],
 "metadata": {
  "kernelspec": {
   "display_name": "Python 3",
   "language": "python",
   "name": "python3"
  },
  "language_info": {
   "codemirror_mode": {
    "name": "ipython",
    "version": 3
   },
   "file_extension": ".py",
   "mimetype": "text/x-python",
   "name": "python",
   "nbconvert_exporter": "python",
   "pygments_lexer": "ipython3",
   "version": "3.7.6"
  }
 },
 "nbformat": 4,
 "nbformat_minor": 4
}
