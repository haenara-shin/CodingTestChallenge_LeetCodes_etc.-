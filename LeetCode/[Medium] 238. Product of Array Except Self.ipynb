{
 "cells": [
  {
   "cell_type": "markdown",
   "metadata": {},
   "source": [
    "Given an integer array nums, return an array answer such that answer[i] is equal to the product of all the elements of nums except nums[i].\n",
    "\n",
    "The product of any prefix or suffix of nums is guaranteed to fit in a 32-bit integer.\n",
    "\n",
    " \n",
    "\n",
    "Example 1:\n",
    "\n",
    "Input: nums = [1,2,3,4]\n",
    "Output: [24,12,8,6]\n",
    "Example 2:\n",
    "\n",
    "Input: nums = [-1,1,0,-3,3]\n",
    "Output: [0,0,9,0,0]\n",
    " \n",
    "\n",
    "Constraints:\n",
    "\n",
    "2 <= nums.length <= 105\n",
    "-30 <= nums[i] <= 30\n",
    "The product of any prefix or suffix of nums is guaranteed to fit in a 32-bit integer.\n",
    " \n",
    "\n",
    "Follow up:\n",
    "\n",
    "Could you solve it in O(n) time complexity and without using division?\n",
    "Could you solve it with O(1) constant space complexity? (The output array does not count as extra space for space complexity analysis.)"
   ]
  },
  {
   "cell_type": "code",
   "execution_count": null,
   "metadata": {},
   "outputs": [],
   "source": [
    "class Solution:\n",
    "    def productExceptSelf(self, nums: List[int]) -> List[int]:\n",
    "        out = []\n",
    "        p = 1\n",
    "        \n",
    "        for i in range(0, len(nums)):\n",
    "            out.append(p)\n",
    "            p = p * nums[i]\n",
    "        \n",
    "        q = 1\n",
    "        for i in range(len(nums)-1, -1, -1):\n",
    "            out[i] = out[i] * q\n",
    "            q = q * nums[i]\n",
    "        return out"
   ]
  }
 ],
 "metadata": {
  "kernelspec": {
   "display_name": "Python 3",
   "language": "python",
   "name": "python3"
  },
  "language_info": {
   "codemirror_mode": {
    "name": "ipython",
    "version": 3
   },
   "file_extension": ".py",
   "mimetype": "text/x-python",
   "name": "python",
   "nbconvert_exporter": "python",
   "pygments_lexer": "ipython3",
   "version": "3.7.6"
  }
 },
 "nbformat": 4,
 "nbformat_minor": 4
}
