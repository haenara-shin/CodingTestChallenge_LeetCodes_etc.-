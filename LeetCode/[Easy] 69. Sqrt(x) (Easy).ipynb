{
 "cells": [
  {
   "cell_type": "markdown",
   "metadata": {},
   "source": [
    "Implement int sqrt(int x).\n",
    "\n",
    "Compute and return the square root of x, where x is guaranteed to be a non-negative integer.\n",
    "\n",
    "Since the return type is an integer, the decimal digits are truncated and only the integer part of the result is returned.\n",
    "\n",
    "Example 1:\n",
    "\n",
    "Input: 4\n",
    "Output: 2\n",
    "\n",
    "Example 2:\n",
    "Input: 8\n",
    "Output: 2\n",
    "Explanation: The square root of 8 is 2.82842..., and since \n",
    "             the decimal part is truncated, 2 is returned."
   ]
  },
  {
   "cell_type": "code",
   "execution_count": null,
   "metadata": {},
   "outputs": [],
   "source": [
    "x = 8\n",
    "lo, hi = 0, x\n",
    "while lo <= hi:\n",
    "    mid = (lo + hi) // 2\n",
    "    if mid * mid > x:\n",
    "        hi = mid - 1\n",
    "    elif mid * mid < x:\n",
    "        lo = mid + 1\n",
    "    else:\n",
    "        re"
   ]
  },
  {
   "cell_type": "code",
   "execution_count": null,
   "metadata": {},
   "outputs": [],
   "source": [
    "class Solution:\n",
    "    def mySqrt(self, x: int) -> int:\n",
    "        lo, hi = 0, x\n",
    "        \n",
    "        while lo <= hi:\n",
    "            mid = (lo + hi) // 2\n",
    "            \n",
    "            if mid * mid > x:\n",
    "                hi = mid - 1\n",
    "            elif mid * mid < x:\n",
    "                lo = mid + 1\n",
    "            else:\n",
    "                return mid\n",
    "        \n",
    "        # When there is no perfect square, hi is the the value on the left\n",
    "        # of where it would have been (rounding down). If we were rounding up, \n",
    "        # we would return lo\n",
    "        return hi"
   ]
  },
  {
   "cell_type": "code",
   "execution_count": null,
   "metadata": {},
   "outputs": [],
   "source": [
    "class Solution:\n",
    "    def mySqrt(self, x: int) -> int:\n",
    "        return int(x**0.5)"
   ]
  },
  {
   "cell_type": "code",
   "execution_count": null,
   "metadata": {},
   "outputs": [],
   "source": [
    "class Solution:\n",
    "    def mySqrt(self, x: int) -> int:\n",
    "        from math import sqrt\n",
    "        return int(sqrt(x))"
   ]
  }
 ],
 "metadata": {
  "kernelspec": {
   "display_name": "Python 3",
   "language": "python",
   "name": "python3"
  },
  "language_info": {
   "codemirror_mode": {
    "name": "ipython",
    "version": 3
   },
   "file_extension": ".py",
   "mimetype": "text/x-python",
   "name": "python",
   "nbconvert_exporter": "python",
   "pygments_lexer": "ipython3",
   "version": "3.7.6"
  }
 },
 "nbformat": 4,
 "nbformat_minor": 4
}
