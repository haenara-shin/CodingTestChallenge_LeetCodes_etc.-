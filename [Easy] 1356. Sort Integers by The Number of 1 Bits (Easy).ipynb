{
 "cells": [
  {
   "cell_type": "markdown",
   "metadata": {},
   "source": [
    "Given an integer array arr. You have to sort the integers in the array in ascending order by the number of 1's in their binary representation and in case of two or more integers have the same number of 1's you have to sort them in ascending order.\n",
    "\n",
    "Return the sorted array.\n",
    "\n",
    " \n",
    "\n",
    "Example 1:\n",
    "\n",
    "Input: arr = [0,1,2,3,4,5,6,7,8]\n",
    "Output: [0,1,2,4,8,3,5,6,7]\n",
    "Explantion: [0] is the only integer with 0 bits.\n",
    "[1,2,4,8] all have 1 bit.\n",
    "[3,5,6] have 2 bits.\n",
    "[7] has 3 bits.\n",
    "The sorted array by bits is [0,1,2,4,8,3,5,6,7]\n",
    "\n",
    "Example 2:\n",
    "\n",
    "Input: arr = [1024,512,256,128,64,32,16,8,4,2,1]\n",
    "Output: [1,2,4,8,16,32,64,128,256,512,1024]\n",
    "Explantion: All integers have 1 bit in the binary representation, you should just sort them in ascending order.\n",
    "\n",
    "Example 3:\n",
    "\n",
    "Input: arr = [10000,10000]\n",
    "Output: [10000,10000]\n",
    "\n",
    "Example 4:\n",
    "\n",
    "Input: arr = [2,3,5,7,11,13,17,19]\n",
    "Output: [2,3,5,17,7,11,13,19]\n",
    "\n",
    "Example 5:\n",
    "\n",
    "Input: arr = [10,100,1000,10000]\n",
    "Output: [10,100,10000,1000]\n",
    " \n",
    "\n",
    "Constraints:\n",
    "\n",
    "1 <= arr.length <= 500\n",
    "0 <= arr[i] <= 10^4"
   ]
  },
  {
   "cell_type": "code",
   "execution_count": null,
   "metadata": {},
   "outputs": [],
   "source": [
    "class Solution:\n",
    "    def sortByBits(self, arr: List[int]) -> List[int]:\n",
    "        return sorted(arr, key=lambda x: (self.hamming_weight(x), x))\n",
    "    \n",
    "    @staticmethod\n",
    "    def hamming_weight(num: int) -> int:\n",
    "        weight = 0\n",
    "\n",
    "        while num:\n",
    "            weight += 1\n",
    "            num &= num - 1\n",
    "\n",
    "        return weight"
   ]
  },
  {
   "cell_type": "code",
   "execution_count": null,
   "metadata": {},
   "outputs": [],
   "source": [
    "class Solution:\n",
    "    def sortByBits(self, arr: List[int]) -> List[int]:\n",
    "        from operator import itemgetter\n",
    "        x = []\n",
    "        for i in arr:\n",
    "            x.append((i, bin(i).count('1')))\n",
    "        res = []\n",
    "        for i in sorted(x, key=itemgetter(1,0)):\n",
    "            res.append(i[0])\n",
    "        return res"
   ]
  }
 ],
 "metadata": {
  "kernelspec": {
   "display_name": "Python 3",
   "language": "python",
   "name": "python3"
  },
  "language_info": {
   "codemirror_mode": {
    "name": "ipython",
    "version": 3
   },
   "file_extension": ".py",
   "mimetype": "text/x-python",
   "name": "python",
   "nbconvert_exporter": "python",
   "pygments_lexer": "ipython3",
   "version": "3.7.6"
  }
 },
 "nbformat": 4,
 "nbformat_minor": 4
}
