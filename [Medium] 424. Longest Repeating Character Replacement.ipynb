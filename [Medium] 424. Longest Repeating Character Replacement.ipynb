{
 "cells": [
  {
   "cell_type": "markdown",
   "metadata": {},
   "source": [
    "You are given a string s and an integer k. You can choose any character of the string and change it to any other uppercase English character. You can perform this operation at most k times.\n",
    "\n",
    "Return the length of the longest substring containing the same letter you can get after performing the above operations.\n",
    "\n",
    " \n",
    "\n",
    "Example 1:\n",
    "\n",
    "Input: s = \"ABAB\", k = 2\n",
    "Output: 4\n",
    "Explanation: Replace the two 'A's with two 'B's or vice versa.\n",
    "Example 2:\n",
    "\n",
    "Input: s = \"AABABBA\", k = 1\n",
    "Output: 4\n",
    "Explanation: Replace the one 'A' in the middle with 'B' and form \"AABBBBA\".\n",
    "The substring \"BBBB\" has the longest repeating letters, which is 4.\n",
    " \n",
    "\n",
    "Constraints:\n",
    "\n",
    "1 <= s.length <= 105\n",
    "s consists of only uppercase English letters.\n",
    "0 <= k <= s.length"
   ]
  },
  {
   "cell_type": "markdown",
   "metadata": {},
   "source": [
    "# count = Counter() \n",
    "### defaultdict(int) 랑 비슷하게 되는것 같다"
   ]
  },
  {
   "cell_type": "code",
   "execution_count": null,
   "metadata": {},
   "outputs": [],
   "source": [
    "class Solution:\n",
    "    def characterReplacement(self, s: str, k: int) -> int:\n",
    "        from collections import Counter\n",
    "        left = 0\n",
    "        count = Counter()\n",
    "        \n",
    "        for right in range(1,len(s)+1):\n",
    "            count[s[right-1]] += 1\n",
    "            max_char_n = count.most_common(1)[0][1]\n",
    "            \n",
    "            if right - left - max_char_n > k:\n",
    "                count[s[left]] -= 1\n",
    "                left += 1\n",
    "        return right - left"
   ]
  },
  {
   "cell_type": "code",
   "execution_count": null,
   "metadata": {},
   "outputs": [],
   "source": [
    "class Solution:\n",
    "    def characterReplacement(self, s: str, k: int) -> int:\n",
    "        from collections import Counter\n",
    "        left = right = 0\n",
    "        count = Counter()\n",
    "        \n",
    "        for right in range(1,len(s)+1):\n",
    "            count[s[right-1]] += 1\n",
    "            max_char_n = count.most_common(1)[0][1]\n",
    "            \n",
    "            if right - left - max_char_n > k:\n",
    "                count[s[left]] -= 1\n",
    "                left += 1\n",
    "        return right - left"
   ]
  }
 ],
 "metadata": {
  "kernelspec": {
   "display_name": "Python 3",
   "language": "python",
   "name": "python3"
  },
  "language_info": {
   "codemirror_mode": {
    "name": "ipython",
    "version": 3
   },
   "file_extension": ".py",
   "mimetype": "text/x-python",
   "name": "python",
   "nbconvert_exporter": "python",
   "pygments_lexer": "ipython3",
   "version": "3.7.6"
  }
 },
 "nbformat": 4,
 "nbformat_minor": 4
}
