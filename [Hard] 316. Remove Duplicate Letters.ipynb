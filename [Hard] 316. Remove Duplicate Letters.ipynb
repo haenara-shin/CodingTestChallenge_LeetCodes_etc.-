{
 "cells": [
  {
   "cell_type": "markdown",
   "metadata": {},
   "source": [
    "Given a string which contains only lowercase letters, remove duplicate letters so that every letter appears once and only once. You must make sure your result is the smallest in lexicographical order among all possible results.\n",
    "\n",
    "Example 1:\n",
    "\n",
    "Input: \"bcabc\"\n",
    "Output: \"abc\"\n",
    "Example 2:\n",
    "\n",
    "Input: \"cbacdcbc\"\n",
    "Output: \"acdb\"\n",
    "Note: This question is the same as 1081: https://leetcode.com/problems/smallest-subsequence-of-distinct-characters/"
   ]
  },
  {
   "cell_type": "code",
   "execution_count": null,
   "metadata": {},
   "outputs": [],
   "source": [
    "# stack2\n",
    "class Solution:\n",
    "    def removeDuplicateLetters(self, s: str) -> str:\n",
    "        counter, seen, stack = collections.Counter(s), set(), []\n",
    "        \n",
    "        for char in s:\n",
    "            counter[char] -= 1\n",
    "            \n",
    "            if char in seen:\n",
    "                continue\n",
    "            \n",
    "            while stack and char < stack[-1] and counter[stack[-1]] > 0:\n",
    "                seen.remove(stack.pop())\n",
    "                \n",
    "            stack.append(char)\n",
    "            seen.add(char)\n",
    "            \n",
    "        return ''.join(stack)"
   ]
  },
  {
   "cell_type": "code",
   "execution_count": null,
   "metadata": {},
   "outputs": [],
   "source": [
    "# stack1\n",
    "class Solution:\n",
    "    def removeDuplicateLetters(self, s: str) -> str:\n",
    "        counter, stack = collections.Counter(s), []\n",
    "        \n",
    "        for char in s:\n",
    "            counter[char] -= 1\n",
    "            if char in stack:\n",
    "                continue\n",
    "            while stack and char < stack[-1] and counter[stack[-1]] > 0:\n",
    "                stack.pop()\n",
    "            stack.append(char)\n",
    "        \n",
    "        return ''.join(stack)"
   ]
  },
  {
   "cell_type": "code",
   "execution_count": null,
   "metadata": {},
   "outputs": [],
   "source": [
    "# recursive\n",
    "class Solution:\n",
    "    def removeDuplicateLetters(self, s: str) -> str:\n",
    "        for char in sorted(set(s)):\n",
    "            suffix = s[s.index(char):]\n",
    "            if set(s) == set(suffix):\n",
    "                return char + self.removeDuplicateLetters(suffix.replace[char, ''])\n",
    "        return ''"
   ]
  }
 ],
 "metadata": {
  "kernelspec": {
   "display_name": "Python 3",
   "language": "python",
   "name": "python3"
  },
  "language_info": {
   "codemirror_mode": {
    "name": "ipython",
    "version": 3
   },
   "file_extension": ".py",
   "mimetype": "text/x-python",
   "name": "python",
   "nbconvert_exporter": "python",
   "pygments_lexer": "ipython3",
   "version": "3.7.6"
  }
 },
 "nbformat": 4,
 "nbformat_minor": 4
}
