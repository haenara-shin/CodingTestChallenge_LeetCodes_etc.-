{
 "cells": [
  {
   "cell_type": "code",
   "execution_count": 9,
   "metadata": {},
   "outputs": [
    {
     "data": {
      "text/plain": [
       "[-92, -48, -23, -17, 0, 41, 45, 89, 89, 95, 96, 99]"
      ]
     },
     "execution_count": 9,
     "metadata": {},
     "output_type": "execute_result"
    }
   ],
   "source": [
    "def alternatingSort(a):\n",
    "    from collections import deque\n",
    "    from collections import Counter\n",
    "    \n",
    "    a_count = Counter(a)\n",
    "    if max(a_count.values()) != 1:\n",
    "        return False\n",
    "    \n",
    "    q = deque(a)\n",
    "    \n",
    "    b = []\n",
    "    i = 0\n",
    "    while len(q) != 0:\n",
    "        try:\n",
    "            q_front = q.popleft()\n",
    "            b.append(q_front)\n",
    "            q_last = q.pop()\n",
    "            b.append(q_last)\n",
    "        except:\n",
    "            pass\n",
    "        \n",
    "    return b == sorted(a)\n",
    "\n",
    "alternatingSort([-92, -23, 0, 45, 89, 96, 99, 95, 89, 41, -17, -48])"
   ]
  },
  {
   "cell_type": "code",
   "execution_count": null,
   "metadata": {},
   "outputs": [],
   "source": []
  }
 ],
 "metadata": {
  "kernelspec": {
   "display_name": "Python 3",
   "language": "python",
   "name": "python3"
  },
  "language_info": {
   "codemirror_mode": {
    "name": "ipython",
    "version": 3
   },
   "file_extension": ".py",
   "mimetype": "text/x-python",
   "name": "python",
   "nbconvert_exporter": "python",
   "pygments_lexer": "ipython3",
   "version": "3.7.6"
  }
 },
 "nbformat": 4,
 "nbformat_minor": 4
}
