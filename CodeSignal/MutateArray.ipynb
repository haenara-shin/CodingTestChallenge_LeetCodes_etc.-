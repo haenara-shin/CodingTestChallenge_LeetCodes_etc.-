{
 "cells": [
  {
   "cell_type": "code",
   "execution_count": 4,
   "metadata": {},
   "outputs": [
    {
     "data": {
      "text/plain": [
       "[4, 5, -1, 2, 1]"
      ]
     },
     "execution_count": 4,
     "metadata": {},
     "output_type": "execute_result"
    }
   ],
   "source": [
    "def mutateTheArray(n, a):\n",
    "    b = [0] * n\n",
    "    if n == 1:\n",
    "        return a\n",
    "    elif n == 2:\n",
    "        b[0] = 0 + a[0] + 0\n",
    "        b[1] = a[0] + a[1] + 0\n",
    "        return b\n",
    "    else:\n",
    "        for i in range(n):\n",
    "            if i == 0:\n",
    "                b[i] = 0 + a[i] + a[i+1]\n",
    "            elif i == n-1:\n",
    "                b[i] = a[i-1] + a[i] + 0\n",
    "            else:\n",
    "                b[i] = a[i-1] + a[i] + a[i+1]\n",
    "        \n",
    "    return b\n",
    "\n",
    "mutateTheArray(n = 5, a = [4, 0, 1, -2, 3])"
   ]
  },
  {
   "cell_type": "code",
   "execution_count": null,
   "metadata": {},
   "outputs": [],
   "source": []
  }
 ],
 "metadata": {
  "kernelspec": {
   "display_name": "Python 3",
   "language": "python",
   "name": "python3"
  },
  "language_info": {
   "codemirror_mode": {
    "name": "ipython",
    "version": 3
   },
   "file_extension": ".py",
   "mimetype": "text/x-python",
   "name": "python",
   "nbconvert_exporter": "python",
   "pygments_lexer": "ipython3",
   "version": "3.7.6"
  }
 },
 "nbformat": 4,
 "nbformat_minor": 4
}
