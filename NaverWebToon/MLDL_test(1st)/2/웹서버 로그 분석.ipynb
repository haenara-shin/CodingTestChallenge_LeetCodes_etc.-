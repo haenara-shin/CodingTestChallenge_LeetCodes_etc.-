{
 "cells": [
  {
   "cell_type": "markdown",
   "metadata": {},
   "source": [
    "# 웹서버 로그 분석"
   ]
  },
  {
   "cell_type": "markdown",
   "metadata": {},
   "source": [
    "## 문제 개요\n",
    "\n",
    "웹서버 로그 데이터를 바탕으로 간단한 분석을 해보자. 주어진 로그 파일에는 총 백만개의 레코드가 들어 있으며 이를 바탕으로 요청을 가장 많이 보낸 5개의 IP 주소와 5개의 브라우저 에이전트를 찾는 것이 이번 문제입니다. 이 로그 파일은 흔히 이야기하는 반구조화된 (Semi-structured) 데이터인데 이를 잘 파싱하여 구조화된 형태로 바꾸는 것이 이번 문제를 해결하는데 핵심입니다."
   ]
  },
  {
   "cell_type": "markdown",
   "metadata": {},
   "source": [
    "## 데이터 셋 설명\n",
    "\n",
    "### **access.log 파일은 data 폴더 속에 있습니다.**\n",
    "\n",
    "access.log 파일에서 3개의 레코드를 예제로 보이면 아래와 같습니다:\n",
    "\n",
    "| |\n",
    "|:-|\n",
    "|31.56.96.51 - - [22/Jan/2019:03:56:16 +0330] \"GET /image/60844/productModel/200x200 HTTP/1.1\" 200 5667 \"https://www.zanbil.ir/m/filter/b113\" \"Mozilla/5.0 (Linux; Android 6.0; ALE-L21 Build/HuaweiALE-L21) AppleWebKit/537.36 (KHTML, like Gecko) Chrome/66.0.3359.158 Mobile Safari/537.36\" \"-\"|\n",
    "|40.77.167.129 - - [22/Jan/2019:03:56:17 +0330] \"GET /image/23488/productModel/150x150 HTTP/1.1\" 200 2654 \"-\" \"Mozilla/5.0 (compatible; bingbot/2.0; +http://www.bing.com/bingbot.htm)\" \"-\"|\n",
    "|91.99.72.15 - - [22/Jan/2019:03:56:34 +0330] \"GET /product/29080?model=58289 HTTP/1.1\" 200 41308 \"-\" \"Mozilla/5.0 (X11; Linux x86_64) AppleWebKit/537.36 (KHTML, like Gecko) Chrome/53.0.2785.92 Safari/537.36\" \"-\"|\n",
    "\n",
    "이 레코드의 구조는 다음과 같이 반구조화된 형태로 존재합니다. \n",
    "\n",
    "`\n",
    "IP주소 - - [요청시간] \"요청웹페이지\" HTTP응답코드 응답바이트수 \"리퍼러URL\" \"브라우저에이전트\" \"-\"\n",
    "`\n",
    "\n",
    "위의 포맷을 보면 7개의 필드가 존재하는데 아래 테이블에 부연설명을 했습니다:\n",
    "\n",
    "|필드이름|\t타입|\t설명|\t예|\n",
    "|:-|:-|:-|:-|\n",
    "|IP주소|\t문자열|\t요청을 한 브라우저의 IP주소|\t31.56.96.51|\n",
    "|요청시간|\t문자열|\t이를 파싱하면 요청이 만들어진 날짜와 시간을 알 수 있습니다.|\t22/Jan/2019:03:56:16 +0330|\n",
    "|요청웹페이지|\t문자열|\t클라이언트단에서 요청한 HTTP 메소드와 웹페이지의 URL과 HTTP 버전|\tGET /image/60844/productModel/200x200 HTTP/1.1|\n",
    "|HTTP응답코드|\t정수|\tHTTP 응답코드로 200대라면 요청이 성공적으로 처리되었음을 나타내고 400대라면 존재하지 않는 웹페이지가 요청되었음을 나타냅니다. 500대라면 무언가 에러가 났음을 나타냅니다.| \t200|\n",
    "|응답바이트수|\t정수| \t클라이언트에게 보내진 응답의 크기를 바이트수로 표시합니다.|\t5667\n",
    "|리퍼러URL|\t문자열|\t만일 이 요청이 다른 웹페이지에 존재하는 링크를 통해 이뤄진 경우 그 웹페이지의 URL이 여기 지정됩니다.|\thttps://www.zanbil.ir/m/filter/b113|\n",
    "|브라우저 에이전트|\t문자열|\t요청을 만든 브라우저의 종류와 버전이 여기 지정됩니다.|Mozilla/5.0 (Linux; Android 6.0; ALE-L21 Build/HuaweiALE-L21) AppleWebKit/537.36 (KHTML, like Gecko) Chrome/66.0.3359.158 Mobile Safari/537.36|\n",
    "\n",
    "access.log에 있는 레코드들을 파싱하여 IP주소와 브라우저 에이전트의 값을 추출한 다음 가장 많이 사용된 5개의 IP 주소와 5개의 브라우저 에이전트를 찾아서 아래와 같은 형태로 제출합니다."
   ]
  },
  {
   "cell_type": "markdown",
   "metadata": {},
   "source": [
    "## 코드 선택\n",
    "\n",
    "Python, R 중 본인의 선호 언어에 따라 코드를 선택하세요.\n",
    "Python을 선호한다면 Python 코드를, R을 선호한다면 R 코드로만 작성하면 됩니다."
   ]
  },
  {
   "cell_type": "markdown",
   "metadata": {},
   "source": [
    "## 최종 제출 파일들\n",
    "\n",
    "최종 제출 파일은 두 개입니다.\n",
    "\n",
    "**1. 가장 많이 사용된 5개의 IP 주소**\n",
    "\n",
    "    아래의 예시처럼 각 라인마다 IP주소를 지정한 형태 제출 파일의 내용을 만듭니다. 헤더의 이름은 answer_top_ip5 이어야 합니다.\n",
    "\n",
    "|answer_top_ip5|\n",
    "|:-|\n",
    "|31.56.96.51|\n",
    "|2.181.160.157|\n",
    "|46.224.89.237|\n",
    "|66.249.66.194|\n",
    "|91.99.72.15|\n",
    "\n",
    "**2. 가장 많이 사용된 5개의 브라우저 에이전트**\n",
    "\n",
    "    아래의 예시처럼 각 라인마다 브라우저 에이전트를 지정한 형태 제출 파일의 내용을 만듭니다. 헤더의 이름은 answer_top_agent5 이어야 합니다.\n",
    "    **채점을 위해 브라우저 에이전트의 양 끝에 \"을 달아주세요.**\n",
    "\n",
    "|answer_top_agent5|\n",
    "|:-|\n",
    "|\"Mozilla/5.0 (Windows NT 6.1) AppleWebKit/537.36 (KHTML, like Gecko) Chrome/71.0.3578.98 Safari/537.36\"|\n",
    "|\"Mozilla/5.0 (compatible; bingbot/2.0; +http://www.bing.com/bingbot.htm)\"|\n",
    "|\"Mozilla/5.0 (Linux; Android 6.0; ALE-L21 Build/HuaweiALE-L21) AppleWebKit/537.36 (KHTML, like Gecko) Chrome/66.0.3359.158 Mobile Safari/537.36\"|\n",
    "|\"Mozilla/5.0 (X11; Linux x86_64) AppleWebKit/537.36 (KHTML, like Gecko) Chrome/53.0.2785.92 Safari/537.36\"|\n",
    "|\"Mozilla/5.0 (Android 7.1.1; Mobile; rv:64.0) Gecko/64.0 Firefox/64.0\"|\n"
   ]
  },
  {
   "cell_type": "code",
   "execution_count": 1,
   "metadata": {},
   "outputs": [
    {
     "name": "stdout",
     "output_type": "stream",
     "text": [
      "1000000\n"
     ]
    }
   ],
   "source": [
    "with open('access.log', newline='\\n') as f:\n",
    "    size = len(f.readlines())\n",
    "    print(size)"
   ]
  },
  {
   "cell_type": "code",
   "execution_count": 2,
   "metadata": {},
   "outputs": [
    {
     "name": "stdout",
     "output_type": "stream",
     "text": [
      "91.99.72.15\n"
     ]
    }
   ],
   "source": [
    "with open('access.log', newline='\\n') as f:\n",
    "    print(list(f)[100].split(' -')[0])"
   ]
  },
  {
   "cell_type": "code",
   "execution_count": 3,
   "metadata": {},
   "outputs": [
    {
     "name": "stdout",
     "output_type": "stream",
     "text": [
      "\"Mozilla/5.0 (Linux; Android 6.0; ALE-L21 Build/HuaweiALE-L21) AppleWebKit/537.36 (KHTML, like Gecko) Chrome/66.0.3359.158 Mobile Safari/537.36\"\n"
     ]
    }
   ],
   "source": [
    "with open('access.log', newline='\\n') as f:\n",
    "    print('\"'+list(f)[1].split('\"')[5]+'\"')"
   ]
  },
  {
   "cell_type": "code",
   "execution_count": 15,
   "metadata": {},
   "outputs": [],
   "source": [
    "ip_list = []\n",
    "agent_list = []\n",
    "f = open('access.log', 'r')\n",
    "lines = f.readlines()\n",
    "# print(len(lines))\n",
    "# print(list(lines)[0].split(' -')[0])\n",
    "# print('\"'+(list(lines)[0].split('\"')[5])+'\"')\n",
    "for line in lines:\n",
    "    ip_list.append(line.split(' -')[0])\n",
    "    agent_list.append('\"'+line.split('\"')[5]+'\"')\n",
    "f.close()"
   ]
  },
  {
   "cell_type": "code",
   "execution_count": 9,
   "metadata": {},
   "outputs": [
    {
     "name": "stdout",
     "output_type": "stream",
     "text": [
      "['54.36.149.41', '31.56.96.51']\n",
      "['\"Mozilla/5.0 (compatible; AhrefsBot/6.1; +http://ahrefs.com/robot/)\"', '\"Mozilla/5.0 (Linux; Android 6.0; ALE-L21 Build/HuaweiALE-L21) AppleWebKit/537.36 (KHTML, like Gecko) Chrome/66.0.3359.158 Mobile Safari/537.36\"']\n"
     ]
    }
   ],
   "source": [
    "print(ip_list)\n",
    "print(agent_list)"
   ]
  },
  {
   "cell_type": "code",
   "execution_count": 41,
   "metadata": {},
   "outputs": [
    {
     "data": {
      "text/plain": [
       "{'top_ip5': ['66.249.66.194',\n",
       "  '66.249.66.91',\n",
       "  '151.239.241.163',\n",
       "  '91.99.30.32',\n",
       "  '66.249.66.92']}"
      ]
     },
     "execution_count": 41,
     "metadata": {},
     "output_type": "execute_result"
    }
   ],
   "source": [
    "from collections import Counter\n",
    "ip = []\n",
    "for i in Counter(ip_list).most_common(5):\n",
    "    ip.append(i[0])\n",
    "    \n",
    "top_ip = {'answer_top_ip5':ip}\n",
    "top_ip"
   ]
  },
  {
   "cell_type": "code",
   "execution_count": 42,
   "metadata": {},
   "outputs": [
    {
     "data": {
      "text/plain": [
       "{'answer_top_agent5': ['\"Mozilla/5.0 (Windows NT 6.1) AppleWebKit/537.36 (KHTML, like Gecko) Chrome/71.0.3578.98 Safari/537.36\"',\n",
       "  '\"Mozilla/5.0 (Windows NT 6.1; Win64; x64) AppleWebKit/537.36 (KHTML, like Gecko) Chrome/71.0.3578.98 Safari/537.36\"',\n",
       "  '\"Mozilla/5.0 (Windows NT 10.0; Win64; x64) AppleWebKit/537.36 (KHTML, like Gecko) Chrome/71.0.3578.98 Safari/537.36\"',\n",
       "  '\"Mozilla/5.0 (Windows NT 6.1; rv:64.0) Gecko/20100101 Firefox/64.0\"',\n",
       "  '\"Mozilla/5.0 (Windows NT 10.0; Win64; x64; rv:64.0) Gecko/20100101 Firefox/64.0\"']}"
      ]
     },
     "execution_count": 42,
     "metadata": {},
     "output_type": "execute_result"
    }
   ],
   "source": [
    "agent = []\n",
    "for i in Counter(agent_list).most_common(5):\n",
    "    agent.append(i[0])\n",
    "top_agent = {'answer_top_agent5':agent}\n",
    "top_agent"
   ]
  },
  {
   "cell_type": "code",
   "execution_count": 43,
   "metadata": {},
   "outputs": [
    {
     "data": {
      "text/html": [
       "<div>\n",
       "<style scoped>\n",
       "    .dataframe tbody tr th:only-of-type {\n",
       "        vertical-align: middle;\n",
       "    }\n",
       "\n",
       "    .dataframe tbody tr th {\n",
       "        vertical-align: top;\n",
       "    }\n",
       "\n",
       "    .dataframe thead th {\n",
       "        text-align: right;\n",
       "    }\n",
       "</style>\n",
       "<table border=\"1\" class=\"dataframe\">\n",
       "  <thead>\n",
       "    <tr style=\"text-align: right;\">\n",
       "      <th></th>\n",
       "      <th>top_ip5</th>\n",
       "    </tr>\n",
       "  </thead>\n",
       "  <tbody>\n",
       "    <tr>\n",
       "      <th>0</th>\n",
       "      <td>66.249.66.194</td>\n",
       "    </tr>\n",
       "    <tr>\n",
       "      <th>1</th>\n",
       "      <td>66.249.66.91</td>\n",
       "    </tr>\n",
       "    <tr>\n",
       "      <th>2</th>\n",
       "      <td>151.239.241.163</td>\n",
       "    </tr>\n",
       "    <tr>\n",
       "      <th>3</th>\n",
       "      <td>91.99.30.32</td>\n",
       "    </tr>\n",
       "    <tr>\n",
       "      <th>4</th>\n",
       "      <td>66.249.66.92</td>\n",
       "    </tr>\n",
       "  </tbody>\n",
       "</table>\n",
       "</div>"
      ],
      "text/plain": [
       "           top_ip5\n",
       "0    66.249.66.194\n",
       "1     66.249.66.91\n",
       "2  151.239.241.163\n",
       "3      91.99.30.32\n",
       "4     66.249.66.92"
      ]
     },
     "execution_count": 43,
     "metadata": {},
     "output_type": "execute_result"
    }
   ],
   "source": [
    "import pandas as pd\n",
    "top_ip5 = pd.DataFrame(top_ip)\n",
    "top_ip5"
   ]
  },
  {
   "cell_type": "code",
   "execution_count": 44,
   "metadata": {},
   "outputs": [
    {
     "data": {
      "text/html": [
       "<div>\n",
       "<style scoped>\n",
       "    .dataframe tbody tr th:only-of-type {\n",
       "        vertical-align: middle;\n",
       "    }\n",
       "\n",
       "    .dataframe tbody tr th {\n",
       "        vertical-align: top;\n",
       "    }\n",
       "\n",
       "    .dataframe thead th {\n",
       "        text-align: right;\n",
       "    }\n",
       "</style>\n",
       "<table border=\"1\" class=\"dataframe\">\n",
       "  <thead>\n",
       "    <tr style=\"text-align: right;\">\n",
       "      <th></th>\n",
       "      <th>answer_top_agent5</th>\n",
       "    </tr>\n",
       "  </thead>\n",
       "  <tbody>\n",
       "    <tr>\n",
       "      <th>0</th>\n",
       "      <td>\"Mozilla/5.0 (Windows NT 6.1) AppleWebKit/537....</td>\n",
       "    </tr>\n",
       "    <tr>\n",
       "      <th>1</th>\n",
       "      <td>\"Mozilla/5.0 (Windows NT 6.1; Win64; x64) Appl...</td>\n",
       "    </tr>\n",
       "    <tr>\n",
       "      <th>2</th>\n",
       "      <td>\"Mozilla/5.0 (Windows NT 10.0; Win64; x64) App...</td>\n",
       "    </tr>\n",
       "    <tr>\n",
       "      <th>3</th>\n",
       "      <td>\"Mozilla/5.0 (Windows NT 6.1; rv:64.0) Gecko/2...</td>\n",
       "    </tr>\n",
       "    <tr>\n",
       "      <th>4</th>\n",
       "      <td>\"Mozilla/5.0 (Windows NT 10.0; Win64; x64; rv:...</td>\n",
       "    </tr>\n",
       "  </tbody>\n",
       "</table>\n",
       "</div>"
      ],
      "text/plain": [
       "                                   answer_top_agent5\n",
       "0  \"Mozilla/5.0 (Windows NT 6.1) AppleWebKit/537....\n",
       "1  \"Mozilla/5.0 (Windows NT 6.1; Win64; x64) Appl...\n",
       "2  \"Mozilla/5.0 (Windows NT 10.0; Win64; x64) App...\n",
       "3  \"Mozilla/5.0 (Windows NT 6.1; rv:64.0) Gecko/2...\n",
       "4  \"Mozilla/5.0 (Windows NT 10.0; Win64; x64; rv:..."
      ]
     },
     "execution_count": 44,
     "metadata": {},
     "output_type": "execute_result"
    }
   ],
   "source": [
    "top_agent5 = pd.DataFrame(top_agent)\n",
    "top_agent5"
   ]
  },
  {
   "cell_type": "markdown",
   "metadata": {},
   "source": [
    "## 결과 저장\n",
    "\n",
    "채점을 위해, 위에서 구한 데이터를 현재 파일과 같은 디렉토리(.ipynb 파일이 있는 디렉토리)에 `answer_top_ip5.csv`과 `answer_top_agent5.csv`이라는 이름으로 저장해야 합니다."
   ]
  },
  {
   "cell_type": "code",
   "execution_count": 45,
   "metadata": {},
   "outputs": [],
   "source": [
    "# csv 파일 저장 예시 - python\n",
    "import csv\n",
    "top_ip5.to_csv('answer_top_ip5.csv')\n",
    "top_agent5.to_csv('answer_top_agent5.csv', quoting=csv.QUOTE_NONNUMERIC)"
   ]
  }
 ],
 "metadata": {
  "kernelspec": {
   "display_name": "Python 3",
   "language": "python",
   "name": "python3"
  },
  "language_info": {
   "codemirror_mode": {
    "name": "ipython",
    "version": 3
   },
   "file_extension": ".py",
   "mimetype": "text/x-python",
   "name": "python",
   "nbconvert_exporter": "python",
   "pygments_lexer": "ipython3",
   "version": "3.7.6"
  }
 },
 "nbformat": 4,
 "nbformat_minor": 4
}
