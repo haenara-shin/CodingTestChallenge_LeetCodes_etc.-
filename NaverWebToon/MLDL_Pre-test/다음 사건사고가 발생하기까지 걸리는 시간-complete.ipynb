{
 "cells": [
  {
   "cell_type": "markdown",
   "metadata": {},
   "source": [
    "# 다음 사건사고가 발생하기까지 걸리는 시간\n",
    "\n",
    "### Data\n",
    "이 문제에서는 Austine시에서 발생한 사건⠂사고와 관련된 데이터가 주어집니다. 주어지는 column 은 다음과 같습니다.\n",
    "\n",
    "* unique_key: 사건⠂사고를 구분하는 유니크한 key\n",
    "* descript: 사건⠂사고 유형(강도, 음주운전 등)\n",
    "* address: 사건⠂사고 발생 주소\n",
    "* location: 사건⠂사고 발생 위치(위도, 경도)\n",
    "* timestamp: 사건⠂사고 발생일시. YYYY-MM-DD hh:mm:ss 형식\n"
   ]
  },
  {
   "cell_type": "code",
   "execution_count": 9,
   "metadata": {},
   "outputs": [
    {
     "data": {
      "text/html": [
       "<div>\n",
       "<style scoped>\n",
       "    .dataframe tbody tr th:only-of-type {\n",
       "        vertical-align: middle;\n",
       "    }\n",
       "\n",
       "    .dataframe tbody tr th {\n",
       "        vertical-align: top;\n",
       "    }\n",
       "\n",
       "    .dataframe thead th {\n",
       "        text-align: right;\n",
       "    }\n",
       "</style>\n",
       "<table border=\"1\" class=\"dataframe\">\n",
       "  <thead>\n",
       "    <tr style=\"text-align: right;\">\n",
       "      <th></th>\n",
       "      <th>descript</th>\n",
       "      <th>address</th>\n",
       "      <th>location</th>\n",
       "      <th>timestamp</th>\n",
       "    </tr>\n",
       "    <tr>\n",
       "      <th>unique_key</th>\n",
       "      <th></th>\n",
       "      <th></th>\n",
       "      <th></th>\n",
       "      <th></th>\n",
       "    </tr>\n",
       "  </thead>\n",
       "  <tbody>\n",
       "    <tr>\n",
       "      <th>2016160158</th>\n",
       "      <td>POSS OF DRUG PARAPHERNALIA</td>\n",
       "      <td>7500 BLOCK N IH 35 SVRD SB</td>\n",
       "      <td>NaN</td>\n",
       "      <td>2016-01-16 01:09:00</td>\n",
       "    </tr>\n",
       "    <tr>\n",
       "      <th>20165001577</th>\n",
       "      <td>BURGLARY OF VEHICLE</td>\n",
       "      <td>1400 BLOCK BRIARCLIFF BLVD</td>\n",
       "      <td>NaN</td>\n",
       "      <td>2016-01-11 20:30:00</td>\n",
       "    </tr>\n",
       "    <tr>\n",
       "      <th>20165002896</th>\n",
       "      <td>IDENTITY THEFT-TAX RETURNS</td>\n",
       "      <td>200 BLOCK ELKHART ST</td>\n",
       "      <td>NaN</td>\n",
       "      <td>2016-01-21 14:00:00</td>\n",
       "    </tr>\n",
       "    <tr>\n",
       "      <th>20168000234</th>\n",
       "      <td>CRIMINAL MISCHIEF</td>\n",
       "      <td>3500 BLOCK NORTH HILLS DR</td>\n",
       "      <td>NaN</td>\n",
       "      <td>2016-01-16 20:10:00</td>\n",
       "    </tr>\n",
       "    <tr>\n",
       "      <th>20168000074</th>\n",
       "      <td>THEFT</td>\n",
       "      <td>4700 BLOCK STAGGERBRUSH RD</td>\n",
       "      <td>NaN</td>\n",
       "      <td>2015-12-18 20:05:00</td>\n",
       "    </tr>\n",
       "  </tbody>\n",
       "</table>\n",
       "</div>"
      ],
      "text/plain": [
       "                               descript                     address location  \\\n",
       "unique_key                                                                     \n",
       "2016160158   POSS OF DRUG PARAPHERNALIA  7500 BLOCK N IH 35 SVRD SB      NaN   \n",
       "20165001577         BURGLARY OF VEHICLE  1400 BLOCK BRIARCLIFF BLVD      NaN   \n",
       "20165002896  IDENTITY THEFT-TAX RETURNS        200 BLOCK ELKHART ST      NaN   \n",
       "20168000234           CRIMINAL MISCHIEF   3500 BLOCK NORTH HILLS DR      NaN   \n",
       "20168000074                       THEFT  4700 BLOCK STAGGERBRUSH RD      NaN   \n",
       "\n",
       "                       timestamp  \n",
       "unique_key                        \n",
       "2016160158   2016-01-16 01:09:00  \n",
       "20165001577  2016-01-11 20:30:00  \n",
       "20165002896  2016-01-21 14:00:00  \n",
       "20168000234  2016-01-16 20:10:00  \n",
       "20168000074  2015-12-18 20:05:00  "
      ]
     },
     "execution_count": 9,
     "metadata": {},
     "output_type": "execute_result"
    }
   ],
   "source": [
    "# 초기코드 - python\n",
    "\n",
    "# 모듈 import\n",
    "import pandas as pd\n",
    "\n",
    "# 데이터 로드\n",
    "df = pd.read_csv('./data/austine-incidents.csv', low_memory=False, index_col='unique_key')\n",
    "df.head()"
   ]
  },
  {
   "cell_type": "code",
   "execution_count": null,
   "metadata": {},
   "outputs": [],
   "source": [
    "# 초기코드 - R\n",
    "\n",
    "# 데이터 로드\n",
    "df <- read.csv('./data/austine-incidents.csv', row.names='unique_key')\n",
    "head(df)"
   ]
  },
  {
   "cell_type": "markdown",
   "metadata": {},
   "source": [
    "# 과제\n",
    "\n",
    "주어진 데이터를 활용해, 어떤 사건⠂사고가 발생한 후 다음 사건⠂사고가 발생하기까지 걸리는 시간을 알아보려 합니다.\n",
    "  \n",
    "## 할 일\n",
    "\n",
    "##### 1. 다음 사건⠂사고가 발생하기까지 걸린 시간 측정하기\n",
    "\n",
    "어떤 사건⠂사고가 발생한 시간과 이전 사건⠂사고가 발생한 시간의 차를 분단위로 `duration(m)` 컬럼에 저장해주세요. 첫 사건⠂사고는 이전 사건⠂사고가 없을 테니, 이 첫 사건⠂사고에 대한 row는 제외해주세요. \n",
    "\n",
    "정상적으로 코드를 작성했다면, row의 수는 9999개이며, 결과는 다음과 같이 나옵니다.\n",
    "\n",
    "<table border=\"1\" class=\"dataframe\">\n",
    "  <thead>\n",
    "    <tr style=\"text-align: right;\">\n",
    "      <th></th>\n",
    "      <th>descript</th>\n",
    "      <th>address</th>\n",
    "      <th>location</th>\n",
    "      <th>timestamp</th>\n",
    "      <th>duration(m)</th>\n",
    "    </tr>\n",
    "    <tr>\n",
    "      <th>unique_key</th>\n",
    "      <th></th>\n",
    "      <th></th>\n",
    "      <th></th>\n",
    "      <th></th>\n",
    "      <th></th>\n",
    "    </tr>\n",
    "  </thead>\n",
    "  <tbody>\n",
    "    <tr>\n",
    "      <th>2016530815</th>\n",
    "      <td>THEFT</td>\n",
    "      <td>700 BLOCK RIO GRANDE ST</td>\n",
    "      <td>NaN</td>\n",
    "      <td>2015-02-20 12:00:00</td>\n",
    "      <td>2557.0</td>\n",
    "    </tr>\n",
    "    <tr>\n",
    "      <th>20165013579</th>\n",
    "      <td>OUT OF CITY OFFENSE</td>\n",
    "      <td>12300 BLOCK ALAMEDA TRACE CIR</td>\n",
    "      <td>NaN</td>\n",
    "      <td>2015-02-23 12:00:00</td>\n",
    "      <td>4320.0</td>\n",
    "    </tr>\n",
    "    <tr>\n",
    "      <th>20165022918</th>\n",
    "      <td>HARASSMENT</td>\n",
    "      <td>500 BLOCK W 10TH ST</td>\n",
    "      <td>NaN</td>\n",
    "      <td>2015-02-24 11:09:00</td>\n",
    "      <td>1389.0</td>\n",
    "    </tr>\n",
    "    <tr>\n",
    "      <th>20168001525</th>\n",
    "      <td>IDENTITY THEFT</td>\n",
    "      <td>11400 BLOCK ROBERT WOODING DR</td>\n",
    "      <td>NaN</td>\n",
    "      <td>2015-02-24 15:55:00</td>\n",
    "      <td>286.0</td>\n",
    "    </tr>\n",
    "    <tr>\n",
    "      <th>20165008223</th>\n",
    "      <td>LOST PROP</td>\n",
    "      <td>3200 BLOCK FEATHERGRASS CT</td>\n",
    "      <td>NaN</td>\n",
    "      <td>2015-02-25 20:00:00</td>\n",
    "      <td>1685.0</td>\n",
    "    </tr>\n",
    "  </tbody>\n",
    "</table>"
   ]
  },
  {
   "cell_type": "code",
   "execution_count": 10,
   "metadata": {},
   "outputs": [
    {
     "data": {
      "text/html": [
       "<div>\n",
       "<style scoped>\n",
       "    .dataframe tbody tr th:only-of-type {\n",
       "        vertical-align: middle;\n",
       "    }\n",
       "\n",
       "    .dataframe tbody tr th {\n",
       "        vertical-align: top;\n",
       "    }\n",
       "\n",
       "    .dataframe thead th {\n",
       "        text-align: right;\n",
       "    }\n",
       "</style>\n",
       "<table border=\"1\" class=\"dataframe\">\n",
       "  <thead>\n",
       "    <tr style=\"text-align: right;\">\n",
       "      <th></th>\n",
       "      <th>descript</th>\n",
       "      <th>address</th>\n",
       "      <th>location</th>\n",
       "      <th>timestamp</th>\n",
       "    </tr>\n",
       "  </thead>\n",
       "  <tbody>\n",
       "    <tr>\n",
       "      <th>count</th>\n",
       "      <td>10000</td>\n",
       "      <td>10000</td>\n",
       "      <td>670</td>\n",
       "      <td>10000</td>\n",
       "    </tr>\n",
       "    <tr>\n",
       "      <th>unique</th>\n",
       "      <td>284</td>\n",
       "      <td>5270</td>\n",
       "      <td>490</td>\n",
       "      <td>7238</td>\n",
       "    </tr>\n",
       "    <tr>\n",
       "      <th>top</th>\n",
       "      <td>THEFT</td>\n",
       "      <td>700 BLOCK E 8TH ST</td>\n",
       "      <td>(30.26706768,-97.73934174)</td>\n",
       "      <td>2016-01-01 12:00:00</td>\n",
       "    </tr>\n",
       "    <tr>\n",
       "      <th>freq</th>\n",
       "      <td>805</td>\n",
       "      <td>73</td>\n",
       "      <td>10</td>\n",
       "      <td>36</td>\n",
       "    </tr>\n",
       "  </tbody>\n",
       "</table>\n",
       "</div>"
      ],
      "text/plain": [
       "       descript             address                    location  \\\n",
       "count     10000               10000                         670   \n",
       "unique      284                5270                         490   \n",
       "top       THEFT  700 BLOCK E 8TH ST  (30.26706768,-97.73934174)   \n",
       "freq        805                  73                          10   \n",
       "\n",
       "                  timestamp  \n",
       "count                 10000  \n",
       "unique                 7238  \n",
       "top     2016-01-01 12:00:00  \n",
       "freq                     36  "
      ]
     },
     "execution_count": 10,
     "metadata": {},
     "output_type": "execute_result"
    }
   ],
   "source": [
    "df.describe()"
   ]
  },
  {
   "cell_type": "code",
   "execution_count": 12,
   "metadata": {},
   "outputs": [
    {
     "data": {
      "text/html": [
       "<div>\n",
       "<style scoped>\n",
       "    .dataframe tbody tr th:only-of-type {\n",
       "        vertical-align: middle;\n",
       "    }\n",
       "\n",
       "    .dataframe tbody tr th {\n",
       "        vertical-align: top;\n",
       "    }\n",
       "\n",
       "    .dataframe thead th {\n",
       "        text-align: right;\n",
       "    }\n",
       "</style>\n",
       "<table border=\"1\" class=\"dataframe\">\n",
       "  <thead>\n",
       "    <tr style=\"text-align: right;\">\n",
       "      <th></th>\n",
       "      <th>descript</th>\n",
       "      <th>address</th>\n",
       "      <th>location</th>\n",
       "      <th>timestamp</th>\n",
       "    </tr>\n",
       "    <tr>\n",
       "      <th>unique_key</th>\n",
       "      <th></th>\n",
       "      <th></th>\n",
       "      <th></th>\n",
       "      <th></th>\n",
       "    </tr>\n",
       "  </thead>\n",
       "  <tbody>\n",
       "    <tr>\n",
       "      <th>20165007117</th>\n",
       "      <td>HARASSMENT</td>\n",
       "      <td>2400 BLOCK MAGIN MEADOW DR</td>\n",
       "      <td>NaN</td>\n",
       "      <td>2015-02-18 17:23:00</td>\n",
       "    </tr>\n",
       "    <tr>\n",
       "      <th>2016530815</th>\n",
       "      <td>THEFT</td>\n",
       "      <td>700 BLOCK RIO GRANDE ST</td>\n",
       "      <td>NaN</td>\n",
       "      <td>2015-02-20 12:00:00</td>\n",
       "    </tr>\n",
       "    <tr>\n",
       "      <th>20165013579</th>\n",
       "      <td>OUT OF CITY OFFENSE</td>\n",
       "      <td>12300 BLOCK ALAMEDA TRACE CIR</td>\n",
       "      <td>NaN</td>\n",
       "      <td>2015-02-23 12:00:00</td>\n",
       "    </tr>\n",
       "    <tr>\n",
       "      <th>20165022918</th>\n",
       "      <td>HARASSMENT</td>\n",
       "      <td>500 BLOCK W 10TH ST</td>\n",
       "      <td>NaN</td>\n",
       "      <td>2015-02-24 11:09:00</td>\n",
       "    </tr>\n",
       "    <tr>\n",
       "      <th>20168001525</th>\n",
       "      <td>IDENTITY THEFT</td>\n",
       "      <td>11400 BLOCK ROBERT WOODING DR</td>\n",
       "      <td>NaN</td>\n",
       "      <td>2015-02-24 15:55:00</td>\n",
       "    </tr>\n",
       "  </tbody>\n",
       "</table>\n",
       "</div>"
      ],
      "text/plain": [
       "                        descript                        address location  \\\n",
       "unique_key                                                                 \n",
       "20165007117           HARASSMENT     2400 BLOCK MAGIN MEADOW DR      NaN   \n",
       "2016530815                 THEFT        700 BLOCK RIO GRANDE ST      NaN   \n",
       "20165013579  OUT OF CITY OFFENSE  12300 BLOCK ALAMEDA TRACE CIR      NaN   \n",
       "20165022918           HARASSMENT            500 BLOCK W 10TH ST      NaN   \n",
       "20168001525       IDENTITY THEFT  11400 BLOCK ROBERT WOODING DR      NaN   \n",
       "\n",
       "                       timestamp  \n",
       "unique_key                        \n",
       "20165007117  2015-02-18 17:23:00  \n",
       "2016530815   2015-02-20 12:00:00  \n",
       "20165013579  2015-02-23 12:00:00  \n",
       "20165022918  2015-02-24 11:09:00  \n",
       "20168001525  2015-02-24 15:55:00  "
      ]
     },
     "execution_count": 12,
     "metadata": {},
     "output_type": "execute_result"
    }
   ],
   "source": [
    "df = df.sort_values(by='timestamp')\n",
    "df.head()"
   ]
  },
  {
   "cell_type": "code",
   "execution_count": 13,
   "metadata": {},
   "outputs": [
    {
     "name": "stdout",
     "output_type": "stream",
     "text": [
      "<class 'pandas.core.frame.DataFrame'>\n",
      "Int64Index: 10000 entries, 20165007117 to 2016221262\n",
      "Data columns (total 4 columns):\n",
      " #   Column     Non-Null Count  Dtype \n",
      "---  ------     --------------  ----- \n",
      " 0   descript   10000 non-null  object\n",
      " 1   address    10000 non-null  object\n",
      " 2   location   670 non-null    object\n",
      " 3   timestamp  10000 non-null  object\n",
      "dtypes: object(4)\n",
      "memory usage: 390.6+ KB\n"
     ]
    }
   ],
   "source": [
    "df.info()"
   ]
  },
  {
   "cell_type": "code",
   "execution_count": 14,
   "metadata": {},
   "outputs": [
    {
     "name": "stdout",
     "output_type": "stream",
     "text": [
      "<class 'pandas.core.frame.DataFrame'>\n",
      "Int64Index: 10000 entries, 20165007117 to 2016221262\n",
      "Data columns (total 4 columns):\n",
      " #   Column     Non-Null Count  Dtype         \n",
      "---  ------     --------------  -----         \n",
      " 0   descript   10000 non-null  object        \n",
      " 1   address    10000 non-null  object        \n",
      " 2   location   670 non-null    object        \n",
      " 3   timestamp  10000 non-null  datetime64[ns]\n",
      "dtypes: datetime64[ns](1), object(3)\n",
      "memory usage: 390.6+ KB\n"
     ]
    }
   ],
   "source": [
    "df.timestamp = pd.to_datetime(df.timestamp)\n",
    "df.info()"
   ]
  },
  {
   "cell_type": "code",
   "execution_count": 15,
   "metadata": {},
   "outputs": [
    {
     "data": {
      "text/html": [
       "<div>\n",
       "<style scoped>\n",
       "    .dataframe tbody tr th:only-of-type {\n",
       "        vertical-align: middle;\n",
       "    }\n",
       "\n",
       "    .dataframe tbody tr th {\n",
       "        vertical-align: top;\n",
       "    }\n",
       "\n",
       "    .dataframe thead th {\n",
       "        text-align: right;\n",
       "    }\n",
       "</style>\n",
       "<table border=\"1\" class=\"dataframe\">\n",
       "  <thead>\n",
       "    <tr style=\"text-align: right;\">\n",
       "      <th></th>\n",
       "      <th>descript</th>\n",
       "      <th>address</th>\n",
       "      <th>location</th>\n",
       "      <th>timestamp</th>\n",
       "    </tr>\n",
       "    <tr>\n",
       "      <th>unique_key</th>\n",
       "      <th></th>\n",
       "      <th></th>\n",
       "      <th></th>\n",
       "      <th></th>\n",
       "    </tr>\n",
       "  </thead>\n",
       "  <tbody>\n",
       "    <tr>\n",
       "      <th>20165007117</th>\n",
       "      <td>HARASSMENT</td>\n",
       "      <td>2400 BLOCK MAGIN MEADOW DR</td>\n",
       "      <td>NaN</td>\n",
       "      <td>2015-02-18 17:23:00</td>\n",
       "    </tr>\n",
       "    <tr>\n",
       "      <th>2016530815</th>\n",
       "      <td>THEFT</td>\n",
       "      <td>700 BLOCK RIO GRANDE ST</td>\n",
       "      <td>NaN</td>\n",
       "      <td>2015-02-20 12:00:00</td>\n",
       "    </tr>\n",
       "    <tr>\n",
       "      <th>20165013579</th>\n",
       "      <td>OUT OF CITY OFFENSE</td>\n",
       "      <td>12300 BLOCK ALAMEDA TRACE CIR</td>\n",
       "      <td>NaN</td>\n",
       "      <td>2015-02-23 12:00:00</td>\n",
       "    </tr>\n",
       "    <tr>\n",
       "      <th>20165022918</th>\n",
       "      <td>HARASSMENT</td>\n",
       "      <td>500 BLOCK W 10TH ST</td>\n",
       "      <td>NaN</td>\n",
       "      <td>2015-02-24 11:09:00</td>\n",
       "    </tr>\n",
       "    <tr>\n",
       "      <th>20168001525</th>\n",
       "      <td>IDENTITY THEFT</td>\n",
       "      <td>11400 BLOCK ROBERT WOODING DR</td>\n",
       "      <td>NaN</td>\n",
       "      <td>2015-02-24 15:55:00</td>\n",
       "    </tr>\n",
       "  </tbody>\n",
       "</table>\n",
       "</div>"
      ],
      "text/plain": [
       "                        descript                        address location  \\\n",
       "unique_key                                                                 \n",
       "20165007117           HARASSMENT     2400 BLOCK MAGIN MEADOW DR      NaN   \n",
       "2016530815                 THEFT        700 BLOCK RIO GRANDE ST      NaN   \n",
       "20165013579  OUT OF CITY OFFENSE  12300 BLOCK ALAMEDA TRACE CIR      NaN   \n",
       "20165022918           HARASSMENT            500 BLOCK W 10TH ST      NaN   \n",
       "20168001525       IDENTITY THEFT  11400 BLOCK ROBERT WOODING DR      NaN   \n",
       "\n",
       "                      timestamp  \n",
       "unique_key                       \n",
       "20165007117 2015-02-18 17:23:00  \n",
       "2016530815  2015-02-20 12:00:00  \n",
       "20165013579 2015-02-23 12:00:00  \n",
       "20165022918 2015-02-24 11:09:00  \n",
       "20168001525 2015-02-24 15:55:00  "
      ]
     },
     "execution_count": 15,
     "metadata": {},
     "output_type": "execute_result"
    }
   ],
   "source": [
    "df.head()"
   ]
  },
  {
   "cell_type": "code",
   "execution_count": 18,
   "metadata": {},
   "outputs": [
    {
     "data": {
      "text/plain": [
       "Timestamp('2015-02-18 17:23:00')"
      ]
     },
     "execution_count": 18,
     "metadata": {},
     "output_type": "execute_result"
    }
   ],
   "source": [
    "l = list(df.timestamp)\n",
    "l[0]"
   ]
  },
  {
   "cell_type": "code",
   "execution_count": 29,
   "metadata": {},
   "outputs": [
    {
     "data": {
      "text/plain": [
       "2557.0"
      ]
     },
     "execution_count": 29,
     "metadata": {},
     "output_type": "execute_result"
    }
   ],
   "source": [
    "(l[1] - l[0]).total_seconds()/60"
   ]
  },
  {
   "cell_type": "code",
   "execution_count": 32,
   "metadata": {},
   "outputs": [
    {
     "data": {
      "text/plain": [
       "Timestamp('2016-01-22 17:14:00')"
      ]
     },
     "execution_count": 32,
     "metadata": {},
     "output_type": "execute_result"
    }
   ],
   "source": [
    "l[len(l)-1]"
   ]
  },
  {
   "cell_type": "code",
   "execution_count": 34,
   "metadata": {},
   "outputs": [
    {
     "data": {
      "text/plain": [
       "9999"
      ]
     },
     "execution_count": 34,
     "metadata": {},
     "output_type": "execute_result"
    }
   ],
   "source": [
    "p = []\n",
    "for i in range(1, len(l)):\n",
    "    p.append((l[i]-l[i-1]).total_seconds()/60)\n",
    "len(p)"
   ]
  },
  {
   "cell_type": "code",
   "execution_count": 36,
   "metadata": {},
   "outputs": [
    {
     "name": "stdout",
     "output_type": "stream",
     "text": [
      "<class 'pandas.core.frame.DataFrame'>\n",
      "Int64Index: 9999 entries, 2016530815 to 2016221262\n",
      "Data columns (total 4 columns):\n",
      " #   Column     Non-Null Count  Dtype         \n",
      "---  ------     --------------  -----         \n",
      " 0   descript   9999 non-null   object        \n",
      " 1   address    9999 non-null   object        \n",
      " 2   location   670 non-null    object        \n",
      " 3   timestamp  9999 non-null   datetime64[ns]\n",
      "dtypes: datetime64[ns](1), object(3)\n",
      "memory usage: 390.6+ KB\n"
     ]
    }
   ],
   "source": [
    "df_2 = df.drop([df.index[0]])\n",
    "df_2.info()"
   ]
  },
  {
   "cell_type": "code",
   "execution_count": 38,
   "metadata": {},
   "outputs": [
    {
     "data": {
      "text/html": [
       "<div>\n",
       "<style scoped>\n",
       "    .dataframe tbody tr th:only-of-type {\n",
       "        vertical-align: middle;\n",
       "    }\n",
       "\n",
       "    .dataframe tbody tr th {\n",
       "        vertical-align: top;\n",
       "    }\n",
       "\n",
       "    .dataframe thead th {\n",
       "        text-align: right;\n",
       "    }\n",
       "</style>\n",
       "<table border=\"1\" class=\"dataframe\">\n",
       "  <thead>\n",
       "    <tr style=\"text-align: right;\">\n",
       "      <th></th>\n",
       "      <th>descript</th>\n",
       "      <th>address</th>\n",
       "      <th>location</th>\n",
       "      <th>timestamp</th>\n",
       "    </tr>\n",
       "    <tr>\n",
       "      <th>unique_key</th>\n",
       "      <th></th>\n",
       "      <th></th>\n",
       "      <th></th>\n",
       "      <th></th>\n",
       "    </tr>\n",
       "  </thead>\n",
       "  <tbody>\n",
       "    <tr>\n",
       "      <th>2016530815</th>\n",
       "      <td>THEFT</td>\n",
       "      <td>700 BLOCK RIO GRANDE ST</td>\n",
       "      <td>NaN</td>\n",
       "      <td>2015-02-20 12:00:00</td>\n",
       "    </tr>\n",
       "    <tr>\n",
       "      <th>20165013579</th>\n",
       "      <td>OUT OF CITY OFFENSE</td>\n",
       "      <td>12300 BLOCK ALAMEDA TRACE CIR</td>\n",
       "      <td>NaN</td>\n",
       "      <td>2015-02-23 12:00:00</td>\n",
       "    </tr>\n",
       "    <tr>\n",
       "      <th>20165022918</th>\n",
       "      <td>HARASSMENT</td>\n",
       "      <td>500 BLOCK W 10TH ST</td>\n",
       "      <td>NaN</td>\n",
       "      <td>2015-02-24 11:09:00</td>\n",
       "    </tr>\n",
       "    <tr>\n",
       "      <th>20168001525</th>\n",
       "      <td>IDENTITY THEFT</td>\n",
       "      <td>11400 BLOCK ROBERT WOODING DR</td>\n",
       "      <td>NaN</td>\n",
       "      <td>2015-02-24 15:55:00</td>\n",
       "    </tr>\n",
       "    <tr>\n",
       "      <th>20165008223</th>\n",
       "      <td>LOST PROP</td>\n",
       "      <td>3200 BLOCK FEATHERGRASS CT</td>\n",
       "      <td>NaN</td>\n",
       "      <td>2015-02-25 20:00:00</td>\n",
       "    </tr>\n",
       "  </tbody>\n",
       "</table>\n",
       "</div>"
      ],
      "text/plain": [
       "                        descript                        address location  \\\n",
       "unique_key                                                                 \n",
       "2016530815                 THEFT        700 BLOCK RIO GRANDE ST      NaN   \n",
       "20165013579  OUT OF CITY OFFENSE  12300 BLOCK ALAMEDA TRACE CIR      NaN   \n",
       "20165022918           HARASSMENT            500 BLOCK W 10TH ST      NaN   \n",
       "20168001525       IDENTITY THEFT  11400 BLOCK ROBERT WOODING DR      NaN   \n",
       "20165008223            LOST PROP     3200 BLOCK FEATHERGRASS CT      NaN   \n",
       "\n",
       "                      timestamp  \n",
       "unique_key                       \n",
       "2016530815  2015-02-20 12:00:00  \n",
       "20165013579 2015-02-23 12:00:00  \n",
       "20165022918 2015-02-24 11:09:00  \n",
       "20168001525 2015-02-24 15:55:00  \n",
       "20165008223 2015-02-25 20:00:00  "
      ]
     },
     "execution_count": 38,
     "metadata": {},
     "output_type": "execute_result"
    }
   ],
   "source": [
    "df_2.head()"
   ]
  },
  {
   "cell_type": "code",
   "execution_count": 39,
   "metadata": {},
   "outputs": [],
   "source": [
    "# 여기에 코드를 작성하세요.\n",
    "df_2['duration(m)'] = p"
   ]
  },
  {
   "cell_type": "code",
   "execution_count": 41,
   "metadata": {},
   "outputs": [
    {
     "data": {
      "text/html": [
       "<div>\n",
       "<style scoped>\n",
       "    .dataframe tbody tr th:only-of-type {\n",
       "        vertical-align: middle;\n",
       "    }\n",
       "\n",
       "    .dataframe tbody tr th {\n",
       "        vertical-align: top;\n",
       "    }\n",
       "\n",
       "    .dataframe thead th {\n",
       "        text-align: right;\n",
       "    }\n",
       "</style>\n",
       "<table border=\"1\" class=\"dataframe\">\n",
       "  <thead>\n",
       "    <tr style=\"text-align: right;\">\n",
       "      <th></th>\n",
       "      <th>descript</th>\n",
       "      <th>address</th>\n",
       "      <th>location</th>\n",
       "      <th>timestamp</th>\n",
       "      <th>duration(m)</th>\n",
       "    </tr>\n",
       "    <tr>\n",
       "      <th>unique_key</th>\n",
       "      <th></th>\n",
       "      <th></th>\n",
       "      <th></th>\n",
       "      <th></th>\n",
       "      <th></th>\n",
       "    </tr>\n",
       "  </thead>\n",
       "  <tbody>\n",
       "    <tr>\n",
       "      <th>2016530815</th>\n",
       "      <td>THEFT</td>\n",
       "      <td>700 BLOCK RIO GRANDE ST</td>\n",
       "      <td>NaN</td>\n",
       "      <td>2015-02-20 12:00:00</td>\n",
       "      <td>2557.0</td>\n",
       "    </tr>\n",
       "    <tr>\n",
       "      <th>20165013579</th>\n",
       "      <td>OUT OF CITY OFFENSE</td>\n",
       "      <td>12300 BLOCK ALAMEDA TRACE CIR</td>\n",
       "      <td>NaN</td>\n",
       "      <td>2015-02-23 12:00:00</td>\n",
       "      <td>4320.0</td>\n",
       "    </tr>\n",
       "    <tr>\n",
       "      <th>20165022918</th>\n",
       "      <td>HARASSMENT</td>\n",
       "      <td>500 BLOCK W 10TH ST</td>\n",
       "      <td>NaN</td>\n",
       "      <td>2015-02-24 11:09:00</td>\n",
       "      <td>1389.0</td>\n",
       "    </tr>\n",
       "    <tr>\n",
       "      <th>20168001525</th>\n",
       "      <td>IDENTITY THEFT</td>\n",
       "      <td>11400 BLOCK ROBERT WOODING DR</td>\n",
       "      <td>NaN</td>\n",
       "      <td>2015-02-24 15:55:00</td>\n",
       "      <td>286.0</td>\n",
       "    </tr>\n",
       "    <tr>\n",
       "      <th>20165008223</th>\n",
       "      <td>LOST PROP</td>\n",
       "      <td>3200 BLOCK FEATHERGRASS CT</td>\n",
       "      <td>NaN</td>\n",
       "      <td>2015-02-25 20:00:00</td>\n",
       "      <td>1685.0</td>\n",
       "    </tr>\n",
       "  </tbody>\n",
       "</table>\n",
       "</div>"
      ],
      "text/plain": [
       "                        descript                        address location  \\\n",
       "unique_key                                                                 \n",
       "2016530815                 THEFT        700 BLOCK RIO GRANDE ST      NaN   \n",
       "20165013579  OUT OF CITY OFFENSE  12300 BLOCK ALAMEDA TRACE CIR      NaN   \n",
       "20165022918           HARASSMENT            500 BLOCK W 10TH ST      NaN   \n",
       "20168001525       IDENTITY THEFT  11400 BLOCK ROBERT WOODING DR      NaN   \n",
       "20165008223            LOST PROP     3200 BLOCK FEATHERGRASS CT      NaN   \n",
       "\n",
       "                      timestamp  duration(m)  \n",
       "unique_key                                    \n",
       "2016530815  2015-02-20 12:00:00       2557.0  \n",
       "20165013579 2015-02-23 12:00:00       4320.0  \n",
       "20165022918 2015-02-24 11:09:00       1389.0  \n",
       "20168001525 2015-02-24 15:55:00        286.0  \n",
       "20165008223 2015-02-25 20:00:00       1685.0  "
      ]
     },
     "execution_count": 41,
     "metadata": {},
     "output_type": "execute_result"
    }
   ],
   "source": [
    "df_2.head()"
   ]
  },
  {
   "cell_type": "markdown",
   "metadata": {},
   "source": [
    "##### 2. 이상치 제거\n",
    "\n",
    "`duration(m)`에는 값이 0이거나, 또는 너무 값이 큰 데이터가 들어있습니다. 이런 이상치와 outlier는 제거해야 합니다. 따라서 `duration(m)`의\n",
    "\n",
    "* 값이 0 이하거나\n",
    "* 정규분포에서 -2σ 이하 또는 2σ 이상인 값\n",
    "\n",
    "을 가지는 데이터는 제거해주세요. 값을 정상적으로 제거했다면 남은 row는 7026개입니다."
   ]
  },
  {
   "cell_type": "code",
   "execution_count": null,
   "metadata": {},
   "outputs": [],
   "source": [
    "# 여기에 코드를 작성하세요."
   ]
  },
  {
   "cell_type": "code",
   "execution_count": 43,
   "metadata": {},
   "outputs": [
    {
     "data": {
      "text/plain": [
       "0.0"
      ]
     },
     "execution_count": 43,
     "metadata": {},
     "output_type": "execute_result"
    }
   ],
   "source": [
    "df_2['duration(m)'].min()"
   ]
  },
  {
   "cell_type": "code",
   "execution_count": 47,
   "metadata": {},
   "outputs": [
    {
     "data": {
      "text/html": [
       "<div>\n",
       "<style scoped>\n",
       "    .dataframe tbody tr th:only-of-type {\n",
       "        vertical-align: middle;\n",
       "    }\n",
       "\n",
       "    .dataframe tbody tr th {\n",
       "        vertical-align: top;\n",
       "    }\n",
       "\n",
       "    .dataframe thead th {\n",
       "        text-align: right;\n",
       "    }\n",
       "</style>\n",
       "<table border=\"1\" class=\"dataframe\">\n",
       "  <thead>\n",
       "    <tr style=\"text-align: right;\">\n",
       "      <th></th>\n",
       "      <th>descript</th>\n",
       "      <th>address</th>\n",
       "      <th>location</th>\n",
       "      <th>timestamp</th>\n",
       "      <th>duration(m)</th>\n",
       "      <th>std</th>\n",
       "    </tr>\n",
       "    <tr>\n",
       "      <th>unique_key</th>\n",
       "      <th></th>\n",
       "      <th></th>\n",
       "      <th></th>\n",
       "      <th></th>\n",
       "      <th></th>\n",
       "      <th></th>\n",
       "    </tr>\n",
       "  </thead>\n",
       "  <tbody>\n",
       "    <tr>\n",
       "      <th>2016530815</th>\n",
       "      <td>THEFT</td>\n",
       "      <td>700 BLOCK RIO GRANDE ST</td>\n",
       "      <td>NaN</td>\n",
       "      <td>2015-02-20 12:00:00</td>\n",
       "      <td>2557.0</td>\n",
       "      <td>8.665901</td>\n",
       "    </tr>\n",
       "    <tr>\n",
       "      <th>20165013579</th>\n",
       "      <td>OUT OF CITY OFFENSE</td>\n",
       "      <td>12300 BLOCK ALAMEDA TRACE CIR</td>\n",
       "      <td>NaN</td>\n",
       "      <td>2015-02-23 12:00:00</td>\n",
       "      <td>4320.0</td>\n",
       "      <td>14.756814</td>\n",
       "    </tr>\n",
       "    <tr>\n",
       "      <th>20165022918</th>\n",
       "      <td>HARASSMENT</td>\n",
       "      <td>500 BLOCK W 10TH ST</td>\n",
       "      <td>NaN</td>\n",
       "      <td>2015-02-24 11:09:00</td>\n",
       "      <td>1389.0</td>\n",
       "      <td>4.630628</td>\n",
       "    </tr>\n",
       "    <tr>\n",
       "      <th>20168001525</th>\n",
       "      <td>IDENTITY THEFT</td>\n",
       "      <td>11400 BLOCK ROBERT WOODING DR</td>\n",
       "      <td>NaN</td>\n",
       "      <td>2015-02-24 15:55:00</td>\n",
       "      <td>286.0</td>\n",
       "      <td>0.819921</td>\n",
       "    </tr>\n",
       "    <tr>\n",
       "      <th>20165008223</th>\n",
       "      <td>LOST PROP</td>\n",
       "      <td>3200 BLOCK FEATHERGRASS CT</td>\n",
       "      <td>NaN</td>\n",
       "      <td>2015-02-25 20:00:00</td>\n",
       "      <td>1685.0</td>\n",
       "      <td>5.653265</td>\n",
       "    </tr>\n",
       "  </tbody>\n",
       "</table>\n",
       "</div>"
      ],
      "text/plain": [
       "                        descript                        address location  \\\n",
       "unique_key                                                                 \n",
       "2016530815                 THEFT        700 BLOCK RIO GRANDE ST      NaN   \n",
       "20165013579  OUT OF CITY OFFENSE  12300 BLOCK ALAMEDA TRACE CIR      NaN   \n",
       "20165022918           HARASSMENT            500 BLOCK W 10TH ST      NaN   \n",
       "20168001525       IDENTITY THEFT  11400 BLOCK ROBERT WOODING DR      NaN   \n",
       "20165008223            LOST PROP     3200 BLOCK FEATHERGRASS CT      NaN   \n",
       "\n",
       "                      timestamp  duration(m)        std  \n",
       "unique_key                                               \n",
       "2016530815  2015-02-20 12:00:00       2557.0   8.665901  \n",
       "20165013579 2015-02-23 12:00:00       4320.0  14.756814  \n",
       "20165022918 2015-02-24 11:09:00       1389.0   4.630628  \n",
       "20168001525 2015-02-24 15:55:00        286.0   0.819921  \n",
       "20165008223 2015-02-25 20:00:00       1685.0   5.653265  "
      ]
     },
     "execution_count": 47,
     "metadata": {},
     "output_type": "execute_result"
    }
   ],
   "source": [
    "df_2['std'] = (df_2['duration(m)'] - df_2['duration(m)'].mean())/df_2['duration(m)'].std()\n",
    "df_2.head()"
   ]
  },
  {
   "cell_type": "code",
   "execution_count": 61,
   "metadata": {},
   "outputs": [
    {
     "data": {
      "text/plain": [
       "25.363224348133947"
      ]
     },
     "execution_count": 61,
     "metadata": {},
     "output_type": "execute_result"
    }
   ],
   "source": [
    "df_2['std'].max()"
   ]
  },
  {
   "cell_type": "code",
   "execution_count": 62,
   "metadata": {},
   "outputs": [
    {
     "data": {
      "text/plain": [
       "-0.16816850490046614"
      ]
     },
     "execution_count": 62,
     "metadata": {},
     "output_type": "execute_result"
    }
   ],
   "source": [
    "df_2['std'].min()"
   ]
  },
  {
   "cell_type": "code",
   "execution_count": 60,
   "metadata": {
    "scrolled": true
   },
   "outputs": [
    {
     "data": {
      "text/plain": [
       "289.4475848826123"
      ]
     },
     "execution_count": 60,
     "metadata": {},
     "output_type": "execute_result"
    }
   ],
   "source": [
    "df_2['duration(m)'].std()"
   ]
  },
  {
   "cell_type": "code",
   "execution_count": 70,
   "metadata": {},
   "outputs": [
    {
     "name": "stdout",
     "output_type": "stream",
     "text": [
      "<class 'pandas.core.frame.DataFrame'>\n",
      "Int64Index: 7026 entries, 20168001525 to 2016221262\n",
      "Data columns (total 6 columns):\n",
      " #   Column       Non-Null Count  Dtype         \n",
      "---  ------       --------------  -----         \n",
      " 0   descript     7026 non-null   object        \n",
      " 1   address      7026 non-null   object        \n",
      " 2   location     512 non-null    object        \n",
      " 3   timestamp    7026 non-null   datetime64[ns]\n",
      " 4   duration(m)  7026 non-null   float64       \n",
      " 5   std          7026 non-null   float64       \n",
      "dtypes: datetime64[ns](1), float64(2), object(3)\n",
      "memory usage: 384.2+ KB\n"
     ]
    }
   ],
   "source": [
    "idx = df_2[(df_2['duration(m)'] <= 0) | (df_2['duration(m)'] <= df_2['duration(m)'].mean()-2*(df_2['duration(m)'].std())) | (df_2['duration(m)'] >= df_2['duration(m)'].mean()+2*(df_2['duration(m)'].std()))].index\n",
    "df_3 = df_2.drop(idx)\n",
    "df_3.info()"
   ]
  },
  {
   "cell_type": "code",
   "execution_count": 71,
   "metadata": {},
   "outputs": [
    {
     "data": {
      "text/html": [
       "<div>\n",
       "<style scoped>\n",
       "    .dataframe tbody tr th:only-of-type {\n",
       "        vertical-align: middle;\n",
       "    }\n",
       "\n",
       "    .dataframe tbody tr th {\n",
       "        vertical-align: top;\n",
       "    }\n",
       "\n",
       "    .dataframe thead th {\n",
       "        text-align: right;\n",
       "    }\n",
       "</style>\n",
       "<table border=\"1\" class=\"dataframe\">\n",
       "  <thead>\n",
       "    <tr style=\"text-align: right;\">\n",
       "      <th></th>\n",
       "      <th>descript</th>\n",
       "      <th>address</th>\n",
       "      <th>location</th>\n",
       "      <th>timestamp</th>\n",
       "      <th>duration(m)</th>\n",
       "    </tr>\n",
       "    <tr>\n",
       "      <th>unique_key</th>\n",
       "      <th></th>\n",
       "      <th></th>\n",
       "      <th></th>\n",
       "      <th></th>\n",
       "      <th></th>\n",
       "    </tr>\n",
       "  </thead>\n",
       "  <tbody>\n",
       "    <tr>\n",
       "      <th>20168001525</th>\n",
       "      <td>IDENTITY THEFT</td>\n",
       "      <td>11400 BLOCK ROBERT WOODING DR</td>\n",
       "      <td>NaN</td>\n",
       "      <td>2015-02-24 15:55:00</td>\n",
       "      <td>286.0</td>\n",
       "    </tr>\n",
       "    <tr>\n",
       "      <th>20165003526</th>\n",
       "      <td>THEFT</td>\n",
       "      <td>5900 BLOCK JOHNNY MORRIS RD</td>\n",
       "      <td>NaN</td>\n",
       "      <td>2015-03-01 05:00:00</td>\n",
       "      <td>300.0</td>\n",
       "    </tr>\n",
       "    <tr>\n",
       "      <th>20165017152</th>\n",
       "      <td>THEFT</td>\n",
       "      <td>3100 BLOCK E SH 71 EB</td>\n",
       "      <td>NaN</td>\n",
       "      <td>2015-03-01 10:00:00</td>\n",
       "      <td>300.0</td>\n",
       "    </tr>\n",
       "    <tr>\n",
       "      <th>20161120648</th>\n",
       "      <td>BURGLARY INFORMATION</td>\n",
       "      <td>12900 BLOCK HUNTERS CHASE DR</td>\n",
       "      <td>NaN</td>\n",
       "      <td>2015-03-01 10:47:00</td>\n",
       "      <td>47.0</td>\n",
       "    </tr>\n",
       "    <tr>\n",
       "      <th>20165032969</th>\n",
       "      <td>LOST PROP</td>\n",
       "      <td>700 BLOCK E 8TH ST</td>\n",
       "      <td>NaN</td>\n",
       "      <td>2015-03-01 12:00:00</td>\n",
       "      <td>73.0</td>\n",
       "    </tr>\n",
       "  </tbody>\n",
       "</table>\n",
       "</div>"
      ],
      "text/plain": [
       "                         descript                        address location  \\\n",
       "unique_key                                                                  \n",
       "20168001525        IDENTITY THEFT  11400 BLOCK ROBERT WOODING DR      NaN   \n",
       "20165003526                 THEFT    5900 BLOCK JOHNNY MORRIS RD      NaN   \n",
       "20165017152                 THEFT          3100 BLOCK E SH 71 EB      NaN   \n",
       "20161120648  BURGLARY INFORMATION   12900 BLOCK HUNTERS CHASE DR      NaN   \n",
       "20165032969             LOST PROP             700 BLOCK E 8TH ST      NaN   \n",
       "\n",
       "                      timestamp  duration(m)  \n",
       "unique_key                                    \n",
       "20168001525 2015-02-24 15:55:00        286.0  \n",
       "20165003526 2015-03-01 05:00:00        300.0  \n",
       "20165017152 2015-03-01 10:00:00        300.0  \n",
       "20161120648 2015-03-01 10:47:00         47.0  \n",
       "20165032969 2015-03-01 12:00:00         73.0  "
      ]
     },
     "execution_count": 71,
     "metadata": {},
     "output_type": "execute_result"
    }
   ],
   "source": [
    "df_4 = df_3.drop(['std'], axis=1)\n",
    "df_4.head()"
   ]
  },
  {
   "cell_type": "markdown",
   "metadata": {},
   "source": [
    "##### 3. 결과 저장\n",
    "\n",
    "채점을 하기 위해, 위에서 구한 `unique_key`, `duration(m)`을 현재 파일과 같은 디렉토리(.ipynb 파일이 있는 디렉토리)에 `incidents_duration.csv`이라는 이름으로 저장해주세요. 이때\n",
    "\n",
    "1. `duration(m)`은 소숫점을 버리고, 정수 형식으로 저장\n",
    "2. `unique_key` 순으로 정렬\n",
    "\n",
    "해주셔야합니다. 저장할 파일 포맷은 data 디렉토리의 `incidents_duration(sample).csv` 파일을 참고하세요.\n",
    "\n",
    "*주의* \n",
    "\n",
    "1. csv 파일의 컬럼은 반드시 unique_key - duration(m) 순이어야 합니다.\n",
    "2. **csv 파일은 unique_key 순으로 정렬되어있어야 합니다.**"
   ]
  },
  {
   "cell_type": "code",
   "execution_count": 73,
   "metadata": {},
   "outputs": [
    {
     "data": {
      "text/plain": [
       "Index(['descript', 'address', 'location', 'timestamp'], dtype='object')"
      ]
     },
     "execution_count": 73,
     "metadata": {},
     "output_type": "execute_result"
    }
   ],
   "source": [
    "df_4.columns[0:4]"
   ]
  },
  {
   "cell_type": "code",
   "execution_count": 74,
   "metadata": {},
   "outputs": [
    {
     "data": {
      "text/html": [
       "<div>\n",
       "<style scoped>\n",
       "    .dataframe tbody tr th:only-of-type {\n",
       "        vertical-align: middle;\n",
       "    }\n",
       "\n",
       "    .dataframe tbody tr th {\n",
       "        vertical-align: top;\n",
       "    }\n",
       "\n",
       "    .dataframe thead th {\n",
       "        text-align: right;\n",
       "    }\n",
       "</style>\n",
       "<table border=\"1\" class=\"dataframe\">\n",
       "  <thead>\n",
       "    <tr style=\"text-align: right;\">\n",
       "      <th></th>\n",
       "      <th>duration(m)</th>\n",
       "    </tr>\n",
       "    <tr>\n",
       "      <th>unique_key</th>\n",
       "      <th></th>\n",
       "    </tr>\n",
       "  </thead>\n",
       "  <tbody>\n",
       "    <tr>\n",
       "      <th>20168001525</th>\n",
       "      <td>286.0</td>\n",
       "    </tr>\n",
       "    <tr>\n",
       "      <th>20165003526</th>\n",
       "      <td>300.0</td>\n",
       "    </tr>\n",
       "    <tr>\n",
       "      <th>20165017152</th>\n",
       "      <td>300.0</td>\n",
       "    </tr>\n",
       "    <tr>\n",
       "      <th>20161120648</th>\n",
       "      <td>47.0</td>\n",
       "    </tr>\n",
       "    <tr>\n",
       "      <th>20165032969</th>\n",
       "      <td>73.0</td>\n",
       "    </tr>\n",
       "  </tbody>\n",
       "</table>\n",
       "</div>"
      ],
      "text/plain": [
       "             duration(m)\n",
       "unique_key              \n",
       "20168001525        286.0\n",
       "20165003526        300.0\n",
       "20165017152        300.0\n",
       "20161120648         47.0\n",
       "20165032969         73.0"
      ]
     },
     "execution_count": 74,
     "metadata": {},
     "output_type": "execute_result"
    }
   ],
   "source": [
    "dt = df_4.drop(df_4.columns[0:4], axis=1)\n",
    "dt.head()"
   ]
  },
  {
   "cell_type": "code",
   "execution_count": 76,
   "metadata": {},
   "outputs": [
    {
     "data": {
      "text/html": [
       "<div>\n",
       "<style scoped>\n",
       "    .dataframe tbody tr th:only-of-type {\n",
       "        vertical-align: middle;\n",
       "    }\n",
       "\n",
       "    .dataframe tbody tr th {\n",
       "        vertical-align: top;\n",
       "    }\n",
       "\n",
       "    .dataframe thead th {\n",
       "        text-align: right;\n",
       "    }\n",
       "</style>\n",
       "<table border=\"1\" class=\"dataframe\">\n",
       "  <thead>\n",
       "    <tr style=\"text-align: right;\">\n",
       "      <th></th>\n",
       "      <th>duration(m)</th>\n",
       "    </tr>\n",
       "    <tr>\n",
       "      <th>unique_key</th>\n",
       "      <th></th>\n",
       "    </tr>\n",
       "  </thead>\n",
       "  <tbody>\n",
       "    <tr>\n",
       "      <th>20168001525</th>\n",
       "      <td>286</td>\n",
       "    </tr>\n",
       "    <tr>\n",
       "      <th>20165003526</th>\n",
       "      <td>300</td>\n",
       "    </tr>\n",
       "    <tr>\n",
       "      <th>20165017152</th>\n",
       "      <td>300</td>\n",
       "    </tr>\n",
       "    <tr>\n",
       "      <th>20161120648</th>\n",
       "      <td>47</td>\n",
       "    </tr>\n",
       "    <tr>\n",
       "      <th>20165032969</th>\n",
       "      <td>73</td>\n",
       "    </tr>\n",
       "  </tbody>\n",
       "</table>\n",
       "</div>"
      ],
      "text/plain": [
       "             duration(m)\n",
       "unique_key              \n",
       "20168001525          286\n",
       "20165003526          300\n",
       "20165017152          300\n",
       "20161120648           47\n",
       "20165032969           73"
      ]
     },
     "execution_count": 76,
     "metadata": {},
     "output_type": "execute_result"
    }
   ],
   "source": [
    "dt['duration(m)'] = dt['duration(m)'].astype('int')\n",
    "dt.head()"
   ]
  },
  {
   "cell_type": "code",
   "execution_count": 77,
   "metadata": {},
   "outputs": [
    {
     "data": {
      "text/html": [
       "<div>\n",
       "<style scoped>\n",
       "    .dataframe tbody tr th:only-of-type {\n",
       "        vertical-align: middle;\n",
       "    }\n",
       "\n",
       "    .dataframe tbody tr th {\n",
       "        vertical-align: top;\n",
       "    }\n",
       "\n",
       "    .dataframe thead th {\n",
       "        text-align: right;\n",
       "    }\n",
       "</style>\n",
       "<table border=\"1\" class=\"dataframe\">\n",
       "  <thead>\n",
       "    <tr style=\"text-align: right;\">\n",
       "      <th></th>\n",
       "      <th>duration(m)</th>\n",
       "    </tr>\n",
       "    <tr>\n",
       "      <th>unique_key</th>\n",
       "      <th></th>\n",
       "    </tr>\n",
       "  </thead>\n",
       "  <tbody>\n",
       "    <tr>\n",
       "      <th>20169125</th>\n",
       "      <td>6</td>\n",
       "    </tr>\n",
       "    <tr>\n",
       "      <th>201610045</th>\n",
       "      <td>1</td>\n",
       "    </tr>\n",
       "    <tr>\n",
       "      <th>201610077</th>\n",
       "      <td>2</td>\n",
       "    </tr>\n",
       "    <tr>\n",
       "      <th>201610079</th>\n",
       "      <td>2</td>\n",
       "    </tr>\n",
       "    <tr>\n",
       "      <th>201610099</th>\n",
       "      <td>6</td>\n",
       "    </tr>\n",
       "  </tbody>\n",
       "</table>\n",
       "</div>"
      ],
      "text/plain": [
       "            duration(m)\n",
       "unique_key             \n",
       "20169125              6\n",
       "201610045             1\n",
       "201610077             2\n",
       "201610079             2\n",
       "201610099             6"
      ]
     },
     "execution_count": 77,
     "metadata": {},
     "output_type": "execute_result"
    }
   ],
   "source": [
    "dt = dt.sort_values(by='unique_key')\n",
    "dt.head()"
   ]
  },
  {
   "cell_type": "code",
   "execution_count": 78,
   "metadata": {},
   "outputs": [],
   "source": [
    "# csv 파일 저장 예시 - python\n",
    "df.to_csv('incidents_duration.csv')"
   ]
  },
  {
   "cell_type": "code",
   "execution_count": null,
   "metadata": {},
   "outputs": [],
   "source": [
    "# csv 파일 저장 예시 - R\n",
    "write.csv(df, file='incidents_duration.csv')"
   ]
  }
 ],
 "metadata": {
  "kernelspec": {
   "display_name": "Python 3",
   "language": "python",
   "name": "python3"
  },
  "language_info": {
   "codemirror_mode": {
    "name": "ipython",
    "version": 3
   },
   "file_extension": ".py",
   "mimetype": "text/x-python",
   "name": "python",
   "nbconvert_exporter": "python",
   "pygments_lexer": "ipython3",
   "version": "3.7.6"
  }
 },
 "nbformat": 4,
 "nbformat_minor": 2
}
