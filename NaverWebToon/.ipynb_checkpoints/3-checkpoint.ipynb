{
 "cells": [
  {
   "cell_type": "markdown",
   "metadata": {},
   "source": [
    "문자열에서 문자를 k개를 선택해 순서를 유지하며 이어 붙여 사전 순으로 가장 뒤에 오는 문자열을 만들려 합니다.\n",
    "문자열 letters와 숫자 k가 매개변수로 주어집니다. letters에서 문자를 k개 선택해 순서를 유지하며 이어 붙여 만들 수 있는 문자열 중 사전 순으로 가장 뒤에 오는 것을 return 하도록 solution 함수를 완성해주세요.\n",
    "제한사항\n",
    "letters의 길이는 1 이상 500,000 이하입니다.\n",
    "letters는 알파벳 소문자로만 이루어져 있습니다.\n",
    "k는 1 이상 letters의 길이 이하인 자연수입니다.\n",
    "입출력 예\n",
    "letters\tk\treturn\n",
    "\"zbgaj\"\t3\t\"zgj\"\n",
    "입출력 예 설명\n",
    "입출력 예 #1\n",
    "사전 순으로 가장 뒤에 오는 문자열은 첫 번째, 세 번째, 다섯 번째 문자열을 선택해 이어 붙인 \"zgj\"입니다."
   ]
  },
  {
   "cell_type": "code",
   "execution_count": 56,
   "metadata": {},
   "outputs": [
    {
     "data": {
      "text/plain": [
       "'zj'"
      ]
     },
     "execution_count": 56,
     "metadata": {},
     "output_type": "execute_result"
    }
   ],
   "source": [
    "k = 2\n",
    "letters = 'zbgaj'\n",
    "\n",
    "stack = []\n",
    "for alphabet in letters:\n",
    "    if len(stack) < k:\n",
    "        if len(stack) > 0 and stack[-1] < alphabet:\n",
    "            stack.pop()\n",
    "            stack.append(alphabet)\n",
    "        else:\n",
    "            stack.append(alphabet)\n",
    "    else:\n",
    "        if stack[-1] < alphabet:\n",
    "            stack.pop()\n",
    "            stack.append(alphabet)\n",
    "        \n",
    "    \n",
    "''.join(stack)"
   ]
  },
  {
   "cell_type": "code",
   "execution_count": 17,
   "metadata": {},
   "outputs": [
    {
     "data": {
      "text/plain": [
       "False"
      ]
     },
     "execution_count": 17,
     "metadata": {},
     "output_type": "execute_result"
    }
   ],
   "source": [
    "'g' < 'a'"
   ]
  },
  {
   "cell_type": "code",
   "execution_count": 3,
   "metadata": {},
   "outputs": [
    {
     "data": {
      "text/plain": [
       "'zbgajzbgajzbgaj'"
      ]
     },
     "execution_count": 3,
     "metadata": {},
     "output_type": "execute_result"
    }
   ],
   "source": [
    "letters * 3"
   ]
  },
  {
   "cell_type": "code",
   "execution_count": null,
   "metadata": {},
   "outputs": [],
   "source": []
  }
 ],
 "metadata": {
  "kernelspec": {
   "display_name": "Python 3",
   "language": "python",
   "name": "python3"
  },
  "language_info": {
   "codemirror_mode": {
    "name": "ipython",
    "version": 3
   },
   "file_extension": ".py",
   "mimetype": "text/x-python",
   "name": "python",
   "nbconvert_exporter": "python",
   "pygments_lexer": "ipython3",
   "version": "3.7.6"
  }
 },
 "nbformat": 4,
 "nbformat_minor": 4
}
