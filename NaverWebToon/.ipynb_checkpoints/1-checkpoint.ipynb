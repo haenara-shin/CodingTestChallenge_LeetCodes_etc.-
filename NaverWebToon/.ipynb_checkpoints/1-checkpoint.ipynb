{
 "cells": [
  {
   "cell_type": "markdown",
   "metadata": {},
   "source": [
    "악성 코드가 전산망에 침투하는지 감시하기 위해 패킷에서 알파벳으로만 이루어진 문자열 S를 분리했습니다. 그다음 문자열 S에 아래 설명에 해당하는 문자열 pattern이 포함돼 있다면 해당 패킷을 악성코드 의심 패킷으로 분류하려 합니다.\n",
    "문자열 S에 특정 문자열 pattern이 포함돼 있다면 악성코드를 전송하는 패킷으로 분류합니다.\n",
    "악성코드는 pattern을 무작위로 섞은 다음 문자열 S에 숨겨 전송합니다.\n",
    "따라서, 문자열 S에 재배열해서 문자열 pattern을 만들 수 있는 부분 문자열이 포함돼 있다면 악성코드 의심 패킷으로 분류해야 합니다. 부분 문자열은 어떤 문자열의 연속된 일부를 의미합니다.\n",
    "먼저 문자열 S에서 재배열하여 pattern을 만들 수 있는 부분 문자열이 모두 몇 개인지 구하려 합니다. 같은 부분 문자열이라도 위치가 다르다면 따로 세어야 합니다.\n",
    "문자열 S와 pattern이 매개변수로 주어질 때, 문자열 S에서 재배열하여 pattern을 만들 수 있는 부분 문자열은 모두 몇 개인지를 return 하도록 solution 함수를 완성해주세요.\n",
    "제한사항\n",
    "문자열 S의 길이는 1 이상 1,000 이하입니다.\n",
    "문자열 pattern의 길이는 1 이상 8 이하입니다(S 길이가 8 이하인 경우 S의 길이 이하).\n",
    "문자열 S와 pattern은 알파벳 소문자로만 이루어져 있습니다.\n",
    "입출력 예\n",
    "S\tpattern\tresult\n",
    "\"tegsornamwaresomran\"\t\"ransom\"\t2\n",
    "\"wreawerewa\"\t\"ware\"\t4\n",
    "\"ababababababa\"\t\"aabba\"\t5\n",
    "\"abcde\"\t\"edcba\"\t1\n",
    "\"aabbccddee\"\t\"abcde\"\t0\n",
    "\"aaaaaa\"\t\"a\"\t6\n",
    "입출력 예 설명\n",
    "입출력 예 #1\n",
    "재배열해서 \"ransom\"을 만들 수 있는 부분 문자열은 다음과 같이 두 가지가 있습니다.\n",
    "tegsornamwaresomran\n",
    "tegsornamwaresomran\n",
    "입출력 예 #2\n",
    "재배열해서 \"ware\"를 만들 수 있는 부분 문자열은 다음과 같이 네 가지가 있습니다.\n",
    "wreawerewa\n",
    "wreawerewa\n",
    "wreawerewa\n",
    "wreawerewa"
   ]
  },
  {
   "cell_type": "code",
   "execution_count": 5,
   "metadata": {},
   "outputs": [
    {
     "name": "stdout",
     "output_type": "stream",
     "text": [
      "True\n",
      "['r', 'a', 'n', 'd', 'o', 'm']\n",
      "['d', 'o', 'm', 'r', 'a', 'n']\n"
     ]
    }
   ],
   "source": [
    "p = 'random'\n",
    "p_l = list(p)\n",
    "pp = 'domran'\n",
    "pp_l = list(pp)\n",
    "print(set(p_l) == set(pp_l))\n",
    "print(p_l)\n",
    "print(pp_l)"
   ]
  },
  {
   "cell_type": "code",
   "execution_count": 14,
   "metadata": {},
   "outputs": [
    {
     "name": "stdout",
     "output_type": "stream",
     "text": [
      "ababa\n",
      "babab\n",
      "ababa\n",
      "babab\n",
      "ababa\n",
      "babab\n",
      "ababa\n",
      "babab\n",
      "ababa\n",
      "baba\n",
      "aba\n",
      "ba\n",
      "a\n"
     ]
    },
    {
     "data": {
      "text/plain": [
       "5"
      ]
     },
     "execution_count": 14,
     "metadata": {},
     "output_type": "execute_result"
    }
   ],
   "source": [
    "s = 'ababababababa'\n",
    "p = 'aabba'\n",
    "\n",
    "leng_p = len(p)\n",
    "count = 0\n",
    "\n",
    "from collections import Counter\n",
    "\n",
    "for i in range(len(s)):\n",
    "    print(s[i:i+leng_p])\n",
    "    if Counter(s[i:i+leng_p]) == Counter(p):\n",
    "        count += 1\n",
    "\n",
    "        \n",
    "count"
   ]
  },
  {
   "cell_type": "code",
   "execution_count": null,
   "metadata": {},
   "outputs": [],
   "source": []
  }
 ],
 "metadata": {
  "kernelspec": {
   "display_name": "Python 3",
   "language": "python",
   "name": "python3"
  },
  "language_info": {
   "codemirror_mode": {
    "name": "ipython",
    "version": 3
   },
   "file_extension": ".py",
   "mimetype": "text/x-python",
   "name": "python",
   "nbconvert_exporter": "python",
   "pygments_lexer": "ipython3",
   "version": "3.7.6"
  }
 },
 "nbformat": 4,
 "nbformat_minor": 4
}
