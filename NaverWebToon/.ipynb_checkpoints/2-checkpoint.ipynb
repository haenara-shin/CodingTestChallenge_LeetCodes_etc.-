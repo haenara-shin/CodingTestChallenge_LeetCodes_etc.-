{
 "cells": [
  {
   "cell_type": "markdown",
   "metadata": {},
   "source": [
    "문제 설명\n",
    "\n",
    "사전에 알파벳 모음 'A', 'E', 'I', 'O', 'U'만을 사용하여 만들 수 있는, 길이 5 이하의 모든 단어가 수록되어 있습니다. 사전에서 첫 번째 단어는 \"A\"이고, 그다음은 \"AA\"이며, 마지막 단어는 \"UUUUU\"입니다.\n",
    "단어 하나 word가 매개변수로 주어질 때, 이 단어가 사전에서 몇 번째 단어인지 return 하도록 solution 함수를 완성해주세요.\n",
    "제한사항\n",
    "word의 길이는 1 이상 5 이하입니다.\n",
    "word는 알파벳 대문자 'A', 'E', 'I', 'O', 'U'로만 이루어져 있습니다.\n",
    "입출력 예\n",
    "word\tresult\n",
    "\"AAAAE\"\t6\n",
    "\"AAAE\"\t10\n",
    "\"I\"\t1563\n",
    "\"EIO\"\t1189\n",
    "입출력 예 설명\n",
    "입출력 예 #1\n",
    "사전에서 첫 번째 단어는 \"A\"이고, 그다음은 \"AA\", \"AAA\", \"AAAA\", \"AAAAA\", \"AAAAE\", ... 와 같습니다. \"AAAAE\"는 사전에서 6번째 단어입니다.\n",
    "입출력 예 #2\n",
    "\"AAAE\"는 \"A\", \"AA\", \"AAA\", \"AAAA\", \"AAAAA\", \"AAAAE\", \"AAAAI\", \"AAAAO\", \"AAAAU\"의 다음인 10번째 단어입니다.\n",
    "입출력 예 #3\n",
    "\"I\"는 1563번째 단어입니다.\n",
    "입출력 예 #4\n",
    "\"EIO\"는 1189번째 단어입니다."
   ]
  },
  {
   "cell_type": "code",
   "execution_count": null,
   "metadata": {},
   "outputs": [],
   "source": [
    "vowels = ['A', 'E', 'I', 'O', 'U']\n",
    "words = []\n",
    "\n",
    "def create_words(lev, s):\n",
    "    words.append(s)\n",
    "    for i in range(0, 5):\n",
    "        if lev < 5:\n",
    "            create_words(lev + 1, s+vowels[i])\n",
    "\n",
    "def solution(word):\n",
    "    answer = 0\n",
    "    create_words(0, '')\n",
    "    words_n = len(words)\n",
    "    for i in range(words_n):\n",
    "        if word == words[i]:\n",
    "            answer = i\n",
    "            break\n",
    "    return answer"
   ]
  }
 ],
 "metadata": {
  "kernelspec": {
   "display_name": "Python 3",
   "language": "python",
   "name": "python3"
  },
  "language_info": {
   "codemirror_mode": {
    "name": "ipython",
    "version": 3
   },
   "file_extension": ".py",
   "mimetype": "text/x-python",
   "name": "python",
   "nbconvert_exporter": "python",
   "pygments_lexer": "ipython3",
   "version": "3.7.6"
  }
 },
 "nbformat": 4,
 "nbformat_minor": 4
}
