{
 "cells": [
  {
   "cell_type": "code",
   "execution_count": 4,
   "metadata": {
    "scrolled": false
   },
   "outputs": [
    {
     "name": "stdout",
     "output_type": "stream",
     "text": [
      "2 7\n",
      "3\n",
      "5\n",
      "7\n"
     ]
    }
   ],
   "source": [
    "# 1904: 홀수 출력\n",
    "\n",
    "start, end = map(int, input().split())\n",
    "\n",
    "def odd(start, end):\n",
    "    if start > end:\n",
    "        return\n",
    "    if start % 2 != 0:\n",
    "        print(start)\n",
    "    odd(start+1, end)\n",
    "odd(start, end)"
   ]
  },
  {
   "cell_type": "code",
   "execution_count": 79,
   "metadata": {},
   "outputs": [
    {
     "name": "stdout",
     "output_type": "stream",
     "text": [
      "7\n",
      "111"
     ]
    }
   ],
   "source": [
    "# 1920: 2진수 변환\n",
    "\n",
    "n = int(input())\n",
    "\n",
    "def binary(n):\n",
    "    if n == 0:\n",
    "        print(0)\n",
    "        return\n",
    "    elif n == 1:\n",
    "        print(1)\n",
    "        return\n",
    "    if n // 2 == 1:\n",
    "        print(n//2, end='')\n",
    "        print(n%2, end='')\n",
    "        return\n",
    "    else:\n",
    "        binary(n//2)\n",
    "        print(n%2, end='')\n",
    "binary(n)"
   ]
  },
  {
   "cell_type": "code",
   "execution_count": null,
   "metadata": {},
   "outputs": [],
   "source": []
  }
 ],
 "metadata": {
  "kernelspec": {
   "display_name": "Python 3",
   "language": "python",
   "name": "python3"
  },
  "language_info": {
   "codemirror_mode": {
    "name": "ipython",
    "version": 3
   },
   "file_extension": ".py",
   "mimetype": "text/x-python",
   "name": "python",
   "nbconvert_exporter": "python",
   "pygments_lexer": "ipython3",
   "version": "3.7.6"
  }
 },
 "nbformat": 4,
 "nbformat_minor": 4
}
