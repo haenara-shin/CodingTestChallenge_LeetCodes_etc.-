{
 "cells": [
  {
   "cell_type": "markdown",
   "metadata": {},
   "source": [
    "Given n non-negative integers representing an elevation map where the width of each bar is 1, compute how much water it is able to trap after raining.\n",
    "\n",
    "\n",
    "The above elevation map is represented by array [0,1,0,2,1,0,1,3,2,1,2,1]. In this case, 6 units of rain water (blue section) are being trapped. Thanks Marcos for contributing this image!\n",
    "\n",
    "Example:\n",
    "\n",
    "Input: [0,1,0,2,1,0,1,3,2,1,2,1]\n",
    "Output: 6"
   ]
  },
  {
   "cell_type": "code",
   "execution_count": 2,
   "metadata": {},
   "outputs": [
    {
     "data": {
      "text/plain": [
       "6"
      ]
     },
     "execution_count": 2,
     "metadata": {},
     "output_type": "execute_result"
    }
   ],
   "source": [
    "def trap(height):\n",
    "    if not height:\n",
    "        return 0\n",
    "    \n",
    "    volume = 0\n",
    "    left, right = 0, len(height)-1\n",
    "    left_max, right_max = height[left], height[right]\n",
    "    \n",
    "    while left < right:\n",
    "        left_max, right_max = max(height[left], left_max), max(height[right], right_max)\n",
    "        \n",
    "        if left_max <= right_max:\n",
    "            volume += left_max - height[left]\n",
    "            left += 1\n",
    "        else:\n",
    "            volume += right_max - height[right]\n",
    "            right -= 1\n",
    "    \n",
    "    return volume\n",
    "\n",
    "trap(height = [0,1,0,2,1,0,1,3,2,1,2,1])"
   ]
  },
  {
   "cell_type": "code",
   "execution_count": 3,
   "metadata": {},
   "outputs": [
    {
     "data": {
      "text/plain": [
       "6"
      ]
     },
     "execution_count": 3,
     "metadata": {},
     "output_type": "execute_result"
    }
   ],
   "source": [
    "def trap(height):\n",
    "    stack = []\n",
    "    volume = 0\n",
    "    \n",
    "    for i in range(len(height)):\n",
    "        while stack and height[i] > height[stack[-1]]:\n",
    "            top = stack.pop()\n",
    "            \n",
    "            if not len(stack):\n",
    "                break\n",
    "                \n",
    "            distance = i - stack[-1] - 1\n",
    "            water = min(height[i], height[stack[-1]]) - height[top]\n",
    "            \n",
    "            volume += distance * water\n",
    "            \n",
    "        stack.append(i)\n",
    "    return volume\n",
    "\n",
    "trap(height = [0,1,0,2,1,0,1,3,2,1,2,1])"
   ]
  },
  {
   "cell_type": "code",
   "execution_count": null,
   "metadata": {},
   "outputs": [],
   "source": [
    "class Solution:\n",
    "    def trap(self, height: List[int]) -> int:\n",
    "        stack = []\n",
    "        volume = 0\n",
    "\n",
    "        for i in range(len(height)):\n",
    "            while stack and height[i] > height[stack[-1]]:\n",
    "                top = stack.pop()\n",
    "\n",
    "                if not len(stack):\n",
    "                    break\n",
    "\n",
    "                distance = i - stack[-1] - 1\n",
    "                water = min(height[i], height[stack[-1]]) - height[top]\n",
    "\n",
    "                volume += distance * water\n",
    "\n",
    "            stack.append(i)\n",
    "        return volume"
   ]
  },
  {
   "cell_type": "code",
   "execution_count": null,
   "metadata": {},
   "outputs": [],
   "source": [
    "class Solution:\n",
    "    def trap(self, height: List[int]) -> int:\n",
    "        if not height:\n",
    "        return 0\n",
    "    \n",
    "        volume = 0\n",
    "        left, right = 0, len(height)-1\n",
    "        left_max, right_max = height[left], height[right]\n",
    "\n",
    "        while left < right:\n",
    "            left_max, right_max = max(height[left], left_max), max(height[right], right_max)\n",
    "\n",
    "            if left_max <= right_max:\n",
    "                volume += left_max - height[left]\n",
    "                left += 1\n",
    "            else:\n",
    "                volume += right_max - height[right]\n",
    "                right -= 1\n",
    "\n",
    "        return volume"
   ]
  }
 ],
 "metadata": {
  "kernelspec": {
   "display_name": "Python 3",
   "language": "python",
   "name": "python3"
  },
  "language_info": {
   "codemirror_mode": {
    "name": "ipython",
    "version": 3
   },
   "file_extension": ".py",
   "mimetype": "text/x-python",
   "name": "python",
   "nbconvert_exporter": "python",
   "pygments_lexer": "ipython3",
   "version": "3.7.6"
  }
 },
 "nbformat": 4,
 "nbformat_minor": 4
}
