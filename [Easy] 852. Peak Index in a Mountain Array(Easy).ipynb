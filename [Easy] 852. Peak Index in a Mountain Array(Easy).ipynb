{
 "cells": [
  {
   "cell_type": "markdown",
   "metadata": {},
   "source": [
    "Let's call an array A a mountain if the following properties hold:\n",
    "\n",
    "A.length >= 3\n",
    "There exists some 0 < i < A.length - 1 such that A[0] < A[1] < ... A[i-1] < A[i] > A[i+1] > ... > A[A.length - 1]\n",
    "Given an array that is definitely a mountain, return any i such that A[0] < A[1] < ... A[i-1] < A[i] > A[i+1] > ... > A[A.length - 1].\n",
    "\n",
    "Example 1:\n",
    "\n",
    "Input: [0,1,0]\n",
    "Output: 1\n",
    "\n",
    "Example 2:\n",
    "\n",
    "Input: [0,2,1,0]\n",
    "Output: 1\n",
    "Note:\n",
    "\n",
    "3 <= A.length <= 10000\n",
    "0 <= A[i] <= 10^6\n",
    "A is a mountain, as defined above."
   ]
  },
  {
   "cell_type": "code",
   "execution_count": null,
   "metadata": {},
   "outputs": [],
   "source": [
    "class Solution:\n",
    "    def peakIndexInMountainArray(self, A: List[int]) -> int:    \n",
    "        low = 0\n",
    "        high = len(A) - 1\n",
    "        peak = 0\n",
    "        \n",
    "        while low <= high:\n",
    "            mid = low + (high - low)/2\n",
    "            if A[mid - 1] < A[mid] > A[mid + 1]:\n",
    "                peak = mid\n",
    "                break\n",
    "            elif A[mid - 1] < A[mid] < A[mid + 1]:\n",
    "                low = mid + 1\n",
    "            else:\n",
    "                high = mid - 1\n",
    "                \n",
    "        return peak"
   ]
  },
  {
   "cell_type": "code",
   "execution_count": null,
   "metadata": {},
   "outputs": [],
   "source": [
    "class Solution:\n",
    "    def peakIndexInMountainArray(self, A: List[int]) -> int:\n",
    "            lo, hi = 0, len(A)\n",
    "            while lo < hi:\n",
    "                mid = lo + (hi - lo) // 2\n",
    "                if A[mid] < A[mid + 1]:\n",
    "                    lo = mid + 1\n",
    "                else:\n",
    "                    hi = mid \n",
    "            return lo"
   ]
  },
  {
   "cell_type": "code",
   "execution_count": null,
   "metadata": {},
   "outputs": [],
   "source": [
    "class Solution:\n",
    "    def peakIndexInMountainArray(self, A: List[int]) -> int:\n",
    "        for i in range(1, len(A)):\n",
    "            if A[i] > A[i + 1]:\n",
    "                return i"
   ]
  },
  {
   "cell_type": "code",
   "execution_count": null,
   "metadata": {},
   "outputs": [],
   "source": [
    "class Solution:\n",
    "    def peakIndexInMountainArray(self, A: List[int]) -> int:\n",
    "        inter_value = 0\n",
    "        for index, value in enumerate(A):\n",
    "            if inter_value <= value:\n",
    "                inter_value = value\n",
    "            else:\n",
    "                return index-1"
   ]
  },
  {
   "cell_type": "code",
   "execution_count": null,
   "metadata": {},
   "outputs": [],
   "source": [
    "class Solution:\n",
    "    def peakIndexInMountainArray(self, A: List[int]) -> int:\n",
    "        index = 0\n",
    "        value = 0\n",
    "        i = 0\n",
    "        while i < len(A):\n",
    "            if A[i] >= value:\n",
    "                value = A[i]\n",
    "                index = i\n",
    "                i += 1\n",
    "            else:\n",
    "                break\n",
    "        return index"
   ]
  }
 ],
 "metadata": {
  "kernelspec": {
   "display_name": "Python 3",
   "language": "python",
   "name": "python3"
  },
  "language_info": {
   "codemirror_mode": {
    "name": "ipython",
    "version": 3
   },
   "file_extension": ".py",
   "mimetype": "text/x-python",
   "name": "python",
   "nbconvert_exporter": "python",
   "pygments_lexer": "ipython3",
   "version": "3.7.6"
  }
 },
 "nbformat": 4,
 "nbformat_minor": 4
}
