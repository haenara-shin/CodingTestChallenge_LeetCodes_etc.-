{
 "cells": [
  {
   "cell_type": "markdown",
   "metadata": {},
   "source": [
    "Given a string S that only contains \"I\" (increase) or \"D\" (decrease), let N = S.length.\n",
    "\n",
    "Return any permutation A of [0, 1, ..., N] such that for all i = 0, ..., N-1:\n",
    "\n",
    "If S[i] == \"I\", then A[i] < A[i+1]\n",
    "If S[i] == \"D\", then A[i] > A[i+1]\n",
    " \n",
    "\n",
    "Example 1:\n",
    "\n",
    "Input: \"IDID\"\n",
    "Output: [0,4,1,3,2]\n",
    "Example 2:\n",
    "\n",
    "Input: \"III\"\n",
    "Output: [0,1,2,3]\n",
    "Example 3:\n",
    "\n",
    "Input: \"DDI\"\n",
    "Output: [3,2,0,1]\n",
    " \n",
    "\n",
    "Note:\n",
    "\n",
    "1 <= S.length <= 10000\n",
    "S only contains characters \"I\" or \"D\"."
   ]
  },
  {
   "cell_type": "code",
   "execution_count": null,
   "metadata": {},
   "outputs": [],
   "source": [
    "class Solution:\n",
    "    def diStringMatch(self, S: str) -> List[int]:\n",
    "        low, high = 0, len(S)\n",
    "        final_list = []\n",
    "        for char in S:\n",
    "            if char == \"I\":\n",
    "                final_list.append(low)\n",
    "                low += 1\n",
    "            else:\n",
    "                final_list.append(high)\n",
    "                high -= 1\n",
    "        return final_list + [low]"
   ]
  },
  {
   "cell_type": "code",
   "execution_count": null,
   "metadata": {},
   "outputs": [],
   "source": [
    "class Solution:\n",
    "    def diStringMatch(self, S: str) -> List[int]:\n",
    "        left = right = 0\n",
    "        res = [0]\n",
    "        for i in S:\n",
    "            if i == \"I\":\n",
    "                right += 1\n",
    "                res.append(right)\n",
    "            else:\n",
    "                left -= 1\n",
    "                res.append(left)\n",
    "        return [i - left for i in res]"
   ]
  }
 ],
 "metadata": {
  "kernelspec": {
   "display_name": "Python 3",
   "language": "python",
   "name": "python3"
  },
  "language_info": {
   "codemirror_mode": {
    "name": "ipython",
    "version": 3
   },
   "file_extension": ".py",
   "mimetype": "text/x-python",
   "name": "python",
   "nbconvert_exporter": "python",
   "pygments_lexer": "ipython3",
   "version": "3.7.6"
  }
 },
 "nbformat": 4,
 "nbformat_minor": 4
}
