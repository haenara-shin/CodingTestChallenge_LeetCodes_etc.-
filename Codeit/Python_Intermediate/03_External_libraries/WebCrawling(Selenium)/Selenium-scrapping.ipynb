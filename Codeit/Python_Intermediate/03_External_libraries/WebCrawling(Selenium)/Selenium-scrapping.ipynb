{
 "cells": [
  {
   "cell_type": "code",
   "execution_count": 4,
   "metadata": {},
   "outputs": [
    {
     "name": "stderr",
     "output_type": "stream",
     "text": [
      "[WDM] - ====== WebDriver manager ======\n",
      "[WDM] - Current google-chrome version is 89.0.4389\n",
      "[WDM] - Get LATEST driver version for 89.0.4389\n",
      "[WDM] - Driver [/Users/Haenara.SHIN/.wdm/drivers/chromedriver/mac64/89.0.4389.23/chromedriver] found in cache\n"
     ]
    },
    {
     "name": "stdout",
     "output_type": "stream",
     "text": [
      "\n",
      "\n"
     ]
    }
   ],
   "source": [
    "import time\n",
    "\n",
    "from selenium import webdriver\n",
    "from webdriver_manager.chrome import ChromeDriverManager\n",
    "import requests\n",
    "\n",
    "# 웹드라이버 생성\n",
    "driver = webdriver.Chrome(ChromeDriverManager().install())\n",
    "driver.implicitly_wait(1)\n",
    "\n",
    "\n",
    "# https://workey.codeit.kr/costagram 접속\n",
    "time.sleep(1)\n",
    "driver.get('https://workey.codeit.kr/costagram')\n",
    "\n",
    "\n",
    "# 로그인 버튼 클릭\n",
    "time.sleep(1.5)\n",
    "driver.find_element_by_class_name('top-nav__login-link').click()\n",
    "# ID 입력\n",
    "time.sleep(1.5)\n",
    "driver.find_element_by_class_name('login-container__login-input').send_keys('codeit')\n",
    "# 비밀번호 입력\n",
    "time.sleep(1.5)\n",
    "driver.find_element_by_class_name('login-container__password-input').send_keys('datascience')\n",
    "# 로그인\n",
    "time.sleep(1.5)\n",
    "driver.find_element_by_class_name('login-container__login-button').click()\n",
    "\n",
    "\n",
    "# 웹 페이지 가장 밑으로 스크롤\n",
    "# scrollHeight 가져오기\n",
    "last_height = driver.execute_script(\"return document.body.scrollHeight\")\n",
    "\n",
    "while True:\n",
    "    # scrollHeight 까지 스크롤\n",
    "    driver.execute_script(\"window.scrollTo(0, document.body.scrollHeight);\")\n",
    "    time.sleep(1)\n",
    "\n",
    "    # scrollHeight 비교\n",
    "    new_height = driver.execute_script(\"return document.body.scrollHeight\")\n",
    "    if new_height == last_height:\n",
    "        break\n",
    "    last_height = new_height\n",
    "\n",
    "\n",
    "# 이미지 다운로드\n",
    "for elt in driver.find_elements_by_class_name('post-list__post.post'):\n",
    "    # 'style'이라는 속성에서 이미지 url (이미지 주소) 추출\n",
    "    style_string = elt.get_attribute('style')\n",
    "    img_url = 'https://workey.codeit.kr' + style_string.split(' url(\"')[1].split('\")')[0]\n",
    "    # 이미지 저장할 경로 정의\n",
    "    img_path = '/Users/Haenara.SHIN/Desktop/my_images/' + img_url.split('/')[-1]\n",
    "    # requests 패키지 써서 이미지 다운로드\n",
    "    response = requests.get(img_url)\n",
    "    if response.status_code == 200:\n",
    "        with open(img_path, 'wb+') as f:\n",
    "            f.write(response.content)"
   ]
  },
  {
   "cell_type": "code",
   "execution_count": null,
   "metadata": {},
   "outputs": [],
   "source": []
  }
 ],
 "metadata": {
  "kernelspec": {
   "display_name": "Python 3",
   "language": "python",
   "name": "python3"
  },
  "language_info": {
   "codemirror_mode": {
    "name": "ipython",
    "version": 3
   },
   "file_extension": ".py",
   "mimetype": "text/x-python",
   "name": "python",
   "nbconvert_exporter": "python",
   "pygments_lexer": "ipython3",
   "version": "3.7.6"
  }
 },
 "nbformat": 4,
 "nbformat_minor": 4
}
