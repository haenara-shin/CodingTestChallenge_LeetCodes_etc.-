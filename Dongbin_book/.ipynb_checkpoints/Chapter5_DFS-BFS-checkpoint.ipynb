{
 "cells": [
  {
   "cell_type": "markdown",
   "metadata": {},
   "source": [
    "# 그래프를 탐색하기 위한 대표적인 두 가지 알고리즘"
   ]
  },
  {
   "cell_type": "markdown",
   "metadata": {},
   "source": [
    "# 1. 꼭 필요한 자료구조 기초"
   ]
  },
  {
   "cell_type": "markdown",
   "metadata": {},
   "source": [
    "## 탐색 (Search)"
   ]
  },
  {
   "cell_type": "markdown",
   "metadata": {},
   "source": [
    "- 많은 양의 데이터 중에서 원하는 데이터를 찾는 과정.\n",
    "- 그래프, 트리 등의 자료구조 안에서 탐색을 하는 문제를 자주 다룸.\n",
    "- 대표적인 탐색 알고리즘이 DFS, BFS 임. 이를 제대로 이해하려면 스택/큐/재귀함수를 제대로 이해해야함."
   ]
  },
  {
   "cell_type": "markdown",
   "metadata": {},
   "source": [
    "## 자료구조 (Data structure)"
   ]
  },
  {
   "cell_type": "markdown",
   "metadata": {},
   "source": [
    "- 데이터를 표현하고 관리하고 처리하기 위한 구조\n",
    "- 스택/큐\n",
    "    1. 삽입(push): 데이터를 삽입\n",
    "    2. 삭제(pop): 데이터를 삭제\n",
    "- 오버플로: 특정한 자료구조가 수용할 수 있는 데이터의 크기를 이미 가득 찬 상태에서 삽입 연산을 수행할 때 발생. (저장공간을 벗어나 데이터가 넘쳐 흐름)\n",
    "- 언더플로: 특정한 자료구조에 데이터가 전혀 들어 있지 않은 상태에서 삭제 연산을 수행하면 발생. (아무것도 없는데 삭제하라는 명령)"
   ]
  },
  {
   "cell_type": "markdown",
   "metadata": {},
   "source": [
    "### 스택(Stack)  == 파이썬에서 리스트"
   ]
  },
  {
   "cell_type": "markdown",
   "metadata": {},
   "source": [
    "- 박스 쌓기.\n",
    "- 아래에서 부터 위로 쌓는다. 즉, 아래에 있는 박스(먼저 들어온 것)를 치우기 위해서는 위에 있는 바스(나중에 들어온 것)을 치워야 함.\n",
    "- 선입후출(First In Last Out) 또는 후입선출(Last In First Out) 구조라고 함."
   ]
  },
  {
   "cell_type": "markdown",
   "metadata": {},
   "source": [
    "#### 스택 예제"
   ]
  },
  {
   "cell_type": "code",
   "execution_count": 1,
   "metadata": {},
   "outputs": [
    {
     "name": "stdout",
     "output_type": "stream",
     "text": [
      "[5, 2, 3, 1]\n",
      "[1, 3, 2, 5]\n"
     ]
    }
   ],
   "source": [
    "stack = []\n",
    "\n",
    "stack.append(5) # [5]\n",
    "stack.append(2) # [5,2]\n",
    "stack.append(3) # [5,2,3]\n",
    "stack.append(7) # [5,2,3,7]\n",
    "stack.pop()     # [5,2,3]\n",
    "stack.append(1) # [5,2,3,1]\n",
    "stack.append(4) # [5,2,3,1,4]\n",
    "stack.pop()     # [5,2,3,1]\n",
    "\n",
    "print(stack) # 최하단 원소 부터 출력\n",
    "print(stack[::-1]) # 최상단 원소 부터 출력"
   ]
  },
  {
   "cell_type": "markdown",
   "metadata": {},
   "source": [
    "### 큐 (Queue) == 파이썬의 deque. 그냥 다른게 아니라 자료형이 다르고(import 해야함), deque 의 다른 method를 사용할 수 있다"
   ]
  },
  {
   "cell_type": "markdown",
   "metadata": {},
   "source": [
    "- 즉, append/pop은 스택(리스트)과 같은데, appendleft, popleft, extendleft, rotate 를 사용할 수 있는 점이 다른것. \n",
    "- 물론 속도 면에서 차이가 있기 때문에 (전체 리스트를 스윕할 필요 없이) 필요한 경우에 import 해서 사용할 수 있도록 한다."
   ]
  },
  {
   "cell_type": "markdown",
   "metadata": {},
   "source": [
    "- 대기 줄. (선착순)\n",
    "- '공정한 자료구조'\n",
    "- First In First Out (선입선출)"
   ]
  },
  {
   "cell_type": "markdown",
   "metadata": {},
   "source": [
    "- collections 모듈의 deque 자료 구조.\n",
    "- deque 객체를 리스트 자료형으로 변경하고자 한다면 list() 메서드 사용\n",
    "- queue 라이브러리를 이용하는 것보다 더 간단함."
   ]
  },
  {
   "cell_type": "markdown",
   "metadata": {},
   "source": [
    "#### 큐 예제"
   ]
  },
  {
   "cell_type": "code",
   "execution_count": 2,
   "metadata": {},
   "outputs": [
    {
     "name": "stdout",
     "output_type": "stream",
     "text": [
      "deque([3, 7, 1, 4])\n",
      "deque([4, 1, 7, 3])\n"
     ]
    }
   ],
   "source": [
    "from collections import deque\n",
    "\n",
    "queue = deque()\n",
    "\n",
    "queue.append(5) # [5]\n",
    "queue.append(2) # [5,2]\n",
    "queue.append(3) # [5,2,3]\n",
    "queue.append(7) # [5,2,3,7]\n",
    "queue.popleft() # [2,3,7]\n",
    "queue.append(1) # [2,3,7,1]\n",
    "queue.append(4) # [2,3,7,1,4]\n",
    "queue.popleft() # [3,7,1,4]\n",
    "\n",
    "print(queue)\n",
    "queue.reverse()\n",
    "print(queue)"
   ]
  },
  {
   "cell_type": "markdown",
   "metadata": {},
   "source": [
    "- `deque.append(item)`: item을 데크의 오른쪽 끝에 삽입한다.\n",
    "- `deque.appendleft(item)`: item을 데크의 왼쪽 끝에 삽입한다.\n",
    "- `deque.pop()`: 데크의 오른쪽 끝 엘리먼트를 가져오는 동시에 데크에서 삭제한다.\n",
    "- `deque.popleft()`: 데크의 왼쪽 끝 엘리먼트를 가져오는 동시에 데크에서 삭제한다.\n",
    "- `deque.extend(array)`: 주어진 배열(array)을 순환하면서 데크의 오른쪽에 추가한다.\n",
    "- `deque.extendleft(array)`: 주어진 배열(array)을 순환하면서 데크의 왼쪽에 추가한다.\n",
    "- `deque.remove(item)`: item을 데크에서 찾아 삭제한다.\n",
    "- `deque.rotate(num)`: 데크를 num만큼 회전한다(양수면 오른쪽, 음수면 왼쪽)."
   ]
  },
  {
   "cell_type": "markdown",
   "metadata": {},
   "source": [
    "## 재귀함수"
   ]
  },
  {
   "cell_type": "markdown",
   "metadata": {},
   "source": [
    "- 스택 자료구조와 동일함."
   ]
  },
  {
   "cell_type": "markdown",
   "metadata": {},
   "source": [
    "#### 팩토리얼 구현(Iterative vs Recursive)"
   ]
  },
  {
   "cell_type": "code",
   "execution_count": 9,
   "metadata": {},
   "outputs": [],
   "source": [
    "# Iterative\n",
    "def factorial_iterative(n):\n",
    "    result = 1\n",
    "    for i in range(1, n + 1):\n",
    "        result *= i\n",
    "    return result\n",
    "\n",
    "# Recursive\n",
    "def factorial_recursive(n):\n",
    "    if n <= 1:\n",
    "        return 1\n",
    "    else:\n",
    "        return n * factorial_recursive(n-1)"
   ]
  },
  {
   "cell_type": "code",
   "execution_count": null,
   "metadata": {},
   "outputs": [],
   "source": []
  }
 ],
 "metadata": {
  "kernelspec": {
   "display_name": "Python 3",
   "language": "python",
   "name": "python3"
  },
  "language_info": {
   "codemirror_mode": {
    "name": "ipython",
    "version": 3
   },
   "file_extension": ".py",
   "mimetype": "text/x-python",
   "name": "python",
   "nbconvert_exporter": "python",
   "pygments_lexer": "ipython3",
   "version": "3.7.6"
  }
 },
 "nbformat": 4,
 "nbformat_minor": 4
}
