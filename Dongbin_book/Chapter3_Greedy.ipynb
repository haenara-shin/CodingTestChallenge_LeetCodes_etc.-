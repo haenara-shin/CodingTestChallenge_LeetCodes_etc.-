{
 "cells": [
  {
   "cell_type": "markdown",
   "metadata": {},
   "source": [
    "# Greedy"
   ]
  },
  {
   "cell_type": "markdown",
   "metadata": {},
   "source": [
    "- 대체로 정렬 문제"
   ]
  },
  {
   "cell_type": "markdown",
   "metadata": {},
   "source": [
    "## Example 3-1"
   ]
  },
  {
   "cell_type": "markdown",
   "metadata": {},
   "source": [
    "- 당신은 음식점의 계산을 도와주는 점원이다. 카운터에는 거스름돈으로 사용할 500원, 100원, 50원, 10원짜리 동전이 무한히 존재한다고 가정한다.\n",
    "- 손님에게 거슬러 줘야 할 돈이 N원일 때, 거슬러 줘야할 동전의 최소 개수를 구하라. (단, 거슬러 줘야할 돈 N은 항상 10의 배수이다.)"
   ]
  },
  {
   "cell_type": "code",
   "execution_count": 4,
   "metadata": {},
   "outputs": [
    {
     "name": "stdout",
     "output_type": "stream",
     "text": [
      "6\n"
     ]
    }
   ],
   "source": [
    "N = 1260\n",
    "coins_n = 0\n",
    "\n",
    "coins_list = [500, 100, 50, 10]\n",
    "\n",
    "for i in coins_list:\n",
    "    # 500원 짜리 동전의 갯수\n",
    "    coins_n += N  // i\n",
    "    N %= i\n",
    "print(coins_n)"
   ]
  },
  {
   "cell_type": "code",
   "execution_count": 5,
   "metadata": {},
   "outputs": [
    {
     "data": {
      "text/plain": [
       "6"
      ]
     },
     "execution_count": 5,
     "metadata": {},
     "output_type": "execute_result"
    }
   ],
   "source": [
    "def coins(N):\n",
    "    coins_n = 0\n",
    "    coins_list = [500, 100, 50, 10]\n",
    "    \n",
    "    for i in coins_list:\n",
    "        coins_n += N // i\n",
    "        N %= i\n",
    "    return coins_n\n",
    "\n",
    "coins(1260)"
   ]
  },
  {
   "cell_type": "markdown",
   "metadata": {},
   "source": [
    "# 실전 문제"
   ]
  },
  {
   "cell_type": "markdown",
   "metadata": {},
   "source": [
    "# 큰 수의 법칙"
   ]
  },
  {
   "cell_type": "markdown",
   "metadata": {},
   "source": [
    "- 다양한 수로 이루어진 배열이 있을 때 주어진 수들을 M번 더하여 가장 큰 수를 만드는 법칙을 구현.\n",
    "- 단, 배열의 특정한 인덱스(번호)에 해당하는 수가 연속으로 K번을 초과하여 더해질 수 없다."
   ]
  },
  {
   "cell_type": "markdown",
   "metadata": {},
   "source": [
    "- 입력 조건: 첫째 줄에 N(2 <= N <= 1000), M(1 <= M <= 10000), K(1 <= K <= 10000)의 자연수가 주어지며, 각 자연수는 공백으로 구분한다.\n",
    "- 입력 조건: 둘째 줄에 N개의 자연수가 주어진다. 각 자연수는 공백으로 구분한다. 단, 각각의 자연수는 1 이상 10000 이하의 수로 주어진다.\n",
    "- 입력 조건: 입력으로 주어지는 K는 항상 M 보다 작거나 같다."
   ]
  },
  {
   "cell_type": "markdown",
   "metadata": {},
   "source": [
    "- 출력 조건: 첫째 줄에 큰 수의 법칙에 따라 더해진 답을 출력한다."
   ]
  },
  {
   "cell_type": "markdown",
   "metadata": {},
   "source": [
    "- 5 8 3\n",
    "- 2 4 5 4 6\n",
    "- 46"
   ]
  },
  {
   "cell_type": "code",
   "execution_count": 25,
   "metadata": {},
   "outputs": [
    {
     "name": "stdout",
     "output_type": "stream",
     "text": [
      "5 8 3\n",
      "2 4 5 4 6\n",
      "46\n"
     ]
    }
   ],
   "source": [
    "N, M, K = map(int, input().split())\n",
    "G = list(map(int, input().split()))\n",
    "\n",
    "output = 0\n",
    "G.sort(reverse=True)\n",
    "first_big = G[0]\n",
    "second_big = G[1]\n",
    "\n",
    "if first_big != second_big:\n",
    "    output += (first_big * K * (M // K)) + (second_big * (M % K))\n",
    "else:\n",
    "    output += first_big * M\n",
    "print(output)"
   ]
  },
  {
   "cell_type": "markdown",
   "metadata": {},
   "source": [
    "- 제시된 답안"
   ]
  },
  {
   "cell_type": "code",
   "execution_count": 26,
   "metadata": {},
   "outputs": [
    {
     "name": "stdout",
     "output_type": "stream",
     "text": [
      "5 8 3\n",
      "2 4 5 4 6\n",
      "46\n"
     ]
    }
   ],
   "source": [
    "n, m , k  = map(int, input().split())\n",
    "data = list(map(int, input().split()))\n",
    "\n",
    "data.sort()\n",
    "first = data[n-1]\n",
    "second = data[n-2]\n",
    "\n",
    "count = int(m / (k + 1)) * k\n",
    "count += m % (k + 1)\n",
    "\n",
    "result = 0\n",
    "result += (count) * first\n",
    "result += (m - count) * second \n",
    "\n",
    "print(result)"
   ]
  },
  {
   "cell_type": "markdown",
   "metadata": {},
   "source": [
    "# 실전 문제"
   ]
  },
  {
   "cell_type": "markdown",
   "metadata": {},
   "source": [
    "# 숫자 카드 게임"
   ]
  },
  {
   "cell_type": "markdown",
   "metadata": {},
   "source": [
    "- 여러 개의 숫자 카드 중에서 가장 높은 숫자가 쓰인 카드 한 장을 뽑는 게임."
   ]
  },
  {
   "cell_type": "markdown",
   "metadata": {},
   "source": [
    "1. 숫자가 쓰인 카드들이 N * M 형태로 놓여있다. 이때 N은 행의 개수, M은 열의 개수\n",
    "2. 먼저 뽑고자 하는 카드가 포함되어 있는 행을 선택.\n",
    "3. 그다음 선택된 행에 포함된 카드들 중 가장 숫자가 낮은 카드를 뽑음.\n",
    "4. 따라서 처음에 카드를 골라낼 행을 선택할 때, 이후에 해당 행에서 가장 숫자가 낮은 카드를 뽑을 것을 고려하여 최종적으로 가장 높은 숫자의 카드를 뽑을 수 있도록 전략을 세워야 함."
   ]
  },
  {
   "cell_type": "markdown",
   "metadata": {},
   "source": [
    "- 입력 조건\n",
    "    1. 첫째 줄에 숫자 카드들이 놓인 행의 개수 N과 열의 개수 M이 공백을 기준으로 하여 각각 자연수로 주어진다. (1 <= N, M <= 100)\n",
    "    2. 둘째 줄부터 N개의 줄에 걸쳐 각 카드에 적힌 숫자가 주어진다. 각 숫자는 1이상 10000 이하의 자연수.\n",
    "- 출력 조건: 첫째 줄에 게임의 룰에 맞게 선택한 카드에 적힌 숫자를 출력함."
   ]
  },
  {
   "cell_type": "markdown",
   "metadata": {},
   "source": [
    "- 3 3\n",
    "- 3 1 2\n",
    "- 4 1 4\n",
    "- 2 2 2\n",
    "- 2"
   ]
  },
  {
   "cell_type": "markdown",
   "metadata": {},
   "source": [
    "- 2 4\n",
    "- 7 3 1 8\n",
    "- 3 3 3 4\n",
    "- 3"
   ]
  },
  {
   "cell_type": "code",
   "execution_count": 20,
   "metadata": {},
   "outputs": [
    {
     "name": "stdout",
     "output_type": "stream",
     "text": [
      "3 3\n",
      "3 1 2\n",
      "4 1 4\n",
      "2 2 2\n",
      "2\n"
     ]
    }
   ],
   "source": [
    "N, M = map(int, input().split())\n",
    "a = []\n",
    "b = []\n",
    "for i in range(N):\n",
    "    c = list(map(int, input().split()))\n",
    "    a += c\n",
    "for i in range(0, len(a), M):\n",
    "    b.append(min(a[i:i+M]))\n",
    "print(max(b))"
   ]
  },
  {
   "cell_type": "code",
   "execution_count": 21,
   "metadata": {},
   "outputs": [
    {
     "name": "stdout",
     "output_type": "stream",
     "text": [
      "3 3\n",
      "3 1 2\n",
      "4 1 4\n",
      "2 2 2\n",
      "2\n"
     ]
    }
   ],
   "source": [
    "n, m = map(int, input().split())\n",
    "\n",
    "result = 0\n",
    "for i in range(n):\n",
    "    data = list(map(int, input().split()))\n",
    "    min_value = min(data)\n",
    "    result = max(result, min_value)\n",
    "print(result)"
   ]
  },
  {
   "cell_type": "markdown",
   "metadata": {},
   "source": [
    "# 실전 문제"
   ]
  },
  {
   "cell_type": "markdown",
   "metadata": {},
   "source": [
    "# 1이 될 때까지"
   ]
  },
  {
   "cell_type": "markdown",
   "metadata": {},
   "source": [
    "- 어떠한 수 N이 1이 될 때까지 다음의 두 과정 중 하나를 반복적으로 선택하여 수행하려고 한다. 단, 두 번째 연산은 N이 K로 나누어 떨어질때만 선택할 수 있다. 리턴은 N을 1로 만드는 최소 횟수이다. \n",
    "\n",
    "    1. N에서 1을 뺀다.\n",
    "    2. N을 K로 나눈다."
   ]
  },
  {
   "cell_type": "markdown",
   "metadata": {},
   "source": [
    "- 입력 조건: 첫째 줄에 N, K가 공백으로 구분되며 각각 자연수로 주어진다. 이때 입력으로 주어지는 N은 항상 K보다 크거나 같다.\n",
    "- 출력 조건: 첫째 줄에 N이 1이 될 때까지 1번 혹은 2번의 과정을 수행해야 하는 횟수의 최솟값을 출력한다."
   ]
  },
  {
   "cell_type": "markdown",
   "metadata": {},
   "source": [
    "25 5"
   ]
  },
  {
   "cell_type": "markdown",
   "metadata": {},
   "source": [
    "2"
   ]
  },
  {
   "cell_type": "code",
   "execution_count": 8,
   "metadata": {},
   "outputs": [
    {
     "name": "stdout",
     "output_type": "stream",
     "text": [
      "25 3\n",
      "6\n"
     ]
    }
   ],
   "source": [
    "n, m = map(int, input().split())\n",
    "count = 0\n",
    "while n != 1:\n",
    "    if n % m == 0:\n",
    "        n = (n / m)\n",
    "        count += 1\n",
    "    else:\n",
    "        n -= 1\n",
    "        count += 1\n",
    "print(count)   "
   ]
  }
 ],
 "metadata": {
  "kernelspec": {
   "display_name": "Python 3",
   "language": "python",
   "name": "python3"
  },
  "language_info": {
   "codemirror_mode": {
    "name": "ipython",
    "version": 3
   },
   "file_extension": ".py",
   "mimetype": "text/x-python",
   "name": "python",
   "nbconvert_exporter": "python",
   "pygments_lexer": "ipython3",
   "version": "3.7.6"
  }
 },
 "nbformat": 4,
 "nbformat_minor": 4
}
