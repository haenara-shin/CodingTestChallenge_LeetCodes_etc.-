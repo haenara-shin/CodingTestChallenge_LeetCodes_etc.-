{
 "cells": [
  {
   "cell_type": "markdown",
   "metadata": {},
   "source": [
    "- 출발 지점에서 목표 지점까지 이동할 때 항상 최적의 경로를 찾도록 개발.\n",
    "- 기계가 존재하는 공간은 N * n 크기의 2차원 공간이며, 각각의 칸을 지나기 위한 비용이 존재한다. 가장 왼쪽 위 칸인 [0][0] 위치에서 가장 오른쪽 아래 칸인 [n-1][n-1] 위치로 이동하는 최소 비용을 출력하는 프로그램을 작성하시오.\n",
    "- 기계는 특정한 위치에서 상하좌우 인접한 곳으로 1칸씩 이동할 수 있다."
   ]
  },
  {
   "cell_type": "markdown",
   "metadata": {},
   "source": [
    "- 입력 조건:\n",
    "    1. 첫째 줄에 테스트 케이스의 수 t가 주어진다.\n",
    "    2. 매 테스트 케이스의 첫째 줄에는 탐사 공간의 크기를 의미하는 정수 N이 주어진다. 이어서 n개의 줄에 걸쳐 각 칸의 비용이 주어지며 공백으로 구분한다.\n",
    "- 출력 조건: 각 테스트 케이스마다 [0][0]의 위치에서 [n-1][n-1]의 위치로 이동하는 최소 비용을 한 줄에 하나씩 출력한다."
   ]
  },
  {
   "cell_type": "markdown",
   "metadata": {},
   "source": [
    "3\n",
    "3\n",
    "5 5 4\n",
    "3 9 1\n",
    "3 2 7\n",
    "5\n",
    "3 7 2 0 1\n",
    "2 8 0 9 1\n",
    "1 2 1 8 1\n",
    "9 8 9 2 0\n",
    "3 6 5 1 5\n",
    "7\n",
    "9 0 5 1 1 5 3\n",
    "4 1 2 1 6 5 3\n",
    "0 7 6 1 6 8 5\n",
    "1 1 7 8 3 2 3\n",
    "9 4 0 7 6 4 1\n",
    "5 8 3 2 4 8 3\n",
    "7 4 8 4 8 3 4\n",
    "\n",
    "20 \n",
    "19\n",
    "36"
   ]
  },
  {
   "cell_type": "code",
   "execution_count": null,
   "metadata": {},
   "outputs": [],
   "source": [
    "import heapq\n",
    "import sys\n",
    "input = sys.stdin.readline\n",
    "INF = int(1e9)\n",
    "\n",
    "dx = [-1, 0, 1, 0]\n",
    "dy = [0, 1, 0, -1]\n",
    "\n",
    "for testcase in range(input()):\n",
    "    n = int(input())\n",
    "    \n",
    "graph = []\n",
    "for i in range(n):\n",
    "    graph.append(list(map(int, input().split())))\n",
    "    \n",
    "distance = [[INF] * (n+1) for _ in range(n)]\n",
    "\n",
    "x, y = 0, 0 #starting\n",
    "q = [(graph[x][y], x, y)] # 시작 노드로 가기 위한 비용은 (0,0) 위치의 값으로 설정하여 큐에 삽입.\n",
    "distance[x][y] = graph[x][y]\n",
    "\n",
    "while q:\n",
    "    dist, x, y = heapq.heappop(q)\n",
    "    if distance[x][y] < dist:\n",
    "        continue\n",
    "    for i in range(4):\n",
    "        nx = x + dx[i]\n",
    "        ny = y + dy[i]\n",
    "        \n",
    "        if nx < 0 or nx >=n or ny < 0 or ny >= n:\n",
    "            continue\n",
    "        cost = dist + graph[nx][ny]\n",
    "        if cost < distance[nx][ny]:\n",
    "            distance[nx][ny] = cost\n",
    "            heapq.heappush(q, (cost, nx, ny))\n",
    "\n",
    "print(distance[n-1][n-1])"
   ]
  }
 ],
 "metadata": {
  "kernelspec": {
   "display_name": "Python 3",
   "language": "python",
   "name": "python3"
  },
  "language_info": {
   "codemirror_mode": {
    "name": "ipython",
    "version": 3
   },
   "file_extension": ".py",
   "mimetype": "text/x-python",
   "name": "python",
   "nbconvert_exporter": "python",
   "pygments_lexer": "ipython3",
   "version": "3.7.6"
  }
 },
 "nbformat": 4,
 "nbformat_minor": 4
}
