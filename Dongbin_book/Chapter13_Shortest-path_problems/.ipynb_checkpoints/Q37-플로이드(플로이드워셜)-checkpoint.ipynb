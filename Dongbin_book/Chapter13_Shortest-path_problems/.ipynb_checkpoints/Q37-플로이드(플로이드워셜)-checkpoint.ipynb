{
 "cells": [
  {
   "cell_type": "markdown",
   "metadata": {},
   "source": [
    "- n개의 도시가 있고, 한 도시에서 출발하여 다른 도시에 도착하는 m개의 버스가 있다. 각 버스는 한 번 사용할 때 필요한 비용이 있습니다. \"모든 도시\"의 쌍(A,B)에 대해서 도시 A에서 B로 가는 데 필요한 비용의 최솟값을 구하는 프로그램을 작성하세요."
   ]
  },
  {
   "cell_type": "markdown",
   "metadata": {},
   "source": [
    "- 입력 조건: \n",
    "    1. 첫째 줄에 도시의 개수 n이 주어진다.\n",
    "    2. 둘째 줄에는 버스의 개수 m이 주어진다.\n",
    "    3. 셋째 줄부터 m+2 줄까지 다음과 같은 버스의 정보가 주어진다. 먼저 처음에는 그 버스의 출발 도시의 번호가 주어진다. 버스의 정보는 버스의 시작 도시 a, 도착 도시 b, 한 번 타는데 필요한 비용 c로 이루어져 있다. 시작 도시와 도착 도시가 같은 경우는 없다.\n",
    "    4. 시작 도시와 도착 도시를 연결하는 노선은 하나가 아닐 수 있다.\n",
    "- 출력 조건: n개의 줄을 출력해야 한다. i번째 줄에 출력하는 j 번째 숫자는 도시 i에서 j로 가는 데 필요한 최소 비용이다. 만약 i에서 j로 갈 수 없는 경우에는 그 자리에 0을 출력한다."
   ]
  },
  {
   "cell_type": "markdown",
   "metadata": {},
   "source": [
    "5\n",
    "14\n",
    "1 2 2 \n",
    "1 3 3\n",
    "1 4 1\n",
    "1 5 10\n",
    "2 4 2\n",
    "3 4 1 \n",
    "3 5 1\n",
    "4 5 3\n",
    "3 5 10\n",
    "3 1 8\n",
    "1 4 2\n",
    "5 1 7\n",
    "3 4 2\n",
    "5 2 4\n",
    "\n",
    "0 2 3 1 4\n",
    "12 0 15 2 5\n",
    "8 5 0 1 1\n",
    "10 7 13 0 3\n",
    "7 4 10 6 0"
   ]
  },
  {
   "cell_type": "markdown",
   "metadata": {},
   "source": [
    "- 비용(간선)이 여러개 일 수 있으므로 입력 받을 때 비용이 짧은 간선만 저장한다."
   ]
  },
  {
   "cell_type": "code",
   "execution_count": null,
   "metadata": {},
   "outputs": [],
   "source": [
    "INF = int(1e9)\n",
    "\n",
    "n = int(input())\n",
    "m = int(input())\n",
    "graph = [[INF] * (n+1) for _ in range(n+1)]\n",
    "\n",
    "for a in range(1, n+1):\n",
    "    for b in range(1, n+1):\n",
    "        if a == b:\n",
    "            graph[a][b] = 0\n",
    "            \n",
    "for _ in range(m):\n",
    "    a, b, c = map(int, input().split())\n",
    "    if c < graph[a][b]:\n",
    "        graph[a][b] = c\n",
    "        \n",
    "for k in range(1, n+1):\n",
    "    for a in range(1, n+1):\n",
    "        for b in range(1, n+1):\n",
    "            graph[a][b] = min(graph[a][b], graph[a][k]+graph[k][b])\n",
    "            \n",
    "for a in range(1, n+1):\n",
    "    for b in range(1, n+1):\n",
    "        if graph[a][b] == INF:\n",
    "            print(0, end=' ')\n",
    "        else:\n",
    "            print(graph[a][b], end=' ')\n",
    "    print()"
   ]
  },
  {
   "cell_type": "code",
   "execution_count": null,
   "metadata": {},
   "outputs": [],
   "source": [
    "\n",
    "\n",
    "\n"
   ]
  }
 ],
 "metadata": {
  "kernelspec": {
   "display_name": "Python 3",
   "language": "python",
   "name": "python3"
  },
  "language_info": {
   "codemirror_mode": {
    "name": "ipython",
    "version": 3
   },
   "file_extension": ".py",
   "mimetype": "text/x-python",
   "name": "python",
   "nbconvert_exporter": "python",
   "pygments_lexer": "ipython3",
   "version": "3.7.6"
  }
 },
 "nbformat": 4,
 "nbformat_minor": 4
}
