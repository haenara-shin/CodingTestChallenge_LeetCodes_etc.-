{
 "cells": [
  {
   "cell_type": "markdown",
   "metadata": {},
   "source": [
    "- 선생님은 시험을 본 학생 n명의 성적을 분실하고, 성적을 비교한 결과의 일부만 가지고 있다.\n",
    "- 학생 N명의 성적은 모두 다른데, 다음은 6명의 학생에 대하여 6번만 성적을 비교한 결과다.\n",
    "    * 1번 < 5번\n",
    "    * 3번 < 4번\n",
    "    * 4번 < 2번\n",
    "    * 4번 < 6번\n",
    "    * 5번 < 2번\n",
    "    * 5번 < 4번\n",
    "- A번 학생의 성적이 B번 학생 보다 낮다면 화살표가 A에서 B를 가리키도록 한다.\n",
    "- 학생들의 성적을 비교한 결과가 주어질 때, 성적 순위를 정확히 알 수 있는 학생은 모두 몇 명인지 계산하는 프로그램을 작성하시오."
   ]
  },
  {
   "cell_type": "markdown",
   "metadata": {},
   "source": [
    "- 입력 조건: \n",
    "    1. 첫째 줄에 학생들의 수 n과 두 학생의 성적을 비교한 횟수 m이 주어진다.\n",
    "    2. 다음 m개의 줄에는 두 학생의 성적을 비교한 결과를 나타내는 두 양의 정수 a와 b가 주어진다. 이는 a번 학생의 성적이 b번 학생보다 낮다는 것을 의미함.\n",
    "- 출력 조건: 첫째 줄에 성적 순위를 정확히 알 수 있는 학생이 몇 명인지 출력한다.\n"
   ]
  },
  {
   "cell_type": "markdown",
   "metadata": {},
   "source": [
    "6 6\n",
    "1 5\n",
    "3 4\n",
    "4 2\n",
    "4 6\n",
    "5 2\n",
    "5 4\n",
    "\n",
    "1"
   ]
  },
  {
   "cell_type": "markdown",
   "metadata": {},
   "source": [
    "- 최단 경로로 해결. 모든 노드에 대하여 다른 노드와 서로 도달이 가능한지를 체크해서 문제를 해결. 경로/거리를 출력하는것이 아니라, 특정 노드의 \"카운트 값\"이 학생 수 n이라면, 해당 노드의 정확한 순위를 알 수 있다는 것."
   ]
  },
  {
   "cell_type": "code",
   "execution_count": 2,
   "metadata": {},
   "outputs": [
    {
     "name": "stdout",
     "output_type": "stream",
     "text": [
      "6 6\n",
      "1 5\n",
      "3 4\n",
      "4 2\n",
      "4 6\n",
      "5 2\n",
      "5 4\n",
      "1\n"
     ]
    }
   ],
   "source": [
    "INF = int(1e9)\n",
    "\n",
    "n, m = map(int, input().split())\n",
    "graph = [[INF] * (n+1) for _ in range(n+1)]\n",
    "\n",
    "for a in range(1, n+1):\n",
    "    for b in range(1, n+1):\n",
    "        if a == b:\n",
    "            graph[a][b] = 0\n",
    "            \n",
    "for _ in range(m):\n",
    "    a, b = map(int, input().split())\n",
    "    graph[a][b] = 1\n",
    "\n",
    "for k in range(1, n+1):\n",
    "    for a in range(1, n+1):\n",
    "        for b in range(1, n+1):\n",
    "            graph[a][b] = min(graph[a][b], graph[a][k]+graph[k][b])\n",
    "            \n",
    "result = 0\n",
    "\n",
    "for a in range(1, n+1):\n",
    "    count = 0\n",
    "    for b in range(1, n+1):\n",
    "        if graph[a][b] != INF or graph[b][a] != INF:\n",
    "            count += 1\n",
    "    if count == n:\n",
    "        result += 1\n",
    "\n",
    "print(result)\n",
    "        "
   ]
  }
 ],
 "metadata": {
  "kernelspec": {
   "display_name": "Python 3",
   "language": "python",
   "name": "python3"
  },
  "language_info": {
   "codemirror_mode": {
    "name": "ipython",
    "version": 3
   },
   "file_extension": ".py",
   "mimetype": "text/x-python",
   "name": "python",
   "nbconvert_exporter": "python",
   "pygments_lexer": "ipython3",
   "version": "3.7.6"
  }
 },
 "nbformat": 4,
 "nbformat_minor": 4
}
