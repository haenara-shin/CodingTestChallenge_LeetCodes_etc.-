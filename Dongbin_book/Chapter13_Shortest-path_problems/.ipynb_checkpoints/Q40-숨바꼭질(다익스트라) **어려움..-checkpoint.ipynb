{
 "cells": [
  {
   "cell_type": "markdown",
   "metadata": {},
   "source": [
    "- 동빈이는 1 ~ n 번 까지의 헛간 중에서 하나를 골라 숨을 수 있으며, 술래는 항상 1번 헛간에서 출발한다. 전체 맵에는 총 m개의 양방향 통로가 존재하며, 하나의 통로는 서로 다른 두 헛간을 연결한다. 또한 전체 맵은 항상 어떤 헛간에서 다른 어떤 헛간으로 도달이 가능한 형태로 주어진다.\n",
    "\n",
    "- 동빈이는 1번 헛간으로부터 최단 거리가 가장 먼 헛간이 가장 안전하다고 판단하고 있다. 이때 최단 거리의 의미는 지나야 하는 길의 최소 개수를 의미한다. 동빈이가 숨을 헛간의 번호를 출력하는 프로그램을 작성하라."
   ]
  },
  {
   "cell_type": "markdown",
   "metadata": {},
   "source": [
    "- 입력 조건:\n",
    "    1. 첫째 줄에는 n과 m이 주어지며, 공백으로 구분한다.\n",
    "    2. 이후 m개의 줄에 걸쳐서 서로 연결된 두 헛간 a와 b의 번호가 공백으로 구분되어 주어진다.\n",
    "- 출력 조건: 첫 번째는 숨어야 하는 헛간 번호를(만약 거리가 같은 헛간이 여러 개면 가장 작은 헛간 번호를 출력한다), 두 번째는 그 헛간 까지의 거리를, 세 번째는 그 헛간과 같은 거리를 갖는 헛간의 개수를 출력한다."
   ]
  },
  {
   "cell_type": "markdown",
   "metadata": {},
   "source": [
    "6 7\n",
    "3 6\n",
    "4 3\n",
    "3 2\n",
    "1 3\n",
    "1 2\n",
    "2 4\n",
    "5 2\n",
    "\n",
    "4 2 3"
   ]
  },
  {
   "cell_type": "markdown",
   "metadata": {},
   "source": [
    "- 1번 노드로부터 다른 모든 노드로의 최단 거리를 계산한 뒤에, 가장 최단 거리가 긴 노드를 찾는다."
   ]
  },
  {
   "cell_type": "code",
   "execution_count": null,
   "metadata": {},
   "outputs": [],
   "source": [
    "import heapq\n",
    "import sys\n",
    "input = sys.stdin.readline\n",
    "INF = int(1e9)\n",
    "\n",
    "n, m = map(int, input().split())\n",
    "start = 1\n",
    "graph = [[] for _ in range(n+1)]\n",
    "distance = [INF] * (n+1)\n",
    "\n",
    "for _ in range(m):\n",
    "    a, b = map(int, input().split())\n",
    "    graph[a].append((b,1))\n",
    "    graph[b].append((a,1)) # b -> a 비용 1, 모든 노드 사이의 비용은 1\n",
    "\n",
    "def dijkstra(start):\n",
    "    q = []\n",
    "    heapq.heappush(q, (0, start))\n",
    "    distance[start] = 0\n",
    "    \n",
    "    while q:\n",
    "        dist, now = heapq.heappop(q)\n",
    "        if distance[now] < dist:\n",
    "            continue\n",
    "        for i in graph[now]:\n",
    "            cost = dist + i[1]\n",
    "            if cost < distance[i[0]]:\n",
    "                distance[i[0]] = cost\n",
    "                heapq.heappush(q, (cost, i[0]))\n",
    "                \n",
    "dijkstra(start)\n",
    "\n",
    "max_node = 0 # 최단 거리가 가장 먼 노드 번호\n",
    "max_distance = 0 # 도달할 수 있는 노드 중에서, 최단 거리가 가장 먼 노드와의 최단 거리\n",
    "\n",
    "result = []\n",
    "\n",
    "for i in range(1, n+1):\n",
    "    if max_distance < distance[i]:\n",
    "        max_node = 1\n",
    "        max_distnace = distance[i]\n",
    "        result = [max_node]\n",
    "    elif max_distance == distance[i]:\n",
    "        result.append(i)\n",
    "\n",
    "print(max_node, max_distance, len(result))"
   ]
  }
 ],
 "metadata": {
  "kernelspec": {
   "display_name": "Python 3",
   "language": "python",
   "name": "python3"
  },
  "language_info": {
   "codemirror_mode": {
    "name": "ipython",
    "version": 3
   },
   "file_extension": ".py",
   "mimetype": "text/x-python",
   "name": "python",
   "nbconvert_exporter": "python",
   "pygments_lexer": "ipython3",
   "version": "3.7.6"
  }
 },
 "nbformat": 4,
 "nbformat_minor": 4
}
