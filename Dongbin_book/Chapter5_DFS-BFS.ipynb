{
 "cells": [
  {
   "cell_type": "markdown",
   "metadata": {},
   "source": [
    "# 그래프를 탐색하기 위한 대표적인 두 가지 알고리즘"
   ]
  },
  {
   "cell_type": "markdown",
   "metadata": {},
   "source": [
    "# 1. 꼭 필요한 자료구조 기초"
   ]
  },
  {
   "cell_type": "markdown",
   "metadata": {},
   "source": [
    "## 탐색 (Search)"
   ]
  },
  {
   "cell_type": "markdown",
   "metadata": {},
   "source": [
    "- 많은 양의 데이터 중에서 원하는 데이터를 찾는 과정.\n",
    "- 그래프, 트리 등의 자료구조 안에서 탐색을 하는 문제를 자주 다룸.\n",
    "- 대표적인 탐색 알고리즘이 DFS, BFS 임. 이를 제대로 이해하려면 스택/큐/재귀함수를 제대로 이해해야함."
   ]
  },
  {
   "cell_type": "markdown",
   "metadata": {},
   "source": [
    "## 자료구조 (Data structure)"
   ]
  },
  {
   "cell_type": "markdown",
   "metadata": {},
   "source": [
    "- 데이터를 표현하고 관리하고 처리하기 위한 구조\n",
    "- 스택/큐\n",
    "    1. 삽입(push): 데이터를 삽입\n",
    "    2. 삭제(pop): 데이터를 삭제\n",
    "- 오버플로: 특정한 자료구조가 수용할 수 있는 데이터의 크기를 이미 가득 찬 상태에서 삽입 연산을 수행할 때 발생. (저장공간을 벗어나 데이터가 넘쳐 흐름)\n",
    "- 언더플로: 특정한 자료구조에 데이터가 전혀 들어 있지 않은 상태에서 삭제 연산을 수행하면 발생. (아무것도 없는데 삭제하라는 명령)"
   ]
  },
  {
   "cell_type": "markdown",
   "metadata": {},
   "source": [
    "### 스택(Stack)  == 파이썬에서 리스트"
   ]
  },
  {
   "cell_type": "markdown",
   "metadata": {},
   "source": [
    "- 박스 쌓기.\n",
    "- 아래에서 부터 위로 쌓는다. 즉, 아래에 있는 박스(먼저 들어온 것)를 치우기 위해서는 위에 있는 바스(나중에 들어온 것)을 치워야 함.\n",
    "- 선입후출(First In Last Out) 또는 후입선출(Last In First Out) 구조라고 함."
   ]
  },
  {
   "cell_type": "markdown",
   "metadata": {},
   "source": [
    "#### 스택 예제"
   ]
  },
  {
   "cell_type": "code",
   "execution_count": 1,
   "metadata": {},
   "outputs": [
    {
     "name": "stdout",
     "output_type": "stream",
     "text": [
      "[5, 2, 3, 1]\n",
      "[1, 3, 2, 5]\n"
     ]
    }
   ],
   "source": [
    "stack = []\n",
    "\n",
    "stack.append(5) # [5]\n",
    "stack.append(2) # [5,2]\n",
    "stack.append(3) # [5,2,3]\n",
    "stack.append(7) # [5,2,3,7]\n",
    "stack.pop()     # [5,2,3]\n",
    "stack.append(1) # [5,2,3,1]\n",
    "stack.append(4) # [5,2,3,1,4]\n",
    "stack.pop()     # [5,2,3,1]\n",
    "\n",
    "print(stack) # 최하단 원소 부터 출력\n",
    "print(stack[::-1]) # 최상단 원소 부터 출력"
   ]
  },
  {
   "cell_type": "markdown",
   "metadata": {},
   "source": [
    "### 큐 (Queue) == 파이썬의 deque. 그냥 다른게 아니라 자료형이 다르고(import 해야함), deque 의 다른 method를 사용할 수 있다"
   ]
  },
  {
   "cell_type": "markdown",
   "metadata": {},
   "source": [
    "- 즉, append/pop은 스택(리스트)과 같은데, appendleft, popleft, extendleft, rotate 를 사용할 수 있는 점이 다른것. \n",
    "- 물론 속도 면에서 차이가 있기 때문에 (전체 리스트를 스윕할 필요 없이) 필요한 경우에 import 해서 사용할 수 있도록 한다."
   ]
  },
  {
   "cell_type": "markdown",
   "metadata": {},
   "source": [
    "- 대기 줄. (선착순)\n",
    "- '공정한 자료구조'\n",
    "- First In First Out (선입선출)"
   ]
  },
  {
   "cell_type": "markdown",
   "metadata": {},
   "source": [
    "- collections 모듈의 deque 자료 구조.\n",
    "- deque 객체를 리스트 자료형으로 변경하고자 한다면 list() 메서드 사용\n",
    "- queue 라이브러리를 이용하는 것보다 더 간단함."
   ]
  },
  {
   "cell_type": "markdown",
   "metadata": {},
   "source": [
    "#### 큐 예제"
   ]
  },
  {
   "cell_type": "code",
   "execution_count": 2,
   "metadata": {},
   "outputs": [
    {
     "name": "stdout",
     "output_type": "stream",
     "text": [
      "deque([3, 7, 1, 4])\n",
      "deque([4, 1, 7, 3])\n"
     ]
    }
   ],
   "source": [
    "from collections import deque\n",
    "\n",
    "queue = deque()\n",
    "\n",
    "queue.append(5) # [5]\n",
    "queue.append(2) # [5,2]\n",
    "queue.append(3) # [5,2,3]\n",
    "queue.append(7) # [5,2,3,7]\n",
    "queue.popleft() # [2,3,7]\n",
    "queue.append(1) # [2,3,7,1]\n",
    "queue.append(4) # [2,3,7,1,4]\n",
    "queue.popleft() # [3,7,1,4]\n",
    "\n",
    "print(queue)\n",
    "queue.reverse()\n",
    "print(queue)"
   ]
  },
  {
   "cell_type": "markdown",
   "metadata": {},
   "source": [
    "- `deque.append(item)`: item을 데크의 오른쪽 끝에 삽입한다.\n",
    "- `deque.appendleft(item)`: item을 데크의 왼쪽 끝에 삽입한다.\n",
    "- `deque.pop()`: 데크의 오른쪽 끝 엘리먼트를 가져오는 동시에 데크에서 삭제한다.\n",
    "- `deque.popleft()`: 데크의 왼쪽 끝 엘리먼트를 가져오는 동시에 데크에서 삭제한다.\n",
    "- `deque.extend(array)`: 주어진 배열(array)을 순환하면서 데크의 오른쪽에 추가한다.\n",
    "- `deque.extendleft(array)`: 주어진 배열(array)을 순환하면서 데크의 왼쪽에 추가한다.\n",
    "- `deque.remove(item)`: item을 데크에서 찾아 삭제한다.\n",
    "- `deque.rotate(num)`: 데크를 num만큼 회전한다(양수면 오른쪽, 음수면 왼쪽)."
   ]
  },
  {
   "cell_type": "markdown",
   "metadata": {},
   "source": [
    "## 재귀함수"
   ]
  },
  {
   "cell_type": "markdown",
   "metadata": {},
   "source": [
    "- 스택 자료구조와 동일함."
   ]
  },
  {
   "cell_type": "markdown",
   "metadata": {},
   "source": [
    "#### 팩토리얼 구현(Iterative vs Recursive)"
   ]
  },
  {
   "cell_type": "code",
   "execution_count": 9,
   "metadata": {},
   "outputs": [],
   "source": [
    "# Iterative\n",
    "def factorial_iterative(n):\n",
    "    result = 1\n",
    "    for i in range(1, n + 1):\n",
    "        result *= i\n",
    "    return result\n",
    "\n",
    "# Recursive\n",
    "def factorial_recursive(n):\n",
    "    if n <= 1:\n",
    "        return 1\n",
    "    else:\n",
    "        return n * factorial_recursive(n-1)"
   ]
  },
  {
   "cell_type": "markdown",
   "metadata": {},
   "source": [
    "# 2. 탐색 알고리즘 (DFS/BFS)"
   ]
  },
  {
   "cell_type": "markdown",
   "metadata": {},
   "source": [
    "## DFS (Depth-First Search)"
   ]
  },
  {
   "cell_type": "markdown",
   "metadata": {},
   "source": [
    "- 깊이 우선 탐색.\n",
    "- 그래프에서 깊은 부분을 우선적으로 탐색하는 알고리즘.\n",
    "    1. 그래프는 노드(node) 와 간선(edge)으로 표현되며, 노드를 정점(vertex) 이라고도 말함."
   ]
  },
  {
   "cell_type": "markdown",
   "metadata": {},
   "source": [
    "- 그래프 탐색: 하나의 노드를 시작으로 다수의 노드를 방문하는 것.\n",
    "- 두 노드가 간선으로 연결되어 있다면 '두 노드는 인접하다(adjacent)' 라고 표현함."
   ]
  },
  {
   "cell_type": "markdown",
   "metadata": {},
   "source": [
    "    1. 인접 행렬(adjancency matrix): 2차원 배열로 그래프의 연결 관계를 표현하는 방식\n",
    "    2. 인접 리스트(adjacency list): 리스트로 그래프의 연결 관계를 표현하는 방식"
   ]
  },
  {
   "cell_type": "markdown",
   "metadata": {},
   "source": [
    "- 인접 행렬 방식: 2차원 배열(리스트)에 각 노드가 연결된 형태를 기록. 연결이 되어 있지 않은 노드 끼리는 무한(infinity)의 비용이라고 작성. 실제의 코드에서는 논리적으로 정답이 될 수 없는 큰 값 999999999 등의 값으로 초기화 하는 경우가 많다."
   ]
  },
  {
   "cell_type": "code",
   "execution_count": 1,
   "metadata": {},
   "outputs": [
    {
     "name": "stdout",
     "output_type": "stream",
     "text": [
      "[[0, 7, 5], [7, 0, 99999999999999], [5, 99999999999999, 0]]\n"
     ]
    }
   ],
   "source": [
    "# 예제\n",
    "\n",
    "inf = 99999999999999 # 무한의 비용 선언\n",
    "\n",
    "# 2차원 리스트를 이용해 인접 행렬 표현\n",
    "graph = [\n",
    "    [0,7,5],\n",
    "    [7,0,inf],\n",
    "    [5,inf,0]\n",
    "]\n",
    "\n",
    "print(graph)"
   ]
  },
  {
   "cell_type": "markdown",
   "metadata": {},
   "source": [
    "- 인접 리스트 방식: 모든 노드에 연결된 노드에 대한 정보를 차례대로 연결하여 저장함. 파이썬으로 인접 리스트를 이용해 그래프를 표현하고자 할 때에도 단순히 2차원 리스트를 이용하면 됨."
   ]
  },
  {
   "cell_type": "code",
   "execution_count": 2,
   "metadata": {},
   "outputs": [
    {
     "name": "stdout",
     "output_type": "stream",
     "text": [
      "[[(1, 7), (2, 5)], [(0, 7)], [(0, 5)]]\n"
     ]
    }
   ],
   "source": [
    "# 예제\n",
    "\n",
    "# 행이 3개인 2차원 리스트로 인접 리스트 표현\n",
    "graph = [[] for _ in range(3)]\n",
    "\n",
    "# 노드 0에 연결된 노드 정보 저장(노드, 거리)\n",
    "graph[0].append((1,7))\n",
    "graph[0].append((2,5))\n",
    "\n",
    "# 노드 1에 연결된 노드 정보 저장(노드, 거리)\n",
    "graph[1].append((0,7))\n",
    "\n",
    "# 노드 2에 연결된 노드 정보 저장(노드, 거리)\n",
    "graph[2].append((0,5))\n",
    "\n",
    "print(graph)"
   ]
  },
  {
   "cell_type": "markdown",
   "metadata": {},
   "source": [
    "- 메모리 측면에서 보자면 인접 행렬 방식(2차원 리스트)은 모든 관계를 저장하므로 노드 개수가 많을수록 메모리가 불필요하게 낭비된다. \n",
    "- 반면에 인접 리스트 방식은 연결된 정보만을 저장하기 때문에 메모리를 효율적으로 사용한다.\n",
    "- 하지만 이와 같은 속성 때문에 인접 리스트 방식은 인접 행렬 방식에 비해 특정한 두 노드가 연결되어 있는지에 대한 정보를 얻는 속도가 느리다. 연결된 데이터를 하나씩 확인해야하기 때문.\n",
    "- 그러므로 특정한 노드와 연결된 모든 인접 노드를 순회해야 하는 경우, 인접 리스트 방식이 인접 행렬 방식에 비해 메모리 공간의 낭비가 적다."
   ]
  },
  {
   "cell_type": "markdown",
   "metadata": {},
   "source": [
    "- DFS (깊이 우선 탐색) 는 특정한 경로로 탐색하다가 특정한 상황에서 최대한 깊숙이 들어가서 노드를 방문한 후, 다시 돌아가 다른 경로로 탐색하는 알고리즘.\n",
    "    1. 스택 자료구조를 이용함.\n",
    "    2. 탐색 시작 노드를 스택에 삽입하고, 방문 처리를 한다.\n",
    "    3. 스택의 최상단 노드에 방문하지 않은 인접 노드가 있으면, 그 인접 노드를 스택에 넣고, 방문 처리를 한다. 방문 하지 않은 인접 노드가 없으면, 스택에서 최상단 노드를 꺼낸다.\n",
    "    4. 3번의 과정을 더 이상 수행할 수 없을 때까지 반복한다.\n",
    "        * '방문 처리': 스택에 한 번 삽입되어 처리된 노드가 다시 삽입되지 않게 체크하는 것. 방문 처리를 함으로써 각 노드를 한 번씩만 처리할 수 있다.\n",
    "    5. 일반적으로 인접한 노드 중에서 방문하지 않은 노드가 여러 개 있으면 번호가 낮은 순서부터 처리한다."
   ]
  },
  {
   "cell_type": "markdown",
   "metadata": {},
   "source": [
    "- 실제로는 스택을 쓰지 않아도 되며, 탐색을 수행함에 있어서 데이터의 개수가 N개의 경우 O(N)의 시간이 소요됨.\n",
    "- 실제 구현은 재귀 함수를 이용했을 때 매우 간결하게 구현할 수 있다."
   ]
  },
  {
   "cell_type": "code",
   "execution_count": 4,
   "metadata": {},
   "outputs": [
    {
     "name": "stdout",
     "output_type": "stream",
     "text": [
      "1 2 7 6 8 3 4 5 "
     ]
    }
   ],
   "source": [
    "# DFS 예제\n",
    "\n",
    "def dfs(graph, v, visited):\n",
    "    # 현재 노드를 방문 처리\n",
    "    visited[v] = True\n",
    "    print(v, end= ' ')\n",
    "    \n",
    "    # 현재 노드와 연결된 다른 노드를 재귀적으로 방문\n",
    "    for i in graph[v]:\n",
    "        if not visited[i]:\n",
    "            dfs(graph, i, visited)\n",
    "    \n",
    "# 각 노드가 연결된 정보를 리스트 자료형으로 표현(2차원 리스트)\n",
    "graph = [\n",
    "    [], # 맨 처음 빈 스택(빈칸)\n",
    "    [2,3,8], # 1과 연결된 노드\n",
    "    [1,7],   # 2와 연결된 노드\n",
    "    [1,4,5], # 3과 연결된 노드\n",
    "    [3,5],   # 4와 연결된 노드\n",
    "    [3,4],   # 5와 연결된 노드\n",
    "    [7],     # 6과 연결된 노드\n",
    "    [2,6,8], # 7과 연결된 노드\n",
    "    [1,7]    # 8과 연결된 노드\n",
    "]\n",
    "    \n",
    "# 각 노드가 방문된 정보를 리스트 자료형으로 표현(1차원 리스트)\n",
    "visited = [False] * 9 # 빈칸 + 총 노드 수\n",
    "\n",
    "# 정의된 DFS 함수 호출\n",
    "dfs(graph, 1, visited) # 1은 시작 노드"
   ]
  },
  {
   "cell_type": "code",
   "execution_count": null,
   "metadata": {},
   "outputs": [],
   "source": []
  }
 ],
 "metadata": {
  "kernelspec": {
   "display_name": "Python 3",
   "language": "python",
   "name": "python3"
  },
  "language_info": {
   "codemirror_mode": {
    "name": "ipython",
    "version": 3
   },
   "file_extension": ".py",
   "mimetype": "text/x-python",
   "name": "python",
   "nbconvert_exporter": "python",
   "pygments_lexer": "ipython3",
   "version": "3.7.6"
  }
 },
 "nbformat": 4,
 "nbformat_minor": 4
}
