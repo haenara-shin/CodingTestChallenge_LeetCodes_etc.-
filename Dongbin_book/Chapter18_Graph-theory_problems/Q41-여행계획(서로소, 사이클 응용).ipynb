{
 "cells": [
  {
   "cell_type": "markdown",
   "metadata": {},
   "source": [
    "- 한울이가 사는 나라에는 n개의 여행지가 있으며, 각 여행지는 1~n번 까지의 번호로 구분 됩니다. 또한 임의의 두 여행지 사이에는 두 여행지를 연결하는 도로가 존재할 수 있습니다. 이때, 여행지가 도로로 연결되어 있다면 양방향으로 이동이 가능하다는 의미 입니다. 한울이는 하나의 여행 계획을 세운 뒤에 이 여행 계획이 가능한지의 여부를 판단하고자 합니다. 여행지의 개수와 여행지 간의 연결 정보가 주어졌을 때, 한울이의 여행 계획이 가능한지의 여부를 판별하는 프로그램을 작성하시오."
   ]
  },
  {
   "cell_type": "markdown",
   "metadata": {},
   "source": [
    "- 입력 조건:\n",
    "    1. 첫째 줄에 여행지의 수 n과 여행 계획에 속한 도시의 수 m 이 주어집니다.\n",
    "    2. 다음 N개의 줄에 걸쳐 n * n 행렬을 통해 임의의 두 여행지가 서로 연결되어 있는지의 여부가 주어집니다. 그 값이 1 이라면 서로 연결되었다는 의미이며, 0 이라면 서로 연결되어 있지 않다는 의미 입니다.\n",
    "    3. 마지막 줄에 한울이의 여행 계획에 포함된 여행지의 번호들이 주어지며 공백으로 구분 합니다.\n",
    "- 출력 조건: 첫째 줄에 한울이의 여행 계획이 가능하다면 Yes를 불가능하다면 no를 출력합니다."
   ]
  },
  {
   "cell_type": "markdown",
   "metadata": {},
   "source": [
    "5 4\n",
    "0 1 0 1 1\n",
    "1 0 1 1 0\n",
    "0 1 0 0 0\n",
    "1 1 0 0 0 \n",
    "1 0 0 0 0 \n",
    "2 3 4 3\n",
    "\n",
    "yes"
   ]
  },
  {
   "cell_type": "code",
   "execution_count": 1,
   "metadata": {},
   "outputs": [
    {
     "name": "stdout",
     "output_type": "stream",
     "text": [
      "5 4\n",
      "0 1 0 1 1\n",
      "1 0 1 1 0\n",
      "0 1 0 0 0\n",
      "1 1 0 0 0\n",
      "1 0 0 0 0\n",
      "2 3 4 3\n",
      "yes\n"
     ]
    }
   ],
   "source": [
    "def find_parent(parent, x):\n",
    "    if parent[x] != x:\n",
    "        parent[x] = find_parent(parent, parent[x])\n",
    "    return parent[x]\n",
    "\n",
    "def union_parent(parent, a, b):\n",
    "    a = find_parent(parent, a)\n",
    "    b = find_parent(parent, b)\n",
    "    if a < b:\n",
    "        parent[b] = a\n",
    "    else:\n",
    "        parent[a] = b\n",
    "    \n",
    "v, e = map(int, input().split())\n",
    "parent = [0] * (1 + v)\n",
    "for i in range(1, v+1):\n",
    "    parent[i] = i\n",
    "\n",
    "for i in range(v):\n",
    "    data = list(map(int, input().split()))\n",
    "    for j in range(v):\n",
    "        if data[j] == 1:\n",
    "            union_parent(parent, i+1, j+1)\n",
    "\n",
    "plan = list(map(int, input().split()))\n",
    "\n",
    "result = True\n",
    "\n",
    "for i in range(e - 1):\n",
    "    if find_parent(parent, plan[i]) != find_parent(parent, plan[i+1]):\n",
    "        result = False\n",
    "\n",
    "if result:\n",
    "    print('yes')\n",
    "else:\n",
    "    print('no')"
   ]
  }
 ],
 "metadata": {
  "kernelspec": {
   "display_name": "Python 3",
   "language": "python",
   "name": "python3"
  },
  "language_info": {
   "codemirror_mode": {
    "name": "ipython",
    "version": 3
   },
   "file_extension": ".py",
   "mimetype": "text/x-python",
   "name": "python",
   "nbconvert_exporter": "python",
   "pygments_lexer": "ipython3",
   "version": "3.7.6"
  }
 },
 "nbformat": 4,
 "nbformat_minor": 4
}
