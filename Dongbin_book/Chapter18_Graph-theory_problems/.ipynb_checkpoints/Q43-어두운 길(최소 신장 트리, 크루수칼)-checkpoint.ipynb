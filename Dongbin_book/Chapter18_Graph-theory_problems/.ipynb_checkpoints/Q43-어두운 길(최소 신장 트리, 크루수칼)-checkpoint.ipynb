{
 "cells": [
  {
   "cell_type": "markdown",
   "metadata": {},
   "source": [
    "- 한 마을은 n개의 집과 m개의 도로로 구성되어 있습니다. 각 집은 0번부터 n-1 번까지의 번호로 구분됩니다. 모든 도로에는 가로등이 구비 되어 있는데, 특정한 도로의 가로등을 하루 동안 켜기 위한 비용은 해당 도로의 길이와 동일합니다. \n",
    "- 정부에서는 일부 가로등을 비활성화 하되, 마을에 있는 임의의 두 집에 대하여 가로등이 켜진 도로만으로도 오갈 수 있도록 만들고자 합니다. 마을의 집과 도로 정보가 주어졌을 때, 일부 가로등을 비활성화하여 \"절약할 수 있는 최대 금액\"을 출력하는 프로그램을 작성하시오. (전체 연결 비용 - 최소 신장 트리 비용)"
   ]
  },
  {
   "cell_type": "markdown",
   "metadata": {},
   "source": [
    "- 입력 조건:\n",
    "    1. 첫째 줄에 집의 수 n과 도로의 수 m이 주어집니다.\n",
    "    2. 다음 m개의 줄에 걸쳐서 각 도로에 대한 정보 x, y, z 가 주어지며, 공백으로 구분합니다. x-y 집, z는 비용(길이)\n",
    "- 출력 조건: 첫째 줄에 일부 가로등을 비활성화하여 절약할 수 있는 최대 금액을 출력합니다.   "
   ]
  },
  {
   "cell_type": "markdown",
   "metadata": {},
   "source": [
    "7 11\n",
    "0 1 7\n",
    "0 3 5\n",
    "1 2 8\n",
    "1 3 9\n",
    "1 4 7\n",
    "2 4 5\n",
    "3 4 15\n",
    "3 5 6\n",
    "4 5 8\n",
    "4 6 9\n",
    "5 6 11\n",
    "\n",
    "51"
   ]
  },
  {
   "cell_type": "code",
   "execution_count": 1,
   "metadata": {},
   "outputs": [
    {
     "name": "stdout",
     "output_type": "stream",
     "text": [
      "7 11\n",
      "0 1 7\n",
      "0 3 5\n",
      "1 2 8\n",
      "1 3 9\n",
      "1 4 7\n",
      "2 4 5\n",
      "3 4 15\n",
      "3 5 6\n",
      "4 5 8\n",
      "4 6 9\n",
      "5 6 11\n",
      "51\n"
     ]
    }
   ],
   "source": [
    "def find_parent(parent, x):\n",
    "    if parent[x] != x:\n",
    "        parent[x] = find_parent(parent, parent[x])\n",
    "    return parent[x]\n",
    "\n",
    "def union_parent(parent, a, b):\n",
    "    a = find_parent(parent, a)\n",
    "    b = find_parent(parent, b)\n",
    "    if a < b:\n",
    "        parent[b] = a\n",
    "    else:\n",
    "        parent[a] = b\n",
    "\n",
    "v, e = map(int, input().split())\n",
    "parent = [0] * (v + 1)\n",
    "for i in range(1, v+1):\n",
    "    parent[i] = i\n",
    "    \n",
    "edges = []\n",
    "result = 0\n",
    "\n",
    "for _ in range(e):\n",
    "    x, y, z = map(int, input().split())\n",
    "    edges.append((z, x, y))\n",
    "\n",
    "edges.sort()\n",
    "total = 0 # 전체 가로등 비용\n",
    "\n",
    "for edge in edges:\n",
    "    cost, a, b = edge\n",
    "    total += cost\n",
    "    if find_parent(parent, a) != find_parent(parent, b):\n",
    "        union_parent(parent, a, b)\n",
    "        result += cost\n",
    "        \n",
    "print(total - result)"
   ]
  },
  {
   "cell_type": "code",
   "execution_count": null,
   "metadata": {},
   "outputs": [],
   "source": []
  }
 ],
 "metadata": {
  "kernelspec": {
   "display_name": "Python 3",
   "language": "python",
   "name": "python3"
  },
  "language_info": {
   "codemirror_mode": {
    "name": "ipython",
    "version": 3
   },
   "file_extension": ".py",
   "mimetype": "text/x-python",
   "name": "python",
   "nbconvert_exporter": "python",
   "pygments_lexer": "ipython3",
   "version": "3.7.6"
  }
 },
 "nbformat": 4,
 "nbformat_minor": 4
}
