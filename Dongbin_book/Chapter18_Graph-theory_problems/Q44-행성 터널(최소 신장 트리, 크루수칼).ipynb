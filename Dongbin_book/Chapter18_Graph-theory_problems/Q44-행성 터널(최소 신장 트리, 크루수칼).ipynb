{
 "cells": [
  {
   "cell_type": "markdown",
   "metadata": {},
   "source": [
    "- n개의 행성을 연결하는 터널을 만든다. 두 행성 A(x_a, y_a, z_a) 와 B(x_b, y_b, z_b)를 터널로 연결할 때 드는 비용은 min(|x_a - x_b|, |y_a - y_b|, |z_a - z_b|) 이다. 총 n-1 개의 터널을 건설해서 모든 행성이 연결되게 하려고 한다. 이때 모든 행성을 터널로 연결하는데 필요한 최소 비용을 구하는 프로그램을 작성하시오."
   ]
  },
  {
   "cell_type": "markdown",
   "metadata": {},
   "source": [
    "- 입력 조건: \n",
    "    1. 첫째 줄에 행성의 개수 n이 주어진다.\n",
    "    2. 다음 n개 줄에는 각 행성의 x, y, z 좌표가 주어진다.\n",
    "    3. 모든 좌표 값은 -10^9 보다 크거나 같고, 10^9 보다 작거나 같은 정수\n",
    "    4. 한 위치에 행성이 두 개 이상 있는 경우는 없다.\n",
    "- 출력 조건: 첫째 줄에 모든 행성을 터널로 연결하는데 필요한 최소 비용을 출력한다."
   ]
  },
  {
   "cell_type": "markdown",
   "metadata": {},
   "source": [
    "5\n",
    "11 -15 -15\n",
    "14 -5 -15\n",
    "-1 -1 -5\n",
    "10 -4 -1\n",
    "19 -4 19\n",
    "\n",
    "4"
   ]
  },
  {
   "cell_type": "code",
   "execution_count": 3,
   "metadata": {},
   "outputs": [
    {
     "name": "stdout",
     "output_type": "stream",
     "text": [
      "5\n",
      "11 -15 -15\n",
      "14 -5 -15\n",
      "-1 -1 -5\n",
      "10 -4 -1\n",
      "19 -4 19\n",
      "4\n"
     ]
    }
   ],
   "source": [
    "def find_parent(parent, x):\n",
    "    if parent[x] != x:\n",
    "        parent[x] = find_parent(parent, parent[x])\n",
    "    return parent[x]\n",
    "\n",
    "def union_parent(parent, a, b):\n",
    "    a = find_parent(parent, a)\n",
    "    b = find_parent(parent, b)\n",
    "    if a < b:\n",
    "        parent[b] = a\n",
    "    else:\n",
    "        parent[a] = b\n",
    "\n",
    "v =int(input())\n",
    "parent = [0] * (v+1)\n",
    "for i in range(1, v+1):\n",
    "    parent[i] = i\n",
    "    \n",
    "edges = []\n",
    "result = 0\n",
    "\n",
    "x = []\n",
    "y = []\n",
    "z = []\n",
    "\n",
    "for i in range(1, v + 1):\n",
    "    data = list(map(int, input().split()))\n",
    "    x.append((data[0], i))\n",
    "    y.append((data[1], i))\n",
    "    z.append((data[2], i))\n",
    "    \n",
    "x.sort()\n",
    "y.sort()\n",
    "z.sort()\n",
    "\n",
    "# 인접한 노드들로부터 간선 정보를 추출하여 처리\n",
    "for i in range(v - 1):\n",
    "    # 비용순으로 정렬하기 위해서 튜플의 첫 번째 원소를 비용으로 설정\n",
    "    edges.append((x[i+1][0] - x[i][0], x[i][1], x[i+1][1]))\n",
    "    edges.append((y[i+1][0] - y[i][0], y[i][1], y[i+1][1]))\n",
    "    edges.append((z[i+1][0] - z[i][0], z[i][1], z[i+1][1]))\n",
    "    \n",
    "edges.sort()\n",
    "\n",
    "for edge in edges:\n",
    "    cost, a, b = edge\n",
    "    if find_parent(parent, a) != find_parent(parent, b):\n",
    "        union_parent(parent, a, b)\n",
    "        result += cost\n",
    "        \n",
    "print(result)"
   ]
  },
  {
   "cell_type": "code",
   "execution_count": null,
   "metadata": {},
   "outputs": [],
   "source": []
  }
 ],
 "metadata": {
  "kernelspec": {
   "display_name": "Python 3",
   "language": "python",
   "name": "python3"
  },
  "language_info": {
   "codemirror_mode": {
    "name": "ipython",
    "version": 3
   },
   "file_extension": ".py",
   "mimetype": "text/x-python",
   "name": "python",
   "nbconvert_exporter": "python",
   "pygments_lexer": "ipython3",
   "version": "3.7.6"
  }
 },
 "nbformat": 4,
 "nbformat_minor": 4
}
