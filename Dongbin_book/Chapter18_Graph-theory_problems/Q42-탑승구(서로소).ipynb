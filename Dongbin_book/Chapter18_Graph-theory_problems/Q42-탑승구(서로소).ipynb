{
 "cells": [
  {
   "cell_type": "markdown",
   "metadata": {},
   "source": [
    "- 공항에는 G개의 탑승구가 있으며, 각각의 탑승구는 1번 부터 G 번까지의 번호로 구분 됩니다. 공항에는 P개의 비행기가 차례대로 도착할 예정이며, i번째 비행기를 1번부터 g_i (1 <= g_i <= G) 탑승구 중 하나에 영구적으로 도킹해야 합니다. 이때, 다른 비행기가 도킹하지 않은 탐승구에만 도킹 할 수 있습니다. \n",
    "- 또한 P개의 비행기를 순서대로 도킹하다가 만약에 어떠한 탑승구에도 도킹할 수 없는 비행기가 나오는 경우, 그 시점에서 공항의 운행을 중지 합니다. 공항의 관리자는 최대한 많은 비행기를 공항에 도킹하고자 합니다. 비행기를 최대 몇 대 도킹할 수 있는지를 출력하는 프로그램을 작성하시오."
   ]
  },
  {
   "cell_type": "markdown",
   "metadata": {},
   "source": [
    "- 입력 조건:\n",
    "    1. 첫째 줄에는 탑승구의 수 G 가 주어집니다.\n",
    "    2. 둘째 줄에는 비행기의 수 P 가 주어집니다.\n",
    "    3. 다음 P개의 줄에는 각 비행기가 도킹할 수 있는 탑승구의 정보 g_i가 주어집니다. 이는 i 번째 비행기가 1번부터 g_i번째 탑승구 중 하나에 도킹할 수 있다는 의미 입니다.\n",
    "    \n",
    "- 출력 조건: 첫째 줄에 도킹할 수 있는 비행기의 최대 개수를 출력합니다."
   ]
  },
  {
   "cell_type": "markdown",
   "metadata": {},
   "source": [
    "4\n",
    "3\n",
    "4\n",
    "1\n",
    "1\n",
    "\n",
    "2"
   ]
  },
  {
   "cell_type": "code",
   "execution_count": 1,
   "metadata": {},
   "outputs": [
    {
     "name": "stdout",
     "output_type": "stream",
     "text": [
      "4\n",
      "3\n",
      "4\n",
      "1\n",
      "1\n",
      "2\n"
     ]
    }
   ],
   "source": [
    "def find_parent(parent, x):\n",
    "    if parent[x] != x:\n",
    "        parent[x] = find_parent(parent, parent[x])\n",
    "    return parent[x]\n",
    "\n",
    "def union_parent(parent, a, b):\n",
    "    a = find_parent(parent, a)\n",
    "    b = find_parent(parent, b)\n",
    "    if a < b:\n",
    "        parent[b] = a\n",
    "    else:\n",
    "        parent[a] = b\n",
    "        \n",
    "g = int(input())\n",
    "p = int(input())\n",
    "parent = [0] * (g + 1)\n",
    "for i in range(1, g + 1):\n",
    "    parent[i] = i\n",
    "    \n",
    "result = 0\n",
    "for _ in range(p):\n",
    "    data = find_parent(parent, int(input()))\n",
    "    if data == 0: # 현재 루트가 0 이면 종료\n",
    "        break\n",
    "    union_parent(parent, data, data - 1) # 그렇지 않다면 바로 왼쪽의 집합과 합치기\n",
    "    result += 1\n",
    "\n",
    "print(result)"
   ]
  }
 ],
 "metadata": {
  "kernelspec": {
   "display_name": "Python 3",
   "language": "python",
   "name": "python3"
  },
  "language_info": {
   "codemirror_mode": {
    "name": "ipython",
    "version": 3
   },
   "file_extension": ".py",
   "mimetype": "text/x-python",
   "name": "python",
   "nbconvert_exporter": "python",
   "pygments_lexer": "ipython3",
   "version": "3.7.6"
  }
 },
 "nbformat": 4,
 "nbformat_minor": 4
}
