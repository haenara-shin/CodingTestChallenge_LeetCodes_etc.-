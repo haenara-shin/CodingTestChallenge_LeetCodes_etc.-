{
 "cells": [
  {
   "cell_type": "markdown",
   "metadata": {},
   "source": [
    "Searching Challenge\n",
    "\n",
    "Have the function SearchingChallenge(strArr) read the array of strings stored in strArr which will be a 4x4 matrix of the characters 'C', 'H', 'F', 'O', where C represents Charlie the dog, H represents its home, F represents dog food, and O represents and empty space in the grid. Your goal is to figure out the least amount of moves required to get Charlie to grab each piece of food in the grid by moving up, down, left, or right, and then make it home right after. Charlie cannot move onto the home before all pieces of food have been collected. For example: if strArr is [\"FOOF\", \"OCOO\", \"OOOH\", \"FOOO\"], then this looks like the following grid: \n",
    "\n",
    " \n",
    "\n",
    "For the input above, the least amount of steps where the dog can reach each piece of food, and then return home is 11 steps, so your program should return the number 11. The grid will always contain between 1 and 8 pieces of food.\n",
    "Examples\n",
    "\n",
    "Input: [\"OOOO\", \"OOFF\", \"OCHO\", \"OFOO\"] \n",
    "Output: 7\n",
    "Input: [\"FOOO\", \"OCOH\", \"OFOF\", \"OFOO\"] \n",
    "Output: 10"
   ]
  },
  {
   "cell_type": "code",
   "execution_count": null,
   "metadata": {},
   "outputs": [],
   "source": [
    "def SearchingChallenge(strArr):\n",
    "\n",
    "  # code goes here\n",
    "  return strArr\n",
    "\n",
    "# keep this function call here \n",
    "print(SearchingChallenge(input()))"
   ]
  },
  {
   "cell_type": "markdown",
   "metadata": {},
   "source": [
    "Matrix Challenge\n",
    "\n",
    "Have the function MatrixChallenge(strArr) read the strArr parameter being passed which will make up an NxN matrix where the rows are separated by each pair of parentheses (the matrix will range from 2x2 to 5x5). The matrix represents connections between nodes in a graph where each node corresponds to the Nth element in the matrix (with 0 being the first node). If a connection exists from one node to another, it will be represented by a 1, if not it will be represented by a 0. For example: suppose strArr were a 3x3 matrix with input [\"(1,1,1)\",\"(1,0,0)\",\"(0,1,0)\"], this means that there is a connection from node 0->0, 0->1, and 0->2. For node 1 the connections are 1->0, and for node 2 the connections are 2->1. This can be interpreted as a connection existing from node X to node Y if there is a 1 in the Xth row and Yth column. Note: a connection from X->Y does not imply a connection from Y->X. \n",
    "\n",
    "What your program should determine is whether or not the matrix, which represents connections among the nodes, is transitive. A transitive relation means that if the connections 0->1 and 1->2 exist for example, then there must exist the connection 0->2. More generally, if there is a relation xRy and yRz, then xRz should exist within the matrix. If a matrix is completely transitive, return the string transitive. If it isn't, your program should return the connections needed, in the following format, in order for the matrix to be transitive: (N1,N2)-(N3,N4)-(...). So for the example above, your program should return (1,2)-(2,0). You can ignore the reflexive property of nodes in your answers. Return the connections needed in lexicographical order [e.g. (0,1)-(0,4)-(1,4)-(2,3)-(4,1)]. \n",
    "Examples\n",
    "\n",
    "Input: [\"(1,1,1)\",\"(0,1,1)\",\"(0,1,1)\"] \n",
    "Output: transitive\n",
    "Input: [\"(0,1,0,0)\",\"(0,0,1,0)\",\"(0,0,1,1)\",\"(0,0,0,1)\"] \n",
    "Output: (0,2)-(0,3)-(1,3)"
   ]
  },
  {
   "cell_type": "code",
   "execution_count": null,
   "metadata": {},
   "outputs": [],
   "source": [
    "def MatrixChallenge(strArr):\n",
    "\n",
    "  # code goes here\n",
    "  return strArr\n",
    "\n",
    "# keep this function call here \n",
    "print(MatrixChallenge(input()))"
   ]
  },
  {
   "cell_type": "code",
   "execution_count": null,
   "metadata": {},
   "outputs": [],
   "source": []
  },
  {
   "cell_type": "code",
   "execution_count": null,
   "metadata": {},
   "outputs": [],
   "source": []
  },
  {
   "cell_type": "code",
   "execution_count": 14,
   "metadata": {},
   "outputs": [
    {
     "ename": "NameError",
     "evalue": "name 'BADF00D5' is not defined",
     "output_type": "error",
     "traceback": [
      "\u001b[0;31m---------------------------------------------------------------------------\u001b[0m",
      "\u001b[0;31mNameError\u001b[0m                                 Traceback (most recent call last)",
      "\u001b[0;32m<ipython-input-14-0c41186da44f>\u001b[0m in \u001b[0;36m<module>\u001b[0;34m\u001b[0m\n\u001b[0;32m----> 1\u001b[0;31m \u001b[0mx\u001b[0m \u001b[0;34m=\u001b[0m \u001b[0mBADF00D5\u001b[0m\u001b[0;34m\u001b[0m\u001b[0;34m\u001b[0m\u001b[0m\n\u001b[0m",
      "\u001b[0;31mNameError\u001b[0m: name 'BADF00D5' is not defined"
     ]
    }
   ],
   "source": [
    "x = BADF00D5"
   ]
  },
  {
   "cell_type": "code",
   "execution_count": 27,
   "metadata": {},
   "outputs": [],
   "source": [
    "line = '1CC0FFEE'"
   ]
  },
  {
   "cell_type": "code",
   "execution_count": 28,
   "metadata": {},
   "outputs": [
    {
     "data": {
      "text/plain": [
       "28"
      ]
     },
     "execution_count": 28,
     "metadata": {},
     "output_type": "execute_result"
    }
   ],
   "source": [
    "x_str = line[2:]\n",
    "a = int(x_str, 16)\n",
    "result = 0\n",
    "for i in str(a):\n",
    "    result += int(i)\n",
    "result"
   ]
  },
  {
   "cell_type": "code",
   "execution_count": 29,
   "metadata": {},
   "outputs": [
    {
     "data": {
      "text/plain": [
       "'1c'"
      ]
     },
     "execution_count": 29,
     "metadata": {},
     "output_type": "execute_result"
    }
   ],
   "source": [
    "hex(result)[2:]"
   ]
  },
  {
   "cell_type": "code",
   "execution_count": 32,
   "metadata": {},
   "outputs": [],
   "source": [
    "b =int(line[:2], 16)"
   ]
  },
  {
   "cell_type": "code",
   "execution_count": 33,
   "metadata": {},
   "outputs": [
    {
     "data": {
      "text/plain": [
       "28"
      ]
     },
     "execution_count": 33,
     "metadata": {},
     "output_type": "execute_result"
    }
   ],
   "source": [
    "b"
   ]
  },
  {
   "cell_type": "code",
   "execution_count": 23,
   "metadata": {},
   "outputs": [
    {
     "data": {
      "text/plain": [
       "'INVALID'"
      ]
     },
     "execution_count": 23,
     "metadata": {},
     "output_type": "execute_result"
    }
   ],
   "source": [
    "def process(line: str) -> str:\n",
    "    # Return 'VALID' or 'INVALID'\n",
    "    # if not line:\n",
    "    #     return 'INVALID'\n",
    "    \n",
    "    x_str = line[2:]\n",
    "    \n",
    "    dec_number = int(x_str, 16)\n",
    "    dec = 0\n",
    "    for i in str(dec_number):\n",
    "        dec += int(i)\n",
    "    if hex(dec)[2:] == x_str[:2]:\n",
    "        return 'VALID'\n",
    "    else:\n",
    "        return 'INVALID'\n",
    "process('1CC0FFEE')"
   ]
  },
  {
   "cell_type": "code",
   "execution_count": null,
   "metadata": {},
   "outputs": [],
   "source": [
    "def sum_digit(number): '''number의 각 자릿수를 더해서 return하세요''' num = str(number) return sum(map(int, num))\n",
    "\n",
    "출처: https://excelsior-cjh.tistory.com/10 [EXCELSIOR]"
   ]
  },
  {
   "cell_type": "code",
   "execution_count": 34,
   "metadata": {},
   "outputs": [
    {
     "data": {
      "text/plain": [
       "12"
      ]
     },
     "execution_count": 34,
     "metadata": {},
     "output_type": "execute_result"
    }
   ],
   "source": [
    "a = 14322\n",
    "sum(map(int, str(a)))"
   ]
  },
  {
   "cell_type": "code",
   "execution_count": 35,
   "metadata": {},
   "outputs": [
    {
     "data": {
      "text/plain": [
       "True"
      ]
     },
     "execution_count": 35,
     "metadata": {},
     "output_type": "execute_result"
    }
   ],
   "source": [
    "x_str = line[2:]\n",
    "    \n",
    "dec_number = int(x_str, 16)\n",
    "\n",
    "sum_digit = sum(map(int, str(dec_number)))\n",
    "\n",
    "sum_digit == int(line[:2], 16)\n",
    "\n",
    "# dec = 0\n",
    "# for i in str(dec_number):\n",
    "#     dec += int(i)\n",
    "# if dec == int(line[:2], 16):\n",
    "#     return 'VALID'\n",
    "# else:\n",
    "#     return 'INVALID'"
   ]
  },
  {
   "cell_type": "code",
   "execution_count": null,
   "metadata": {},
   "outputs": [],
   "source": [
    "import fileinput\n",
    "\n",
    "def process(line: str) -> str:\n",
    "    # Return 'VALID' or 'INVALID'\n",
    "\n",
    "    if not line:\n",
    "        return 'INVALID'\n",
    "    \n",
    "    import string\n",
    "    if not all(c in string.hexdigits for c in line):\n",
    "        return 'INVALID'\n",
    "    \n",
    "    x_str = line[2:]\n",
    "    \n",
    "    dec_number = int(x_str, 16)\n",
    "    sum_digit = sum(map(int, str(dec_number)))\n",
    "    \n",
    "    if sum_digit == int(line[:2],16):\n",
    "        return 'VALID'\n",
    "    else:\n",
    "        return 'INVALID'\n",
    "    \n",
    "    \n",
    "for line in fileinput.input():\n",
    "    print(process(line.rstrip()))"
   ]
  },
  {
   "cell_type": "code",
   "execution_count": 37,
   "metadata": {},
   "outputs": [
    {
     "data": {
      "text/plain": [
       "[['CHI', '41.836944', '-87.684722']]"
      ]
     },
     "execution_count": 37,
     "metadata": {},
     "output_type": "execute_result"
    }
   ],
   "source": [
    "line1 = 'LOC:CHI:41.836944:-87.684722'\n",
    "line2 = 'LOC:NYC:40.7127:-74.0059'\n",
    "line3 = 'TRIP:C0FFEE1C:CHI:NYC'\n",
    "\n",
    "l1 = line1.split(':')\n",
    "result = []\n",
    "if l1[0] == 'LOC':\n",
    "    result.append([l1[1], l1[2], l1[3]])\n",
    "if l1[0] == 'TRIP':\n",
    "    d = radius * (arccos(sin(result[0][1]) * sin(result[1][1] + cos(result[0][1]) * cos(result[1][1]) * cos(abs(result[0][2] - result[1][2])))))\n",
    "    "
   ]
  },
  {
   "cell_type": "code",
   "execution_count": null,
   "metadata": {},
   "outputs": [],
   "source": []
  },
  {
   "cell_type": "code",
   "execution_count": null,
   "metadata": {},
   "outputs": [],
   "source": []
  },
  {
   "cell_type": "code",
   "execution_count": null,
   "metadata": {},
   "outputs": [],
   "source": []
  },
  {
   "cell_type": "code",
   "execution_count": null,
   "metadata": {},
   "outputs": [],
   "source": []
  },
  {
   "cell_type": "code",
   "execution_count": 303,
   "metadata": {},
   "outputs": [
    {
     "data": {
      "text/plain": [
       "1000"
      ]
     },
     "execution_count": 303,
     "metadata": {},
     "output_type": "execute_result"
    }
   ],
   "source": [
    "bridge_length = 100; weight=100; truck_weights=[10,10,10,10,10,10,10,10,10,10]\n",
    "len_t_w = len(truck_weights)\n",
    "\n",
    "from collections import deque\n",
    "t_w = deque(truck_weights)\n",
    "b_w = deque([])\n",
    "p_w = deque([])\n",
    "\n",
    "count = 0\n",
    "while len(p_w) != len_t_w:\n",
    "    if t_w:\n",
    "        b_w.append(t_w.popleft())\n",
    "        count += bridge_length\n",
    "#     elif t_w and weight - b_w[0] < t_w[0]:\n",
    "#         count += 1\n",
    "    elif t_w and weight - b_w[0] >= t_w[0]:\n",
    "        b_w.append(t_w.popleft())\n",
    "        count -= 1        \n",
    "    p_w.append(b_w.popleft())\n",
    "#     count += 1\n",
    "count"
   ]
  },
  {
   "cell_type": "code",
   "execution_count": 15,
   "metadata": {},
   "outputs": [
    {
     "data": {
      "text/plain": [
       "110"
      ]
     },
     "execution_count": 15,
     "metadata": {},
     "output_type": "execute_result"
    }
   ],
   "source": [
    "bridge_length = 100; weight=100; truck_weights=[10,10,10,10,10,10,10,10,10,10]\n",
    "def solution(bridge_length, weight, truck_weights):\n",
    "    from collections import deque\n",
    "    time = 0\n",
    "    t_w = deque(truck_weights)\n",
    "    q = deque([0] * bridge_length)\n",
    "    sum_q = 0\n",
    "    while q:\n",
    "        time += 1\n",
    "        sum_q -= q.popleft()\n",
    "        if t_w:\n",
    "            if t_w[0]+ sum_q <= weight:\n",
    "                sum_q += t_w[0]\n",
    "                q.append(t_w.popleft())\n",
    "            else:\n",
    "                q.append(0)\n",
    "    \n",
    "    return time\n",
    "solution(bridge_length, weight, truck_weights)"
   ]
  },
  {
   "cell_type": "code",
   "execution_count": null,
   "metadata": {},
   "outputs": [],
   "source": []
  },
  {
   "cell_type": "code",
   "execution_count": 18,
   "metadata": {},
   "outputs": [
    {
     "data": {
      "text/plain": [
       "[4, 3, 1, 1, 0]"
      ]
     },
     "execution_count": 18,
     "metadata": {},
     "output_type": "execute_result"
    }
   ],
   "source": [
    "price = [1, 2, 3, 2, 3]\n",
    "from collections import deque\n",
    "q = deque(price)\n",
    "result = []\n",
    "while q:\n",
    "    p = q.popleft()\n",
    "    \n",
    "    count = 0\n",
    "    if q:\n",
    "        for i in q:\n",
    "            if p <= i:\n",
    "                count += 1\n",
    "            else:\n",
    "                count += 1\n",
    "                break\n",
    "        result.append(count)\n",
    "    else:\n",
    "        result.append(0)\n",
    "result"
   ]
  },
  {
   "cell_type": "code",
   "execution_count": 48,
   "metadata": {},
   "outputs": [
    {
     "data": {
      "text/plain": [
       "[5, 10, 1, 1, 20, 1]"
      ]
     },
     "execution_count": 48,
     "metadata": {},
     "output_type": "execute_result"
    }
   ],
   "source": [
    "import math\n",
    "\n",
    "progress = [95, 90, 99, 99, 80, 99]\n",
    "speeds = [1, 1, 1, 1, 1, 1]\n",
    "\n",
    "days = []\n",
    "for p, s in zip(progress, speeds):\n",
    "    d = math.ceil((100 - p) / s)\n",
    "    days.append(d)\n",
    "days"
   ]
  },
  {
   "cell_type": "code",
   "execution_count": 49,
   "metadata": {},
   "outputs": [],
   "source": [
    "from collections import deque\n",
    "q = deque(days)\n",
    "ans = []\n",
    "\n",
    "while q:\n",
    "    count = 0\n",
    "    val = q.popleft()\n",
    "    qq = list(q)[:]\n",
    "    if qq:\n",
    "        for i in qq:\n",
    "            if val >= i:\n",
    "                count += 1\n",
    "                q.popleft()\n",
    "            else:\n",
    "                break            \n",
    "        count += 1\n",
    "    elif not qq:\n",
    "        count += 1\n",
    "    ans.append(count)"
   ]
  },
  {
   "cell_type": "code",
   "execution_count": 50,
   "metadata": {},
   "outputs": [
    {
     "data": {
      "text/plain": [
       "[1, 3, 2]"
      ]
     },
     "execution_count": 50,
     "metadata": {},
     "output_type": "execute_result"
    }
   ],
   "source": [
    "ans"
   ]
  },
  {
   "cell_type": "code",
   "execution_count": 13,
   "metadata": {},
   "outputs": [],
   "source": [
    "q = deque(days)\n",
    "qqq = list(q)[:]"
   ]
  },
  {
   "cell_type": "code",
   "execution_count": 14,
   "metadata": {},
   "outputs": [
    {
     "data": {
      "text/plain": [
       "[5, 10, 1, 1, 20, 1]"
      ]
     },
     "execution_count": 14,
     "metadata": {},
     "output_type": "execute_result"
    }
   ],
   "source": [
    "qqq"
   ]
  },
  {
   "cell_type": "code",
   "execution_count": null,
   "metadata": {},
   "outputs": [],
   "source": []
  },
  {
   "cell_type": "code",
   "execution_count": 70,
   "metadata": {},
   "outputs": [],
   "source": [
    "priorities = [2,1,3,2]\n",
    "location = 2"
   ]
  },
  {
   "cell_type": "code",
   "execution_count": 71,
   "metadata": {},
   "outputs": [
    {
     "data": {
      "text/plain": [
       "deque([(0, 2), (1, 1), (2, 3), (3, 2)])"
      ]
     },
     "execution_count": 71,
     "metadata": {},
     "output_type": "execute_result"
    }
   ],
   "source": [
    "from collections import deque\n",
    "q = deque([])\n",
    "for index, value in enumerate(priorities):\n",
    "    q.append((index, value))\n",
    "q"
   ]
  },
  {
   "cell_type": "code",
   "execution_count": 73,
   "metadata": {},
   "outputs": [
    {
     "data": {
      "text/plain": [
       "deque([(2, 3), (3, 2), (0, 2), (1, 1)])"
      ]
     },
     "execution_count": 73,
     "metadata": {},
     "output_type": "execute_result"
    }
   ],
   "source": [
    "while q[0][1] != max(priorities):\n",
    "    val = q.popleft()\n",
    "    if val[1] != max(priorities):\n",
    "        q.append(val)\n",
    "q"
   ]
  },
  {
   "cell_type": "code",
   "execution_count": 74,
   "metadata": {},
   "outputs": [
    {
     "name": "stdout",
     "output_type": "stream",
     "text": [
      "1\n"
     ]
    }
   ],
   "source": [
    "for idx, data in enumerate(q):\n",
    "    index, p = data\n",
    "    if location == index:\n",
    "        print(idx+1)\n",
    "        break"
   ]
  },
  {
   "cell_type": "code",
   "execution_count": null,
   "metadata": {},
   "outputs": [],
   "source": [
    "def solution(priorities, location):\n",
    "    from collections import deque\n",
    "    q = deque([])\n",
    "    for index, value in enumerate(priorities):\n",
    "        q.append((index, value))\n",
    "    \n",
    "    while q[0][1] != max(priorities):\n",
    "        val = q.popleft()\n",
    "        if val[1] != max(priorities):\n",
    "            q.append(val)\n",
    "    \n",
    "    for idx, data in enumerate(q):\n",
    "        index, p = data\n",
    "        if location == index:\n",
    "            return idx + 1"
   ]
  },
  {
   "cell_type": "code",
   "execution_count": null,
   "metadata": {},
   "outputs": [],
   "source": [
    "def solution(priorities, location):\n",
    "    answer = 0\n",
    "\n",
    "    sample = [0] * len(priorities)\n",
    "    sample[location] = 1\n",
    "\n",
    "    while sum(sample) == 1:\n",
    "        if priorities[0] == max(priorities):\n",
    "            priorities.apop(0)\n",
    "            sample.pop(0)\n",
    "            answer += 1\n",
    "\n",
    "        else:\n",
    "            priorities.append(priorities.pop(0))\n",
    "            sample.append(sample.pop(0))\n",
    "\n",
    "    return answer"
   ]
  },
  {
   "cell_type": "code",
   "execution_count": 76,
   "metadata": {},
   "outputs": [
    {
     "data": {
      "text/plain": [
       "1"
      ]
     },
     "execution_count": 76,
     "metadata": {},
     "output_type": "execute_result"
    }
   ],
   "source": [
    "def solution(priorities, location):\n",
    "    answer = 0\n",
    "    from collections import deque\n",
    "    p = deque(priorities)\n",
    "    \n",
    "    sample = [0] * len(priorities)\n",
    "    sample[location] = 1\n",
    "    s = deque(sample)\n",
    "\n",
    "    while sum(s) == 1:\n",
    "        if p[0] == max(p):\n",
    "            p.popleft()\n",
    "            s.popleft()\n",
    "            answer += 1\n",
    "\n",
    "        else:\n",
    "            p.append(p.popleft())\n",
    "            s.append(s.popleft())\n",
    "\n",
    "    return answer\n",
    "priorities = [2,1,3,2]\n",
    "location = 2\n",
    "solution(priorities, location)"
   ]
  },
  {
   "cell_type": "code",
   "execution_count": null,
   "metadata": {},
   "outputs": [],
   "source": []
  }
 ],
 "metadata": {
  "kernelspec": {
   "display_name": "Python 3",
   "language": "python",
   "name": "python3"
  },
  "language_info": {
   "codemirror_mode": {
    "name": "ipython",
    "version": 3
   },
   "file_extension": ".py",
   "mimetype": "text/x-python",
   "name": "python",
   "nbconvert_exporter": "python",
   "pygments_lexer": "ipython3",
   "version": "3.7.6"
  }
 },
 "nbformat": 4,
 "nbformat_minor": 4
}
