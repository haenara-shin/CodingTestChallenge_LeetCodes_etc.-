{
 "cells": [
  {
   "cell_type": "markdown",
   "metadata": {},
   "source": [
    "- 메모리 공간을 약간 더 사용하여 연산 속도를 비약적으로 증가시킴. 중복되는 연산을 줄이는 방식."
   ]
  },
  {
   "cell_type": "markdown",
   "metadata": {},
   "source": [
    "1. 큰 문제를 작은 문제로 나눌 수 있다. (피보나치 수열)\n",
    "2. 작은 문제에서 구한 정답은 그것을 포함하는 큰 문제에서도 동일하다."
   ]
  },
  {
   "cell_type": "markdown",
   "metadata": {},
   "source": [
    "## 메모이제이션 (memoization),  혹은 캐싱(caching): 한 번 구한 정보를 리스트에 저장"
   ]
  },
  {
   "cell_type": "markdown",
   "metadata": {},
   "source": [
    "### 1. 피보나치 수열: 재귀적 (Top-down) - 큰 문제를 해결하기 위해 작은 문제를 호출한다. 하지만 recusion depth 오류가 발생할 수 있으므로 iterative 하게 작성하는게 더 좋음 (즉, Bottom-up). "
   ]
  },
  {
   "cell_type": "code",
   "execution_count": 3,
   "metadata": {},
   "outputs": [
    {
     "name": "stdout",
     "output_type": "stream",
     "text": [
      "34\n"
     ]
    }
   ],
   "source": [
    "d = [0] * 100 # memoization list\n",
    "\n",
    "def fibo(x):\n",
    "    if x == 1 or x == 2:\n",
    "        return 1\n",
    "    \n",
    "    if d[x] != 0:\n",
    "        return d[x]\n",
    "    d[x] = fibo(x-1) + fibo(x-2)\n",
    "    return d[x]\n",
    "\n",
    "print(fibo(9))"
   ]
  },
  {
   "cell_type": "code",
   "execution_count": 5,
   "metadata": {},
   "outputs": [
    {
     "name": "stdout",
     "output_type": "stream",
     "text": [
      "f(6) f(5) f(4) f(3) f(2) f(1) f(2) f(3) f(4) "
     ]
    },
    {
     "data": {
      "text/plain": [
       "8"
      ]
     },
     "execution_count": 5,
     "metadata": {},
     "output_type": "execute_result"
    }
   ],
   "source": [
    "d = [0] * 100 # memoization 리스트\n",
    "\n",
    "def pibo(x):\n",
    "    print('f(' + str(x) + ')', end=' ')\n",
    "    \n",
    "    if x == 1 or x == 2:\n",
    "        return 1\n",
    "    if d[x] != 0:\n",
    "        return d[x]\n",
    "    d[x] = pibo(x-1) + pibo(x-2)\n",
    "    return d[x]\n",
    "\n",
    "pibo(6)"
   ]
  },
  {
   "cell_type": "markdown",
   "metadata": {},
   "source": [
    "### 2. 피보나치 수열: 반복적 접근 (Bottom-up) - 작은 문제부터 답을 도출"
   ]
  },
  {
   "cell_type": "code",
   "execution_count": 7,
   "metadata": {},
   "outputs": [
    {
     "name": "stdout",
     "output_type": "stream",
     "text": [
      "8\n"
     ]
    }
   ],
   "source": [
    "d = [0] * 100  # dp 테이블이라고 함.\n",
    "\n",
    "d[1] = 1\n",
    "d[2] = 1\n",
    "\n",
    "n = 6\n",
    "\n",
    "for i in range(3, n +1):\n",
    "    d[i] = d[i-1] + d[i-2]\n",
    "\n",
    "print(d[n])"
   ]
  },
  {
   "cell_type": "markdown",
   "metadata": {},
   "source": [
    "# 실전 문제2. 1로 만들기"
   ]
  },
  {
   "cell_type": "markdown",
   "metadata": {},
   "source": [
    "- 정수 x가 주어질 때 정수 x에 사용할 수 있는 연산은 다음과 같이 4가지 이다.\n",
    "    1. x가 5로 나누어 떨어지면, 5로 나눈다.\n",
    "    2. x가 3으로 나누어 떨어지면, 3으로 나눈다.\n",
    "    3. x가 2로 나누어 떨어지면, 2로 나눈다.\n",
    "    4. x에서 1을 뺀다.\n",
    "    \n",
    "- 정수 x가 주어졌을 때, 연산 4개를 적절히 사용해서 1을 만들려고 한다. 연산을 사용하는 횟수의 최솟값을 출력하시오.\n",
    "- ex) 정수가 26이면, 3번의 최소 연산을 통해 1을 만들 수 있다. \n",
    "    1. 26-1 = 25\n",
    "    2. 25/5 = 5\n",
    "    3. 5/5 = 1"
   ]
  },
  {
   "cell_type": "markdown",
   "metadata": {},
   "source": [
    "- 입력 조건: 첫째 줄에 정수 x가 주어진다.\n",
    "- 출력 조건: 첫째 줄에 연산을 하는 횟수의 최솟값을 출력한다."
   ]
  },
  {
   "cell_type": "markdown",
   "metadata": {},
   "source": [
    "26\n",
    "3"
   ]
  },
  {
   "cell_type": "markdown",
   "metadata": {},
   "source": [
    "! 점화식에 1을 더해서 카운팅을 한다. 카운팅만 하면 되니까.\n",
    "! 최솟값 dp 테이블을 찾아간다."
   ]
  },
  {
   "cell_type": "code",
   "execution_count": 9,
   "metadata": {},
   "outputs": [
    {
     "name": "stdout",
     "output_type": "stream",
     "text": [
      "6\n",
      "2\n"
     ]
    }
   ],
   "source": [
    "d = [0] * 30001\n",
    "\n",
    "x = int(input())\n",
    "\n",
    "for i in range(2,  x+1):\n",
    "    # x에서 1을 뺀다\n",
    "    d[i] = d[i-1] + 1\n",
    "    \n",
    "    # x를 2로 나눈다.\n",
    "    if i % 2 == 0:\n",
    "        d[i] = min(d[i], d[i // 2] + 1)\n",
    "    \n",
    "    # x를 3으로 나눈다.\n",
    "    if i % 3 == 0:\n",
    "        d[i] = min(d[i], d[i // 3] + 1)\n",
    "    \n",
    "    # x를 5로 나눈다.\n",
    "    if i % 5 == 0:\n",
    "        d[i] = min(d[i], d[i // 5] + 1)\n",
    "print(d[i])"
   ]
  },
  {
   "cell_type": "markdown",
   "metadata": {},
   "source": [
    "# 실전 문제 3. 개미 전사"
   ]
  },
  {
   "cell_type": "markdown",
   "metadata": {},
   "source": [
    "- 개미 전사는 부족한 식량을 충당하고자 메뚜기 마을의 식량 창고를 몰래 공격하려고 한다. 메뚜기 마을에는 여러 개의 식량 창고가 있는데, 식량 창고는 일직선으로 이어져 있다. 각 식량 창고에는 정해진 수의 식량을 저장하고 있으며, 개미 전사는 식량 창고를 선택적으로 약탈하여 식량을 빼앗을 예정이다. 이때, 메뚜기 정찰병들은 일직선상에 존재하는 식량 창고 중에서 서로 인접한 식량 창고가 공격받으면 바로 알아챌 수 있다. 따라서 개미 전사가 정찰병에게 들키지 않고 식량 창고를 약탈하기 위해서는 최소한 한 칸 이상 떨어진 식량 창고를 약탈해야 한다. "
   ]
  },
  {
   "cell_type": "markdown",
   "metadata": {},
   "source": [
    "- 입력 조건:\n",
    "    1. 첫째 줄에 식량 창고의 개수 n이 주어진다. \n",
    "    2. 둘째 줄에 공백으로 구분되어 각 식량 창고에 저장된 식량의 개수 k가 주어진다.\n",
    "    \n",
    "- 출력 조건: 첫째 줄에 개미 전사가 얻을 수 있는 식량의 최댓값을 출력하시오."
   ]
  },
  {
   "cell_type": "markdown",
   "metadata": {},
   "source": [
    "4\n",
    "1 3 1 5\n",
    "\n",
    "8"
   ]
  },
  {
   "cell_type": "markdown",
   "metadata": {},
   "source": [
    "! 맨 마지막 칸의 인덱스를 i 로 놓고, 양을 k라고 생각 했을 때, 마지막 칸을 털 수 있는가 없는가로 판단함.\n",
    "즉, a_i = max(a_i-2 + k, a_i-1) "
   ]
  },
  {
   "cell_type": "code",
   "execution_count": 10,
   "metadata": {},
   "outputs": [
    {
     "name": "stdout",
     "output_type": "stream",
     "text": [
      "4\n",
      "1 3 1 5\n",
      "8\n"
     ]
    }
   ],
   "source": [
    "n = int(input())\n",
    "array = list(map(int, input().split()))\n",
    "\n",
    "d = [0] * 100\n",
    "\n",
    "d[0] = array[0]\n",
    "d[1] = max(array[0], array[1])\n",
    "\n",
    "for i in range(2, n):\n",
    "    d[i] = max(d[i-2] + array[i], d[i-1])\n",
    "\n",
    "print(d[n-1])"
   ]
  },
  {
   "cell_type": "markdown",
   "metadata": {},
   "source": [
    "# 실전 문제3. 바닥 공사(타일링)"
   ]
  },
  {
   "cell_type": "markdown",
   "metadata": {},
   "source": [
    "- 가로의 길이가 n, 세로의 길이가 2인 직사각형 형태의 얇은 바닥이 있다. 이 바닥을 1 * 2 덮개, 2 * 1 덮개, 2 * 2 덮개를 이용해 채우고자 한다. 이때 바닥을 채우는 모든 경우의 수를 구하는 프로그램을 작성하시오."
   ]
  },
  {
   "cell_type": "markdown",
   "metadata": {},
   "source": [
    "- 입력 조건: 첫째 줄에 n이 주어진다.\n",
    "- 출력 조건: 첫째 줄에 2 * n 크기의 바닥을 채우는 방법의 수를 796,796 으로 나눈 나머지를 출력한다."
   ]
  },
  {
   "cell_type": "markdown",
   "metadata": {},
   "source": [
    "3\n",
    "5"
   ]
  },
  {
   "cell_type": "markdown",
   "metadata": {},
   "source": [
    "- 왼쪽 부터 차례대로 바닥을 채운다고 생각해보면,\n",
    "\n",
    "    1. 왼쪽부터 n-1 까지 길이가 덮개로 이미 채워져 있으면, 2 * 1 (세로로 긴거) 덮개를 채우는 하나의 경우만 존재함.\n",
    "    2. 왼쪽부터 n-2 까지 길이가 덮개로 채워져 있으면, 2 * 2 (정사각형) 혹은 1 * 2 (가로로 긴거) 를 넣는 2가지 경우만 존재함. 2*1 의 경우는 이미 1번에서 카운팅 했기 때문에 제외할 수 있다.\n",
    "\n",
    "- 즉, 점화식 a_i = a_(i-1) + a_(i-2) * 2"
   ]
  },
  {
   "cell_type": "code",
   "execution_count": 11,
   "metadata": {},
   "outputs": [
    {
     "name": "stdout",
     "output_type": "stream",
     "text": [
      "3\n",
      "5\n"
     ]
    }
   ],
   "source": [
    "n = int(input())\n",
    "\n",
    "d = [0] * 10001\n",
    "\n",
    "d[1] = 1 # 2*1를 채우는 방법은 1가지\n",
    "d[2] = 3 # 2*2를 채우는 방법은 3가지 \n",
    "\n",
    "for i in range(3, n+1):\n",
    "    d[i] = (d[i-1] + d[i-2] * 2) % 796796\n",
    "print(d[n])"
   ]
  },
  {
   "cell_type": "markdown",
   "metadata": {},
   "source": [
    "# 실전 문제 5. 효율적인 화폐 구성"
   ]
  },
  {
   "cell_type": "markdown",
   "metadata": {},
   "source": [
    "- n가지 종류의 화폐가 있다. 이 화폐들의 개수를 최소한으로 이용해서 그 가치의 합이 m원이 되도록 하려고 한다. 이때 각 화폐는 몇 개라도 사용할 수 있으며, 사용한 화폐의 구성은 같지만 순서만 다른 것은 같은 경우로 구분한다. 예를 들어 2원, 3원 단위의 화폐가 있을 때는 15원을 만들기 위해 3원을 5개 사용하는 것이 가장 최소한의 화폐 개수이다. "
   ]
  },
  {
   "cell_type": "markdown",
   "metadata": {},
   "source": [
    "- 입력 조건:\n",
    "    1. 첫째 줄에 n, m 이 주어진다.\n",
    "    2. 이후의 n개의 줄에는 각 화폐의 가치가 주어진다. 화폐의 가치는 10000 보다 작거나 같은 자연수이다.\n",
    "- 출력 조건: 첫째 줄에 경우의 수 x를 출력한다. 불가능할 때는 -1을 출력한다."
   ]
  },
  {
   "cell_type": "markdown",
   "metadata": {},
   "source": [
    "2 15\n",
    "2\n",
    "3\n",
    "\n",
    "5"
   ]
  },
  {
   "cell_type": "markdown",
   "metadata": {},
   "source": [
    "3 4\n",
    "3\n",
    "5\n",
    "7\n",
    "\n",
    "-1"
   ]
  },
  {
   "cell_type": "markdown",
   "metadata": {},
   "source": [
    "- a_i-k를 만드는 방법이 존재하는 경우, a_i = min(a_i, a_i-k + 1) 카운팅을 위해서 +1, 최소 방법을 찾아야 하니까 Min. 금액 i를 만들 수 있는 최소한의 화폐 개수를 a_i, 화폐의 단위를 k라고 함.\n",
    "- a_i-k를 만드는 방법이 존재하지 않는 경우, m보다 큰 숫자를 넣어줌. 10001\n",
    "\n",
    "    1. 초기화: 각 인덱스에 해당하는 값으로 10001 을 설정한다. 0원의 경우, 화폐를 하나도 사용하지 않았을 때 만들 수 있으므로 값으로 0을 설정한다.\n",
    "    2. 화폐 단위 2: a_2 = a_0 + 1, a_4 = a_2 + 1, a_6 = a_4 + 1, 나머지는 10001 그대로. \n",
    "    3. 화폐 단위 3: a_3 = a_0 + 1, a_5 = a_2 + 1, a_6 = a_3 + 1, a_7 = a_4 + 1, 업데이트 없는 나머지는 10001 그대로.\n",
    "    4. 화폐 단위 5: a_5 = a_0 + 1, 업데이트 없는 나머지는 10001 그대로."
   ]
  },
  {
   "cell_type": "code",
   "execution_count": 13,
   "metadata": {},
   "outputs": [
    {
     "name": "stdout",
     "output_type": "stream",
     "text": [
      "2 15\n",
      "2\n",
      "3\n",
      "5\n"
     ]
    }
   ],
   "source": [
    "n, m =  map(int, input().split())\n",
    "array = []\n",
    "\n",
    "for i in range(n):\n",
    "    array.append(int(input()))\n",
    "\n",
    "d = [10001] * (m + 1)\n",
    "\n",
    "d[0] = 0\n",
    "for i in range(n):\n",
    "    for j in range(array[i], m+1):\n",
    "        if d[j-array[i]] != 10001:\n",
    "            d[j] = min(d[j], d[j-array[i]] + 1)\n",
    "\n",
    "if d[m] == 10001:\n",
    "    print(-1)\n",
    "else:\n",
    "    print(d[m])"
   ]
  },
  {
   "cell_type": "code",
   "execution_count": null,
   "metadata": {},
   "outputs": [],
   "source": []
  }
 ],
 "metadata": {
  "kernelspec": {
   "display_name": "Python 3",
   "language": "python",
   "name": "python3"
  },
  "language_info": {
   "codemirror_mode": {
    "name": "ipython",
    "version": 3
   },
   "file_extension": ".py",
   "mimetype": "text/x-python",
   "name": "python",
   "nbconvert_exporter": "python",
   "pygments_lexer": "ipython3",
   "version": "3.7.6"
  }
 },
 "nbformat": 4,
 "nbformat_minor": 4
}
