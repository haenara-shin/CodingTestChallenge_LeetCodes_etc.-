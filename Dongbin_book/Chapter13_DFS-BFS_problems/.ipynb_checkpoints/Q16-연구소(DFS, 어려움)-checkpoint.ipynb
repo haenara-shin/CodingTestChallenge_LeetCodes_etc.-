{
 "cells": [
  {
   "cell_type": "markdown",
   "metadata": {},
   "source": [
    "- 인체에 치명적인 바이러스를 연구하던 연구소에서 바이러스가 유출되었다. 다행히 바이러스는 아직 퍼지지 않았고, 바이러스의 확산을 막기 위해서 연구소에 벽을 세우려고 한다.\n",
    "- 연구소는 크기가 n * m 인 직사각형으로 나타낼 수 있으며, 직사각형은 1 * 1 크기의 정사각형으로 나누어져 있습니다. 연구소는 빈칸, 벽으로 이루어져 있으며, 벽은 칸 하나를 가득 차지 합니다.\n",
    "- 일부 칸은 바이러스가 존재하며, 이 바이러스는 상하좌우로 인접한 빈칸으로 모두 퍼져나갈 수 있습니다. 새로 세울 수 있는 벽의 개수는 3개이며, 꼭 3개를 세워야 한다.\n",
    "- 벽은 3개 세운 뒤, 바이러스가 퍼질 수 없는 곳을 안전 영역이라고 할 때 지도에서 안전 영역의 최대 크기를 구하라."
   ]
  },
  {
   "cell_type": "markdown",
   "metadata": {},
   "source": [
    "- 입력 조건:\n",
    "    1. 첫째 줄에 지도의 세로 크기 n과 가로 크기 m이 주어진다.\n",
    "    2. 둘째 줄부터 n개의 줄에 지도의 모양이 주어진다. 0은 빈칸, 1은 벽, 2는 바이러스가 있는 위치다. 2개의 개수는 2보다 크거나 같고, 10보다 작거나 같은 자연수.\n",
    "    3. 빈칸의 개수는 3개 이상이다.\n",
    "- 출력 조건:\n",
    "    1. 첫째 줄에 얻을 수 있는 안전 영역의 최대 크기를 출력한다."
   ]
  },
  {
   "cell_type": "markdown",
   "metadata": {},
   "source": [
    "7 7\n",
    "2 0 0 0 1 1 0\n",
    "0 0 1 0 1 2 0 \n",
    "0 1 1 0 1 0 0 \n",
    "0 1 0 0 0 0 0\n",
    "0 0 0 0 0 1 1\n",
    "0 1 0 0 0 0 0 \n",
    "0 1 0 0 0 0 0\n",
    "\n",
    "27"
   ]
  },
  {
   "cell_type": "markdown",
   "metadata": {},
   "source": [
    "- 벽 3개를 세울 수 있는 모든 조합을 찾음과 동시에 그 조합에 대한 안전 영역의 크기를 구한다. 두 가지 모두 DFS로 한다"
   ]
  },
  {
   "cell_type": "code",
   "execution_count": 1,
   "metadata": {},
   "outputs": [
    {
     "name": "stdout",
     "output_type": "stream",
     "text": [
      "7 7\n",
      "2 0 0 0 1 1 0\n",
      "0 0 1 0 1 2 0\n",
      "0 1 1 0 1 0 0\n",
      "0 1 0 0 0 0 0\n",
      "0 0 0 0 0 1 1\n",
      "0 1 0 0 0 0 0\n",
      "0 1 0 0 0 0 0\n",
      "27\n"
     ]
    }
   ],
   "source": [
    "n, m = map(int, input().split())\n",
    "data = [] # 초기 맵 리스트\n",
    "temp = [[0] * m for _ in range(n)] # 벽을 설치한 뒤의 맵 리스트 (임시)\n",
    "\n",
    "for _ in range(n):\n",
    "    data.append(list(map(int, input().split())))\n",
    "    \n",
    "dx = [-1, 0, 1, 0]\n",
    "dy = [0, 1, 0, -1]\n",
    "\n",
    "result = 0\n",
    "\n",
    "# DFS 이용해 각 바이러스가 사방으로 퍼지도록 함.\n",
    "def dfs_virus(x, y):\n",
    "    for i in range(4):\n",
    "        nx = x + dx[i]\n",
    "        ny = y + dy[i]\n",
    "        \n",
    "        # 상, 하, 좌, 우 중에서 바이러스가 퍼질 수 있는 경우\n",
    "        if nx >= 0 and nx < n and ny >=0 and ny < n:\n",
    "            if temp[nx][ny] == 0:\n",
    "                # 해당 위치에 바이러스 배치하고, 다시 재귀적으로 수행\n",
    "                temp[nx][ny] = 2\n",
    "                dfs_virus(nx, ny)\n",
    "\n",
    "# 현재 맵에서 안전 영역의 크기 계산\n",
    "def get_safety_score():\n",
    "    score = 0\n",
    "    for i in range(n):\n",
    "        for j in range(m):\n",
    "            if temp[i][j] == 0:\n",
    "                score += 1\n",
    "    return score\n",
    "\n",
    "# DFS 이용해 울타리 설치하는 조합 + 매번 안전 영역의 크기 계산\n",
    "def dfs_fence_safety(count):\n",
    "    global result\n",
    "    # 울타리가 3개 설치된 경우에 바이러스 퍼지고, 안전영역 최댓값 계산\n",
    "    if count == 3:\n",
    "        for i in range(n):\n",
    "            for j in range(m):\n",
    "                temp[i][j] = data[i][j]\n",
    "        # 각 바이러스의 위치에서 전파 진행\n",
    "        for i in range(n):\n",
    "            for j in range(m):\n",
    "                if temp[i][j] == 2:\n",
    "                    dfs_virus(i, j)\n",
    "        # 안전 영역의 최댓값 계산\n",
    "        result = max(result, get_safety_score())\n",
    "        return\n",
    "    \n",
    "    # 울타리가 3개가 아니라서 설치 해야함. 빈 공간에 울타리 설치\n",
    "    for i in range(n):\n",
    "        for j in range(m):\n",
    "            if data[i][j] == 0:\n",
    "                data[i][j] = 1\n",
    "                count += 1\n",
    "                dfs_fence_safety(count)\n",
    "                data[i][j] = 0  # 위의 경우 재귀 까지 끝냈으니까 원상복구 시킴\n",
    "                count -= 1      # 위의 경우 재귀 까지 끝냈으니까 원상복구 시킴\n",
    "dfs_fence_safety(0)\n",
    "print(result)"
   ]
  },
  {
   "cell_type": "code",
   "execution_count": null,
   "metadata": {},
   "outputs": [],
   "source": []
  }
 ],
 "metadata": {
  "kernelspec": {
   "display_name": "Python 3",
   "language": "python",
   "name": "python3"
  },
  "language_info": {
   "codemirror_mode": {
    "name": "ipython",
    "version": 3
   },
   "file_extension": ".py",
   "mimetype": "text/x-python",
   "name": "python",
   "nbconvert_exporter": "python",
   "pygments_lexer": "ipython3",
   "version": "3.7.6"
  }
 },
 "nbformat": 4,
 "nbformat_minor": 4
}
