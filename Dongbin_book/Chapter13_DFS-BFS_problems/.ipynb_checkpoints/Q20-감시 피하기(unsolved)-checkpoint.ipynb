{
 "cells": [
  {
   "cell_type": "markdown",
   "metadata": {},
   "source": [
    "- n * n 크기의 복도가 있다. 이 복도는 1 * 1 크기의 칸으로 나누어지며 특정한 위치에는 선생님(T), 학생(S), 혹은 장애물이(O) 있다. 현재 학생 몇 명이 수업 시간에 몰래 복도에 나왔는데, 복도에 남은 학생들이 선생님의 감시에 들키지 않는 것이 목표다.\n",
    "- 각 선생님은 자신의 위치에서 상, 하, 좌, 우 4가지 방향으로 감시를 진행한다. 단, 복도에 장애물이 있으면 선생님은 장애물 뒤편에 숨어 있는 학생을 볼 수 없다. 또한 선생님은 시력이 매우 좋아 아무리 멀리 있더라도 장매물로 막히기 전까지 4가지 방향으로 학생을 모두 볼 수 있다.\n",
    "- 문제에서 위칫값을 나타낼 때는 (행, 열)의 형태로 표현한다.  "
   ]
  },
  {
   "cell_type": "markdown",
   "metadata": {},
   "source": [
    "- 입력 조건:\n",
    "    1. 첫째 줄에 자연수 n이 주어진다.\n",
    "    2. 둘째 줄에 n개의 줄에 걸쳐서 복도의 정보가 주어진다. 각 행에서는 n개의 원소가 주어지며, 공백으로 구분한다. 해당 위치에 학생이 있으면 s, 선생님이 있으면 t, 아무것도 존재하지 않는다면 x가 주어진다. 단, 항상 빈칸의 개수는 3개 이상으로 주어진다.\n",
    "- 출력 조건: 첫째 줄에 정확히 3개의 장애물을 설치하여 모든 학생들을 감시로부터 피하도록 할 수 있는지의 여부를 출력한다. 모든 학생들을 감시로부터 피하도록 할 수 있다면 'yes' 아니면 'no'를 출력한다."
   ]
  },
  {
   "cell_type": "markdown",
   "metadata": {},
   "source": [
    "5\n",
    "x s x x t\n",
    "t x s x x\n",
    "x x x x x\n",
    "x t x x x\n",
    "x x t x x\n",
    "\n",
    "yes\n",
    "\n",
    "4\n",
    "s s s t\n",
    "x x x x\n",
    "x x x x\n",
    "t t t x\n",
    "\n",
    "no"
   ]
  },
  {
   "cell_type": "code",
   "execution_count": null,
   "metadata": {},
   "outputs": [],
   "source": []
  }
 ],
 "metadata": {
  "kernelspec": {
   "display_name": "Python 3",
   "language": "python",
   "name": "python3"
  },
  "language_info": {
   "codemirror_mode": {
    "name": "ipython",
    "version": 3
   },
   "file_extension": ".py",
   "mimetype": "text/x-python",
   "name": "python",
   "nbconvert_exporter": "python",
   "pygments_lexer": "ipython3",
   "version": "3.7.6"
  }
 },
 "nbformat": 4,
 "nbformat_minor": 4
}
