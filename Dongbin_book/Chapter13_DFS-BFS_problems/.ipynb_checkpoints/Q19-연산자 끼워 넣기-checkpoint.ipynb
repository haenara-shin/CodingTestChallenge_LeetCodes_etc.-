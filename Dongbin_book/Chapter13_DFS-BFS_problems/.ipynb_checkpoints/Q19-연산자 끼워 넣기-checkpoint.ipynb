{
 "cells": [
  {
   "cell_type": "markdown",
   "metadata": {},
   "source": [
    "- n개의 수로 이루어진 수열이 주어진다. 또, 수와 수 사이에 끼워 넣을 수 있는 n-1 개의 연산자가 주어진다. 연산자는 덧셈, 뺄셈, 곱셈, 나눗셈 으로만 이루어진다.\n",
    "- 우리는 수와 수 사이에 연산자를 하나씩 넣어서, 수식을 하나 만들 수 있는데 이때 주어진 수의 순서를 바꾸면 안된다.\n",
    "- 예를 들어, 6개의 수로 이루어진 수열이 1, 2, 3, 4, 5 ,6 이고, 주어진 연산자가 덧셈 2개 뺄셈 1개 곱셈 1개, 나눗셈 1개인 경우에는 총 60 가지의 식을 만들 수 있다. 식의 계산은 연산자 우선순위를 무시하고 앞에서부터 진행해야 한다. 또, 나눗셈은 정수 나눗셈으로 몫만 취한다. 음수를 양수로 나눌 때는, 양수로 바꾼 뒤 몫을 취하고, 그 몫을 음수로 바꾼 것과 같다.\n",
    "- n개의 수와 N-1 개의 연산자가 주어졌을 때, 만들 수 있는 식의 결과가 최대인 것과 최소인 것을 구하는 프로그램을 작성하라."
   ]
  },
  {
   "cell_type": "markdown",
   "metadata": {},
   "source": [
    "- 입력 조건: \n",
    "    1. 첫째 줄에 수의 개수 n이 주어진다.\n",
    "    2. 둘째 줄에는 수열이 주어진다.\n",
    "    3. 셋째 줄에는 합이 n-1 인 4개의 정수가 주어지는데, 차례대로 덧셈의 개수, 뺄셈의 개수, 곱셈의 개수, 나눗셈의 개수다.   \n",
    "- 출력 조건:\n",
    "    1. 첫째 줄에는 만들 수 있는 식의 결과의 최댓값을 출력한다.\n",
    "    2. 둘째 줄에는 최솟값을 출력한다."
   ]
  },
  {
   "cell_type": "markdown",
   "metadata": {},
   "source": [
    "2\n",
    "5 6\n",
    "0 0 1 0\n",
    "\n",
    "30\n",
    "30\n",
    "\n",
    "3\n",
    "3 4 5\n",
    "1 0 1 0\n",
    "\n",
    "35\n",
    "17\n",
    "\n",
    "6\n",
    "1 2 3 4 5 6\n",
    "2 1 1 1\n",
    "\n",
    "54\n",
    "-24"
   ]
  },
  {
   "cell_type": "code",
   "execution_count": 2,
   "metadata": {},
   "outputs": [
    {
     "name": "stdout",
     "output_type": "stream",
     "text": [
      "3\n",
      "3 4 5\n",
      "1 0 1 0\n",
      "35\n",
      "17\n"
     ]
    }
   ],
   "source": [
    "n = int(input())\n",
    "\n",
    "data = list(map(int, input().split()))\n",
    "add, sub, mul, div = map(int, input().split())\n",
    "\n",
    "min_value = 1e9\n",
    "max_value = -1e9\n",
    "\n",
    "def dfs(i, now):\n",
    "    global min_value, max_value, add, sub, mul, div\n",
    "    if i == n:\n",
    "        min_value = min(min_value, now)\n",
    "        max_value = max(max_value, now)\n",
    "    else:\n",
    "        if add > 0:\n",
    "            add -= 1\n",
    "            dfs(i+1, now+data[i])\n",
    "            add += 1\n",
    "        if sub > 0:\n",
    "            sub -= 1\n",
    "            dfs(i+1, now-data[i])\n",
    "            sub += 1\n",
    "        if mul > 0:\n",
    "            mul -= 1\n",
    "            dfs(i+1, now*data[i])\n",
    "            mul += 1\n",
    "        if div > 0:\n",
    "            div -= 1\n",
    "            dfs(i+1, int(now/data[i]))\n",
    "            div += 1\n",
    "            \n",
    "dfs(1, data[0])\n",
    "\n",
    "print(max_value)\n",
    "print(min_value)"
   ]
  },
  {
   "cell_type": "code",
   "execution_count": null,
   "metadata": {},
   "outputs": [],
   "source": []
  }
 ],
 "metadata": {
  "kernelspec": {
   "display_name": "Python 3",
   "language": "python",
   "name": "python3"
  },
  "language_info": {
   "codemirror_mode": {
    "name": "ipython",
    "version": 3
   },
   "file_extension": ".py",
   "mimetype": "text/x-python",
   "name": "python",
   "nbconvert_exporter": "python",
   "pygments_lexer": "ipython3",
   "version": "3.7.6"
  }
 },
 "nbformat": 4,
 "nbformat_minor": 4
}
