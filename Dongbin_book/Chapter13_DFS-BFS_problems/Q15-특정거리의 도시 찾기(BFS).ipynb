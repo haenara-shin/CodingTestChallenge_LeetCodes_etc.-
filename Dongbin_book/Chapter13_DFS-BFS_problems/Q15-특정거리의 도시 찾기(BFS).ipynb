{
 "cells": [
  {
   "cell_type": "markdown",
   "metadata": {},
   "source": [
    "- 어떤 나라에는 1 ~ n 번 까지의 도시와 m 개의 단방향 도로가 존재한다. 모든 도로의 거리는 1 이다. \n",
    "- 이때 특정한 도시 x 로부터 출발하여 도달할 수 있는 모든 도시 중에서, 최단 거리가 정확히 k인 모든 도시의 번호를 출력하는 프로그램을 작성하세요. 또한 출발 도시 x 에서 출발 도시 x 로 가는 최단 거리는 항상 0 입니다."
   ]
  },
  {
   "cell_type": "markdown",
   "metadata": {},
   "source": [
    "- 입력 조건:\n",
    "    1. 첫째 줄에 도시의 개수 N, 도로의 개수 m, 거리 정보 k, 출발 도시의 번호 x가 주어진다.\n",
    "    2. 둘째 줄부터 m개의 줄에 걸쳐서 두 개의 자연수 a, b 가 주어지며, 각 자연수는 공백으로 구분된다. 이는 a번 도시에서 b번 도시로 이동하는 단방향 도로가 존재한다는 의미이며, a 와 b는 서로 다른 자연수이다.\n",
    "    \n",
    "- 출력 조건:\n",
    "    1. x로 부터 출발하여 도달할 수 있는 도시 중에서, 최단 거리가 k인 모든 도시의 번호를 한 줄에 하나씩 오름차순으로 출력한다.\n",
    "    2. 이때 도달할 수 있는 도시 중에서, 최단 거리가 K인 도시가 하나도 존재하지 않으면 -1을 출력한다."
   ]
  },
  {
   "cell_type": "markdown",
   "metadata": {},
   "source": [
    "4 4 2 1 \n",
    "1 2 \n",
    "1 3\n",
    "2 3 \n",
    "2 4\n",
    "\n",
    "4"
   ]
  },
  {
   "cell_type": "code",
   "execution_count": 2,
   "metadata": {},
   "outputs": [
    {
     "name": "stdout",
     "output_type": "stream",
     "text": [
      "4 4 2 1\n",
      "1 2\n",
      "1 3\n",
      "2 3\n",
      "2 4\n",
      "4\n"
     ]
    }
   ],
   "source": [
    "from collections import deque\n",
    "\n",
    "# 도시의 개수, 도로의 개수, 거리 정보, 출발 도시 번호\n",
    "n, m, k, x = map(int, input().split())\n",
    "graph = [[] for _ in range(n+1)]\n",
    "\n",
    "# 모든 도로 정보 입력받기\n",
    "for _ in range(m):\n",
    "    a, b = map(int, input().split())\n",
    "    graph[a].append(b)\n",
    "    \n",
    "# 모든 도시에 대한 최단 거리 초기화\n",
    "distance = [-1] * (n + 1)\n",
    "distance[x] = 0 #출발 도시까지의 거리는 0\n",
    "\n",
    "# 너비 우선 탐색(BFS) 수행\n",
    "q = deque([x])\n",
    "while q:\n",
    "    now = q.popleft()\n",
    "    # 현재 도시에서 이동할 수 있는 모든 도시 확인\n",
    "    for next_node in graph[now]:\n",
    "        if distance[next_node] == -1:\n",
    "            #최단 거리 갱신(방문 처리)\n",
    "            distance[next_node] = distance[now] + 1\n",
    "            q.append(next_node)\n",
    "            \n",
    "# 최단 거리가 k인 모든 도시의 번호를 오름차순으로 출력\n",
    "check = False\n",
    "for i in range(1, n+1):\n",
    "    if distance[i] == k:\n",
    "        print(i)\n",
    "        check = True\n",
    "        \n",
    "# 만약 최단 거리가 K인 도시가 없다면, -1 출력\n",
    "if check == False:\n",
    "    print(-1)"
   ]
  },
  {
   "cell_type": "code",
   "execution_count": null,
   "metadata": {},
   "outputs": [],
   "source": []
  }
 ],
 "metadata": {
  "kernelspec": {
   "display_name": "Python 3",
   "language": "python",
   "name": "python3"
  },
  "language_info": {
   "codemirror_mode": {
    "name": "ipython",
    "version": 3
   },
   "file_extension": ".py",
   "mimetype": "text/x-python",
   "name": "python",
   "nbconvert_exporter": "python",
   "pygments_lexer": "ipython3",
   "version": "3.7.6"
  }
 },
 "nbformat": 4,
 "nbformat_minor": 4
}
