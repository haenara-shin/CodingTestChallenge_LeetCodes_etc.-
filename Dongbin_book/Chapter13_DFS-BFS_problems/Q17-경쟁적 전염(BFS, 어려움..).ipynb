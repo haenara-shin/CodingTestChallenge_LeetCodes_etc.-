{
 "cells": [
  {
   "cell_type": "markdown",
   "metadata": {},
   "source": [
    "- n * n 크기의 시험관이 있다. 시험관은 1 * 1 크기의 칸으로 나누어 지며, 특정한 위치에는 바이러스가 존재할 수 있다. 바이러스의 종류는 1~k 까지 k 가지가 있으며 모든 바이러스는 이 중 하나에 속한다.\n",
    "- 시험관에 존재하는 모든 바이러스는 1초마다 상, 하, 좌, 우의 방향으로 증식하는데, 매초 번호가 낮은 종류의 바이러스부터 먼저 증식한다. 또한 증식 과정에서 특정한 칸에 이미 어떠한 바이러스가 있다면, 그곳에는 다른 바이러스가 들어갈 수 없다.\n",
    "- 시험관의 크기와 바이러스의 위치 정보가 주어졌을 때, s 초가 지난 후에 (x,y) 에 존재하는 바이러스의 종류를 출력하는 프로그램을 작성하라. 만약 s초가 지난 후에 해당 위치에 바이러스가 존재하지 않는다면, 0을 출력한다. 이때 x와 y는 각각 행과 열의 위치를 의미한다. 시험관의 가장 왼쪽 위에 해당하는 곳은 (1,1)에 해당한다."
   ]
  },
  {
   "cell_type": "markdown",
   "metadata": {},
   "source": [
    "- 입력 조건:\n",
    "    1. 첫째 줄에 자연수 n, k가 주어지며, 각 자연수는 공백으로 구분합니다.\n",
    "    2. 둘째 줄부터 N개의 줄에서 걸쳐서 시험관의 정보가 주어집니다. 각 행은 n개의 원소로 구성되며, 해당 위치에 존재하는 바이러스의 번호가 주어지며 공백으로 구분한다. 단, 해당 위치에 바이러스가 존재하지 않는 경우 0이 주어집니다. 모든 바이러스이 번호는 k 이하의 자연수로만 주어집니다.\n",
    "    3. n+2 번째 줄에는 s, x, y 가 주어지며, 공백으로 구분한다. \n",
    "- 출력 조건: s초 뒤에 (x, y)에 존재하는 바이러스의 종류를 출력한다. 만약 s초 뒤에 해당 위치에 바이러스가 존재하지 않는다면 0을 출력한다."
   ]
  },
  {
   "cell_type": "markdown",
   "metadata": {},
   "source": [
    "3 3\n",
    "1 0 2\n",
    "0 0 0 \n",
    "3 0 0 \n",
    "2 3 2\n",
    "\n",
    "3"
   ]
  },
  {
   "cell_type": "code",
   "execution_count": 1,
   "metadata": {},
   "outputs": [
    {
     "name": "stdout",
     "output_type": "stream",
     "text": [
      "3 3\n",
      "1 0 2\n",
      "0 0 0\n",
      "3 0 0\n",
      "2 3 2\n",
      "3\n"
     ]
    }
   ],
   "source": [
    "from collections import deque\n",
    "\n",
    "n, k = map(int, input().split())\n",
    "\n",
    "graph = [] # 전체 보드 정보를 담는 리스트\n",
    "data = [] # 바이러스에 대한 정보를 담는 리스트\n",
    "\n",
    "for i in range(n):\n",
    "    # 보드 정보를 한 줄 단위로 입력\n",
    "    graph.append(list(map(int, input().split())))\n",
    "    for j in range(n):\n",
    "        # 해당 위치에 바이러스가 존재하는 경우\n",
    "        if graph[i][j] != 0:\n",
    "            # (바이러스 종류, 시간, 위치 x, 위치 y) 삽입\n",
    "            data.append((graph[i][j], 0, i, j))\n",
    "\n",
    "# 정렬 이후에 q로 옮기기 (낮은 번호의 바이러스가 먼저 증식하므로)\n",
    "data.sort()\n",
    "q = deque(data)\n",
    "            \n",
    "target_s, target_x, target_y = map(int, input().split())\n",
    "\n",
    "# 바이러스가 퍼져나갈 수 있는 4가지 위치\n",
    "dx = [-1, 0, 1, 0]\n",
    "dy = [0, 1, 0, -1]\n",
    "\n",
    "# BFS \n",
    "while q:\n",
    "    virus, s, x, y = q.popleft()\n",
    "    # s 초가 지나거나, q가 빌 때까지 반복\n",
    "    if s == target_s:\n",
    "        break\n",
    "    # 현재 노드에서 주변 4가지 위치를 각각 확인\n",
    "    for i in range(4):\n",
    "        nx = x + dx[i]\n",
    "        ny = y + dy[i]\n",
    "        # 해당 위치로 이동할 수 있는 경우\n",
    "        if nx >= 0 and nx < n and ny >= 0 and ny < n :\n",
    "            # 아직 방문하지 않은 위치라면, 그 위치에 바이러스 넣기\n",
    "            if graph[nx][ny] == 0:\n",
    "                graph[nx][ny] = virus\n",
    "                q.append((virus, s+1, nx, ny))\n",
    "print(graph[target_x - 1][target_y - 1])"
   ]
  },
  {
   "cell_type": "code",
   "execution_count": null,
   "metadata": {},
   "outputs": [],
   "source": []
  }
 ],
 "metadata": {
  "kernelspec": {
   "display_name": "Python 3",
   "language": "python",
   "name": "python3"
  },
  "language_info": {
   "codemirror_mode": {
    "name": "ipython",
    "version": 3
   },
   "file_extension": ".py",
   "mimetype": "text/x-python",
   "name": "python",
   "nbconvert_exporter": "python",
   "pygments_lexer": "ipython3",
   "version": "3.7.6"
  }
 },
 "nbformat": 4,
 "nbformat_minor": 4
}
