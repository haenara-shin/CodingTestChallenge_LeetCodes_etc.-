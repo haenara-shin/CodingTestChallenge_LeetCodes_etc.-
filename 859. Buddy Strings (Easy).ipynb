{
 "cells": [
  {
   "cell_type": "markdown",
   "metadata": {},
   "source": [
    "Given two strings A and B of lowercase letters, return true if and only if we can swap two letters in A so that the result equals B.\n",
    "\n",
    "Example 1:\n",
    "\n",
    "Input: A = \"ab\", B = \"ba\"\n",
    "Output: true\n",
    "\n",
    "Example 2:\n",
    "\n",
    "Input: A = \"ab\", B = \"ab\"\n",
    "Output: false\n",
    "\n",
    "Example 3:\n",
    "\n",
    "Input: A = \"aa\", B = \"aa\"\n",
    "Output: true\n",
    "\n",
    "Example 4:\n",
    "\n",
    "Input: A = \"aaaaaaabc\", B = \"aaaaaaacb\"\n",
    "Output: true\n",
    "\n",
    "Example 5:\n",
    "\n",
    "Input: A = \"\", B = \"aa\"\n",
    "Output: false\n",
    "\n",
    "Example 6:\n",
    "Input: A= \"abcaa\", B=\"abcbb\"\n",
    "Output: False\n",
    "\n",
    "Example 7:\n",
    "Input: A = \"abcd\", B = \"badc\"\n",
    "Output: False\n",
    "\n",
    "Constraints:\n",
    "\n",
    "0 <= A.length <= 20000\n",
    "0 <= B.length <= 20000\n",
    "A and B consist only of lowercase letters."
   ]
  },
  {
   "cell_type": "code",
   "execution_count": null,
   "metadata": {},
   "outputs": [],
   "source": [
    "class Solution:\n",
    "    def buddyStrings(self, A: str, B: str) -> bool:\n",
    "        if len(A) != len(B): return False \n",
    "        if A == B:\n",
    "            return len(A) > len(set(A))\n",
    "        else:\n",
    "            pairs = []\n",
    "            for a, b in zip(A, B):\n",
    "                if a != b: pairs.append((a, b))\n",
    "                if len(pairs) > 2: return False \n",
    "            return len(pairs) == 2 and pairs[0] == pairs[1][::-1]"
   ]
  },
  {
   "cell_type": "code",
   "execution_count": null,
   "metadata": {},
   "outputs": [],
   "source": [
    "class Solution:\n",
    "    def buddyStrings(self, A, B):\n",
    "        if len(A) != len(B) or set(A) != set(B):\n",
    "            return False       \n",
    "        if A == B:\n",
    "            return len(A) - len(set(A)) >= 1\n",
    "        else:     \n",
    "            indices = []\n",
    "            counter = 0\n",
    "            for i in range(len(A)):\n",
    "                if A[i] != B[i]:\n",
    "                    counter += 1\n",
    "                    indices.append(i)       \n",
    "                if counter > 2:\n",
    "                    return False       \n",
    "            return A[indices[0]] == B[indices[1]] and A[indices[1]] == B[indices[0]]"
   ]
  },
  {
   "cell_type": "code",
   "execution_count": null,
   "metadata": {},
   "outputs": [],
   "source": [
    "class Solution:\n",
    "    def buddyStrings(self, A: str, B: str) -> bool:\n",
    "        if len(A) != len(B):\n",
    "            return False\n",
    "        if A == B and len(set(A)) < len(A):\n",
    "            return True\n",
    "        dif = [(a,b) for a, b in zip(A, B) if a != b]\n",
    "        return len(dif) == 2 and dif[0] == dif[1][::-1]"
   ]
  }
 ],
 "metadata": {
  "kernelspec": {
   "display_name": "Python 3",
   "language": "python",
   "name": "python3"
  },
  "language_info": {
   "codemirror_mode": {
    "name": "ipython",
    "version": 3
   },
   "file_extension": ".py",
   "mimetype": "text/x-python",
   "name": "python",
   "nbconvert_exporter": "python",
   "pygments_lexer": "ipython3",
   "version": "3.7.6"
  }
 },
 "nbformat": 4,
 "nbformat_minor": 4
}
