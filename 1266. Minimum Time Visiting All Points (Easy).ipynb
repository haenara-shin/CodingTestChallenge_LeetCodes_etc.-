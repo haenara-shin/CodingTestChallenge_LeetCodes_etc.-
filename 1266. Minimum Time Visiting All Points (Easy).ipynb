{
 "cells": [
  {
   "cell_type": "markdown",
   "metadata": {},
   "source": [
    "On a plane there are n points with integer coordinates points[i] = [xi, yi]. Your task is to find the minimum time in seconds to visit all points.\n",
    "\n",
    "You can move according to the next rules:\n",
    "\n",
    "In one second always you can either move vertically, horizontally by one unit or diagonally (it means to move one unit vertically and one unit horizontally in one second).\n",
    "You have to visit the points in the same order as they appear in the array.\n",
    " \n",
    "\n",
    "Example 1:\n",
    "\n",
    "\n",
    "Input: points = [[1,1],[3,4],[-1,0]]\n",
    "Output: 7\n",
    "Explanation: One optimal path is [1,1] -> [2,2] -> [3,3] -> [3,4] -> [2,3] -> [1,2] -> [0,1] -> [-1,0]   \n",
    "Time from [1,1] to [3,4] = 3 seconds \n",
    "Time from [3,4] to [-1,0] = 4 seconds\n",
    "Total time = 7 seconds\n",
    "\n",
    "Example 2:\n",
    "\n",
    "Input: points = [[3,2],[-2,2]]\n",
    "Output: 5\n",
    " \n",
    "\n",
    "Constraints:\n",
    "\n",
    "points.length == n\n",
    "1 <= n <= 100\n",
    "points[i].length == 2\n",
    "-1000 <= points[i][0], points[i][1] <= 1000"
   ]
  },
  {
   "cell_type": "code",
   "execution_count": null,
   "metadata": {},
   "outputs": [],
   "source": [
    "class Solution:\n",
    "    def minTimeToVisitAllPoints(self, points: List[List[int]]) -> int:\n",
    "        ans = 0\n",
    "        for i in range(1, len(points)):\n",
    "            prev, cur = points[i - 1 : i + 1]\n",
    "            ans += max(map(abs, (prev[0] - cur[0], prev[1] - cur[1])))\n",
    "        return ans"
   ]
  },
  {
   "cell_type": "code",
   "execution_count": null,
   "metadata": {},
   "outputs": [],
   "source": [
    "class Solution:\n",
    "    def minTimeToVisitAllPoints(self, points: List[List[int]]) -> int:\n",
    "        count = 0\n",
    "        i = 0\n",
    "        while i < len(points)-1:\n",
    "            if abs(points[i+1][0]-points[i][0]) > abs(points[i+1][1]-points[i][1]):\n",
    "                count += abs(points[i+1][0]-points[i][0])\n",
    "            else:\n",
    "                count += abs(points[i+1][1]-points[i][1])\n",
    "            i += 1    \n",
    "        return count"
   ]
  },
  {
   "cell_type": "code",
   "execution_count": null,
   "metadata": {},
   "outputs": [],
   "source": [
    "class Solution:\n",
    "    def minTimeToVisitAllPoints(self, points: List[List[int]]) -> int:\n",
    "\t\tres = 0\n",
    "        x1, y1 = points.pop()\n",
    "        while points:\n",
    "            x2, y2 = points.pop()\n",
    "            res += max(abs(y2 - y1), abs(x2-x1))\n",
    "            x1, y1 = x2, y2\n",
    "        return res"
   ]
  }
 ],
 "metadata": {
  "kernelspec": {
   "display_name": "Python 3",
   "language": "python",
   "name": "python3"
  },
  "language_info": {
   "codemirror_mode": {
    "name": "ipython",
    "version": 3
   },
   "file_extension": ".py",
   "mimetype": "text/x-python",
   "name": "python",
   "nbconvert_exporter": "python",
   "pygments_lexer": "ipython3",
   "version": "3.7.6"
  }
 },
 "nbformat": 4,
 "nbformat_minor": 4
}
